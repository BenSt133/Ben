{
 "cells": [
  {
   "cell_type": "markdown",
   "metadata": {},
   "source": [
    "# About the notebook\n",
    "\n",
    "This notebook should be ran on the server. It's in charge of training both the mean and noise digital twins, and for performing a NAS to find the best Manifold Model.\n",
    "The notebook was compartmentalized so one can run each \"section\" without rerunning the previous sections (assuming they also run the \"Import Libraries\" section).\n",
    "\n",
    "This particular notebook includes an MNIST model that can incorporate rotations in its specification"
   ]
  },
  {
   "cell_type": "markdown",
   "metadata": {},
   "source": [
    "## Import libraries"
   ]
  },
  {
   "cell_type": "code",
   "execution_count": 1,
   "metadata": {
    "ExecuteTime": {
     "end_time": "2021-02-26T16:24:27.231087Z",
     "start_time": "2021-02-26T16:24:25.580336Z"
    }
   },
   "outputs": [
    {
     "name": "stderr",
     "output_type": "stream",
     "text": [
      "C:\\Users\\lgw32\\anaconda3\\lib\\site-packages\\pytorch_lightning\\utilities\\distributed.py:37: UserWarning: Unsupported `ReduceOp` for distributed computing.\n",
      "  warnings.warn(*args, **kwargs)\n"
     ]
    }
   ],
   "source": [
    "#super basic imports\n",
    "import numpy as np\n",
    "import matplotlib.pyplot as plt\n",
    "import matplotlib.cm as cm\n",
    "import numpy.random as random\n",
    "import ipdb\n",
    "import copy\n",
    "import itertools\n",
    "import os\n",
    "\n",
    "#torch stuff\n",
    "import torch\n",
    "import pytorch_lightning as pl\n",
    "\n",
    "#analysis / software for ml\n",
    "#from ana_lib.custom_plmodels import *\n",
    "from ana_lib.optuna_utils import *\n",
    "from ana_lib.noise import *\n",
    "from ana_lib.pat_utils import *\n",
    "from ana_lib.pl_callbacks import *\n",
    "from ana_lib.pl_utils import *\n",
    "from ana_lib.plot_utils import *\n",
    "from ana_lib.process_spectrum import *\n",
    "from ana_lib.torch_loader import *\n",
    "from ana_lib.utils import *\n",
    "from digitaltwinNAS_small_com_swish import *\n",
    "\n",
    "    \n",
    "dirname = get_dirname()\n",
    "\n",
    "class MLP_Reg(RegressionModel):\n",
    "    def __init__(self, input_dim=None, output_dim=None, Nunits=None, Ncoms=1,identity_init=1,lr=1e-3):\n",
    "        super().__init__()\n",
    "        self.save_hyperparameters() #this appends all the inputs into self.hparams\n",
    "        for (i, Nunit) in enumerate(Nunits): #writing more attributes to hyperparams that will appear on wandb\n",
    "            self.hparams[f'ldim_{i}'] = Nunit\n",
    "        self.hparams['Nlayers'] = len(Nunits) #repeat - adding Nlayers\n",
    "        self.hparams['Ncoms'] = Ncoms\n",
    "        self.hparams['identity_init'] = identity_init\n",
    "        self.model = MLP(input_dim, output_dim, Nunits,Ncoms,identity_init) #Multilayer Perceptron pytorch model\n",
    "\n",
    "    def forward(self, data):\n",
    "        return self.model(data)\n",
    "\n",
    "    def configure_optimizers(self):\n",
    "        optimizer = optim.Adam(self.parameters(), lr=self.hparams['lr'])\n",
    "        lr_scheduler = optim.lr_scheduler.ReduceLROnPlateau(optimizer, factor=0.3, patience=10)\n",
    "        scheduler = default_scheduler(lr_scheduler) #a function basically to make up for pl_lightnings fault - please use it if you want to use a scheduler\n",
    "#         return optimizer\n",
    "        return [optimizer], [scheduler]\n"
   ]
  },
  {
   "cell_type": "code",
   "execution_count": 2,
   "metadata": {
    "ExecuteTime": {
     "end_time": "2021-02-26T16:24:27.235061Z",
     "start_time": "2021-02-26T16:24:27.232764Z"
    }
   },
   "outputs": [],
   "source": [
    "#exec(open(\"ana_lib/gpu_par.py\").read())\n",
    "\n",
    "\n",
    "#### Function needed generically\n",
    "def get_gpu_id_new():\n",
    "    return 0"
   ]
  },
  {
   "cell_type": "markdown",
   "metadata": {},
   "source": [
    "## Train mean digital twins"
   ]
  },
  {
   "cell_type": "code",
   "execution_count": 3,
   "metadata": {
    "ExecuteTime": {
     "end_time": "2021-02-26T16:24:27.240323Z",
     "start_time": "2021-02-26T16:24:27.236835Z"
    }
   },
   "outputs": [],
   "source": [
    "\n",
    "#Martin you will need to change some of this stuff \n",
    "sts=np.array([525,660,780])\n",
    "lens=np.array([70,410,650])\n",
    "Tmaxs=np.array([100,200,300])\n",
    "\n",
    "xdim_list=np.array([196,98,56,28])\n",
    "\n",
    "input_dims=[196,98,56,28]\n",
    "output_dims=[196,98,56,28]"
   ]
  },
  {
   "cell_type": "code",
   "execution_count": 4,
   "metadata": {
    "ExecuteTime": {
     "end_time": "2021-02-26T16:24:27.264638Z",
     "start_time": "2021-02-26T16:24:27.242209Z"
    }
   },
   "outputs": [],
   "source": [
    "def process_Y(y,dim):\n",
    "    return digitizex(y, dim)\n",
    "\n",
    "def train_mean_dt(input_dim, output_dim,Tmax,layerstring,NAS=False,Ntrials=10):\n",
    "    name = f\"dt_data/xdim{input_dim}_Tmax{Tmax}_\"+layerstring+\"_mean_data\"\n",
    "    data = np.load(name+\".npz\",allow_pickle=True)\n",
    "    Y = data[\"specs_list\"]\n",
    "    xlist = data[\"xlist\"]\n",
    "\n",
    "    Ys=list()\n",
    "    Xs=list()\n",
    "    \n",
    "    meancheck=0.1 #Martin! This is used to reject any random misses. So you'd need to tune this parameter if >0\n",
    "    for idx in range(Y.shape[1]):\n",
    "        if np.mean(np.abs(Y[0,idx][:]))>meancheck:\n",
    "            Ytemp = np.mean(np.array(Y[:,idx]),axis=0)\n",
    "            Ys.append(process_Y(Ytemp,output_dim))\n",
    "            Xs.append(xlist[idx,:])\n",
    "\n",
    "    Yd=np.array(Ys)\n",
    "    Xd=np.array(Xs)\n",
    "\n",
    "    Ntotal=Yd.shape[0]\n",
    "    Nval=int(0.1*Ntotal) #validation\n",
    "    Ntrain=Ntotal-Nval\n",
    "    \n",
    "    B=np.mean(Yd)\n",
    "    Yng=Yd-B\n",
    "    A=np.max(np.abs(Yng))\n",
    "    Yng=Yng/A\n",
    "    np.savez(name + 'AB.npz',A=A,B=B) #Martin, I use this to normalize the outputs - see the digital twin data collection.\n",
    "    \n",
    "\n",
    "    Yt=Yng[:Ntrain,:]\n",
    "    Yv=Yng[Ntrain:Ntrain+Nval,:]\n",
    "\n",
    "    Xt=Xd[:Ntrain,:]\n",
    "    Xv=Xd[Ntrain:Ntrain+Nval,:]\n",
    "    \n",
    "    Nbatch=100\n",
    "    \n",
    "    train_dataset = TensorDataset(torch.tensor(Xt).float(), torch.tensor(Yt).float())\n",
    "    val_dataset = TensorDataset(torch.tensor(Xv).float(), torch.tensor(Yv).float())\n",
    "    train_loader = DataLoader(dataset=train_dataset,batch_size=Nbatch)\n",
    "    val_loader = DataLoader(dataset=val_dataset, batch_size=Nbatch)\n",
    "    \n",
    "    \n",
    "    name = layerstring+ f\"_in{input_dim}_out{output_dim}_Tmax{Tmax}\"\n",
    "    \n",
    "    \n",
    "    if NAS==True: #Only do once to get the idea of the right parameters to suggest. \n",
    "        dirname = get_dirname()\n",
    "        project_name = f\"{dirname}--mean_dt\"  # the name that will appear in wandb\n",
    "        max_epoch = 700 \n",
    "        if layerstring=='l0': #Martin, my first layer is fixed 2*196-D dimensional with parameters on top, maybe change\n",
    "            input_dimm=input_dim\n",
    "        else:\n",
    "            input_dimm=input_dim\n",
    "            \n",
    "        gpu_id = get_gpu_id_new()\n",
    "        best_model_path=train_dig_twinNAS(Xd,Yng,input_dimm,output_dim,Ntrials,name, f\"dt_models/mean_{name}.p\",max_epoch,gpu_no=[gpu_id])\n",
    "        mean_dt = MLP_Reg.load_from_checkpoint(best_model_path)   \n",
    "        torch.save(mean_dt, f\"dt_models/mean_{name}.p\")        \n",
    "    else:\n",
    "        if layerstring == 'l0':\n",
    "            model = MLP_Reg(input_dim, output_dim, [400], 2e-4) #FORCED TO BE 196!! #MARTIN!\n",
    "        else:\n",
    "            model = MLP_Reg(input_dim, output_dim, [210, 410], 0.0005)\n",
    "\n",
    "        dirname = get_dirname()\n",
    "        project_name = f\"{dirname}--mean_dt\"  # the name that will appear in wandb\n",
    "        max_epoch = 800\n",
    "\n",
    "        csv_logger = pl.loggers.CSVLogger('logs', project_name, name)\n",
    "        wandb_logger = pl.loggers.WandbLogger(name=name, project=project_name)\n",
    "        logger = [csv_logger, wandb_logger]\n",
    "\n",
    "        checkpoint_file = os.path.join(csv_logger.log_dir, \"{epoch}-{val_loss:.5f}\")\n",
    "        checkpoint_cb = pl.callbacks.ModelCheckpoint(checkpoint_file)\n",
    "\n",
    "        gpu_id = get_gpu_id_new()\n",
    "        #print(gpu_id)\n",
    "\n",
    "        trainer = pl.Trainer(max_epochs=max_epoch, logger=logger, gpus=[gpu_id],\n",
    "                             weights_summary=None, progress_bar_refresh_rate=0,\n",
    "                             checkpoint_callback=checkpoint_cb, log_save_interval=50, row_log_interval=50)\n",
    "\n",
    "        trainer.fit(model, train_loader, val_loader)\n",
    "\n",
    "        \n",
    "        mean_dt = MLP_Reg.load_from_checkpoint(checkpoint_cb.kth_best_model_path)\n",
    "        \n",
    "        torch.save(mean_dt, f\"dt_models/mean_{name}.p\")\n",
    "    \n",
    "    x, y = next(iter(val_loader))\n",
    "    \n",
    "    with torch.no_grad():\n",
    "        y_pred = mean_dt(x)\n",
    "\n",
    "    plot_grid(y_pred, y, ylim=(-1.5, 1.5));\n",
    "    plt.savefig(f\"monitor/mean_{name}.png\", dpi=500)\n",
    "    if NAS==False:\n",
    "        wandb_logger.experiment.join()"
   ]
  },
  {
   "cell_type": "markdown",
   "metadata": {
    "ExecuteTime": {
     "end_time": "2020-11-17T14:15:55.505898Z",
     "start_time": "2020-11-17T14:15:55.496342Z"
    }
   },
   "source": [
    "#use if need to restart\n",
    "def kill_gpu_processes():\n",
    "    [ray.cancel(x) for x in ray_objs]\n",
    "    \n",
    "kill_gpu_processes()"
   ]
  },
  {
   "cell_type": "markdown",
   "metadata": {},
   "source": [
    "## Train noise digital twins"
   ]
  },
  {
   "cell_type": "code",
   "execution_count": 5,
   "metadata": {
    "ExecuteTime": {
     "end_time": "2021-02-26T16:24:27.269864Z",
     "start_time": "2021-02-26T16:24:27.265929Z"
    }
   },
   "outputs": [],
   "source": [
    "Nλ = 2 #number of eigenvectors you keep for covariance matrix\n",
    "def get_A(cov):\n",
    "    if cov.ndim==0:\n",
    "        A= np.sqrt(np.abs(cov))\n",
    "    else:\n",
    "        λ, Q = np.linalg.eig(cov)\n",
    "        A = np.real(Q@np.diag(np.sqrt(np.abs(λ)))[:, :Nλ])\n",
    "        A /= np.sign(np.sum(A, 0))\n",
    "    return A\n",
    "\n",
    "Nbatch = 100"
   ]
  },
  {
   "cell_type": "code",
   "execution_count": 6,
   "metadata": {
    "ExecuteTime": {
     "end_time": "2021-02-26T16:24:27.313219Z",
     "start_time": "2021-02-26T16:24:27.270998Z"
    }
   },
   "outputs": [],
   "source": [
    "def train_noise_dt(input_dim, output_dim,Tmax,layerstring,N=2000,NAS=False,Ntrials=10):\n",
    "    name = layerstring+f\"_in{input_dim}_out{output_dim}_Tmax{Tmax}\"\n",
    "    data = np.load(f\"dt_data/xdim{input_dim}_Tmax{Tmax}_\"+layerstring+\"_noise_data.npz\")\n",
    "\n",
    "    specs_list = data[\"specs_list\"][:,:N,:] #Don't use all the training data since the amount I require is probably overkill\n",
    "    xlist = data[\"xlist\"][:N,:]\n",
    "    \n",
    "    name2 = f\"dt_data/xdim{input_dim}_Tmax{Tmax}_\"+layerstring+\"_mean_data\"\n",
    "    A=np.load(name2+'AB.npz')['A']\n",
    "    B=np.load(name2+'AB.npz')['B']\n",
    "\n",
    "    spectrums = np.array([[process_Y(s, output_dim)/A-B/A for s in specs] for specs in specs_list])\n",
    "    spectrums = spectrums.swapaxes(0, 1)\n",
    "\n",
    "    mean_data = np.mean(spectrums, axis=1)\n",
    "    \n",
    "    covs = np.array([np.cov(s.T) for s in spectrums])\n",
    "    cov_x = np.concatenate((xlist, mean_data), axis=1)\n",
    "    # cov_x = mean_data\n",
    "    if output_dim>1:\n",
    "        cov_data = covs.reshape(covs.shape[0], covs.shape[1]*covs.shape[2])\n",
    "\n",
    "    As = np.array(list(map(get_A, covs)))\n",
    "\n",
    "    A_x = np.concatenate((xlist, mean_data), axis=1)\n",
    "    if output_dim>1:\n",
    "        A_data = As.reshape(As.shape[0], As.shape[1]*As.shape[2])\n",
    "    else:\n",
    "        A_data = As\n",
    "    train_loader, val_loader = np2loaders(A_x, A_data, Nbatch = 10)\n",
    "\n",
    "    mlp_input_dim = next(iter(train_loader))[0].shape[1]\n",
    "    if output_dim>1:\n",
    "        mlp_output_dim = next(iter(train_loader))[1].shape[1]\n",
    "    else:\n",
    "        mlp_output_dim = 1\n",
    "        \n",
    "    dirname = get_dirname()\n",
    "    project_name = f\"{dirname}--noise_dt\"  # the name that will appear in wandb\n",
    "    \n",
    "    if NAS==True: #Only do once to get the idea of the right parameters to suggest\n",
    "        print('Starting NAS for digital noise twin')\n",
    "        max_epoch = 1000          \n",
    "        gpu_id = get_gpu_id_new()\n",
    "        best_model_path=train_dig_twinNAS(A_x,A_data,mlp_input_dim,mlp_output_dim,Ntrials,name + '--noise_dt',f\"dt_models/A_{name}.p\",max_epoch,gpu_no=0)\n",
    "        A_dt = MLP_Reg.load_from_checkpoint(best_model_path)   \n",
    "        torch.save(A_dt, f\"dt_models/A_{name}.p\") ##note martin: we need to save the MLP_Reg object, not just the model! Here and above in the digital twin.     \n",
    "    else:\n",
    "        print('Training default model for noise twin')\n",
    "        max_epoch = 200\n",
    "        model = MLP_Reg(mlp_input_dim, mlp_output_dim, [600], 0.5e-4)\n",
    "        #model = MLP_Reg(mlp_input_dim, mlp_output_dim, [1000,500,500], 0.5e-4)\n",
    "        \n",
    "        #logger stuff\n",
    "        csv_logger = pl.loggers.CSVLogger('logs', project_name, name)\n",
    "        wandb_logger = pl.loggers.WandbLogger(name=name, project=project_name)\n",
    "        logger = [csv_logger, wandb_logger]\n",
    "\n",
    "        #checkpoint\n",
    "        checkpoint_file = os.path.join(csv_logger.log_dir, \"{epoch}-{val_loss:.5f}\")\n",
    "        checkpoint_cb = pl.callbacks.ModelCheckpoint(checkpoint_file)\n",
    "\n",
    "        gpu_id = get_gpu_id_new()\n",
    "\n",
    "        trainer = pl.Trainer(max_epochs=max_epoch, logger=logger, gpus=[gpu_id],\n",
    "                             weights_summary=None, progress_bar_refresh_rate=0,\n",
    "                             checkpoint_callback=checkpoint_cb, log_save_interval=50, row_log_interval=4)\n",
    "\n",
    "        trainer.fit(model, train_loader, val_loader)\n",
    "        wandb_logger.experiment.join()\n",
    "\n",
    "        A_dt = MLP_Reg.load_from_checkpoint(checkpoint_cb.kth_best_model_path)\n",
    "     \n",
    "        torch.save(A_dt, f\"dt_models/A_{name}.p\") ##note martin: we need to save the MLP_Reg object, not just the model! Here and above in the digital twin. \n",
    "\n",
    "    x, y = next(iter(val_loader))\n",
    "    with torch.no_grad():\n",
    "        y_pred = A_dt(x)\n",
    "\n",
    "    cov_train_loader, cov_val_loader = np2loaders(A_x, covs, Nbatch=10)\n",
    "    x_cov, y_cov = next(iter(cov_val_loader))\n",
    "    if output_dim>1:\n",
    "        fig, axs = plt.subplots(4, 2, figsize=(10, 8))\n",
    "\n",
    "        for j in range(2):\n",
    "            for ind in range(4):\n",
    "                plt.sca(axs[ind, j])\n",
    "                plt.plot(y[ind].reshape(output_dim, Nλ)[:, j],label='actual')\n",
    "                plt.plot(y_pred[ind].reshape(output_dim, Nλ)[:, j],label='predicted')\n",
    "        plt.legend()\n",
    "\n",
    "        axs[0,0].set_title(\"A_1\")\n",
    "        axs[0,1].set_title(\"A_2\")\n",
    "        fig.savefig(f\"monitor/A_{name}.png\", dpi=200, bbox_inches=\"tight\" )\n",
    "\n",
    "        fig, axs = plt.subplots(3, 3, figsize=(15, 12), sharex=True, sharey=True)\n",
    "        plt.subplots_adjust(hspace=0.05, wspace=0.02)\n",
    "        problem_inds = [0, 1, 2]\n",
    "        for (x_ind, p_ind) in enumerate(problem_inds):\n",
    "            A_pred = y_pred[p_ind].reshape(output_dim, Nλ)\n",
    "\n",
    "            cov_val = y_cov[p_ind]\n",
    "            cov_pred = A_pred@A_pred.T\n",
    "            vmax = 2*cov_val.max()\n",
    "\n",
    "            plt.sca(axs[x_ind, 0])\n",
    "            plt.imshow(cov_val, cmap=\"coolwarm\", vmax=vmax, vmin=-vmax)\n",
    "            plt.colorbar()\n",
    "\n",
    "            plt.sca(axs[x_ind, 1])\n",
    "            plt.imshow(cov_pred, cmap=\"coolwarm\", vmax=vmax, vmin=-vmax)\n",
    "            plt.colorbar()\n",
    "\n",
    "            plt.sca(axs[x_ind, 2])\n",
    "            plt.imshow(cov_val-cov_pred, cmap=\"coolwarm\", vmax=vmax, vmin=-vmax)\n",
    "            plt.colorbar()\n",
    "\n",
    "        axs[0, 0].set_title(\"val cov\")\n",
    "        axs[0, 1].set_title(\"pred cov\")\n",
    "        axs[0, 2].set_title(\"val cov - pred cov\")\n",
    "        fig.savefig(f\"monitor/cov_{name}.png\", dpi=200, bbox_inches=\"tight\" )"
   ]
  },
  {
   "cell_type": "markdown",
   "metadata": {},
   "source": [
    "## NAS for Manifold Models"
   ]
  },
  {
   "cell_type": "code",
   "execution_count": 7,
   "metadata": {
    "ExecuteTime": {
     "end_time": "2021-02-26T16:24:27.356326Z",
     "start_time": "2021-02-26T16:24:27.315111Z"
    }
   },
   "outputs": [],
   "source": [
    "def relu_approx(x, factor=20.0):\n",
    "    \"\"\"\n",
    "    A soft-relu function\n",
    "    The default factor of 20.0 is descent for a turn on at around -0.1 \n",
    "    \"\"\"\n",
    "    return F.softplus(x*factor)/factor\n",
    "def clamp_lag(x, low=-1.0, high=1.0, factor=20): \n",
    "    \"\"\"\n",
    "    Lagrangian loss term to clamp the value of x between low and high.\n",
    "    To play around with this code do:\n",
    "    xlist = torch.tensor(np.linspace(-1, 2, 100))\n",
    "    ylist = [clamp_lag(x, low=0, high=1, factor=20) for x in xlist]\n",
    "    plt.plot(xlist, ylist)\n",
    "    plt.grid()\n",
    "    \"\"\"\n",
    "    return torch.mean(relu_approx(-(x-low), factor) + relu_approx(x-high, factor)) \n",
    "        \n",
    "class ManifoldPlModelMNIST(ClassificationLagPlModel):\n",
    "    def __init__(self, flist, dims,rot,lr,device,optimizer_name,gap, lag_amp=2.5, lag_factor=30.0):\n",
    "        super().__init__()\n",
    "        self.save_hyperparameters()\n",
    "        #delete flist since it is a function which cannot be saved as JSON and will cause a bug...\n",
    "        del self.hparams[\"flist\"] \n",
    "        # writing more attributes to hyperparams that will appear on wandb\n",
    "        for (i, Nunit) in enumerate(dims):\n",
    "            self.hparams[f'ldim_{i}'] = Nunit\n",
    "        self.hparams['Nlayers'] = len(dims[0])  #adding Nlayers\n",
    "        self.hparams['Nchannels'] = len(dims) \n",
    "        self.hparams['optimizer']= optimizer_name\n",
    "        self.hparams['gap']= gap\n",
    "        self.factors = nn.ParameterList()\n",
    "        self.offsets = nn.ParameterList()\n",
    "        self.dims = dims\n",
    "        self.rot = rot\n",
    "        #self.ils = nn.ModuleList()\n",
    "        #self.Ms = list()\n",
    "        self.output_scale = nn.Parameter(torch.ones(1))\n",
    "        self.output_offset  = nn.Parameter(torch.zeros(1))      \n",
    "\n",
    "        N_channels = len(dims)\n",
    "        self.N_channels = N_channels\n",
    "        N_layers = len(dims[0])-1\n",
    "        self.N_layers = N_layers\n",
    "        \n",
    "        #for n in range(N_channels):\n",
    "        #    M=torch.zeros([196*2,dims[n][0]],requires_grad=False).float().to(device)\n",
    "        #    idx2=0\n",
    "        #    idx3=0\n",
    "        #    for idx in range(2*196):\n",
    "        #        M[idx,idx3]=1.\n",
    "        #        idx2+=1\n",
    "        #        if np.mod(idx2,2*196//dims[n][0])==0:\n",
    "        #            idx3+=1\n",
    "        #    \n",
    "        #    self.Ms.append(M)\n",
    "        \n",
    "        \n",
    "        dim_out = 0\n",
    "        for n in range(N_channels):\n",
    "            nlayers = len(flist)\n",
    "            for dim in dims[n][:-1]:\n",
    "                self.factors.append(nn.Parameter(torch.ones(dim)*0.9))\n",
    "                self.offsets.append(nn.Parameter(torch.zeros(dim)))\n",
    "\n",
    "\n",
    "            dim_out +=dims[n][-1]-2*gap\n",
    "            \n",
    "        self.flist = flist\n",
    "        self.xPLMs = []\n",
    "        \n",
    "        self.gap=gap\n",
    "        self.en=dims[-1][-1]-gap\n",
    "                                        \n",
    "        #self.il=nn.Linear(196,dims[0][0])\n",
    "        #for dim in dims:\n",
    "        #    self.ils.append(nn.Linear(196,dim[0]//2))\n",
    "            \n",
    "        self.ol = nn.Linear(dim_out,10)\n",
    "        \n",
    "        self.OL = torch.zeros([100,10],requires_grad=False).float().to(device) \n",
    "        \n",
    "        n2=0\n",
    "        for n1 in range(100):         \n",
    "            if np.mod(n1,100//10) == 0 and n1 !=0:\n",
    "                n2+=1               \n",
    "            self.OL[n1,n2]=1\n",
    "        print(self.OL)         \n",
    "    \n",
    "    def forward(self, x, save=False):\n",
    "        \n",
    "        self.xin = []\n",
    "        self.xout = []\n",
    "            \n",
    "        #bnldx=0\n",
    "        x0=x\n",
    "        fdx=0\n",
    "        for n in range(self.N_channels):\n",
    "            for l in range(self.N_layers):        \n",
    "                ldx=l+n*self.N_layers\n",
    "                if l==0:\n",
    "                    if self.rot[n]==True:\n",
    "                        x0p = torch.reshape(x0,(x0.shape[0],14,14))\n",
    "                        x0p = torch.rot90(x0p,1,[1,2])\n",
    "                        x0p = torch.reshape(x0p,(x0.shape[0],196))\n",
    "                        \n",
    "                        x=x0p*self.factors[ldx]+self.offsets[ldx]\n",
    "                    else:\n",
    "                        x=x0*self.factors[ldx]+self.offsets[ldx]\n",
    "                    self.xin.append(x)\n",
    "                    #x = x*torch.matmul(self.Ms[n],self.factors[ldx])+torch.matmul(self.Ms[n],self.offsets[ldx])    \n",
    "                else:\n",
    "                    x=x*self.factors[ldx]+self.offsets[ldx]\n",
    "                    self.xin.append(x) #MODIFIED FOR THE LAGRANGIAN\n",
    "                    fdx+=1\n",
    "                    \n",
    "                x = x.clamp(-1, 1)\n",
    "                x = self.flist[ldx](x)#+xin\n",
    "                \n",
    "                self.xout.append(x.detach())\n",
    "\n",
    "            if n==0:\n",
    "                xout=x[:,self.gap:self.en]#torch.cat([x0,x],dim=1)\n",
    "            else:\n",
    "                xout=torch.cat([xout,x[:,self.gap:self.en]],dim=1)\n",
    "\n",
    "        #x = F.softmax(self.ol(xout),dim=1)\n",
    "        x = torch.matmul(self.output_scale*xout/torch.max(xout,dim=1,keepdim=True).values+self.output_offset,self.OL)\n",
    "        return x                 \n",
    "    \n",
    "    def lagrangian(self):\n",
    "        \"\"\"\n",
    "        The lagrangian function that will be added to the loss.\n",
    "        \"\"\"\n",
    "        lag_layers = [self.hparams.lag_amp*clamp_lag(x, -1.0, 1.0, self.hparams.lag_factor) for x in self.xin]\n",
    "        #use stack to convert python list to pytorch tensor, then take the mean\n",
    "        out = torch.mean(torch.stack(lag_layers))\n",
    "        return out    \n",
    "        \n",
    "    \n",
    "    def configure_optimizers(self):\n",
    "        if self.hparams['optimizer'] == 'Adam':\n",
    "            optimizer = optim.Adam(self.parameters(), lr=self.hparams.lr)\n",
    "        elif self.hparams['optimizer'] == 'Adadelta':\n",
    "            optimizer = optim.Adadelta(self.parameters())\n",
    "        elif self.hparams['optimizer'] == 'SGD':\n",
    "            optimizer = optim.SGD(self.parameters(),lr=self.hparams.lr,momentum=0.9)\n",
    "        elif self.hparams['optimizer'] == 'Adagrad':            \n",
    "            optimizer = optim.Adagrad(self.parameters(), lr=self.hparams.lr, lr_decay=0, weight_decay=0, initial_accumulator_value=0, eps=1e-10)\n",
    "        elif self.hparams['optimizer'] == 'ASGD':    \n",
    "            optimizer = optim.ASGD(self.parameters(), lr=self.hparams.lr, lambd=0.0001, alpha=0.75, t0=1000000.0, weight_decay=0)\n",
    "        elif self.hparams['optimizer'] == 'SGD_LRdecay':          \n",
    "            optimizer = optim.SGD(self.parameters(),lr=self.hparams.lr,momentum=0.9)\n",
    "            torch.optim.lr_scheduler.ReduceLROnPlateau(optimizer, mode='min', factor=0.1, patience=4, threshold=0.01, threshold_mode='rel', cooldown=0, min_lr=0, eps=1e-08, verbose=False) \n",
    "        return optimizer       \n",
    "    "
   ]
  },
  {
   "cell_type": "code",
   "execution_count": 8,
   "metadata": {
    "ExecuteTime": {
     "end_time": "2021-02-26T16:24:27.376541Z",
     "start_time": "2021-02-26T16:24:27.358787Z"
    }
   },
   "outputs": [],
   "source": [
    "\"\"\"\n",
    "Functions that will be used in this cell...\n",
    "\"\"\"\n",
    "Nλ = 2\n",
    "def get_dt(input_dim, output_dim, layerstring,idt,device):\n",
    "    \"\"\"\n",
    "    Construct the digital twin function that has outputs mean with the noise added.\n",
    "    Note, if don't want noise digital twin just return mean_dt\n",
    "    \"\"\"\n",
    "    dtpath=\"dt_models/mean_\"+layerstring+f\"_in{input_dim}_out{output_dim}_Tmax{Tmaxs[idt]}.p\"\n",
    "    if os.path.isfile(dtpath):\n",
    "        print('Model already exists for '+ dtpath)\n",
    "        mean_dt = torch.load(dtpath).to(device)          \n",
    "    else:\n",
    "        print('Need to train model for ' + dtpath)\n",
    "        train_mean_dt(input_dim,output_dim,Tmaxs[idt],layerstring,NAS=True,Ntrials=50)\n",
    "        mean_dt = torch.load(dtpath).to(device)\n",
    "        \n",
    "    for param in mean_dt.parameters():\n",
    "        param.requires_grad = False\n",
    "        \n",
    "    dtpath=\"dt_models/A_\"+layerstring+f\"_in{input_dim}_out{output_dim}_Tmax{Tmaxs[idt]}.p\"  \n",
    "    if os.path.isfile(dtpath):\n",
    "        print('Model already exists for '+ dtpath)\n",
    "        A_dt = torch.load(dtpath).to(device)\n",
    "    else:\n",
    "        print('Need to train model for ' + dtpath)\n",
    "        train_noise_dt(input_dim,output_dim,Tmaxs[idt],layerstring,NAS=True,Ntrials=50)\n",
    "        A_dt = torch.load(dtpath).to(device)\n",
    "        \n",
    "    for param in A_dt.parameters():\n",
    "        param.requires_grad = False   \n",
    "        \n",
    "    f = make_dt_func(mean_dt, A_dt, output_dim, Nλ)\n",
    "    return f\n",
    "\n",
    "def train_model(project_name,name, dims, idts,rot,lr,max_epoch,train_loader,val_loader,ir,optimizer_name,path='None',gap=8):\n",
    "    device = get_gpu_id_new()\n",
    "    flist = list()\n",
    "    for n in range(len(dims)):\n",
    "        for l in range(len(dims[n])-1):\n",
    "            flist.append(get_dt(dims[n][l], dims[n][l+1], 'l1',idts[n][l],device))\n",
    "    model = ManifoldPlModelMNIST(flist, dims,rot,lr,device,optimizer_name,gap)\n",
    "    print(model)\n",
    "    \n",
    "    if path!='None':\n",
    "        model.load_state_dict(torch.load('NAS_run' + str(ir) +'.p'))\n",
    "\n",
    "    #logger stuff\n",
    "    csv_logger = pl.loggers.CSVLogger('logs', project_name, name)\n",
    "    wandb_logger = pl.loggers.WandbLogger(name=name, project=project_name)\n",
    "    logger = [csv_logger, wandb_logger]\n",
    "\n",
    "    #checkpoint models\n",
    "    checkpoint_file = os.path.join(csv_logger.log_dir, \"{epoch}-{val_loss:.5f}\")\n",
    "    checkpoint_cb = pl.callbacks.ModelCheckpoint(checkpoint_file)\n",
    "\n",
    "    trainer = pl.Trainer(max_epochs=max_epoch, logger=logger, gpus=[device],\n",
    "                         weights_summary=None, progress_bar_refresh_rate=0,\n",
    "                         checkpoint_callback=checkpoint_cb, log_save_interval=50, row_log_interval=4)\n",
    "\n",
    "    trainer.fit(model, train_loader, val_loader)\n",
    "    model.to(device) #trainer apparently changes it to cpu type all the time...\n",
    "\n",
    "    #Run the same model many times since the noise creates maxima in the training\n",
    "    accuracies, losses = test_plmodel(model, val_loader, Nrepeat=3)\n",
    "    mean_accuracy = np.mean(accuracies)\n",
    "    mean_loss = np.mean(losses)\n",
    "    metrics = dict(epoch=trainer.current_epoch, \n",
    "                   val_accu_end=mean_accuracy,  val_loss_end=mean_loss)\n",
    "    trainer.logger.log_metrics(metrics, step=trainer.global_step)\n",
    "    wandb_logger.experiment.join()\n",
    "    \n",
    "    torch.save(model.state_dict(),'NAS_run' + str(ir) +'.p')\n",
    "    \n",
    "    return mean_accuracy, mean_loss, checkpoint_cb.kth_best_model_path"
   ]
  },
  {
   "cell_type": "markdown",
   "metadata": {
    "ExecuteTime": {
     "end_time": "2021-02-26T16:24:27.495643Z",
     "start_time": "2021-02-26T16:24:27.378197Z"
    }
   },
   "source": [
    "batch_size=50\n",
    "from torchvision.datasets import MNIST\n",
    "import torch\n",
    "from torchvision import transforms\n",
    "compress_factor=2\n",
    "reshape_f = lambda x: torch.reshape(x[0, ::compress_factor, ::compress_factor], (-1, ))\n",
    "\n",
    "transforms_noise = transforms.Compose([transforms.RandomAffine(15, translate=(0.0, 0.05), scale=(0.9, 1.1)), transforms.ToTensor(),  reshape_f])\n",
    "train_loader = torch.utils.data.DataLoader(MNIST('.', train=True, download=True, transform=transforms_noise), batch_size=batch_size, shuffle=True)\n",
    "transforms_noise = transforms.Compose([transforms.ToTensor(),  reshape_f])\n",
    "val_loader = torch.utils.data.DataLoader(MNIST('.', train=False, download=True, transform=transforms_noise),batch_size=batch_size, shuffle=True) \n",
    "\n",
    "v=val_loader.dataset.data\n",
    "\n",
    "reshape_f = lambda x: torch.reshape(x[0, ::compress_factor, ::compress_factor], (-1, ))\n",
    "transform = transforms.Compose([transforms.ToTensor(), reshape_f])\n",
    "\n",
    "compress_factor = 2 #Use either 1, 2 or 4! \n",
    "x = v[:, ::compress_factor, ::compress_factor]\n",
    "x = x.reshape(x.shape[0], x.shape[1]**2)\n",
    "\n",
    "y = val_loader.dataset.targets\n",
    "\n",
    "yn=np.array(y)\n",
    "xn=np.array(x)\n",
    "xn=xn*1.0/255\n",
    "\n",
    "\n",
    "Nval=6000//1\n",
    "Ntest=(xn.shape[1]-Nval)//1\n",
    "\n",
    "Xv=xn[:Nval,:]\n",
    "Xtest=xn[Nval:,:]\n",
    "\n",
    "Yv=yn[:Nval]\n",
    "Ytest=yn[Nval:]\n",
    "\n",
    "\n",
    "val_dataset = TensorDataset(torch.tensor(Xv).float(), torch.tensor(Yv))\n",
    "test_dataset = TensorDataset(torch.tensor(Xtest).float(), torch.tensor(Ytest))\n",
    "\n",
    "val_loader = DataLoader(dataset=val_dataset, batch_size=batch_size)\n",
    "test_loader = DataLoader(dataset=test_dataset, batch_size=batch_size)"
   ]
  },
  {
   "cell_type": "code",
   "execution_count": 9,
   "metadata": {
    "ExecuteTime": {
     "end_time": "2021-02-26T16:24:27.501206Z",
     "start_time": "2021-02-26T16:24:27.497575Z"
    }
   },
   "outputs": [],
   "source": [
    "\n",
    "Tmaxs=np.array([270])\n",
    "\n",
    "input_dims=[196,98,56,28]\n",
    "output_dims=[196,98,56,28]\n",
    "project_name = 'DT_MNIST_NAS_dec28_'"
   ]
  },
  {
   "cell_type": "code",
   "execution_count": 10,
   "metadata": {
    "ExecuteTime": {
     "start_time": "2021-02-26T16:24:24.929Z"
    }
   },
   "outputs": [
    {
     "name": "stderr",
     "output_type": "stream",
     "text": [
      "\u001b[32m[I 2021-03-17 08:28:00,118]\u001b[0m Using an existing study with name '' instead of creating a new one.\u001b[0m\n",
      "wandb: Currently logged in as: pnn (use `wandb login --relogin` to force relogin)\n",
      "wandb: wandb version 0.10.22 is available!  To upgrade, please run:\n",
      "wandb:  $ pip install wandb --upgrade\n"
     ]
    },
    {
     "data": {
      "text/html": [
       "\n",
       "                Tracking run with wandb version 0.10.8<br/>\n",
       "                Syncing run <strong style=\"color:#cdcd00\">v24</strong> to <a href=\"https://wandb.ai\" target=\"_blank\">Weights & Biases</a> <a href=\"https://docs.wandb.com/integrations/jupyter.html\" target=\"_blank\">(Documentation)</a>.<br/>\n",
       "                Project page: <a href=\"https://wandb.ai/pnn/l0iid_in70_out70_Tmax100v16sumSwish\" target=\"_blank\">https://wandb.ai/pnn/l0iid_in70_out70_Tmax100v16sumSwish</a><br/>\n",
       "                Run page: <a href=\"https://wandb.ai/pnn/l0iid_in70_out70_Tmax100v16sumSwish/runs/2ecye2oz\" target=\"_blank\">https://wandb.ai/pnn/l0iid_in70_out70_Tmax100v16sumSwish/runs/2ecye2oz</a><br/>\n",
       "                Run data is saved locally in <code>wandb\\run-20210317_082803-2ecye2oz</code><br/><br/>\n",
       "            "
      ],
      "text/plain": [
       "<IPython.core.display.HTML object>"
      ]
     },
     "metadata": {},
     "output_type": "display_data"
    },
    {
     "name": "stderr",
     "output_type": "stream",
     "text": [
      "GPU available: True, used: True\n",
      "TPU available: False, using: 0 TPU cores\n",
      "CUDA_VISIBLE_DEVICES: [0]\n",
      "C:\\Users\\lgw32\\anaconda3\\lib\\site-packages\\pytorch_lightning\\utilities\\distributed.py:37: UserWarning: Experiment logs directory logs\\l0iid_in70_out70_Tmax100v16sumSwish\\v24 exists and is not empty. Previous log files in this directory will be deleted when the new ones are saved!\n",
      "  warnings.warn(*args, **kwargs)\n",
      "Saving latest checkpoint..\n"
     ]
    },
    {
     "data": {
      "text/html": [
       "<br/>Waiting for W&B process to finish, PID 12392<br/>Program ended successfully."
      ],
      "text/plain": [
       "<IPython.core.display.HTML object>"
      ]
     },
     "metadata": {},
     "output_type": "display_data"
    },
    {
     "data": {
      "application/vnd.jupyter.widget-view+json": {
       "model_id": "",
       "version_major": 2,
       "version_minor": 0
      },
      "text/plain": [
       "VBox(children=(Label(value=' 0.00MB of 0.00MB uploaded (0.00MB deduped)\\r'), FloatProgress(value=1.0, max=1.0)…"
      ]
     },
     "metadata": {},
     "output_type": "display_data"
    },
    {
     "data": {
      "text/html": [
       "Find user logs for this run at: <code>wandb\\run-20210317_082803-2ecye2oz\\logs\\debug.log</code>"
      ],
      "text/plain": [
       "<IPython.core.display.HTML object>"
      ]
     },
     "metadata": {},
     "output_type": "display_data"
    },
    {
     "data": {
      "text/html": [
       "Find internal logs for this run at: <code>wandb\\run-20210317_082803-2ecye2oz\\logs\\debug-internal.log</code>"
      ],
      "text/plain": [
       "<IPython.core.display.HTML object>"
      ]
     },
     "metadata": {},
     "output_type": "display_data"
    },
    {
     "data": {
      "text/html": [
       "<h3>Run summary:</h3><br/><style>\n",
       "    table.wandb td:nth-child(1) { padding: 0 10px; text-align: right }\n",
       "    </style><table class=\"wandb\">\n",
       "<tr><td>global_step</td><td>377999</td></tr><tr><td>lr-Adam</td><td>9e-05</td></tr><tr><td>_step</td><td>8399</td></tr><tr><td>_runtime</td><td>1590</td></tr><tr><td>_timestamp</td><td>1615985673</td></tr><tr><td>train_loss</td><td>0.08775</td></tr><tr><td>epoch</td><td>699</td></tr><tr><td>val_loss</td><td>0.11226</td></tr></table>"
      ],
      "text/plain": [
       "<IPython.core.display.HTML object>"
      ]
     },
     "metadata": {},
     "output_type": "display_data"
    },
    {
     "data": {
      "text/html": [
       "<h3>Run history:</h3><br/><style>\n",
       "    table.wandb td:nth-child(1) { padding: 0 10px; text-align: right }\n",
       "    </style><table class=\"wandb\">\n",
       "<tr><td>global_step</td><td>▁▁▁▁▂▂▂▂▂▃▃▃▃▃▃▄▄▄▄▄▅▅▅▅▅▅▆▆▆▆▆▆▇▇▇▇▇███</td></tr><tr><td>lr-Adam</td><td>████████████████████████▃▃▃▃▃▃▃▃▃▃▃▁▁▁▁▁</td></tr><tr><td>_step</td><td>▁▁▁▁▂▂▂▂▂▃▃▃▃▃▃▄▄▄▄▄▅▅▅▅▅▅▆▆▆▆▆▆▇▇▇▇▇███</td></tr><tr><td>_runtime</td><td>▁▁▁▁▂▂▂▂▂▂▃▃▃▃▃▃▄▄▄▄▄▅▅▅▅▅▅▆▆▆▆▆▇▇▇▇▇███</td></tr><tr><td>_timestamp</td><td>▁▁▁▁▂▂▂▂▂▂▃▃▃▃▃▃▄▄▄▄▄▅▅▅▅▅▅▆▆▆▆▆▇▇▇▇▇███</td></tr><tr><td>train_loss</td><td>█▇▄▃▃▃▃▃▃▃▃▂▂▂▂▂▂▂▂▂▂▂▂▂▂▂▂▂▂▁▁▁▁▁▁▁▁▁▁▁</td></tr><tr><td>epoch</td><td>▁▁▁▂▂▂▂▂▂▃▃▃▃▃▃▄▄▄▄▄▅▅▅▅▅▅▆▆▆▆▆▇▇▇▇▇▇███</td></tr><tr><td>val_loss</td><td>█▆▃▃▂▂▂▂▂▂▂▂▂▂▂▂▂▂▂▂▂▂▂▂▁▁▁▁▁▁▁▁▁▁▁▁▁▁▁▁</td></tr></table><br/>"
      ],
      "text/plain": [
       "<IPython.core.display.HTML object>"
      ]
     },
     "metadata": {},
     "output_type": "display_data"
    },
    {
     "data": {
      "text/html": [
       "Synced 5 W&B file(s), 0 media file(s), 0 artifact file(s) and 0 other file(s)"
      ],
      "text/plain": [
       "<IPython.core.display.HTML object>"
      ]
     },
     "metadata": {},
     "output_type": "display_data"
    },
    {
     "data": {
      "text/html": [
       "\n",
       "                    <br/>Synced <strong style=\"color:#cdcd00\">v24</strong>: <a href=\"https://wandb.ai/pnn/l0iid_in70_out70_Tmax100v16sumSwish/runs/2ecye2oz\" target=\"_blank\">https://wandb.ai/pnn/l0iid_in70_out70_Tmax100v16sumSwish/runs/2ecye2oz</a><br/>\n",
       "                "
      ],
      "text/plain": [
       "<IPython.core.display.HTML object>"
      ]
     },
     "metadata": {},
     "output_type": "display_data"
    },
    {
     "name": "stderr",
     "output_type": "stream",
     "text": [
      "\u001b[32m[I 2021-03-17 08:54:37,061]\u001b[0m Trial 24 finished with value: 0.012602088041603565 and parameters: {'Nlayers': 4, 'Ncoms': 2, 'identity_init': 0, 'lr': 0.001, 'Nunits1': 215.78427637685783, 'Nunits2': 229.53205441203767, 'Nunits3': 182.60689364866798}. Best is trial 18 with value: 0.011677253060042858.\u001b[0m\n",
      "wandb: wandb version 0.10.22 is available!  To upgrade, please run:\n",
      "wandb:  $ pip install wandb --upgrade\n"
     ]
    },
    {
     "data": {
      "text/html": [
       "\n",
       "                Tracking run with wandb version 0.10.8<br/>\n",
       "                Syncing run <strong style=\"color:#cdcd00\">v25</strong> to <a href=\"https://wandb.ai\" target=\"_blank\">Weights & Biases</a> <a href=\"https://docs.wandb.com/integrations/jupyter.html\" target=\"_blank\">(Documentation)</a>.<br/>\n",
       "                Project page: <a href=\"https://wandb.ai/pnn/l0iid_in70_out70_Tmax100v16sumSwish\" target=\"_blank\">https://wandb.ai/pnn/l0iid_in70_out70_Tmax100v16sumSwish</a><br/>\n",
       "                Run page: <a href=\"https://wandb.ai/pnn/l0iid_in70_out70_Tmax100v16sumSwish/runs/epk7u302\" target=\"_blank\">https://wandb.ai/pnn/l0iid_in70_out70_Tmax100v16sumSwish/runs/epk7u302</a><br/>\n",
       "                Run data is saved locally in <code>wandb\\run-20210317_085437-epk7u302</code><br/><br/>\n",
       "            "
      ],
      "text/plain": [
       "<IPython.core.display.HTML object>"
      ]
     },
     "metadata": {},
     "output_type": "display_data"
    },
    {
     "name": "stderr",
     "output_type": "stream",
     "text": [
      "GPU available: True, used: True\n",
      "TPU available: False, using: 0 TPU cores\n",
      "CUDA_VISIBLE_DEVICES: [0]\n",
      "C:\\Users\\lgw32\\anaconda3\\lib\\site-packages\\pytorch_lightning\\utilities\\distributed.py:37: UserWarning: Experiment logs directory logs\\l0iid_in70_out70_Tmax100v16sumSwish\\v25 exists and is not empty. Previous log files in this directory will be deleted when the new ones are saved!\n",
      "  warnings.warn(*args, **kwargs)\n",
      "Saving latest checkpoint..\n"
     ]
    },
    {
     "data": {
      "text/html": [
       "<br/>Waiting for W&B process to finish, PID 5108<br/>Program ended successfully."
      ],
      "text/plain": [
       "<IPython.core.display.HTML object>"
      ]
     },
     "metadata": {},
     "output_type": "display_data"
    },
    {
     "data": {
      "application/vnd.jupyter.widget-view+json": {
       "model_id": "",
       "version_major": 2,
       "version_minor": 0
      },
      "text/plain": [
       "VBox(children=(Label(value=' 0.00MB of 0.00MB uploaded (0.00MB deduped)\\r'), FloatProgress(value=1.0, max=1.0)…"
      ]
     },
     "metadata": {},
     "output_type": "display_data"
    },
    {
     "data": {
      "text/html": [
       "Find user logs for this run at: <code>wandb\\run-20210317_085437-epk7u302\\logs\\debug.log</code>"
      ],
      "text/plain": [
       "<IPython.core.display.HTML object>"
      ]
     },
     "metadata": {},
     "output_type": "display_data"
    },
    {
     "data": {
      "text/html": [
       "Find internal logs for this run at: <code>wandb\\run-20210317_085437-epk7u302\\logs\\debug-internal.log</code>"
      ],
      "text/plain": [
       "<IPython.core.display.HTML object>"
      ]
     },
     "metadata": {},
     "output_type": "display_data"
    },
    {
     "data": {
      "text/html": [
       "<h3>Run summary:</h3><br/><style>\n",
       "    table.wandb td:nth-child(1) { padding: 0 10px; text-align: right }\n",
       "    </style><table class=\"wandb\">\n",
       "<tr><td>global_step</td><td>377999</td></tr><tr><td>lr-Adam</td><td>0.0001</td></tr><tr><td>_step</td><td>8399</td></tr><tr><td>_runtime</td><td>2400</td></tr><tr><td>_timestamp</td><td>1615988077</td></tr><tr><td>train_loss</td><td>0.11158</td></tr><tr><td>epoch</td><td>699</td></tr><tr><td>val_loss</td><td>0.13949</td></tr></table>"
      ],
      "text/plain": [
       "<IPython.core.display.HTML object>"
      ]
     },
     "metadata": {},
     "output_type": "display_data"
    },
    {
     "data": {
      "text/html": [
       "<h3>Run history:</h3><br/><style>\n",
       "    table.wandb td:nth-child(1) { padding: 0 10px; text-align: right }\n",
       "    </style><table class=\"wandb\">\n",
       "<tr><td>global_step</td><td>▁▁▁▁▂▂▂▂▂▃▃▃▃▃▃▄▄▄▄▄▅▅▅▅▅▅▆▆▆▆▆▆▇▇▇▇▇███</td></tr><tr><td>lr-Adam</td><td>▁▁▁▁▁▁▁▁▁▁▁▁▁▁▁▁▁▁▁▁▁▁▁▁▁▁▁▁▁▁▁▁▁▁▁▁▁▁▁▁</td></tr><tr><td>_step</td><td>▁▁▁▁▂▂▂▂▂▃▃▃▃▃▃▄▄▄▄▄▅▅▅▅▅▅▆▆▆▆▆▆▇▇▇▇▇███</td></tr><tr><td>_runtime</td><td>▁▁▁▁▂▂▂▂▂▂▃▃▃▃▃▄▄▄▄▄▄▅▅▅▅▅▅▆▆▆▆▆▇▇▇▇▇███</td></tr><tr><td>_timestamp</td><td>▁▁▁▁▂▂▂▂▂▂▃▃▃▃▃▄▄▄▄▄▄▅▅▅▅▅▅▆▆▆▆▆▇▇▇▇▇███</td></tr><tr><td>train_loss</td><td>█▇▇▆▇▆▆▆▆▆▆▅▅▅▄▄▄▄▃▃▂▂▂▂▂▂▂▂▂▁▁▁▁▁▂▁▂▁▁▁</td></tr><tr><td>epoch</td><td>▁▁▁▂▂▂▂▂▂▃▃▃▃▃▃▄▄▄▄▄▅▅▅▅▅▅▆▆▆▆▆▇▇▇▇▇▇███</td></tr><tr><td>val_loss</td><td>█▇▇▇▇▇▇▇▇▇▆▆▆▆▅▅▄▄▃▃▂▂▂▂▁▁▁▁▁▁▁▁▁▁▁▁▁▁▁▁</td></tr></table><br/>"
      ],
      "text/plain": [
       "<IPython.core.display.HTML object>"
      ]
     },
     "metadata": {},
     "output_type": "display_data"
    },
    {
     "data": {
      "text/html": [
       "Synced 5 W&B file(s), 0 media file(s), 0 artifact file(s) and 0 other file(s)"
      ],
      "text/plain": [
       "<IPython.core.display.HTML object>"
      ]
     },
     "metadata": {},
     "output_type": "display_data"
    },
    {
     "data": {
      "text/html": [
       "\n",
       "                    <br/>Synced <strong style=\"color:#cdcd00\">v25</strong>: <a href=\"https://wandb.ai/pnn/l0iid_in70_out70_Tmax100v16sumSwish/runs/epk7u302\" target=\"_blank\">https://wandb.ai/pnn/l0iid_in70_out70_Tmax100v16sumSwish/runs/epk7u302</a><br/>\n",
       "                "
      ],
      "text/plain": [
       "<IPython.core.display.HTML object>"
      ]
     },
     "metadata": {},
     "output_type": "display_data"
    },
    {
     "name": "stderr",
     "output_type": "stream",
     "text": [
      "\u001b[32m[I 2021-03-17 09:34:41,112]\u001b[0m Trial 25 finished with value: 0.0194577407091856 and parameters: {'Nlayers': 4, 'Ncoms': 4, 'identity_init': 0, 'lr': 0.0001, 'Nunits1': 191.22598328823273, 'Nunits2': 183.5001622307182, 'Nunits3': 232.55573064904794}. Best is trial 18 with value: 0.011677253060042858.\u001b[0m\n",
      "wandb: wandb version 0.10.22 is available!  To upgrade, please run:\n",
      "wandb:  $ pip install wandb --upgrade\n"
     ]
    },
    {
     "data": {
      "text/html": [
       "\n",
       "                Tracking run with wandb version 0.10.8<br/>\n",
       "                Syncing run <strong style=\"color:#cdcd00\">v26</strong> to <a href=\"https://wandb.ai\" target=\"_blank\">Weights & Biases</a> <a href=\"https://docs.wandb.com/integrations/jupyter.html\" target=\"_blank\">(Documentation)</a>.<br/>\n",
       "                Project page: <a href=\"https://wandb.ai/pnn/l0iid_in70_out70_Tmax100v16sumSwish\" target=\"_blank\">https://wandb.ai/pnn/l0iid_in70_out70_Tmax100v16sumSwish</a><br/>\n",
       "                Run page: <a href=\"https://wandb.ai/pnn/l0iid_in70_out70_Tmax100v16sumSwish/runs/v9oonwop\" target=\"_blank\">https://wandb.ai/pnn/l0iid_in70_out70_Tmax100v16sumSwish/runs/v9oonwop</a><br/>\n",
       "                Run data is saved locally in <code>wandb\\run-20210317_093441-v9oonwop</code><br/><br/>\n",
       "            "
      ],
      "text/plain": [
       "<IPython.core.display.HTML object>"
      ]
     },
     "metadata": {},
     "output_type": "display_data"
    },
    {
     "name": "stderr",
     "output_type": "stream",
     "text": [
      "GPU available: True, used: True\n",
      "TPU available: False, using: 0 TPU cores\n",
      "CUDA_VISIBLE_DEVICES: [0]\n",
      "C:\\Users\\lgw32\\anaconda3\\lib\\site-packages\\pytorch_lightning\\utilities\\distributed.py:37: UserWarning: Experiment logs directory logs\\l0iid_in70_out70_Tmax100v16sumSwish\\v26 exists and is not empty. Previous log files in this directory will be deleted when the new ones are saved!\n",
      "  warnings.warn(*args, **kwargs)\n",
      "Saving latest checkpoint..\n"
     ]
    },
    {
     "data": {
      "text/html": [
       "<br/>Waiting for W&B process to finish, PID 12452<br/>Program ended successfully."
      ],
      "text/plain": [
       "<IPython.core.display.HTML object>"
      ]
     },
     "metadata": {},
     "output_type": "display_data"
    },
    {
     "data": {
      "application/vnd.jupyter.widget-view+json": {
       "model_id": "",
       "version_major": 2,
       "version_minor": 0
      },
      "text/plain": [
       "VBox(children=(Label(value=' 0.00MB of 0.00MB uploaded (0.00MB deduped)\\r'), FloatProgress(value=1.0, max=1.0)…"
      ]
     },
     "metadata": {},
     "output_type": "display_data"
    },
    {
     "data": {
      "text/html": [
       "Find user logs for this run at: <code>wandb\\run-20210317_093441-v9oonwop\\logs\\debug.log</code>"
      ],
      "text/plain": [
       "<IPython.core.display.HTML object>"
      ]
     },
     "metadata": {},
     "output_type": "display_data"
    },
    {
     "data": {
      "text/html": [
       "Find internal logs for this run at: <code>wandb\\run-20210317_093441-v9oonwop\\logs\\debug-internal.log</code>"
      ],
      "text/plain": [
       "<IPython.core.display.HTML object>"
      ]
     },
     "metadata": {},
     "output_type": "display_data"
    },
    {
     "data": {
      "text/html": [
       "<h3>Run summary:</h3><br/><style>\n",
       "    table.wandb td:nth-child(1) { padding: 0 10px; text-align: right }\n",
       "    </style><table class=\"wandb\">\n",
       "<tr><td>global_step</td><td>377999</td></tr><tr><td>lr-Adam</td><td>0.0</td></tr><tr><td>_step</td><td>8399</td></tr><tr><td>_runtime</td><td>3001</td></tr><tr><td>_timestamp</td><td>1615991082</td></tr><tr><td>train_loss</td><td>0.07549</td></tr><tr><td>epoch</td><td>699</td></tr><tr><td>val_loss</td><td>0.11611</td></tr></table>"
      ],
      "text/plain": [
       "<IPython.core.display.HTML object>"
      ]
     },
     "metadata": {},
     "output_type": "display_data"
    },
    {
     "data": {
      "text/html": [
       "<h3>Run history:</h3><br/><style>\n",
       "    table.wandb td:nth-child(1) { padding: 0 10px; text-align: right }\n",
       "    </style><table class=\"wandb\">\n",
       "<tr><td>global_step</td><td>▁▁▁▁▂▂▂▂▂▃▃▃▃▃▃▄▄▄▄▄▅▅▅▅▅▅▆▆▆▆▆▆▇▇▇▇▇███</td></tr><tr><td>lr-Adam</td><td>███▃▂▁▁▁▁▁▁▁▁▁▁▁▁▁▁▁▁▁▁▁▁▁▁▁▁▁▁▁▁▁▁▁▁▁▁▁</td></tr><tr><td>_step</td><td>▁▁▁▁▂▂▂▂▂▃▃▃▃▃▃▄▄▄▄▄▅▅▅▅▅▅▆▆▆▆▆▆▇▇▇▇▇███</td></tr><tr><td>_runtime</td><td>▁▁▁▁▂▂▂▂▂▂▃▃▃▃▃▃▄▄▄▄▄▅▅▅▅▅▆▆▆▆▆▆▇▇▇▇▇███</td></tr><tr><td>_timestamp</td><td>▁▁▁▁▂▂▂▂▂▂▃▃▃▃▃▃▄▄▄▄▄▅▅▅▅▅▆▆▆▆▆▆▇▇▇▇▇███</td></tr><tr><td>train_loss</td><td>█▆▄▂▁▁▁▁▁▁▁▁▁▁▁▁▁▁▁▁▁▁▁▁▁▁▁▁▁▁▁▁▁▁▁▁▁▁▁▁</td></tr><tr><td>epoch</td><td>▁▁▁▂▂▂▂▂▂▃▃▃▃▃▃▄▄▄▄▄▅▅▅▅▅▅▆▆▆▆▆▇▇▇▇▇▇███</td></tr><tr><td>val_loss</td><td>█▄▄▁▁▁▁▁▁▁▁▁▁▁▁▁▁▁▁▁▁▁▁▁▁▁▁▁▁▁▁▁▁▁▁▁▁▁▁▁</td></tr></table><br/>"
      ],
      "text/plain": [
       "<IPython.core.display.HTML object>"
      ]
     },
     "metadata": {},
     "output_type": "display_data"
    },
    {
     "data": {
      "text/html": [
       "Synced 5 W&B file(s), 0 media file(s), 0 artifact file(s) and 0 other file(s)"
      ],
      "text/plain": [
       "<IPython.core.display.HTML object>"
      ]
     },
     "metadata": {},
     "output_type": "display_data"
    },
    {
     "data": {
      "text/html": [
       "\n",
       "                    <br/>Synced <strong style=\"color:#cdcd00\">v26</strong>: <a href=\"https://wandb.ai/pnn/l0iid_in70_out70_Tmax100v16sumSwish/runs/v9oonwop\" target=\"_blank\">https://wandb.ai/pnn/l0iid_in70_out70_Tmax100v16sumSwish/runs/v9oonwop</a><br/>\n",
       "                "
      ],
      "text/plain": [
       "<IPython.core.display.HTML object>"
      ]
     },
     "metadata": {},
     "output_type": "display_data"
    },
    {
     "name": "stderr",
     "output_type": "stream",
     "text": [
      "\u001b[32m[I 2021-03-17 10:24:45,718]\u001b[0m Trial 26 finished with value: 0.013479833491146564 and parameters: {'Nlayers': 5, 'Ncoms': 4, 'identity_init': 0, 'lr': 0.0031, 'Nunits1': 166.1329132091407, 'Nunits2': 245.31046866045898, 'Nunits3': 182.76605443500355, 'Nunits4': 241.05630130787708}. Best is trial 18 with value: 0.011677253060042858.\u001b[0m\n",
      "\u001b[32m[I 2021-03-17 10:25:17,667]\u001b[0m A new study created in RDB with name: \u001b[0m\n"
     ]
    },
    {
     "name": "stdout",
     "output_type": "stream",
     "text": [
      "Starting NAS for digital noise twin\n"
     ]
    },
    {
     "name": "stderr",
     "output_type": "stream",
     "text": [
      "wandb: wandb version 0.10.22 is available!  To upgrade, please run:\n",
      "wandb:  $ pip install wandb --upgrade\n"
     ]
    },
    {
     "data": {
      "text/html": [
       "\n",
       "                Tracking run with wandb version 0.10.8<br/>\n",
       "                Syncing run <strong style=\"color:#cdcd00\">v0</strong> to <a href=\"https://wandb.ai\" target=\"_blank\">Weights & Biases</a> <a href=\"https://docs.wandb.com/integrations/jupyter.html\" target=\"_blank\">(Documentation)</a>.<br/>\n",
       "                Project page: <a href=\"https://wandb.ai/pnn/l0iid_in70_out70_Tmax100--noise_dtv16sumSwish\" target=\"_blank\">https://wandb.ai/pnn/l0iid_in70_out70_Tmax100--noise_dtv16sumSwish</a><br/>\n",
       "                Run page: <a href=\"https://wandb.ai/pnn/l0iid_in70_out70_Tmax100--noise_dtv16sumSwish/runs/37ku7nmy\" target=\"_blank\">https://wandb.ai/pnn/l0iid_in70_out70_Tmax100--noise_dtv16sumSwish/runs/37ku7nmy</a><br/>\n",
       "                Run data is saved locally in <code>wandb\\run-20210317_102517-37ku7nmy</code><br/><br/>\n",
       "            "
      ],
      "text/plain": [
       "<IPython.core.display.HTML object>"
      ]
     },
     "metadata": {},
     "output_type": "display_data"
    },
    {
     "name": "stderr",
     "output_type": "stream",
     "text": [
      "GPU available: True, used: False\n",
      "TPU available: False, using: 0 TPU cores\n",
      "C:\\Users\\lgw32\\anaconda3\\lib\\site-packages\\pytorch_lightning\\utilities\\distributed.py:37: UserWarning: GPU available but not used. Set the --gpus flag when calling the script.\n",
      "  warnings.warn(*args, **kwargs)\n",
      "C:\\Users\\lgw32\\anaconda3\\lib\\site-packages\\pytorch_lightning\\utilities\\distributed.py:37: UserWarning: Experiment logs directory logs\\l0iid_in70_out70_Tmax100--noise_dtv16sumSwish\\v0 exists and is not empty. Previous log files in this directory will be deleted when the new ones are saved!\n",
      "  warnings.warn(*args, **kwargs)\n",
      "Saving latest checkpoint..\n"
     ]
    },
    {
     "data": {
      "text/html": [
       "<br/>Waiting for W&B process to finish, PID 8428<br/>Program ended successfully."
      ],
      "text/plain": [
       "<IPython.core.display.HTML object>"
      ]
     },
     "metadata": {},
     "output_type": "display_data"
    },
    {
     "data": {
      "application/vnd.jupyter.widget-view+json": {
       "model_id": "",
       "version_major": 2,
       "version_minor": 0
      },
      "text/plain": [
       "VBox(children=(Label(value=' 0.00MB of 0.00MB uploaded (0.00MB deduped)\\r'), FloatProgress(value=1.0, max=1.0)…"
      ]
     },
     "metadata": {},
     "output_type": "display_data"
    },
    {
     "data": {
      "text/html": [
       "Find user logs for this run at: <code>wandb\\run-20210317_102517-37ku7nmy\\logs\\debug.log</code>"
      ],
      "text/plain": [
       "<IPython.core.display.HTML object>"
      ]
     },
     "metadata": {},
     "output_type": "display_data"
    },
    {
     "data": {
      "text/html": [
       "Find internal logs for this run at: <code>wandb\\run-20210317_102517-37ku7nmy\\logs\\debug-internal.log</code>"
      ],
      "text/plain": [
       "<IPython.core.display.HTML object>"
      ]
     },
     "metadata": {},
     "output_type": "display_data"
    },
    {
     "data": {
      "text/html": [
       "<h3>Run summary:</h3><br/><style>\n",
       "    table.wandb td:nth-child(1) { padding: 0 10px; text-align: right }\n",
       "    </style><table class=\"wandb\">\n",
       "<tr><td>global_step</td><td>17999</td></tr><tr><td>lr-Adam</td><td>0.0</td></tr><tr><td>_step</td><td>1999</td></tr><tr><td>_runtime</td><td>149</td></tr><tr><td>_timestamp</td><td>1615991266</td></tr><tr><td>val_loss</td><td>0.01341</td></tr><tr><td>epoch</td><td>999</td></tr></table>"
      ],
      "text/plain": [
       "<IPython.core.display.HTML object>"
      ]
     },
     "metadata": {},
     "output_type": "display_data"
    },
    {
     "data": {
      "text/html": [
       "<h3>Run history:</h3><br/><style>\n",
       "    table.wandb td:nth-child(1) { padding: 0 10px; text-align: right }\n",
       "    </style><table class=\"wandb\">\n",
       "<tr><td>global_step</td><td>▁▁▁▂▂▂▂▂▂▃▃▃▃▃▄▄▄▄▄▄▅▅▅▅▅▅▆▆▆▆▆▇▇▇▇▇▇███</td></tr><tr><td>lr-Adam</td><td>██▂▁▁▁▁▁▁▁▁▁▁▁▁▁▁▁▁▁▁▁▁▁▁▁▁▁▁▁▁▁▁▁▁▁▁▁▁▁</td></tr><tr><td>_step</td><td>▁▁▁▂▂▂▂▂▂▃▃▃▃▃▄▄▄▄▄▄▅▅▅▅▅▅▆▆▆▆▆▇▇▇▇▇▇███</td></tr><tr><td>_runtime</td><td>▁▁▁▁▂▂▂▂▂▃▃▃▃▃▄▄▄▄▄▄▅▅▅▅▅▆▆▆▆▆▆▇▇▇▇▇▇███</td></tr><tr><td>_timestamp</td><td>▁▁▁▁▂▂▂▂▂▃▃▃▃▃▄▄▄▄▄▄▅▅▅▅▅▆▆▆▆▆▆▇▇▇▇▇▇███</td></tr><tr><td>val_loss</td><td>█▃▁▁▁▁▁▁▁▁▁▁▁▁▁▁▁▁▁▁▁▁▁▁▁▁▁▁▁▁▁▁▁▁▁▁▁▁▁▁</td></tr><tr><td>epoch</td><td>▁▁▁▂▂▂▂▂▂▃▃▃▃▃▄▄▄▄▄▄▅▅▅▅▅▅▆▆▆▆▆▇▇▇▇▇▇███</td></tr></table><br/>"
      ],
      "text/plain": [
       "<IPython.core.display.HTML object>"
      ]
     },
     "metadata": {},
     "output_type": "display_data"
    },
    {
     "data": {
      "text/html": [
       "Synced 5 W&B file(s), 0 media file(s), 0 artifact file(s) and 0 other file(s)"
      ],
      "text/plain": [
       "<IPython.core.display.HTML object>"
      ]
     },
     "metadata": {},
     "output_type": "display_data"
    },
    {
     "data": {
      "text/html": [
       "\n",
       "                    <br/>Synced <strong style=\"color:#cdcd00\">v0</strong>: <a href=\"https://wandb.ai/pnn/l0iid_in70_out70_Tmax100--noise_dtv16sumSwish/runs/37ku7nmy\" target=\"_blank\">https://wandb.ai/pnn/l0iid_in70_out70_Tmax100--noise_dtv16sumSwish/runs/37ku7nmy</a><br/>\n",
       "                "
      ],
      "text/plain": [
       "<IPython.core.display.HTML object>"
      ]
     },
     "metadata": {},
     "output_type": "display_data"
    },
    {
     "name": "stderr",
     "output_type": "stream",
     "text": [
      "\u001b[32m[I 2021-03-17 10:27:49,628]\u001b[0m Trial 0 finished with value: 0.0001753587566781789 and parameters: {'Nlayers': 3, 'Ncoms': 2, 'identity_init': 1, 'lr': 0.0031, 'Nunits1': 792.1582752859158, 'Nunits2': 250.14660382735244}. Best is trial 0 with value: 0.0001753587566781789.\u001b[0m\n",
      "wandb: wandb version 0.10.22 is available!  To upgrade, please run:\n",
      "wandb:  $ pip install wandb --upgrade\n"
     ]
    },
    {
     "data": {
      "text/html": [
       "\n",
       "                Tracking run with wandb version 0.10.8<br/>\n",
       "                Syncing run <strong style=\"color:#cdcd00\">v1</strong> to <a href=\"https://wandb.ai\" target=\"_blank\">Weights & Biases</a> <a href=\"https://docs.wandb.com/integrations/jupyter.html\" target=\"_blank\">(Documentation)</a>.<br/>\n",
       "                Project page: <a href=\"https://wandb.ai/pnn/l0iid_in70_out70_Tmax100--noise_dtv16sumSwish\" target=\"_blank\">https://wandb.ai/pnn/l0iid_in70_out70_Tmax100--noise_dtv16sumSwish</a><br/>\n",
       "                Run page: <a href=\"https://wandb.ai/pnn/l0iid_in70_out70_Tmax100--noise_dtv16sumSwish/runs/de84z7tx\" target=\"_blank\">https://wandb.ai/pnn/l0iid_in70_out70_Tmax100--noise_dtv16sumSwish/runs/de84z7tx</a><br/>\n",
       "                Run data is saved locally in <code>wandb\\run-20210317_102749-de84z7tx</code><br/><br/>\n",
       "            "
      ],
      "text/plain": [
       "<IPython.core.display.HTML object>"
      ]
     },
     "metadata": {},
     "output_type": "display_data"
    },
    {
     "name": "stderr",
     "output_type": "stream",
     "text": [
      "GPU available: True, used: False\n",
      "TPU available: False, using: 0 TPU cores\n",
      "C:\\Users\\lgw32\\anaconda3\\lib\\site-packages\\pytorch_lightning\\utilities\\distributed.py:37: UserWarning: Experiment logs directory logs\\l0iid_in70_out70_Tmax100--noise_dtv16sumSwish\\v1 exists and is not empty. Previous log files in this directory will be deleted when the new ones are saved!\n",
      "  warnings.warn(*args, **kwargs)\n",
      "Saving latest checkpoint..\n"
     ]
    },
    {
     "data": {
      "text/html": [
       "<br/>Waiting for W&B process to finish, PID 13172<br/>Program ended successfully."
      ],
      "text/plain": [
       "<IPython.core.display.HTML object>"
      ]
     },
     "metadata": {},
     "output_type": "display_data"
    },
    {
     "data": {
      "application/vnd.jupyter.widget-view+json": {
       "model_id": "",
       "version_major": 2,
       "version_minor": 0
      },
      "text/plain": [
       "VBox(children=(Label(value=' 0.00MB of 0.00MB uploaded (0.00MB deduped)\\r'), FloatProgress(value=1.0, max=1.0)…"
      ]
     },
     "metadata": {},
     "output_type": "display_data"
    },
    {
     "data": {
      "text/html": [
       "Find user logs for this run at: <code>wandb\\run-20210317_102749-de84z7tx\\logs\\debug.log</code>"
      ],
      "text/plain": [
       "<IPython.core.display.HTML object>"
      ]
     },
     "metadata": {},
     "output_type": "display_data"
    },
    {
     "data": {
      "text/html": [
       "Find internal logs for this run at: <code>wandb\\run-20210317_102749-de84z7tx\\logs\\debug-internal.log</code>"
      ],
      "text/plain": [
       "<IPython.core.display.HTML object>"
      ]
     },
     "metadata": {},
     "output_type": "display_data"
    },
    {
     "data": {
      "text/html": [
       "<h3>Run summary:</h3><br/><style>\n",
       "    table.wandb td:nth-child(1) { padding: 0 10px; text-align: right }\n",
       "    </style><table class=\"wandb\">\n",
       "<tr><td>global_step</td><td>17999</td></tr><tr><td>lr-Adam</td><td>0.0</td></tr><tr><td>_step</td><td>1999</td></tr><tr><td>_runtime</td><td>241</td></tr><tr><td>_timestamp</td><td>1615991510</td></tr><tr><td>val_loss</td><td>0.01312</td></tr><tr><td>epoch</td><td>999</td></tr></table>"
      ],
      "text/plain": [
       "<IPython.core.display.HTML object>"
      ]
     },
     "metadata": {},
     "output_type": "display_data"
    },
    {
     "data": {
      "text/html": [
       "<h3>Run history:</h3><br/><style>\n",
       "    table.wandb td:nth-child(1) { padding: 0 10px; text-align: right }\n",
       "    </style><table class=\"wandb\">\n",
       "<tr><td>global_step</td><td>▁▁▁▂▂▂▂▂▂▃▃▃▃▃▄▄▄▄▄▄▅▅▅▅▅▅▆▆▆▆▆▇▇▇▇▇▇███</td></tr><tr><td>lr-Adam</td><td>████████████▃▂▁▁▁▁▁▁▁▁▁▁▁▁▁▁▁▁▁▁▁▁▁▁▁▁▁▁</td></tr><tr><td>_step</td><td>▁▁▁▂▂▂▂▂▂▃▃▃▃▃▄▄▄▄▄▄▅▅▅▅▅▅▆▆▆▆▆▇▇▇▇▇▇███</td></tr><tr><td>_runtime</td><td>▁▁▁▂▂▂▂▂▃▃▃▃▃▄▄▄▄▄▄▅▅▅▅▅▅▆▆▆▆▆▇▇▇▇▇▇████</td></tr><tr><td>_timestamp</td><td>▁▁▁▂▂▂▂▂▃▃▃▃▃▄▄▄▄▄▄▅▅▅▅▅▅▆▆▆▆▆▇▇▇▇▇▇████</td></tr><tr><td>val_loss</td><td>█▂▂▂▁▁▁▁▁▁▁▁▁▁▁▁▁▁▁▁▁▁▁▁▁▁▁▁▁▁▁▁▁▁▁▁▁▁▁▁</td></tr><tr><td>epoch</td><td>▁▁▁▂▂▂▂▂▂▃▃▃▃▃▄▄▄▄▄▄▅▅▅▅▅▅▆▆▆▆▆▇▇▇▇▇▇███</td></tr></table><br/>"
      ],
      "text/plain": [
       "<IPython.core.display.HTML object>"
      ]
     },
     "metadata": {},
     "output_type": "display_data"
    },
    {
     "data": {
      "text/html": [
       "Synced 5 W&B file(s), 0 media file(s), 0 artifact file(s) and 0 other file(s)"
      ],
      "text/plain": [
       "<IPython.core.display.HTML object>"
      ]
     },
     "metadata": {},
     "output_type": "display_data"
    },
    {
     "data": {
      "text/html": [
       "\n",
       "                    <br/>Synced <strong style=\"color:#cdcd00\">v1</strong>: <a href=\"https://wandb.ai/pnn/l0iid_in70_out70_Tmax100--noise_dtv16sumSwish/runs/de84z7tx\" target=\"_blank\">https://wandb.ai/pnn/l0iid_in70_out70_Tmax100--noise_dtv16sumSwish/runs/de84z7tx</a><br/>\n",
       "                "
      ],
      "text/plain": [
       "<IPython.core.display.HTML object>"
      ]
     },
     "metadata": {},
     "output_type": "display_data"
    },
    {
     "name": "stderr",
     "output_type": "stream",
     "text": [
      "\u001b[32m[I 2021-03-17 10:31:53,414]\u001b[0m Trial 1 finished with value: 0.0001720364816719666 and parameters: {'Nlayers': 4, 'Ncoms': 3, 'identity_init': 1, 'lr': 0.0001, 'Nunits1': 395.97511401927153, 'Nunits2': 348.5624477804435, 'Nunits3': 217.62770448486006}. Best is trial 1 with value: 0.0001720364816719666.\u001b[0m\n",
      "wandb: wandb version 0.10.22 is available!  To upgrade, please run:\n",
      "wandb:  $ pip install wandb --upgrade\n"
     ]
    },
    {
     "data": {
      "text/html": [
       "\n",
       "                Tracking run with wandb version 0.10.8<br/>\n",
       "                Syncing run <strong style=\"color:#cdcd00\">v2</strong> to <a href=\"https://wandb.ai\" target=\"_blank\">Weights & Biases</a> <a href=\"https://docs.wandb.com/integrations/jupyter.html\" target=\"_blank\">(Documentation)</a>.<br/>\n",
       "                Project page: <a href=\"https://wandb.ai/pnn/l0iid_in70_out70_Tmax100--noise_dtv16sumSwish\" target=\"_blank\">https://wandb.ai/pnn/l0iid_in70_out70_Tmax100--noise_dtv16sumSwish</a><br/>\n",
       "                Run page: <a href=\"https://wandb.ai/pnn/l0iid_in70_out70_Tmax100--noise_dtv16sumSwish/runs/b9cxy85d\" target=\"_blank\">https://wandb.ai/pnn/l0iid_in70_out70_Tmax100--noise_dtv16sumSwish/runs/b9cxy85d</a><br/>\n",
       "                Run data is saved locally in <code>wandb\\run-20210317_103153-b9cxy85d</code><br/><br/>\n",
       "            "
      ],
      "text/plain": [
       "<IPython.core.display.HTML object>"
      ]
     },
     "metadata": {},
     "output_type": "display_data"
    },
    {
     "name": "stderr",
     "output_type": "stream",
     "text": [
      "GPU available: True, used: False\n",
      "TPU available: False, using: 0 TPU cores\n",
      "C:\\Users\\lgw32\\anaconda3\\lib\\site-packages\\pytorch_lightning\\utilities\\distributed.py:37: UserWarning: Experiment logs directory logs\\l0iid_in70_out70_Tmax100--noise_dtv16sumSwish\\v2 exists and is not empty. Previous log files in this directory will be deleted when the new ones are saved!\n",
      "  warnings.warn(*args, **kwargs)\n",
      "Saving latest checkpoint..\n"
     ]
    },
    {
     "data": {
      "text/html": [
       "<br/>Waiting for W&B process to finish, PID 11572<br/>Program ended successfully."
      ],
      "text/plain": [
       "<IPython.core.display.HTML object>"
      ]
     },
     "metadata": {},
     "output_type": "display_data"
    },
    {
     "data": {
      "application/vnd.jupyter.widget-view+json": {
       "model_id": "",
       "version_major": 2,
       "version_minor": 0
      },
      "text/plain": [
       "VBox(children=(Label(value=' 0.00MB of 0.00MB uploaded (0.00MB deduped)\\r'), FloatProgress(value=1.0, max=1.0)…"
      ]
     },
     "metadata": {},
     "output_type": "display_data"
    },
    {
     "data": {
      "text/html": [
       "Find user logs for this run at: <code>wandb\\run-20210317_103153-b9cxy85d\\logs\\debug.log</code>"
      ],
      "text/plain": [
       "<IPython.core.display.HTML object>"
      ]
     },
     "metadata": {},
     "output_type": "display_data"
    },
    {
     "data": {
      "text/html": [
       "Find internal logs for this run at: <code>wandb\\run-20210317_103153-b9cxy85d\\logs\\debug-internal.log</code>"
      ],
      "text/plain": [
       "<IPython.core.display.HTML object>"
      ]
     },
     "metadata": {},
     "output_type": "display_data"
    },
    {
     "data": {
      "text/html": [
       "<h3>Run summary:</h3><br/><style>\n",
       "    table.wandb td:nth-child(1) { padding: 0 10px; text-align: right }\n",
       "    </style><table class=\"wandb\">\n",
       "<tr><td>global_step</td><td>17999</td></tr><tr><td>lr-Adam</td><td>0.0</td></tr><tr><td>_step</td><td>1999</td></tr><tr><td>_runtime</td><td>147</td></tr><tr><td>_timestamp</td><td>1615991660</td></tr><tr><td>val_loss</td><td>0.01283</td></tr><tr><td>epoch</td><td>999</td></tr></table>"
      ],
      "text/plain": [
       "<IPython.core.display.HTML object>"
      ]
     },
     "metadata": {},
     "output_type": "display_data"
    },
    {
     "data": {
      "text/html": [
       "<h3>Run history:</h3><br/><style>\n",
       "    table.wandb td:nth-child(1) { padding: 0 10px; text-align: right }\n",
       "    </style><table class=\"wandb\">\n",
       "<tr><td>global_step</td><td>▁▁▁▂▂▂▂▂▂▃▃▃▃▃▄▄▄▄▄▄▅▅▅▅▅▅▆▆▆▆▆▇▇▇▇▇▇███</td></tr><tr><td>lr-Adam</td><td>████████████▂▁▁▁▁▁▁▁▁▁▁▁▁▁▁▁▁▁▁▁▁▁▁▁▁▁▁▁</td></tr><tr><td>_step</td><td>▁▁▁▂▂▂▂▂▂▃▃▃▃▃▄▄▄▄▄▄▅▅▅▅▅▅▆▆▆▆▆▇▇▇▇▇▇███</td></tr><tr><td>_runtime</td><td>▁▁▁▂▂▂▂▂▃▃▃▃▃▃▄▄▄▄▄▄▅▅▅▅▅▆▆▆▆▆▆▇▇▇▇▇▇███</td></tr><tr><td>_timestamp</td><td>▁▁▁▂▂▂▂▂▃▃▃▃▃▃▄▄▄▄▄▄▅▅▅▅▅▆▆▆▆▆▆▇▇▇▇▇▇███</td></tr><tr><td>val_loss</td><td>█▃▂▂▁▁▁▁▁▁▁▁▁▁▁▁▁▁▁▁▁▁▁▁▁▁▁▁▁▁▁▁▁▁▁▁▁▁▁▁</td></tr><tr><td>epoch</td><td>▁▁▁▂▂▂▂▂▂▃▃▃▃▃▄▄▄▄▄▄▅▅▅▅▅▅▆▆▆▆▆▇▇▇▇▇▇███</td></tr></table><br/>"
      ],
      "text/plain": [
       "<IPython.core.display.HTML object>"
      ]
     },
     "metadata": {},
     "output_type": "display_data"
    },
    {
     "data": {
      "text/html": [
       "Synced 5 W&B file(s), 0 media file(s), 0 artifact file(s) and 0 other file(s)"
      ],
      "text/plain": [
       "<IPython.core.display.HTML object>"
      ]
     },
     "metadata": {},
     "output_type": "display_data"
    },
    {
     "data": {
      "text/html": [
       "\n",
       "                    <br/>Synced <strong style=\"color:#cdcd00\">v2</strong>: <a href=\"https://wandb.ai/pnn/l0iid_in70_out70_Tmax100--noise_dtv16sumSwish/runs/b9cxy85d\" target=\"_blank\">https://wandb.ai/pnn/l0iid_in70_out70_Tmax100--noise_dtv16sumSwish/runs/b9cxy85d</a><br/>\n",
       "                "
      ],
      "text/plain": [
       "<IPython.core.display.HTML object>"
      ]
     },
     "metadata": {},
     "output_type": "display_data"
    },
    {
     "name": "stderr",
     "output_type": "stream",
     "text": [
      "\u001b[32m[I 2021-03-17 10:34:23,323]\u001b[0m Trial 2 finished with value: 0.00016460614278912544 and parameters: {'Nlayers': 3, 'Ncoms': 2, 'identity_init': 1, 'lr': 0.0001, 'Nunits1': 561.634493534587, 'Nunits2': 354.59304251599747}. Best is trial 2 with value: 0.00016460614278912544.\u001b[0m\n",
      "wandb: wandb version 0.10.22 is available!  To upgrade, please run:\n",
      "wandb:  $ pip install wandb --upgrade\n"
     ]
    },
    {
     "data": {
      "text/html": [
       "\n",
       "                Tracking run with wandb version 0.10.8<br/>\n",
       "                Syncing run <strong style=\"color:#cdcd00\">v3</strong> to <a href=\"https://wandb.ai\" target=\"_blank\">Weights & Biases</a> <a href=\"https://docs.wandb.com/integrations/jupyter.html\" target=\"_blank\">(Documentation)</a>.<br/>\n",
       "                Project page: <a href=\"https://wandb.ai/pnn/l0iid_in70_out70_Tmax100--noise_dtv16sumSwish\" target=\"_blank\">https://wandb.ai/pnn/l0iid_in70_out70_Tmax100--noise_dtv16sumSwish</a><br/>\n",
       "                Run page: <a href=\"https://wandb.ai/pnn/l0iid_in70_out70_Tmax100--noise_dtv16sumSwish/runs/wt42qib7\" target=\"_blank\">https://wandb.ai/pnn/l0iid_in70_out70_Tmax100--noise_dtv16sumSwish/runs/wt42qib7</a><br/>\n",
       "                Run data is saved locally in <code>wandb\\run-20210317_103423-wt42qib7</code><br/><br/>\n",
       "            "
      ],
      "text/plain": [
       "<IPython.core.display.HTML object>"
      ]
     },
     "metadata": {},
     "output_type": "display_data"
    },
    {
     "name": "stderr",
     "output_type": "stream",
     "text": [
      "GPU available: True, used: False\n",
      "TPU available: False, using: 0 TPU cores\n",
      "C:\\Users\\lgw32\\anaconda3\\lib\\site-packages\\pytorch_lightning\\utilities\\distributed.py:37: UserWarning: Experiment logs directory logs\\l0iid_in70_out70_Tmax100--noise_dtv16sumSwish\\v3 exists and is not empty. Previous log files in this directory will be deleted when the new ones are saved!\n",
      "  warnings.warn(*args, **kwargs)\n",
      "Saving latest checkpoint..\n"
     ]
    },
    {
     "data": {
      "text/html": [
       "<br/>Waiting for W&B process to finish, PID 2176<br/>Program ended successfully."
      ],
      "text/plain": [
       "<IPython.core.display.HTML object>"
      ]
     },
     "metadata": {},
     "output_type": "display_data"
    },
    {
     "data": {
      "application/vnd.jupyter.widget-view+json": {
       "model_id": "",
       "version_major": 2,
       "version_minor": 0
      },
      "text/plain": [
       "VBox(children=(Label(value=' 0.00MB of 0.00MB uploaded (0.00MB deduped)\\r'), FloatProgress(value=1.0, max=1.0)…"
      ]
     },
     "metadata": {},
     "output_type": "display_data"
    },
    {
     "data": {
      "text/html": [
       "Find user logs for this run at: <code>wandb\\run-20210317_103423-wt42qib7\\logs\\debug.log</code>"
      ],
      "text/plain": [
       "<IPython.core.display.HTML object>"
      ]
     },
     "metadata": {},
     "output_type": "display_data"
    },
    {
     "data": {
      "text/html": [
       "Find internal logs for this run at: <code>wandb\\run-20210317_103423-wt42qib7\\logs\\debug-internal.log</code>"
      ],
      "text/plain": [
       "<IPython.core.display.HTML object>"
      ]
     },
     "metadata": {},
     "output_type": "display_data"
    },
    {
     "data": {
      "text/html": [
       "<h3>Run summary:</h3><br/><style>\n",
       "    table.wandb td:nth-child(1) { padding: 0 10px; text-align: right }\n",
       "    </style><table class=\"wandb\">\n",
       "<tr><td>global_step</td><td>17999</td></tr><tr><td>lr-Adam</td><td>0.0</td></tr><tr><td>_step</td><td>1999</td></tr><tr><td>_runtime</td><td>96</td></tr><tr><td>_timestamp</td><td>1615991759</td></tr><tr><td>val_loss</td><td>0.01343</td></tr><tr><td>epoch</td><td>999</td></tr></table>"
      ],
      "text/plain": [
       "<IPython.core.display.HTML object>"
      ]
     },
     "metadata": {},
     "output_type": "display_data"
    },
    {
     "data": {
      "text/html": [
       "<h3>Run history:</h3><br/><style>\n",
       "    table.wandb td:nth-child(1) { padding: 0 10px; text-align: right }\n",
       "    </style><table class=\"wandb\">\n",
       "<tr><td>global_step</td><td>▁▁▁▂▂▂▂▂▂▃▃▃▃▃▄▄▄▄▄▄▅▅▅▅▅▅▆▆▆▆▆▇▇▇▇▇▇███</td></tr><tr><td>lr-Adam</td><td>███▃▁▁▁▁▁▁▁▁▁▁▁▁▁▁▁▁▁▁▁▁▁▁▁▁▁▁▁▁▁▁▁▁▁▁▁▁</td></tr><tr><td>_step</td><td>▁▁▁▂▂▂▂▂▂▃▃▃▃▃▄▄▄▄▄▄▅▅▅▅▅▅▆▆▆▆▆▇▇▇▇▇▇███</td></tr><tr><td>_runtime</td><td>▁▁▁▂▂▂▂▂▂▃▃▃▃▃▃▄▄▄▄▄▅▅▅▅▅▅▆▆▆▆▆▇▇▇▇▇▇███</td></tr><tr><td>_timestamp</td><td>▁▁▁▂▂▂▂▂▂▃▃▃▃▃▃▄▄▄▄▄▅▅▅▅▅▅▆▆▆▆▆▇▇▇▇▇▇███</td></tr><tr><td>val_loss</td><td>█▁▁▁▁▁▁▁▁▁▁▁▁▁▁▁▁▁▁▁▁▁▁▁▁▁▁▁▁▁▁▁▁▁▁▁▁▁▁▁</td></tr><tr><td>epoch</td><td>▁▁▁▂▂▂▂▂▂▃▃▃▃▃▄▄▄▄▄▄▅▅▅▅▅▅▆▆▆▆▆▇▇▇▇▇▇███</td></tr></table><br/>"
      ],
      "text/plain": [
       "<IPython.core.display.HTML object>"
      ]
     },
     "metadata": {},
     "output_type": "display_data"
    },
    {
     "data": {
      "text/html": [
       "Synced 5 W&B file(s), 0 media file(s), 0 artifact file(s) and 0 other file(s)"
      ],
      "text/plain": [
       "<IPython.core.display.HTML object>"
      ]
     },
     "metadata": {},
     "output_type": "display_data"
    },
    {
     "data": {
      "text/html": [
       "\n",
       "                    <br/>Synced <strong style=\"color:#cdcd00\">v3</strong>: <a href=\"https://wandb.ai/pnn/l0iid_in70_out70_Tmax100--noise_dtv16sumSwish/runs/wt42qib7\" target=\"_blank\">https://wandb.ai/pnn/l0iid_in70_out70_Tmax100--noise_dtv16sumSwish/runs/wt42qib7</a><br/>\n",
       "                "
      ],
      "text/plain": [
       "<IPython.core.display.HTML object>"
      ]
     },
     "metadata": {},
     "output_type": "display_data"
    },
    {
     "name": "stderr",
     "output_type": "stream",
     "text": [
      "\u001b[32m[I 2021-03-17 10:36:02,518]\u001b[0m Trial 3 finished with value: 0.00018006612663157284 and parameters: {'Nlayers': 5, 'Ncoms': 1, 'identity_init': 0, 'lr': 0.000456, 'Nunits1': 222.9707748349737, 'Nunits2': 211.22484441632918, 'Nunits3': 176.45622329019457, 'Nunits4': 158.1671880924127}. Best is trial 2 with value: 0.00016460614278912544.\u001b[0m\n",
      "wandb: wandb version 0.10.22 is available!  To upgrade, please run:\n",
      "wandb:  $ pip install wandb --upgrade\n"
     ]
    },
    {
     "data": {
      "text/html": [
       "\n",
       "                Tracking run with wandb version 0.10.8<br/>\n",
       "                Syncing run <strong style=\"color:#cdcd00\">v4</strong> to <a href=\"https://wandb.ai\" target=\"_blank\">Weights & Biases</a> <a href=\"https://docs.wandb.com/integrations/jupyter.html\" target=\"_blank\">(Documentation)</a>.<br/>\n",
       "                Project page: <a href=\"https://wandb.ai/pnn/l0iid_in70_out70_Tmax100--noise_dtv16sumSwish\" target=\"_blank\">https://wandb.ai/pnn/l0iid_in70_out70_Tmax100--noise_dtv16sumSwish</a><br/>\n",
       "                Run page: <a href=\"https://wandb.ai/pnn/l0iid_in70_out70_Tmax100--noise_dtv16sumSwish/runs/1h8zjt4s\" target=\"_blank\">https://wandb.ai/pnn/l0iid_in70_out70_Tmax100--noise_dtv16sumSwish/runs/1h8zjt4s</a><br/>\n",
       "                Run data is saved locally in <code>wandb\\run-20210317_103602-1h8zjt4s</code><br/><br/>\n",
       "            "
      ],
      "text/plain": [
       "<IPython.core.display.HTML object>"
      ]
     },
     "metadata": {},
     "output_type": "display_data"
    },
    {
     "name": "stderr",
     "output_type": "stream",
     "text": [
      "GPU available: True, used: False\n",
      "TPU available: False, using: 0 TPU cores\n",
      "C:\\Users\\lgw32\\anaconda3\\lib\\site-packages\\pytorch_lightning\\utilities\\distributed.py:37: UserWarning: Experiment logs directory logs\\l0iid_in70_out70_Tmax100--noise_dtv16sumSwish\\v4 exists and is not empty. Previous log files in this directory will be deleted when the new ones are saved!\n",
      "  warnings.warn(*args, **kwargs)\n",
      "Saving latest checkpoint..\n"
     ]
    },
    {
     "data": {
      "text/html": [
       "<br/>Waiting for W&B process to finish, PID 2844<br/>Program ended successfully."
      ],
      "text/plain": [
       "<IPython.core.display.HTML object>"
      ]
     },
     "metadata": {},
     "output_type": "display_data"
    },
    {
     "data": {
      "application/vnd.jupyter.widget-view+json": {
       "model_id": "",
       "version_major": 2,
       "version_minor": 0
      },
      "text/plain": [
       "VBox(children=(Label(value=' 0.00MB of 0.00MB uploaded (0.00MB deduped)\\r'), FloatProgress(value=1.0, max=1.0)…"
      ]
     },
     "metadata": {},
     "output_type": "display_data"
    },
    {
     "data": {
      "text/html": [
       "Find user logs for this run at: <code>wandb\\run-20210317_103602-1h8zjt4s\\logs\\debug.log</code>"
      ],
      "text/plain": [
       "<IPython.core.display.HTML object>"
      ]
     },
     "metadata": {},
     "output_type": "display_data"
    },
    {
     "data": {
      "text/html": [
       "Find internal logs for this run at: <code>wandb\\run-20210317_103602-1h8zjt4s\\logs\\debug-internal.log</code>"
      ],
      "text/plain": [
       "<IPython.core.display.HTML object>"
      ]
     },
     "metadata": {},
     "output_type": "display_data"
    },
    {
     "data": {
      "text/html": [
       "<h3>Run summary:</h3><br/><style>\n",
       "    table.wandb td:nth-child(1) { padding: 0 10px; text-align: right }\n",
       "    </style><table class=\"wandb\">\n",
       "<tr><td>global_step</td><td>17999</td></tr><tr><td>lr-Adam</td><td>0.0</td></tr><tr><td>_step</td><td>1999</td></tr><tr><td>_runtime</td><td>160</td></tr><tr><td>_timestamp</td><td>1615991922</td></tr><tr><td>val_loss</td><td>0.01416</td></tr><tr><td>epoch</td><td>999</td></tr></table>"
      ],
      "text/plain": [
       "<IPython.core.display.HTML object>"
      ]
     },
     "metadata": {},
     "output_type": "display_data"
    },
    {
     "data": {
      "text/html": [
       "<h3>Run history:</h3><br/><style>\n",
       "    table.wandb td:nth-child(1) { padding: 0 10px; text-align: right }\n",
       "    </style><table class=\"wandb\">\n",
       "<tr><td>global_step</td><td>▁▁▁▂▂▂▂▂▂▃▃▃▃▃▄▄▄▄▄▄▅▅▅▅▅▅▆▆▆▆▆▇▇▇▇▇▇███</td></tr><tr><td>lr-Adam</td><td>██▂▁▁▁▁▁▁▁▁▁▁▁▁▁▁▁▁▁▁▁▁▁▁▁▁▁▁▁▁▁▁▁▁▁▁▁▁▁</td></tr><tr><td>_step</td><td>▁▁▁▂▂▂▂▂▂▃▃▃▃▃▄▄▄▄▄▄▅▅▅▅▅▅▆▆▆▆▆▇▇▇▇▇▇███</td></tr><tr><td>_runtime</td><td>▁▁▁▁▂▂▂▂▂▃▃▃▃▃▃▄▄▄▄▄▅▅▅▅▅▅▆▆▆▆▆▇▇▇▇▇▇███</td></tr><tr><td>_timestamp</td><td>▁▁▁▁▂▂▂▂▂▃▃▃▃▃▃▄▄▄▄▄▅▅▅▅▅▅▆▆▆▆▆▇▇▇▇▇▇███</td></tr><tr><td>val_loss</td><td>█▁▁▁▁▁▁▁▁▁▁▁▁▁▁▁▁▁▁▁▁▁▁▁▁▁▁▁▁▁▁▁▁▁▁▁▁▁▁▁</td></tr><tr><td>epoch</td><td>▁▁▁▂▂▂▂▂▂▃▃▃▃▃▄▄▄▄▄▄▅▅▅▅▅▅▆▆▆▆▆▇▇▇▇▇▇███</td></tr></table><br/>"
      ],
      "text/plain": [
       "<IPython.core.display.HTML object>"
      ]
     },
     "metadata": {},
     "output_type": "display_data"
    },
    {
     "data": {
      "text/html": [
       "Synced 5 W&B file(s), 0 media file(s), 0 artifact file(s) and 0 other file(s)"
      ],
      "text/plain": [
       "<IPython.core.display.HTML object>"
      ]
     },
     "metadata": {},
     "output_type": "display_data"
    },
    {
     "data": {
      "text/html": [
       "\n",
       "                    <br/>Synced <strong style=\"color:#cdcd00\">v4</strong>: <a href=\"https://wandb.ai/pnn/l0iid_in70_out70_Tmax100--noise_dtv16sumSwish/runs/1h8zjt4s\" target=\"_blank\">https://wandb.ai/pnn/l0iid_in70_out70_Tmax100--noise_dtv16sumSwish/runs/1h8zjt4s</a><br/>\n",
       "                "
      ],
      "text/plain": [
       "<IPython.core.display.HTML object>"
      ]
     },
     "metadata": {},
     "output_type": "display_data"
    },
    {
     "name": "stderr",
     "output_type": "stream",
     "text": [
      "\u001b[32m[I 2021-03-17 10:38:46,074]\u001b[0m Trial 4 finished with value: 0.000196272085304372 and parameters: {'Nlayers': 5, 'Ncoms': 2, 'identity_init': 0, 'lr': 0.01, 'Nunits1': 344.3219778263531, 'Nunits2': 195.0276057641772, 'Nunits3': 186.98461500850055, 'Nunits4': 199.32160501512072}. Best is trial 2 with value: 0.00016460614278912544.\u001b[0m\n",
      "wandb: wandb version 0.10.22 is available!  To upgrade, please run:\n",
      "wandb:  $ pip install wandb --upgrade\n"
     ]
    },
    {
     "data": {
      "text/html": [
       "\n",
       "                Tracking run with wandb version 0.10.8<br/>\n",
       "                Syncing run <strong style=\"color:#cdcd00\">v5</strong> to <a href=\"https://wandb.ai\" target=\"_blank\">Weights & Biases</a> <a href=\"https://docs.wandb.com/integrations/jupyter.html\" target=\"_blank\">(Documentation)</a>.<br/>\n",
       "                Project page: <a href=\"https://wandb.ai/pnn/l0iid_in70_out70_Tmax100--noise_dtv16sumSwish\" target=\"_blank\">https://wandb.ai/pnn/l0iid_in70_out70_Tmax100--noise_dtv16sumSwish</a><br/>\n",
       "                Run page: <a href=\"https://wandb.ai/pnn/l0iid_in70_out70_Tmax100--noise_dtv16sumSwish/runs/3olwwjmo\" target=\"_blank\">https://wandb.ai/pnn/l0iid_in70_out70_Tmax100--noise_dtv16sumSwish/runs/3olwwjmo</a><br/>\n",
       "                Run data is saved locally in <code>wandb\\run-20210317_103846-3olwwjmo</code><br/><br/>\n",
       "            "
      ],
      "text/plain": [
       "<IPython.core.display.HTML object>"
      ]
     },
     "metadata": {},
     "output_type": "display_data"
    },
    {
     "name": "stderr",
     "output_type": "stream",
     "text": [
      "GPU available: True, used: False\n",
      "TPU available: False, using: 0 TPU cores\n",
      "C:\\Users\\lgw32\\anaconda3\\lib\\site-packages\\pytorch_lightning\\utilities\\distributed.py:37: UserWarning: Experiment logs directory logs\\l0iid_in70_out70_Tmax100--noise_dtv16sumSwish\\v5 exists and is not empty. Previous log files in this directory will be deleted when the new ones are saved!\n",
      "  warnings.warn(*args, **kwargs)\n",
      "Saving latest checkpoint..\n"
     ]
    },
    {
     "data": {
      "text/html": [
       "<br/>Waiting for W&B process to finish, PID 13204<br/>Program ended successfully."
      ],
      "text/plain": [
       "<IPython.core.display.HTML object>"
      ]
     },
     "metadata": {},
     "output_type": "display_data"
    },
    {
     "data": {
      "application/vnd.jupyter.widget-view+json": {
       "model_id": "",
       "version_major": 2,
       "version_minor": 0
      },
      "text/plain": [
       "VBox(children=(Label(value=' 0.00MB of 0.00MB uploaded (0.00MB deduped)\\r'), FloatProgress(value=1.0, max=1.0)…"
      ]
     },
     "metadata": {},
     "output_type": "display_data"
    },
    {
     "data": {
      "text/html": [
       "Find user logs for this run at: <code>wandb\\run-20210317_103846-3olwwjmo\\logs\\debug.log</code>"
      ],
      "text/plain": [
       "<IPython.core.display.HTML object>"
      ]
     },
     "metadata": {},
     "output_type": "display_data"
    },
    {
     "data": {
      "text/html": [
       "Find internal logs for this run at: <code>wandb\\run-20210317_103846-3olwwjmo\\logs\\debug-internal.log</code>"
      ],
      "text/plain": [
       "<IPython.core.display.HTML object>"
      ]
     },
     "metadata": {},
     "output_type": "display_data"
    },
    {
     "data": {
      "text/html": [
       "<h3>Run summary:</h3><br/><style>\n",
       "    table.wandb td:nth-child(1) { padding: 0 10px; text-align: right }\n",
       "    </style><table class=\"wandb\">\n",
       "<tr><td>global_step</td><td>17999</td></tr><tr><td>lr-Adam</td><td>0.0</td></tr><tr><td>_step</td><td>1999</td></tr><tr><td>_runtime</td><td>58</td></tr><tr><td>_timestamp</td><td>1615991984</td></tr><tr><td>val_loss</td><td>0.01242</td></tr><tr><td>epoch</td><td>999</td></tr></table>"
      ],
      "text/plain": [
       "<IPython.core.display.HTML object>"
      ]
     },
     "metadata": {},
     "output_type": "display_data"
    },
    {
     "data": {
      "text/html": [
       "<h3>Run history:</h3><br/><style>\n",
       "    table.wandb td:nth-child(1) { padding: 0 10px; text-align: right }\n",
       "    </style><table class=\"wandb\">\n",
       "<tr><td>global_step</td><td>▁▁▁▂▂▂▂▂▂▃▃▃▃▃▄▄▄▄▄▄▅▅▅▅▅▅▆▆▆▆▆▇▇▇▇▇▇███</td></tr><tr><td>lr-Adam</td><td>█████▃▁▁▁▁▁▁▁▁▁▁▁▁▁▁▁▁▁▁▁▁▁▁▁▁▁▁▁▁▁▁▁▁▁▁</td></tr><tr><td>_step</td><td>▁▁▁▂▂▂▂▂▂▃▃▃▃▃▄▄▄▄▄▄▅▅▅▅▅▅▆▆▆▆▆▇▇▇▇▇▇███</td></tr><tr><td>_runtime</td><td>▁▁▁▁▂▂▂▂▂▃▃▃▃▃▃▄▄▄▄▄▅▅▅▅▅▅▆▆▆▆▆▇▇▇▇▇▇███</td></tr><tr><td>_timestamp</td><td>▁▁▁▁▂▂▂▂▂▃▃▃▃▃▃▄▄▄▄▄▅▅▅▅▅▅▆▆▆▆▆▇▇▇▇▇▇███</td></tr><tr><td>val_loss</td><td>█▂▁▁▁▁▁▁▁▁▁▁▁▁▁▁▁▁▁▁▁▁▁▁▁▁▁▁▁▁▁▁▁▁▁▁▁▁▁▁</td></tr><tr><td>epoch</td><td>▁▁▁▂▂▂▂▂▂▃▃▃▃▃▄▄▄▄▄▄▅▅▅▅▅▅▆▆▆▆▆▇▇▇▇▇▇███</td></tr></table><br/>"
      ],
      "text/plain": [
       "<IPython.core.display.HTML object>"
      ]
     },
     "metadata": {},
     "output_type": "display_data"
    },
    {
     "data": {
      "text/html": [
       "Synced 5 W&B file(s), 0 media file(s), 0 artifact file(s) and 0 other file(s)"
      ],
      "text/plain": [
       "<IPython.core.display.HTML object>"
      ]
     },
     "metadata": {},
     "output_type": "display_data"
    },
    {
     "data": {
      "text/html": [
       "\n",
       "                    <br/>Synced <strong style=\"color:#cdcd00\">v5</strong>: <a href=\"https://wandb.ai/pnn/l0iid_in70_out70_Tmax100--noise_dtv16sumSwish/runs/3olwwjmo\" target=\"_blank\">https://wandb.ai/pnn/l0iid_in70_out70_Tmax100--noise_dtv16sumSwish/runs/3olwwjmo</a><br/>\n",
       "                "
      ],
      "text/plain": [
       "<IPython.core.display.HTML object>"
      ]
     },
     "metadata": {},
     "output_type": "display_data"
    },
    {
     "name": "stderr",
     "output_type": "stream",
     "text": [
      "\u001b[32m[I 2021-03-17 10:39:47,189]\u001b[0m Trial 5 finished with value: 0.00015404123405460268 and parameters: {'Nlayers': 2, 'Ncoms': 1, 'identity_init': 0, 'lr': 0.000456, 'Nunits1': 293.8599289289626}. Best is trial 5 with value: 0.00015404123405460268.\u001b[0m\n",
      "wandb: wandb version 0.10.22 is available!  To upgrade, please run:\n",
      "wandb:  $ pip install wandb --upgrade\n"
     ]
    },
    {
     "data": {
      "text/html": [
       "\n",
       "                Tracking run with wandb version 0.10.8<br/>\n",
       "                Syncing run <strong style=\"color:#cdcd00\">v6</strong> to <a href=\"https://wandb.ai\" target=\"_blank\">Weights & Biases</a> <a href=\"https://docs.wandb.com/integrations/jupyter.html\" target=\"_blank\">(Documentation)</a>.<br/>\n",
       "                Project page: <a href=\"https://wandb.ai/pnn/l0iid_in70_out70_Tmax100--noise_dtv16sumSwish\" target=\"_blank\">https://wandb.ai/pnn/l0iid_in70_out70_Tmax100--noise_dtv16sumSwish</a><br/>\n",
       "                Run page: <a href=\"https://wandb.ai/pnn/l0iid_in70_out70_Tmax100--noise_dtv16sumSwish/runs/13da4zht\" target=\"_blank\">https://wandb.ai/pnn/l0iid_in70_out70_Tmax100--noise_dtv16sumSwish/runs/13da4zht</a><br/>\n",
       "                Run data is saved locally in <code>wandb\\run-20210317_103947-13da4zht</code><br/><br/>\n",
       "            "
      ],
      "text/plain": [
       "<IPython.core.display.HTML object>"
      ]
     },
     "metadata": {},
     "output_type": "display_data"
    },
    {
     "name": "stderr",
     "output_type": "stream",
     "text": [
      "GPU available: True, used: False\n",
      "TPU available: False, using: 0 TPU cores\n",
      "C:\\Users\\lgw32\\anaconda3\\lib\\site-packages\\pytorch_lightning\\utilities\\distributed.py:37: UserWarning: Experiment logs directory logs\\l0iid_in70_out70_Tmax100--noise_dtv16sumSwish\\v6 exists and is not empty. Previous log files in this directory will be deleted when the new ones are saved!\n",
      "  warnings.warn(*args, **kwargs)\n",
      "Saving latest checkpoint..\n"
     ]
    },
    {
     "data": {
      "text/html": [
       "<br/>Waiting for W&B process to finish, PID 12912<br/>Program ended successfully."
      ],
      "text/plain": [
       "<IPython.core.display.HTML object>"
      ]
     },
     "metadata": {},
     "output_type": "display_data"
    },
    {
     "data": {
      "application/vnd.jupyter.widget-view+json": {
       "model_id": "",
       "version_major": 2,
       "version_minor": 0
      },
      "text/plain": [
       "VBox(children=(Label(value=' 0.00MB of 0.00MB uploaded (0.00MB deduped)\\r'), FloatProgress(value=1.0, max=1.0)…"
      ]
     },
     "metadata": {},
     "output_type": "display_data"
    },
    {
     "data": {
      "text/html": [
       "Find user logs for this run at: <code>wandb\\run-20210317_103947-13da4zht\\logs\\debug.log</code>"
      ],
      "text/plain": [
       "<IPython.core.display.HTML object>"
      ]
     },
     "metadata": {},
     "output_type": "display_data"
    },
    {
     "data": {
      "text/html": [
       "Find internal logs for this run at: <code>wandb\\run-20210317_103947-13da4zht\\logs\\debug-internal.log</code>"
      ],
      "text/plain": [
       "<IPython.core.display.HTML object>"
      ]
     },
     "metadata": {},
     "output_type": "display_data"
    },
    {
     "data": {
      "text/html": [
       "<h3>Run summary:</h3><br/><style>\n",
       "    table.wandb td:nth-child(1) { padding: 0 10px; text-align: right }\n",
       "    </style><table class=\"wandb\">\n",
       "<tr><td>global_step</td><td>17999</td></tr><tr><td>lr-Adam</td><td>1e-05</td></tr><tr><td>_step</td><td>1999</td></tr><tr><td>_runtime</td><td>571</td></tr><tr><td>_timestamp</td><td>1615992558</td></tr><tr><td>val_loss</td><td>0.01393</td></tr><tr><td>epoch</td><td>999</td></tr></table>"
      ],
      "text/plain": [
       "<IPython.core.display.HTML object>"
      ]
     },
     "metadata": {},
     "output_type": "display_data"
    },
    {
     "data": {
      "text/html": [
       "<h3>Run history:</h3><br/><style>\n",
       "    table.wandb td:nth-child(1) { padding: 0 10px; text-align: right }\n",
       "    </style><table class=\"wandb\">\n",
       "<tr><td>global_step</td><td>▁▁▁▂▂▂▂▂▂▃▃▃▃▃▄▄▄▄▄▄▅▅▅▅▅▅▆▆▆▆▆▇▇▇▇▇▇███</td></tr><tr><td>lr-Adam</td><td>▁▁▁▁▁▁▁▁▁▁▁▁▁▁▁▁▁▁▁▁▁▁▁▁▁▁▁▁▁▁▁▁▁▁▁▁▁▁▁▁</td></tr><tr><td>_step</td><td>▁▁▁▂▂▂▂▂▂▃▃▃▃▃▄▄▄▄▄▄▅▅▅▅▅▅▆▆▆▆▆▇▇▇▇▇▇███</td></tr><tr><td>_runtime</td><td>▁▁▁▁▂▂▂▂▂▃▃▃▃▃▃▄▄▄▄▄▄▅▅▅▅▅▅▆▆▆▆▇▇▇▇▇████</td></tr><tr><td>_timestamp</td><td>▁▁▁▁▂▂▂▂▂▃▃▃▃▃▃▄▄▄▄▄▄▅▅▅▅▅▅▆▆▆▆▇▇▇▇▇████</td></tr><tr><td>val_loss</td><td>█▆▄▃▂▂▂▂▂▂▁▁▁▁▁▁▁▁▁▁▁▁▁▁▁▁▁▁▁▁▁▁▁▁▁▁▁▁▁▁</td></tr><tr><td>epoch</td><td>▁▁▁▂▂▂▂▂▂▃▃▃▃▃▄▄▄▄▄▄▅▅▅▅▅▅▆▆▆▆▆▇▇▇▇▇▇███</td></tr></table><br/>"
      ],
      "text/plain": [
       "<IPython.core.display.HTML object>"
      ]
     },
     "metadata": {},
     "output_type": "display_data"
    },
    {
     "data": {
      "text/html": [
       "Synced 5 W&B file(s), 0 media file(s), 0 artifact file(s) and 0 other file(s)"
      ],
      "text/plain": [
       "<IPython.core.display.HTML object>"
      ]
     },
     "metadata": {},
     "output_type": "display_data"
    },
    {
     "data": {
      "text/html": [
       "\n",
       "                    <br/>Synced <strong style=\"color:#cdcd00\">v6</strong>: <a href=\"https://wandb.ai/pnn/l0iid_in70_out70_Tmax100--noise_dtv16sumSwish/runs/13da4zht\" target=\"_blank\">https://wandb.ai/pnn/l0iid_in70_out70_Tmax100--noise_dtv16sumSwish/runs/13da4zht</a><br/>\n",
       "                "
      ],
      "text/plain": [
       "<IPython.core.display.HTML object>"
      ]
     },
     "metadata": {},
     "output_type": "display_data"
    },
    {
     "name": "stderr",
     "output_type": "stream",
     "text": [
      "\u001b[32m[I 2021-03-17 10:49:21,745]\u001b[0m Trial 6 finished with value: 0.00019391487876418978 and parameters: {'Nlayers': 4, 'Ncoms': 4, 'identity_init': 1, 'lr': 1e-05, 'Nunits1': 583.7859381338217, 'Nunits2': 536.9381637315877, 'Nunits3': 197.638325600909}. Best is trial 5 with value: 0.00015404123405460268.\u001b[0m\n",
      "wandb: wandb version 0.10.22 is available!  To upgrade, please run:\n",
      "wandb:  $ pip install wandb --upgrade\n"
     ]
    },
    {
     "data": {
      "text/html": [
       "\n",
       "                Tracking run with wandb version 0.10.8<br/>\n",
       "                Syncing run <strong style=\"color:#cdcd00\">v7</strong> to <a href=\"https://wandb.ai\" target=\"_blank\">Weights & Biases</a> <a href=\"https://docs.wandb.com/integrations/jupyter.html\" target=\"_blank\">(Documentation)</a>.<br/>\n",
       "                Project page: <a href=\"https://wandb.ai/pnn/l0iid_in70_out70_Tmax100--noise_dtv16sumSwish\" target=\"_blank\">https://wandb.ai/pnn/l0iid_in70_out70_Tmax100--noise_dtv16sumSwish</a><br/>\n",
       "                Run page: <a href=\"https://wandb.ai/pnn/l0iid_in70_out70_Tmax100--noise_dtv16sumSwish/runs/2qbokoyv\" target=\"_blank\">https://wandb.ai/pnn/l0iid_in70_out70_Tmax100--noise_dtv16sumSwish/runs/2qbokoyv</a><br/>\n",
       "                Run data is saved locally in <code>wandb\\run-20210317_104921-2qbokoyv</code><br/><br/>\n",
       "            "
      ],
      "text/plain": [
       "<IPython.core.display.HTML object>"
      ]
     },
     "metadata": {},
     "output_type": "display_data"
    },
    {
     "name": "stderr",
     "output_type": "stream",
     "text": [
      "GPU available: True, used: False\n",
      "TPU available: False, using: 0 TPU cores\n",
      "C:\\Users\\lgw32\\anaconda3\\lib\\site-packages\\pytorch_lightning\\utilities\\distributed.py:37: UserWarning: Experiment logs directory logs\\l0iid_in70_out70_Tmax100--noise_dtv16sumSwish\\v7 exists and is not empty. Previous log files in this directory will be deleted when the new ones are saved!\n",
      "  warnings.warn(*args, **kwargs)\n",
      "Saving latest checkpoint..\n"
     ]
    },
    {
     "data": {
      "text/html": [
       "<br/>Waiting for W&B process to finish, PID 12140<br/>Program ended successfully."
      ],
      "text/plain": [
       "<IPython.core.display.HTML object>"
      ]
     },
     "metadata": {},
     "output_type": "display_data"
    },
    {
     "data": {
      "application/vnd.jupyter.widget-view+json": {
       "model_id": "",
       "version_major": 2,
       "version_minor": 0
      },
      "text/plain": [
       "VBox(children=(Label(value=' 0.00MB of 0.00MB uploaded (0.00MB deduped)\\r'), FloatProgress(value=1.0, max=1.0)…"
      ]
     },
     "metadata": {},
     "output_type": "display_data"
    },
    {
     "data": {
      "text/html": [
       "Find user logs for this run at: <code>wandb\\run-20210317_104921-2qbokoyv\\logs\\debug.log</code>"
      ],
      "text/plain": [
       "<IPython.core.display.HTML object>"
      ]
     },
     "metadata": {},
     "output_type": "display_data"
    },
    {
     "data": {
      "text/html": [
       "Find internal logs for this run at: <code>wandb\\run-20210317_104921-2qbokoyv\\logs\\debug-internal.log</code>"
      ],
      "text/plain": [
       "<IPython.core.display.HTML object>"
      ]
     },
     "metadata": {},
     "output_type": "display_data"
    },
    {
     "data": {
      "text/html": [
       "<h3>Run summary:</h3><br/><style>\n",
       "    table.wandb td:nth-child(1) { padding: 0 10px; text-align: right }\n",
       "    </style><table class=\"wandb\">\n",
       "<tr><td>global_step</td><td>17999</td></tr><tr><td>lr-Adam</td><td>0.0</td></tr><tr><td>_step</td><td>1999</td></tr><tr><td>_runtime</td><td>91</td></tr><tr><td>_timestamp</td><td>1615992652</td></tr><tr><td>val_loss</td><td>0.01318</td></tr><tr><td>epoch</td><td>999</td></tr></table>"
      ],
      "text/plain": [
       "<IPython.core.display.HTML object>"
      ]
     },
     "metadata": {},
     "output_type": "display_data"
    },
    {
     "data": {
      "text/html": [
       "<h3>Run history:</h3><br/><style>\n",
       "    table.wandb td:nth-child(1) { padding: 0 10px; text-align: right }\n",
       "    </style><table class=\"wandb\">\n",
       "<tr><td>global_step</td><td>▁▁▁▂▂▂▂▂▂▃▃▃▃▃▄▄▄▄▄▄▅▅▅▅▅▅▆▆▆▆▆▇▇▇▇▇▇███</td></tr><tr><td>lr-Adam</td><td>██▂▁▁▁▁▁▁▁▁▁▁▁▁▁▁▁▁▁▁▁▁▁▁▁▁▁▁▁▁▁▁▁▁▁▁▁▁▁</td></tr><tr><td>_step</td><td>▁▁▁▂▂▂▂▂▂▃▃▃▃▃▄▄▄▄▄▄▅▅▅▅▅▅▆▆▆▆▆▇▇▇▇▇▇███</td></tr><tr><td>_runtime</td><td>▁▁▁▂▂▂▂▂▂▃▃▃▃▃▃▄▄▄▄▄▅▅▅▅▅▅▆▆▆▆▆▇▇▇▇▇▇███</td></tr><tr><td>_timestamp</td><td>▁▁▁▂▂▂▂▂▂▃▃▃▃▃▃▄▄▄▄▄▅▅▅▅▅▅▆▆▆▆▆▇▇▇▇▇▇███</td></tr><tr><td>val_loss</td><td>█▃▁▁▁▁▁▁▁▁▁▁▁▁▁▁▁▁▁▁▁▁▁▁▁▁▁▁▁▁▁▁▁▁▁▁▁▁▁▁</td></tr><tr><td>epoch</td><td>▁▁▁▂▂▂▂▂▂▃▃▃▃▃▄▄▄▄▄▄▅▅▅▅▅▅▆▆▆▆▆▇▇▇▇▇▇███</td></tr></table><br/>"
      ],
      "text/plain": [
       "<IPython.core.display.HTML object>"
      ]
     },
     "metadata": {},
     "output_type": "display_data"
    },
    {
     "data": {
      "text/html": [
       "Synced 5 W&B file(s), 0 media file(s), 0 artifact file(s) and 0 other file(s)"
      ],
      "text/plain": [
       "<IPython.core.display.HTML object>"
      ]
     },
     "metadata": {},
     "output_type": "display_data"
    },
    {
     "data": {
      "text/html": [
       "\n",
       "                    <br/>Synced <strong style=\"color:#cdcd00\">v7</strong>: <a href=\"https://wandb.ai/pnn/l0iid_in70_out70_Tmax100--noise_dtv16sumSwish/runs/2qbokoyv\" target=\"_blank\">https://wandb.ai/pnn/l0iid_in70_out70_Tmax100--noise_dtv16sumSwish/runs/2qbokoyv</a><br/>\n",
       "                "
      ],
      "text/plain": [
       "<IPython.core.display.HTML object>"
      ]
     },
     "metadata": {},
     "output_type": "display_data"
    },
    {
     "name": "stderr",
     "output_type": "stream",
     "text": [
      "\u001b[32m[I 2021-03-17 10:50:55,279]\u001b[0m Trial 7 finished with value: 0.00017233572725672275 and parameters: {'Nlayers': 3, 'Ncoms': 1, 'identity_init': 1, 'lr': 0.01, 'Nunits1': 369.588888663676, 'Nunits2': 388.4041610575147}. Best is trial 5 with value: 0.00015404123405460268.\u001b[0m\n",
      "wandb: wandb version 0.10.22 is available!  To upgrade, please run:\n",
      "wandb:  $ pip install wandb --upgrade\n"
     ]
    },
    {
     "data": {
      "text/html": [
       "\n",
       "                Tracking run with wandb version 0.10.8<br/>\n",
       "                Syncing run <strong style=\"color:#cdcd00\">v8</strong> to <a href=\"https://wandb.ai\" target=\"_blank\">Weights & Biases</a> <a href=\"https://docs.wandb.com/integrations/jupyter.html\" target=\"_blank\">(Documentation)</a>.<br/>\n",
       "                Project page: <a href=\"https://wandb.ai/pnn/l0iid_in70_out70_Tmax100--noise_dtv16sumSwish\" target=\"_blank\">https://wandb.ai/pnn/l0iid_in70_out70_Tmax100--noise_dtv16sumSwish</a><br/>\n",
       "                Run page: <a href=\"https://wandb.ai/pnn/l0iid_in70_out70_Tmax100--noise_dtv16sumSwish/runs/2xjobb57\" target=\"_blank\">https://wandb.ai/pnn/l0iid_in70_out70_Tmax100--noise_dtv16sumSwish/runs/2xjobb57</a><br/>\n",
       "                Run data is saved locally in <code>wandb\\run-20210317_105055-2xjobb57</code><br/><br/>\n",
       "            "
      ],
      "text/plain": [
       "<IPython.core.display.HTML object>"
      ]
     },
     "metadata": {},
     "output_type": "display_data"
    },
    {
     "name": "stderr",
     "output_type": "stream",
     "text": [
      "GPU available: True, used: False\n",
      "TPU available: False, using: 0 TPU cores\n",
      "C:\\Users\\lgw32\\anaconda3\\lib\\site-packages\\pytorch_lightning\\utilities\\distributed.py:37: UserWarning: Experiment logs directory logs\\l0iid_in70_out70_Tmax100--noise_dtv16sumSwish\\v8 exists and is not empty. Previous log files in this directory will be deleted when the new ones are saved!\n",
      "  warnings.warn(*args, **kwargs)\n",
      "Saving latest checkpoint..\n"
     ]
    },
    {
     "data": {
      "text/html": [
       "<br/>Waiting for W&B process to finish, PID 6324<br/>Program ended successfully."
      ],
      "text/plain": [
       "<IPython.core.display.HTML object>"
      ]
     },
     "metadata": {},
     "output_type": "display_data"
    },
    {
     "data": {
      "application/vnd.jupyter.widget-view+json": {
       "model_id": "",
       "version_major": 2,
       "version_minor": 0
      },
      "text/plain": [
       "VBox(children=(Label(value=' 0.00MB of 0.00MB uploaded (0.00MB deduped)\\r'), FloatProgress(value=1.0, max=1.0)…"
      ]
     },
     "metadata": {},
     "output_type": "display_data"
    },
    {
     "data": {
      "text/html": [
       "Find user logs for this run at: <code>wandb\\run-20210317_105055-2xjobb57\\logs\\debug.log</code>"
      ],
      "text/plain": [
       "<IPython.core.display.HTML object>"
      ]
     },
     "metadata": {},
     "output_type": "display_data"
    },
    {
     "data": {
      "text/html": [
       "Find internal logs for this run at: <code>wandb\\run-20210317_105055-2xjobb57\\logs\\debug-internal.log</code>"
      ],
      "text/plain": [
       "<IPython.core.display.HTML object>"
      ]
     },
     "metadata": {},
     "output_type": "display_data"
    },
    {
     "data": {
      "text/html": [
       "<h3>Run summary:</h3><br/><style>\n",
       "    table.wandb td:nth-child(1) { padding: 0 10px; text-align: right }\n",
       "    </style><table class=\"wandb\">\n",
       "<tr><td>global_step</td><td>17999</td></tr><tr><td>lr-Adam</td><td>0.0</td></tr><tr><td>_step</td><td>1999</td></tr><tr><td>_runtime</td><td>181</td></tr><tr><td>_timestamp</td><td>1615992836</td></tr><tr><td>val_loss</td><td>0.01359</td></tr><tr><td>epoch</td><td>999</td></tr></table>"
      ],
      "text/plain": [
       "<IPython.core.display.HTML object>"
      ]
     },
     "metadata": {},
     "output_type": "display_data"
    },
    {
     "data": {
      "text/html": [
       "<h3>Run history:</h3><br/><style>\n",
       "    table.wandb td:nth-child(1) { padding: 0 10px; text-align: right }\n",
       "    </style><table class=\"wandb\">\n",
       "<tr><td>global_step</td><td>▁▁▁▂▂▂▂▂▂▃▃▃▃▃▄▄▄▄▄▄▅▅▅▅▅▅▆▆▆▆▆▇▇▇▇▇▇███</td></tr><tr><td>lr-Adam</td><td>██▂▁▁▁▁▁▁▁▁▁▁▁▁▁▁▁▁▁▁▁▁▁▁▁▁▁▁▁▁▁▁▁▁▁▁▁▁▁</td></tr><tr><td>_step</td><td>▁▁▁▂▂▂▂▂▂▃▃▃▃▃▄▄▄▄▄▄▅▅▅▅▅▅▆▆▆▆▆▇▇▇▇▇▇███</td></tr><tr><td>_runtime</td><td>▁▁▁▂▂▂▂▂▂▃▃▃▃▃▄▄▄▄▄▅▅▅▅▅▅▆▆▆▆▆▆▇▇▇▇▇████</td></tr><tr><td>_timestamp</td><td>▁▁▁▂▂▂▂▂▂▃▃▃▃▃▄▄▄▄▄▅▅▅▅▅▅▆▆▆▆▆▆▇▇▇▇▇████</td></tr><tr><td>val_loss</td><td>█▁▁▁▁▁▁▁▁▁▁▁▁▁▁▁▁▁▁▁▁▁▁▁▁▁▁▁▁▁▁▁▁▁▁▁▁▁▁▁</td></tr><tr><td>epoch</td><td>▁▁▁▂▂▂▂▂▂▃▃▃▃▃▄▄▄▄▄▄▅▅▅▅▅▅▆▆▆▆▆▇▇▇▇▇▇███</td></tr></table><br/>"
      ],
      "text/plain": [
       "<IPython.core.display.HTML object>"
      ]
     },
     "metadata": {},
     "output_type": "display_data"
    },
    {
     "data": {
      "text/html": [
       "Synced 5 W&B file(s), 0 media file(s), 0 artifact file(s) and 0 other file(s)"
      ],
      "text/plain": [
       "<IPython.core.display.HTML object>"
      ]
     },
     "metadata": {},
     "output_type": "display_data"
    },
    {
     "data": {
      "text/html": [
       "\n",
       "                    <br/>Synced <strong style=\"color:#cdcd00\">v8</strong>: <a href=\"https://wandb.ai/pnn/l0iid_in70_out70_Tmax100--noise_dtv16sumSwish/runs/2xjobb57\" target=\"_blank\">https://wandb.ai/pnn/l0iid_in70_out70_Tmax100--noise_dtv16sumSwish/runs/2xjobb57</a><br/>\n",
       "                "
      ],
      "text/plain": [
       "<IPython.core.display.HTML object>"
      ]
     },
     "metadata": {},
     "output_type": "display_data"
    },
    {
     "name": "stderr",
     "output_type": "stream",
     "text": [
      "\u001b[32m[I 2021-03-17 10:53:59,445]\u001b[0m Trial 8 finished with value: 0.0001828910899348557 and parameters: {'Nlayers': 4, 'Ncoms': 3, 'identity_init': 0, 'lr': 0.01, 'Nunits1': 156.46075599069, 'Nunits2': 365.5043375433318, 'Nunits3': 179.13981809930306}. Best is trial 5 with value: 0.00015404123405460268.\u001b[0m\n",
      "wandb: wandb version 0.10.22 is available!  To upgrade, please run:\n",
      "wandb:  $ pip install wandb --upgrade\n"
     ]
    },
    {
     "data": {
      "text/html": [
       "\n",
       "                Tracking run with wandb version 0.10.8<br/>\n",
       "                Syncing run <strong style=\"color:#cdcd00\">v9</strong> to <a href=\"https://wandb.ai\" target=\"_blank\">Weights & Biases</a> <a href=\"https://docs.wandb.com/integrations/jupyter.html\" target=\"_blank\">(Documentation)</a>.<br/>\n",
       "                Project page: <a href=\"https://wandb.ai/pnn/l0iid_in70_out70_Tmax100--noise_dtv16sumSwish\" target=\"_blank\">https://wandb.ai/pnn/l0iid_in70_out70_Tmax100--noise_dtv16sumSwish</a><br/>\n",
       "                Run page: <a href=\"https://wandb.ai/pnn/l0iid_in70_out70_Tmax100--noise_dtv16sumSwish/runs/39v2r5pg\" target=\"_blank\">https://wandb.ai/pnn/l0iid_in70_out70_Tmax100--noise_dtv16sumSwish/runs/39v2r5pg</a><br/>\n",
       "                Run data is saved locally in <code>wandb\\run-20210317_105359-39v2r5pg</code><br/><br/>\n",
       "            "
      ],
      "text/plain": [
       "<IPython.core.display.HTML object>"
      ]
     },
     "metadata": {},
     "output_type": "display_data"
    },
    {
     "name": "stderr",
     "output_type": "stream",
     "text": [
      "GPU available: True, used: False\n",
      "TPU available: False, using: 0 TPU cores\n",
      "C:\\Users\\lgw32\\anaconda3\\lib\\site-packages\\pytorch_lightning\\utilities\\distributed.py:37: UserWarning: Experiment logs directory logs\\l0iid_in70_out70_Tmax100--noise_dtv16sumSwish\\v9 exists and is not empty. Previous log files in this directory will be deleted when the new ones are saved!\n",
      "  warnings.warn(*args, **kwargs)\n",
      "Saving latest checkpoint..\n"
     ]
    },
    {
     "data": {
      "text/html": [
       "<br/>Waiting for W&B process to finish, PID 5664<br/>Program ended successfully."
      ],
      "text/plain": [
       "<IPython.core.display.HTML object>"
      ]
     },
     "metadata": {},
     "output_type": "display_data"
    },
    {
     "data": {
      "application/vnd.jupyter.widget-view+json": {
       "model_id": "",
       "version_major": 2,
       "version_minor": 0
      },
      "text/plain": [
       "VBox(children=(Label(value=' 0.00MB of 0.00MB uploaded (0.00MB deduped)\\r'), FloatProgress(value=1.0, max=1.0)…"
      ]
     },
     "metadata": {},
     "output_type": "display_data"
    },
    {
     "data": {
      "text/html": [
       "Find user logs for this run at: <code>wandb\\run-20210317_105359-39v2r5pg\\logs\\debug.log</code>"
      ],
      "text/plain": [
       "<IPython.core.display.HTML object>"
      ]
     },
     "metadata": {},
     "output_type": "display_data"
    },
    {
     "data": {
      "text/html": [
       "Find internal logs for this run at: <code>wandb\\run-20210317_105359-39v2r5pg\\logs\\debug-internal.log</code>"
      ],
      "text/plain": [
       "<IPython.core.display.HTML object>"
      ]
     },
     "metadata": {},
     "output_type": "display_data"
    },
    {
     "data": {
      "text/html": [
       "<h3>Run summary:</h3><br/><style>\n",
       "    table.wandb td:nth-child(1) { padding: 0 10px; text-align: right }\n",
       "    </style><table class=\"wandb\">\n",
       "<tr><td>global_step</td><td>17999</td></tr><tr><td>lr-Adam</td><td>0.0</td></tr><tr><td>_step</td><td>1999</td></tr><tr><td>_runtime</td><td>159</td></tr><tr><td>_timestamp</td><td>1615992998</td></tr><tr><td>val_loss</td><td>0.01286</td></tr><tr><td>epoch</td><td>999</td></tr></table>"
      ],
      "text/plain": [
       "<IPython.core.display.HTML object>"
      ]
     },
     "metadata": {},
     "output_type": "display_data"
    },
    {
     "data": {
      "text/html": [
       "<h3>Run history:</h3><br/><style>\n",
       "    table.wandb td:nth-child(1) { padding: 0 10px; text-align: right }\n",
       "    </style><table class=\"wandb\">\n",
       "<tr><td>global_step</td><td>▁▁▁▂▂▂▂▂▂▃▃▃▃▃▄▄▄▄▄▄▅▅▅▅▅▅▆▆▆▆▆▇▇▇▇▇▇███</td></tr><tr><td>lr-Adam</td><td>████▃▁▁▁▁▁▁▁▁▁▁▁▁▁▁▁▁▁▁▁▁▁▁▁▁▁▁▁▁▁▁▁▁▁▁▁</td></tr><tr><td>_step</td><td>▁▁▁▂▂▂▂▂▂▃▃▃▃▃▄▄▄▄▄▄▅▅▅▅▅▅▆▆▆▆▆▇▇▇▇▇▇███</td></tr><tr><td>_runtime</td><td>▁▁▁▁▂▂▂▂▂▂▃▃▃▃▃▄▄▄▄▄▅▅▅▅▅▅▆▆▆▆▆▇▇▇▇▇▇███</td></tr><tr><td>_timestamp</td><td>▁▁▁▁▂▂▂▂▂▂▃▃▃▃▃▄▄▄▄▄▅▅▅▅▅▅▆▆▆▆▆▇▇▇▇▇▇███</td></tr><tr><td>val_loss</td><td>█▂▁▁▁▁▁▁▁▁▁▁▁▁▁▁▁▁▁▁▁▁▁▁▁▁▁▁▁▁▁▁▁▁▁▁▁▁▁▁</td></tr><tr><td>epoch</td><td>▁▁▁▂▂▂▂▂▂▃▃▃▃▃▄▄▄▄▄▄▅▅▅▅▅▅▆▆▆▆▆▇▇▇▇▇▇███</td></tr></table><br/>"
      ],
      "text/plain": [
       "<IPython.core.display.HTML object>"
      ]
     },
     "metadata": {},
     "output_type": "display_data"
    },
    {
     "data": {
      "text/html": [
       "Synced 5 W&B file(s), 0 media file(s), 0 artifact file(s) and 0 other file(s)"
      ],
      "text/plain": [
       "<IPython.core.display.HTML object>"
      ]
     },
     "metadata": {},
     "output_type": "display_data"
    },
    {
     "data": {
      "text/html": [
       "\n",
       "                    <br/>Synced <strong style=\"color:#cdcd00\">v9</strong>: <a href=\"https://wandb.ai/pnn/l0iid_in70_out70_Tmax100--noise_dtv16sumSwish/runs/39v2r5pg\" target=\"_blank\">https://wandb.ai/pnn/l0iid_in70_out70_Tmax100--noise_dtv16sumSwish/runs/39v2r5pg</a><br/>\n",
       "                "
      ],
      "text/plain": [
       "<IPython.core.display.HTML object>"
      ]
     },
     "metadata": {},
     "output_type": "display_data"
    },
    {
     "name": "stderr",
     "output_type": "stream",
     "text": [
      "\u001b[32m[I 2021-03-17 10:56:41,758]\u001b[0m Trial 9 finished with value: 0.00016468402463942766 and parameters: {'Nlayers': 4, 'Ncoms': 2, 'identity_init': 0, 'lr': 0.0001, 'Nunits1': 757.7788704990654, 'Nunits2': 194.02186297210667, 'Nunits3': 195.65928712562862}. Best is trial 5 with value: 0.00015404123405460268.\u001b[0m\n",
      "wandb: wandb version 0.10.22 is available!  To upgrade, please run:\n",
      "wandb:  $ pip install wandb --upgrade\n"
     ]
    },
    {
     "data": {
      "text/html": [
       "\n",
       "                Tracking run with wandb version 0.10.8<br/>\n",
       "                Syncing run <strong style=\"color:#cdcd00\">v10</strong> to <a href=\"https://wandb.ai\" target=\"_blank\">Weights & Biases</a> <a href=\"https://docs.wandb.com/integrations/jupyter.html\" target=\"_blank\">(Documentation)</a>.<br/>\n",
       "                Project page: <a href=\"https://wandb.ai/pnn/l0iid_in70_out70_Tmax100--noise_dtv16sumSwish\" target=\"_blank\">https://wandb.ai/pnn/l0iid_in70_out70_Tmax100--noise_dtv16sumSwish</a><br/>\n",
       "                Run page: <a href=\"https://wandb.ai/pnn/l0iid_in70_out70_Tmax100--noise_dtv16sumSwish/runs/hegsn33i\" target=\"_blank\">https://wandb.ai/pnn/l0iid_in70_out70_Tmax100--noise_dtv16sumSwish/runs/hegsn33i</a><br/>\n",
       "                Run data is saved locally in <code>wandb\\run-20210317_105641-hegsn33i</code><br/><br/>\n",
       "            "
      ],
      "text/plain": [
       "<IPython.core.display.HTML object>"
      ]
     },
     "metadata": {},
     "output_type": "display_data"
    },
    {
     "name": "stderr",
     "output_type": "stream",
     "text": [
      "GPU available: True, used: False\n",
      "TPU available: False, using: 0 TPU cores\n",
      "C:\\Users\\lgw32\\anaconda3\\lib\\site-packages\\pytorch_lightning\\utilities\\distributed.py:37: UserWarning: Experiment logs directory logs\\l0iid_in70_out70_Tmax100--noise_dtv16sumSwish\\v10 exists and is not empty. Previous log files in this directory will be deleted when the new ones are saved!\n",
      "  warnings.warn(*args, **kwargs)\n",
      "Saving latest checkpoint..\n"
     ]
    },
    {
     "data": {
      "text/html": [
       "<br/>Waiting for W&B process to finish, PID 7780<br/>Program ended successfully."
      ],
      "text/plain": [
       "<IPython.core.display.HTML object>"
      ]
     },
     "metadata": {},
     "output_type": "display_data"
    },
    {
     "data": {
      "application/vnd.jupyter.widget-view+json": {
       "model_id": "",
       "version_major": 2,
       "version_minor": 0
      },
      "text/plain": [
       "VBox(children=(Label(value=' 0.00MB of 0.00MB uploaded (0.00MB deduped)\\r'), FloatProgress(value=1.0, max=1.0)…"
      ]
     },
     "metadata": {},
     "output_type": "display_data"
    },
    {
     "data": {
      "text/html": [
       "Find user logs for this run at: <code>wandb\\run-20210317_105641-hegsn33i\\logs\\debug.log</code>"
      ],
      "text/plain": [
       "<IPython.core.display.HTML object>"
      ]
     },
     "metadata": {},
     "output_type": "display_data"
    },
    {
     "data": {
      "text/html": [
       "Find internal logs for this run at: <code>wandb\\run-20210317_105641-hegsn33i\\logs\\debug-internal.log</code>"
      ],
      "text/plain": [
       "<IPython.core.display.HTML object>"
      ]
     },
     "metadata": {},
     "output_type": "display_data"
    },
    {
     "data": {
      "text/html": [
       "<h3>Run summary:</h3><br/><style>\n",
       "    table.wandb td:nth-child(1) { padding: 0 10px; text-align: right }\n",
       "    </style><table class=\"wandb\">\n",
       "<tr><td>global_step</td><td>17999</td></tr><tr><td>lr-Adam</td><td>0.0</td></tr><tr><td>_step</td><td>1999</td></tr><tr><td>_runtime</td><td>40</td></tr><tr><td>_timestamp</td><td>1615993041</td></tr><tr><td>val_loss</td><td>0.01153</td></tr><tr><td>epoch</td><td>999</td></tr></table>"
      ],
      "text/plain": [
       "<IPython.core.display.HTML object>"
      ]
     },
     "metadata": {},
     "output_type": "display_data"
    },
    {
     "data": {
      "text/html": [
       "<h3>Run history:</h3><br/><style>\n",
       "    table.wandb td:nth-child(1) { padding: 0 10px; text-align: right }\n",
       "    </style><table class=\"wandb\">\n",
       "<tr><td>global_step</td><td>▁▁▁▂▂▂▂▂▂▃▃▃▃▃▄▄▄▄▄▄▅▅▅▅▅▅▆▆▆▆▆▇▇▇▇▇▇███</td></tr><tr><td>lr-Adam</td><td>█▃▂▁▁▁▁▁▁▁▁▁▁▁▁▁▁▁▁▁▁▁▁▁▁▁▁▁▁▁▁▁▁▁▁▁▁▁▁▁</td></tr><tr><td>_step</td><td>▁▁▁▂▂▂▂▂▂▃▃▃▃▃▄▄▄▄▄▄▅▅▅▅▅▅▆▆▆▆▆▇▇▇▇▇▇███</td></tr><tr><td>_runtime</td><td>▁▁▁▂▂▂▂▂▂▂▃▃▃▃▃▄▄▄▄▄▅▅▅▅▅▅▆▆▆▆▆▇▇▇▇▇▇███</td></tr><tr><td>_timestamp</td><td>▁▁▁▂▂▂▂▂▂▂▃▃▃▃▃▄▄▄▄▄▅▅▅▅▅▅▆▆▆▆▆▇▇▇▇▇▇███</td></tr><tr><td>val_loss</td><td>█▃▁▁▁▁▁▁▁▁▁▁▁▁▁▁▁▁▁▁▁▁▁▁▁▁▁▁▁▁▁▁▁▁▁▁▁▁▁▁</td></tr><tr><td>epoch</td><td>▁▁▁▂▂▂▂▂▂▃▃▃▃▃▄▄▄▄▄▄▅▅▅▅▅▅▆▆▆▆▆▇▇▇▇▇▇███</td></tr></table><br/>"
      ],
      "text/plain": [
       "<IPython.core.display.HTML object>"
      ]
     },
     "metadata": {},
     "output_type": "display_data"
    },
    {
     "data": {
      "text/html": [
       "Synced 5 W&B file(s), 0 media file(s), 0 artifact file(s) and 0 other file(s)"
      ],
      "text/plain": [
       "<IPython.core.display.HTML object>"
      ]
     },
     "metadata": {},
     "output_type": "display_data"
    },
    {
     "data": {
      "text/html": [
       "\n",
       "                    <br/>Synced <strong style=\"color:#cdcd00\">v10</strong>: <a href=\"https://wandb.ai/pnn/l0iid_in70_out70_Tmax100--noise_dtv16sumSwish/runs/hegsn33i\" target=\"_blank\">https://wandb.ai/pnn/l0iid_in70_out70_Tmax100--noise_dtv16sumSwish/runs/hegsn33i</a><br/>\n",
       "                "
      ],
      "text/plain": [
       "<IPython.core.display.HTML object>"
      ]
     },
     "metadata": {},
     "output_type": "display_data"
    },
    {
     "name": "stderr",
     "output_type": "stream",
     "text": [
      "\u001b[32m[I 2021-03-17 10:57:24,887]\u001b[0m Trial 10 finished with value: 0.00013303715968504548 and parameters: {'Nlayers': 1, 'Ncoms': 3, 'identity_init': 0, 'lr': 0.01}. Best is trial 10 with value: 0.00013303715968504548.\u001b[0m\n",
      "wandb: wandb version 0.10.22 is available!  To upgrade, please run:\n",
      "wandb:  $ pip install wandb --upgrade\n"
     ]
    },
    {
     "data": {
      "text/html": [
       "\n",
       "                Tracking run with wandb version 0.10.8<br/>\n",
       "                Syncing run <strong style=\"color:#cdcd00\">v11</strong> to <a href=\"https://wandb.ai\" target=\"_blank\">Weights & Biases</a> <a href=\"https://docs.wandb.com/integrations/jupyter.html\" target=\"_blank\">(Documentation)</a>.<br/>\n",
       "                Project page: <a href=\"https://wandb.ai/pnn/l0iid_in70_out70_Tmax100--noise_dtv16sumSwish\" target=\"_blank\">https://wandb.ai/pnn/l0iid_in70_out70_Tmax100--noise_dtv16sumSwish</a><br/>\n",
       "                Run page: <a href=\"https://wandb.ai/pnn/l0iid_in70_out70_Tmax100--noise_dtv16sumSwish/runs/1x5fdyn0\" target=\"_blank\">https://wandb.ai/pnn/l0iid_in70_out70_Tmax100--noise_dtv16sumSwish/runs/1x5fdyn0</a><br/>\n",
       "                Run data is saved locally in <code>wandb\\run-20210317_105724-1x5fdyn0</code><br/><br/>\n",
       "            "
      ],
      "text/plain": [
       "<IPython.core.display.HTML object>"
      ]
     },
     "metadata": {},
     "output_type": "display_data"
    },
    {
     "name": "stderr",
     "output_type": "stream",
     "text": [
      "GPU available: True, used: False\n",
      "TPU available: False, using: 0 TPU cores\n",
      "C:\\Users\\lgw32\\anaconda3\\lib\\site-packages\\pytorch_lightning\\utilities\\distributed.py:37: UserWarning: Experiment logs directory logs\\l0iid_in70_out70_Tmax100--noise_dtv16sumSwish\\v11 exists and is not empty. Previous log files in this directory will be deleted when the new ones are saved!\n",
      "  warnings.warn(*args, **kwargs)\n",
      "Saving latest checkpoint..\n"
     ]
    },
    {
     "data": {
      "text/html": [
       "<br/>Waiting for W&B process to finish, PID 7492<br/>Program ended successfully."
      ],
      "text/plain": [
       "<IPython.core.display.HTML object>"
      ]
     },
     "metadata": {},
     "output_type": "display_data"
    },
    {
     "data": {
      "application/vnd.jupyter.widget-view+json": {
       "model_id": "",
       "version_major": 2,
       "version_minor": 0
      },
      "text/plain": [
       "VBox(children=(Label(value=' 0.00MB of 0.00MB uploaded (0.00MB deduped)\\r'), FloatProgress(value=1.0, max=1.0)…"
      ]
     },
     "metadata": {},
     "output_type": "display_data"
    },
    {
     "data": {
      "text/html": [
       "Find user logs for this run at: <code>wandb\\run-20210317_105724-1x5fdyn0\\logs\\debug.log</code>"
      ],
      "text/plain": [
       "<IPython.core.display.HTML object>"
      ]
     },
     "metadata": {},
     "output_type": "display_data"
    },
    {
     "data": {
      "text/html": [
       "Find internal logs for this run at: <code>wandb\\run-20210317_105724-1x5fdyn0\\logs\\debug-internal.log</code>"
      ],
      "text/plain": [
       "<IPython.core.display.HTML object>"
      ]
     },
     "metadata": {},
     "output_type": "display_data"
    },
    {
     "data": {
      "text/html": [
       "<h3>Run summary:</h3><br/><style>\n",
       "    table.wandb td:nth-child(1) { padding: 0 10px; text-align: right }\n",
       "    </style><table class=\"wandb\">\n",
       "<tr><td>global_step</td><td>17999</td></tr><tr><td>lr-Adam</td><td>0.0</td></tr><tr><td>_step</td><td>1999</td></tr><tr><td>_runtime</td><td>121</td></tr><tr><td>_timestamp</td><td>1615993165</td></tr><tr><td>val_loss</td><td>0.01315</td></tr><tr><td>epoch</td><td>999</td></tr></table>"
      ],
      "text/plain": [
       "<IPython.core.display.HTML object>"
      ]
     },
     "metadata": {},
     "output_type": "display_data"
    },
    {
     "data": {
      "text/html": [
       "<h3>Run history:</h3><br/><style>\n",
       "    table.wandb td:nth-child(1) { padding: 0 10px; text-align: right }\n",
       "    </style><table class=\"wandb\">\n",
       "<tr><td>global_step</td><td>▁▁▁▂▂▂▂▂▂▃▃▃▃▃▄▄▄▄▄▄▅▅▅▅▅▅▆▆▆▆▆▇▇▇▇▇▇███</td></tr><tr><td>lr-Adam</td><td>██▂▁▁▁▁▁▁▁▁▁▁▁▁▁▁▁▁▁▁▁▁▁▁▁▁▁▁▁▁▁▁▁▁▁▁▁▁▁</td></tr><tr><td>_step</td><td>▁▁▁▂▂▂▂▂▂▃▃▃▃▃▄▄▄▄▄▄▅▅▅▅▅▅▆▆▆▆▆▇▇▇▇▇▇███</td></tr><tr><td>_runtime</td><td>▁▁▁▁▂▂▂▂▂▃▃▃▃▃▃▄▄▄▄▄▅▅▅▅▅▅▆▆▆▆▆▇▇▇▇▇▇███</td></tr><tr><td>_timestamp</td><td>▁▁▁▁▂▂▂▂▂▃▃▃▃▃▃▄▄▄▄▄▅▅▅▅▅▅▆▆▆▆▆▇▇▇▇▇▇███</td></tr><tr><td>val_loss</td><td>█▁▁▁▁▁▁▁▁▁▁▁▁▁▁▁▁▁▁▁▁▁▁▁▁▁▁▁▁▁▁▁▁▁▁▁▁▁▁▁</td></tr><tr><td>epoch</td><td>▁▁▁▂▂▂▂▂▂▃▃▃▃▃▄▄▄▄▄▄▅▅▅▅▅▅▆▆▆▆▆▇▇▇▇▇▇███</td></tr></table><br/>"
      ],
      "text/plain": [
       "<IPython.core.display.HTML object>"
      ]
     },
     "metadata": {},
     "output_type": "display_data"
    },
    {
     "data": {
      "text/html": [
       "Synced 5 W&B file(s), 0 media file(s), 0 artifact file(s) and 0 other file(s)"
      ],
      "text/plain": [
       "<IPython.core.display.HTML object>"
      ]
     },
     "metadata": {},
     "output_type": "display_data"
    },
    {
     "data": {
      "text/html": [
       "\n",
       "                    <br/>Synced <strong style=\"color:#cdcd00\">v11</strong>: <a href=\"https://wandb.ai/pnn/l0iid_in70_out70_Tmax100--noise_dtv16sumSwish/runs/1x5fdyn0\" target=\"_blank\">https://wandb.ai/pnn/l0iid_in70_out70_Tmax100--noise_dtv16sumSwish/runs/1x5fdyn0</a><br/>\n",
       "                "
      ],
      "text/plain": [
       "<IPython.core.display.HTML object>"
      ]
     },
     "metadata": {},
     "output_type": "display_data"
    },
    {
     "name": "stderr",
     "output_type": "stream",
     "text": [
      "\u001b[32m[I 2021-03-17 10:59:28,176]\u001b[0m Trial 11 finished with value: 0.00016969928401522338 and parameters: {'Nlayers': 3, 'Ncoms': 1, 'identity_init': 0, 'lr': 0.000456, 'Nunits1': 535.838994690659, 'Nunits2': 577.7425001126031}. Best is trial 10 with value: 0.00013303715968504548.\u001b[0m\n",
      "wandb: wandb version 0.10.22 is available!  To upgrade, please run:\n",
      "wandb:  $ pip install wandb --upgrade\n"
     ]
    },
    {
     "data": {
      "text/html": [
       "\n",
       "                Tracking run with wandb version 0.10.8<br/>\n",
       "                Syncing run <strong style=\"color:#cdcd00\">v12</strong> to <a href=\"https://wandb.ai\" target=\"_blank\">Weights & Biases</a> <a href=\"https://docs.wandb.com/integrations/jupyter.html\" target=\"_blank\">(Documentation)</a>.<br/>\n",
       "                Project page: <a href=\"https://wandb.ai/pnn/l0iid_in70_out70_Tmax100--noise_dtv16sumSwish\" target=\"_blank\">https://wandb.ai/pnn/l0iid_in70_out70_Tmax100--noise_dtv16sumSwish</a><br/>\n",
       "                Run page: <a href=\"https://wandb.ai/pnn/l0iid_in70_out70_Tmax100--noise_dtv16sumSwish/runs/3cpdbrfg\" target=\"_blank\">https://wandb.ai/pnn/l0iid_in70_out70_Tmax100--noise_dtv16sumSwish/runs/3cpdbrfg</a><br/>\n",
       "                Run data is saved locally in <code>wandb\\run-20210317_105928-3cpdbrfg</code><br/><br/>\n",
       "            "
      ],
      "text/plain": [
       "<IPython.core.display.HTML object>"
      ]
     },
     "metadata": {},
     "output_type": "display_data"
    },
    {
     "name": "stderr",
     "output_type": "stream",
     "text": [
      "GPU available: True, used: False\n",
      "TPU available: False, using: 0 TPU cores\n",
      "C:\\Users\\lgw32\\anaconda3\\lib\\site-packages\\pytorch_lightning\\utilities\\distributed.py:37: UserWarning: Experiment logs directory logs\\l0iid_in70_out70_Tmax100--noise_dtv16sumSwish\\v12 exists and is not empty. Previous log files in this directory will be deleted when the new ones are saved!\n",
      "  warnings.warn(*args, **kwargs)\n",
      "Saving latest checkpoint..\n"
     ]
    },
    {
     "data": {
      "text/html": [
       "<br/>Waiting for W&B process to finish, PID 6416<br/>Program ended successfully."
      ],
      "text/plain": [
       "<IPython.core.display.HTML object>"
      ]
     },
     "metadata": {},
     "output_type": "display_data"
    },
    {
     "data": {
      "application/vnd.jupyter.widget-view+json": {
       "model_id": "",
       "version_major": 2,
       "version_minor": 0
      },
      "text/plain": [
       "VBox(children=(Label(value=' 0.00MB of 0.00MB uploaded (0.00MB deduped)\\r'), FloatProgress(value=1.0, max=1.0)…"
      ]
     },
     "metadata": {},
     "output_type": "display_data"
    },
    {
     "data": {
      "text/html": [
       "Find user logs for this run at: <code>wandb\\run-20210317_105928-3cpdbrfg\\logs\\debug.log</code>"
      ],
      "text/plain": [
       "<IPython.core.display.HTML object>"
      ]
     },
     "metadata": {},
     "output_type": "display_data"
    },
    {
     "data": {
      "text/html": [
       "Find internal logs for this run at: <code>wandb\\run-20210317_105928-3cpdbrfg\\logs\\debug-internal.log</code>"
      ],
      "text/plain": [
       "<IPython.core.display.HTML object>"
      ]
     },
     "metadata": {},
     "output_type": "display_data"
    },
    {
     "data": {
      "text/html": [
       "<h3>Run summary:</h3><br/><style>\n",
       "    table.wandb td:nth-child(1) { padding: 0 10px; text-align: right }\n",
       "    </style><table class=\"wandb\">\n",
       "<tr><td>global_step</td><td>17999</td></tr><tr><td>lr-Adam</td><td>0.0</td></tr><tr><td>_step</td><td>1999</td></tr><tr><td>_runtime</td><td>247</td></tr><tr><td>_timestamp</td><td>1615993415</td></tr><tr><td>val_loss</td><td>0.01338</td></tr><tr><td>epoch</td><td>999</td></tr></table>"
      ],
      "text/plain": [
       "<IPython.core.display.HTML object>"
      ]
     },
     "metadata": {},
     "output_type": "display_data"
    },
    {
     "data": {
      "text/html": [
       "<h3>Run history:</h3><br/><style>\n",
       "    table.wandb td:nth-child(1) { padding: 0 10px; text-align: right }\n",
       "    </style><table class=\"wandb\">\n",
       "<tr><td>global_step</td><td>▁▁▁▂▂▂▂▂▂▃▃▃▃▃▄▄▄▄▄▄▅▅▅▅▅▅▆▆▆▆▆▇▇▇▇▇▇███</td></tr><tr><td>lr-Adam</td><td>█▂▁▁▁▁▁▁▁▁▁▁▁▁▁▁▁▁▁▁▁▁▁▁▁▁▁▁▁▁▁▁▁▁▁▁▁▁▁▁</td></tr><tr><td>_step</td><td>▁▁▁▂▂▂▂▂▂▃▃▃▃▃▄▄▄▄▄▄▅▅▅▅▅▅▆▆▆▆▆▇▇▇▇▇▇███</td></tr><tr><td>_runtime</td><td>▁▁▁▁▂▂▂▂▂▃▃▃▃▃▃▄▄▄▄▄▅▅▅▅▅▅▆▆▆▆▆▇▇▇▇▇▇███</td></tr><tr><td>_timestamp</td><td>▁▁▁▁▂▂▂▂▂▃▃▃▃▃▃▄▄▄▄▄▅▅▅▅▅▅▆▆▆▆▆▇▇▇▇▇▇███</td></tr><tr><td>val_loss</td><td>█▁▂▃▃▃▃▃▃▃▃▃▃▃▃▃▃▃▃▃▃▃▃▃▃▃▃▃▃▃▃▃▃▃▃▃▃▃▃▃</td></tr><tr><td>epoch</td><td>▁▁▁▂▂▂▂▂▂▃▃▃▃▃▄▄▄▄▄▄▅▅▅▅▅▅▆▆▆▆▆▇▇▇▇▇▇███</td></tr></table><br/>"
      ],
      "text/plain": [
       "<IPython.core.display.HTML object>"
      ]
     },
     "metadata": {},
     "output_type": "display_data"
    },
    {
     "data": {
      "text/html": [
       "Synced 5 W&B file(s), 0 media file(s), 0 artifact file(s) and 0 other file(s)"
      ],
      "text/plain": [
       "<IPython.core.display.HTML object>"
      ]
     },
     "metadata": {},
     "output_type": "display_data"
    },
    {
     "data": {
      "text/html": [
       "\n",
       "                    <br/>Synced <strong style=\"color:#cdcd00\">v12</strong>: <a href=\"https://wandb.ai/pnn/l0iid_in70_out70_Tmax100--noise_dtv16sumSwish/runs/3cpdbrfg\" target=\"_blank\">https://wandb.ai/pnn/l0iid_in70_out70_Tmax100--noise_dtv16sumSwish/runs/3cpdbrfg</a><br/>\n",
       "                "
      ],
      "text/plain": [
       "<IPython.core.display.HTML object>"
      ]
     },
     "metadata": {},
     "output_type": "display_data"
    },
    {
     "name": "stderr",
     "output_type": "stream",
     "text": [
      "\u001b[32m[I 2021-03-17 11:03:38,304]\u001b[0m Trial 12 finished with value: 0.00016231616609729826 and parameters: {'Nlayers': 4, 'Ncoms': 3, 'identity_init': 0, 'lr': 0.0031, 'Nunits1': 327.0488938549834, 'Nunits2': 593.4393657347157, 'Nunits3': 244.32407517662267}. Best is trial 10 with value: 0.00013303715968504548.\u001b[0m\n",
      "wandb: wandb version 0.10.22 is available!  To upgrade, please run:\n",
      "wandb:  $ pip install wandb --upgrade\n"
     ]
    },
    {
     "data": {
      "text/html": [
       "\n",
       "                Tracking run with wandb version 0.10.8<br/>\n",
       "                Syncing run <strong style=\"color:#cdcd00\">v13</strong> to <a href=\"https://wandb.ai\" target=\"_blank\">Weights & Biases</a> <a href=\"https://docs.wandb.com/integrations/jupyter.html\" target=\"_blank\">(Documentation)</a>.<br/>\n",
       "                Project page: <a href=\"https://wandb.ai/pnn/l0iid_in70_out70_Tmax100--noise_dtv16sumSwish\" target=\"_blank\">https://wandb.ai/pnn/l0iid_in70_out70_Tmax100--noise_dtv16sumSwish</a><br/>\n",
       "                Run page: <a href=\"https://wandb.ai/pnn/l0iid_in70_out70_Tmax100--noise_dtv16sumSwish/runs/3y2lxefa\" target=\"_blank\">https://wandb.ai/pnn/l0iid_in70_out70_Tmax100--noise_dtv16sumSwish/runs/3y2lxefa</a><br/>\n",
       "                Run data is saved locally in <code>wandb\\run-20210317_110338-3y2lxefa</code><br/><br/>\n",
       "            "
      ],
      "text/plain": [
       "<IPython.core.display.HTML object>"
      ]
     },
     "metadata": {},
     "output_type": "display_data"
    },
    {
     "name": "stderr",
     "output_type": "stream",
     "text": [
      "GPU available: True, used: False\n",
      "TPU available: False, using: 0 TPU cores\n",
      "C:\\Users\\lgw32\\anaconda3\\lib\\site-packages\\pytorch_lightning\\utilities\\distributed.py:37: UserWarning: Experiment logs directory logs\\l0iid_in70_out70_Tmax100--noise_dtv16sumSwish\\v13 exists and is not empty. Previous log files in this directory will be deleted when the new ones are saved!\n",
      "  warnings.warn(*args, **kwargs)\n",
      "Saving latest checkpoint..\n"
     ]
    },
    {
     "data": {
      "text/html": [
       "<br/>Waiting for W&B process to finish, PID 7520<br/>Program ended successfully."
      ],
      "text/plain": [
       "<IPython.core.display.HTML object>"
      ]
     },
     "metadata": {},
     "output_type": "display_data"
    },
    {
     "data": {
      "application/vnd.jupyter.widget-view+json": {
       "model_id": "",
       "version_major": 2,
       "version_minor": 0
      },
      "text/plain": [
       "VBox(children=(Label(value=' 0.00MB of 0.00MB uploaded (0.00MB deduped)\\r'), FloatProgress(value=1.0, max=1.0)…"
      ]
     },
     "metadata": {},
     "output_type": "display_data"
    },
    {
     "data": {
      "text/html": [
       "Find user logs for this run at: <code>wandb\\run-20210317_110338-3y2lxefa\\logs\\debug.log</code>"
      ],
      "text/plain": [
       "<IPython.core.display.HTML object>"
      ]
     },
     "metadata": {},
     "output_type": "display_data"
    },
    {
     "data": {
      "text/html": [
       "Find internal logs for this run at: <code>wandb\\run-20210317_110338-3y2lxefa\\logs\\debug-internal.log</code>"
      ],
      "text/plain": [
       "<IPython.core.display.HTML object>"
      ]
     },
     "metadata": {},
     "output_type": "display_data"
    },
    {
     "data": {
      "text/html": [
       "<h3>Run summary:</h3><br/><style>\n",
       "    table.wandb td:nth-child(1) { padding: 0 10px; text-align: right }\n",
       "    </style><table class=\"wandb\">\n",
       "<tr><td>global_step</td><td>17999</td></tr><tr><td>lr-Adam</td><td>0.0</td></tr><tr><td>_step</td><td>1999</td></tr><tr><td>_runtime</td><td>288</td></tr><tr><td>_timestamp</td><td>1615993706</td></tr><tr><td>val_loss</td><td>0.01307</td></tr><tr><td>epoch</td><td>999</td></tr></table>"
      ],
      "text/plain": [
       "<IPython.core.display.HTML object>"
      ]
     },
     "metadata": {},
     "output_type": "display_data"
    },
    {
     "data": {
      "text/html": [
       "<h3>Run history:</h3><br/><style>\n",
       "    table.wandb td:nth-child(1) { padding: 0 10px; text-align: right }\n",
       "    </style><table class=\"wandb\">\n",
       "<tr><td>global_step</td><td>▁▁▁▂▂▂▂▂▂▃▃▃▃▃▄▄▄▄▄▄▅▅▅▅▅▅▆▆▆▆▆▇▇▇▇▇▇███</td></tr><tr><td>lr-Adam</td><td>██▂▁▁▁▁▁▁▁▁▁▁▁▁▁▁▁▁▁▁▁▁▁▁▁▁▁▁▁▁▁▁▁▁▁▁▁▁▁</td></tr><tr><td>_step</td><td>▁▁▁▂▂▂▂▂▂▃▃▃▃▃▄▄▄▄▄▄▅▅▅▅▅▅▆▆▆▆▆▇▇▇▇▇▇███</td></tr><tr><td>_runtime</td><td>▁▁▁▂▂▂▂▂▂▃▃▃▃▃▃▄▄▄▄▄▅▅▅▅▅▅▆▆▆▆▆▇▇▇▇▇▇███</td></tr><tr><td>_timestamp</td><td>▁▁▁▂▂▂▂▂▂▃▃▃▃▃▃▄▄▄▄▄▅▅▅▅▅▅▆▆▆▆▆▇▇▇▇▇▇███</td></tr><tr><td>val_loss</td><td>█▁▁▁▁▁▁▁▁▁▁▁▁▁▁▁▁▁▁▁▁▁▁▁▁▁▁▁▁▁▁▁▁▁▁▁▁▁▁▁</td></tr><tr><td>epoch</td><td>▁▁▁▂▂▂▂▂▂▃▃▃▃▃▄▄▄▄▄▄▅▅▅▅▅▅▆▆▆▆▆▇▇▇▇▇▇███</td></tr></table><br/>"
      ],
      "text/plain": [
       "<IPython.core.display.HTML object>"
      ]
     },
     "metadata": {},
     "output_type": "display_data"
    },
    {
     "data": {
      "text/html": [
       "Synced 5 W&B file(s), 0 media file(s), 0 artifact file(s) and 0 other file(s)"
      ],
      "text/plain": [
       "<IPython.core.display.HTML object>"
      ]
     },
     "metadata": {},
     "output_type": "display_data"
    },
    {
     "data": {
      "text/html": [
       "\n",
       "                    <br/>Synced <strong style=\"color:#cdcd00\">v13</strong>: <a href=\"https://wandb.ai/pnn/l0iid_in70_out70_Tmax100--noise_dtv16sumSwish/runs/3y2lxefa\" target=\"_blank\">https://wandb.ai/pnn/l0iid_in70_out70_Tmax100--noise_dtv16sumSwish/runs/3y2lxefa</a><br/>\n",
       "                "
      ],
      "text/plain": [
       "<IPython.core.display.HTML object>"
      ]
     },
     "metadata": {},
     "output_type": "display_data"
    },
    {
     "name": "stderr",
     "output_type": "stream",
     "text": [
      "\u001b[32m[I 2021-03-17 11:08:29,268]\u001b[0m Trial 13 finished with value: 0.00016653623606543988 and parameters: {'Nlayers': 5, 'Ncoms': 4, 'identity_init': 0, 'lr': 0.000456, 'Nunits1': 218.83280096813027, 'Nunits2': 381.22452579214104, 'Nunits3': 183.46052594653972, 'Nunits4': 168.3745619348763}. Best is trial 10 with value: 0.00013303715968504548.\u001b[0m\n",
      "wandb: wandb version 0.10.22 is available!  To upgrade, please run:\n",
      "wandb:  $ pip install wandb --upgrade\n"
     ]
    },
    {
     "data": {
      "text/html": [
       "\n",
       "                Tracking run with wandb version 0.10.8<br/>\n",
       "                Syncing run <strong style=\"color:#cdcd00\">v14</strong> to <a href=\"https://wandb.ai\" target=\"_blank\">Weights & Biases</a> <a href=\"https://docs.wandb.com/integrations/jupyter.html\" target=\"_blank\">(Documentation)</a>.<br/>\n",
       "                Project page: <a href=\"https://wandb.ai/pnn/l0iid_in70_out70_Tmax100--noise_dtv16sumSwish\" target=\"_blank\">https://wandb.ai/pnn/l0iid_in70_out70_Tmax100--noise_dtv16sumSwish</a><br/>\n",
       "                Run page: <a href=\"https://wandb.ai/pnn/l0iid_in70_out70_Tmax100--noise_dtv16sumSwish/runs/4mgmu07r\" target=\"_blank\">https://wandb.ai/pnn/l0iid_in70_out70_Tmax100--noise_dtv16sumSwish/runs/4mgmu07r</a><br/>\n",
       "                Run data is saved locally in <code>wandb\\run-20210317_110829-4mgmu07r</code><br/><br/>\n",
       "            "
      ],
      "text/plain": [
       "<IPython.core.display.HTML object>"
      ]
     },
     "metadata": {},
     "output_type": "display_data"
    },
    {
     "name": "stderr",
     "output_type": "stream",
     "text": [
      "GPU available: True, used: False\n",
      "TPU available: False, using: 0 TPU cores\n",
      "C:\\Users\\lgw32\\anaconda3\\lib\\site-packages\\pytorch_lightning\\utilities\\distributed.py:37: UserWarning: Experiment logs directory logs\\l0iid_in70_out70_Tmax100--noise_dtv16sumSwish\\v14 exists and is not empty. Previous log files in this directory will be deleted when the new ones are saved!\n",
      "  warnings.warn(*args, **kwargs)\n",
      "Saving latest checkpoint..\n"
     ]
    },
    {
     "data": {
      "text/html": [
       "<br/>Waiting for W&B process to finish, PID 11340<br/>Program ended successfully."
      ],
      "text/plain": [
       "<IPython.core.display.HTML object>"
      ]
     },
     "metadata": {},
     "output_type": "display_data"
    },
    {
     "data": {
      "application/vnd.jupyter.widget-view+json": {
       "model_id": "",
       "version_major": 2,
       "version_minor": 0
      },
      "text/plain": [
       "VBox(children=(Label(value=' 0.00MB of 0.00MB uploaded (0.00MB deduped)\\r'), FloatProgress(value=1.0, max=1.0)…"
      ]
     },
     "metadata": {},
     "output_type": "display_data"
    },
    {
     "data": {
      "text/html": [
       "Find user logs for this run at: <code>wandb\\run-20210317_110829-4mgmu07r\\logs\\debug.log</code>"
      ],
      "text/plain": [
       "<IPython.core.display.HTML object>"
      ]
     },
     "metadata": {},
     "output_type": "display_data"
    },
    {
     "data": {
      "text/html": [
       "Find internal logs for this run at: <code>wandb\\run-20210317_110829-4mgmu07r\\logs\\debug-internal.log</code>"
      ],
      "text/plain": [
       "<IPython.core.display.HTML object>"
      ]
     },
     "metadata": {},
     "output_type": "display_data"
    },
    {
     "data": {
      "text/html": [
       "<h3>Run summary:</h3><br/><style>\n",
       "    table.wandb td:nth-child(1) { padding: 0 10px; text-align: right }\n",
       "    </style><table class=\"wandb\">\n",
       "<tr><td>global_step</td><td>17999</td></tr><tr><td>lr-Adam</td><td>0.0</td></tr><tr><td>_step</td><td>1999</td></tr><tr><td>_runtime</td><td>95</td></tr><tr><td>_timestamp</td><td>1615993804</td></tr><tr><td>val_loss</td><td>0.01459</td></tr><tr><td>epoch</td><td>999</td></tr></table>"
      ],
      "text/plain": [
       "<IPython.core.display.HTML object>"
      ]
     },
     "metadata": {},
     "output_type": "display_data"
    },
    {
     "data": {
      "text/html": [
       "<h3>Run history:</h3><br/><style>\n",
       "    table.wandb td:nth-child(1) { padding: 0 10px; text-align: right }\n",
       "    </style><table class=\"wandb\">\n",
       "<tr><td>global_step</td><td>▁▁▁▂▂▂▂▂▂▃▃▃▃▃▄▄▄▄▄▄▅▅▅▅▅▅▆▆▆▆▆▇▇▇▇▇▇███</td></tr><tr><td>lr-Adam</td><td>█▃▁▁▁▁▁▁▁▁▁▁▁▁▁▁▁▁▁▁▁▁▁▁▁▁▁▁▁▁▁▁▁▁▁▁▁▁▁▁</td></tr><tr><td>_step</td><td>▁▁▁▂▂▂▂▂▂▃▃▃▃▃▄▄▄▄▄▄▅▅▅▅▅▅▆▆▆▆▆▇▇▇▇▇▇███</td></tr><tr><td>_runtime</td><td>▁▁▁▂▂▂▂▂▂▃▃▃▃▃▃▄▄▄▄▄▅▅▅▅▅▅▆▆▆▆▆▆▇▇▇▇▇███</td></tr><tr><td>_timestamp</td><td>▁▁▁▂▂▂▂▂▂▃▃▃▃▃▃▄▄▄▄▄▅▅▅▅▅▅▆▆▆▆▆▆▇▇▇▇▇███</td></tr><tr><td>val_loss</td><td>█▁▃▄▄▄▄▄▄▄▄▄▄▄▄▄▄▄▄▄▄▄▄▄▄▄▄▄▄▄▄▄▄▄▄▄▄▄▄▄</td></tr><tr><td>epoch</td><td>▁▁▁▂▂▂▂▂▂▃▃▃▃▃▄▄▄▄▄▄▅▅▅▅▅▅▆▆▆▆▆▇▇▇▇▇▇███</td></tr></table><br/>"
      ],
      "text/plain": [
       "<IPython.core.display.HTML object>"
      ]
     },
     "metadata": {},
     "output_type": "display_data"
    },
    {
     "data": {
      "text/html": [
       "Synced 5 W&B file(s), 0 media file(s), 0 artifact file(s) and 0 other file(s)"
      ],
      "text/plain": [
       "<IPython.core.display.HTML object>"
      ]
     },
     "metadata": {},
     "output_type": "display_data"
    },
    {
     "data": {
      "text/html": [
       "\n",
       "                    <br/>Synced <strong style=\"color:#cdcd00\">v14</strong>: <a href=\"https://wandb.ai/pnn/l0iid_in70_out70_Tmax100--noise_dtv16sumSwish/runs/4mgmu07r\" target=\"_blank\">https://wandb.ai/pnn/l0iid_in70_out70_Tmax100--noise_dtv16sumSwish/runs/4mgmu07r</a><br/>\n",
       "                "
      ],
      "text/plain": [
       "<IPython.core.display.HTML object>"
      ]
     },
     "metadata": {},
     "output_type": "display_data"
    },
    {
     "name": "stderr",
     "output_type": "stream",
     "text": [
      "\u001b[32m[I 2021-03-17 11:10:08,122]\u001b[0m Trial 14 finished with value: 0.0001924729294842109 and parameters: {'Nlayers': 2, 'Ncoms': 2, 'identity_init': 0, 'lr': 0.01, 'Nunits1': 641.9607970252811}. Best is trial 10 with value: 0.00013303715968504548.\u001b[0m\n",
      "wandb: wandb version 0.10.22 is available!  To upgrade, please run:\n",
      "wandb:  $ pip install wandb --upgrade\n"
     ]
    },
    {
     "data": {
      "text/html": [
       "\n",
       "                Tracking run with wandb version 0.10.8<br/>\n",
       "                Syncing run <strong style=\"color:#cdcd00\">v15</strong> to <a href=\"https://wandb.ai\" target=\"_blank\">Weights & Biases</a> <a href=\"https://docs.wandb.com/integrations/jupyter.html\" target=\"_blank\">(Documentation)</a>.<br/>\n",
       "                Project page: <a href=\"https://wandb.ai/pnn/l0iid_in70_out70_Tmax100--noise_dtv16sumSwish\" target=\"_blank\">https://wandb.ai/pnn/l0iid_in70_out70_Tmax100--noise_dtv16sumSwish</a><br/>\n",
       "                Run page: <a href=\"https://wandb.ai/pnn/l0iid_in70_out70_Tmax100--noise_dtv16sumSwish/runs/qe38zzx1\" target=\"_blank\">https://wandb.ai/pnn/l0iid_in70_out70_Tmax100--noise_dtv16sumSwish/runs/qe38zzx1</a><br/>\n",
       "                Run data is saved locally in <code>wandb\\run-20210317_111008-qe38zzx1</code><br/><br/>\n",
       "            "
      ],
      "text/plain": [
       "<IPython.core.display.HTML object>"
      ]
     },
     "metadata": {},
     "output_type": "display_data"
    },
    {
     "name": "stderr",
     "output_type": "stream",
     "text": [
      "GPU available: True, used: False\n",
      "TPU available: False, using: 0 TPU cores\n",
      "C:\\Users\\lgw32\\anaconda3\\lib\\site-packages\\pytorch_lightning\\utilities\\distributed.py:37: UserWarning: Experiment logs directory logs\\l0iid_in70_out70_Tmax100--noise_dtv16sumSwish\\v15 exists and is not empty. Previous log files in this directory will be deleted when the new ones are saved!\n",
      "  warnings.warn(*args, **kwargs)\n",
      "Saving latest checkpoint..\n"
     ]
    },
    {
     "data": {
      "text/html": [
       "<br/>Waiting for W&B process to finish, PID 9292<br/>Program ended successfully."
      ],
      "text/plain": [
       "<IPython.core.display.HTML object>"
      ]
     },
     "metadata": {},
     "output_type": "display_data"
    },
    {
     "data": {
      "application/vnd.jupyter.widget-view+json": {
       "model_id": "",
       "version_major": 2,
       "version_minor": 0
      },
      "text/plain": [
       "VBox(children=(Label(value=' 0.00MB of 0.00MB uploaded (0.00MB deduped)\\r'), FloatProgress(value=1.0, max=1.0)…"
      ]
     },
     "metadata": {},
     "output_type": "display_data"
    },
    {
     "data": {
      "text/html": [
       "Find user logs for this run at: <code>wandb\\run-20210317_111008-qe38zzx1\\logs\\debug.log</code>"
      ],
      "text/plain": [
       "<IPython.core.display.HTML object>"
      ]
     },
     "metadata": {},
     "output_type": "display_data"
    },
    {
     "data": {
      "text/html": [
       "Find internal logs for this run at: <code>wandb\\run-20210317_111008-qe38zzx1\\logs\\debug-internal.log</code>"
      ],
      "text/plain": [
       "<IPython.core.display.HTML object>"
      ]
     },
     "metadata": {},
     "output_type": "display_data"
    },
    {
     "data": {
      "text/html": [
       "<h3>Run summary:</h3><br/><style>\n",
       "    table.wandb td:nth-child(1) { padding: 0 10px; text-align: right }\n",
       "    </style><table class=\"wandb\">\n",
       "<tr><td>global_step</td><td>17999</td></tr><tr><td>lr-Adam</td><td>0.0</td></tr><tr><td>_step</td><td>1999</td></tr><tr><td>_runtime</td><td>40</td></tr><tr><td>_timestamp</td><td>1615993848</td></tr><tr><td>val_loss</td><td>0.01161</td></tr><tr><td>epoch</td><td>999</td></tr></table>"
      ],
      "text/plain": [
       "<IPython.core.display.HTML object>"
      ]
     },
     "metadata": {},
     "output_type": "display_data"
    },
    {
     "data": {
      "text/html": [
       "<h3>Run history:</h3><br/><style>\n",
       "    table.wandb td:nth-child(1) { padding: 0 10px; text-align: right }\n",
       "    </style><table class=\"wandb\">\n",
       "<tr><td>global_step</td><td>▁▁▁▂▂▂▂▂▂▃▃▃▃▃▄▄▄▄▄▄▅▅▅▅▅▅▆▆▆▆▆▇▇▇▇▇▇███</td></tr><tr><td>lr-Adam</td><td>████████████▃▃▃▃▃▃▃▃▃▃▃▃▃▃▃▃▃▃▃▃▂▂▁▁▁▁▁▁</td></tr><tr><td>_step</td><td>▁▁▁▂▂▂▂▂▂▃▃▃▃▃▄▄▄▄▄▄▅▅▅▅▅▅▆▆▆▆▆▇▇▇▇▇▇███</td></tr><tr><td>_runtime</td><td>▁▁▁▂▂▂▂▂▂▃▃▃▃▃▄▄▄▄▄▄▅▅▅▅▅▅▆▆▆▆▆▇▇▇▇▇▇███</td></tr><tr><td>_timestamp</td><td>▁▁▁▂▂▂▂▂▂▃▃▃▃▃▄▄▄▄▄▄▅▅▅▅▅▅▆▆▆▆▆▇▇▇▇▇▇███</td></tr><tr><td>val_loss</td><td>█▂▂▁▁▁▁▁▁▁▁▁▁▁▁▁▁▁▁▁▁▁▁▁▁▁▁▁▁▁▁▁▁▁▁▁▁▁▁▁</td></tr><tr><td>epoch</td><td>▁▁▁▂▂▂▂▂▂▃▃▃▃▃▄▄▄▄▄▄▅▅▅▅▅▅▆▆▆▆▆▇▇▇▇▇▇███</td></tr></table><br/>"
      ],
      "text/plain": [
       "<IPython.core.display.HTML object>"
      ]
     },
     "metadata": {},
     "output_type": "display_data"
    },
    {
     "data": {
      "text/html": [
       "Synced 5 W&B file(s), 0 media file(s), 0 artifact file(s) and 0 other file(s)"
      ],
      "text/plain": [
       "<IPython.core.display.HTML object>"
      ]
     },
     "metadata": {},
     "output_type": "display_data"
    },
    {
     "data": {
      "text/html": [
       "\n",
       "                    <br/>Synced <strong style=\"color:#cdcd00\">v15</strong>: <a href=\"https://wandb.ai/pnn/l0iid_in70_out70_Tmax100--noise_dtv16sumSwish/runs/qe38zzx1\" target=\"_blank\">https://wandb.ai/pnn/l0iid_in70_out70_Tmax100--noise_dtv16sumSwish/runs/qe38zzx1</a><br/>\n",
       "                "
      ],
      "text/plain": [
       "<IPython.core.display.HTML object>"
      ]
     },
     "metadata": {},
     "output_type": "display_data"
    },
    {
     "name": "stderr",
     "output_type": "stream",
     "text": [
      "\u001b[32m[I 2021-03-17 11:10:52,260]\u001b[0m Trial 15 finished with value: 0.00013471971033141017 and parameters: {'Nlayers': 1, 'Ncoms': 5, 'identity_init': 0, 'lr': 0.000456}. Best is trial 10 with value: 0.00013303715968504548.\u001b[0m\n",
      "wandb: wandb version 0.10.22 is available!  To upgrade, please run:\n",
      "wandb:  $ pip install wandb --upgrade\n"
     ]
    },
    {
     "data": {
      "text/html": [
       "\n",
       "                Tracking run with wandb version 0.10.8<br/>\n",
       "                Syncing run <strong style=\"color:#cdcd00\">v16</strong> to <a href=\"https://wandb.ai\" target=\"_blank\">Weights & Biases</a> <a href=\"https://docs.wandb.com/integrations/jupyter.html\" target=\"_blank\">(Documentation)</a>.<br/>\n",
       "                Project page: <a href=\"https://wandb.ai/pnn/l0iid_in70_out70_Tmax100--noise_dtv16sumSwish\" target=\"_blank\">https://wandb.ai/pnn/l0iid_in70_out70_Tmax100--noise_dtv16sumSwish</a><br/>\n",
       "                Run page: <a href=\"https://wandb.ai/pnn/l0iid_in70_out70_Tmax100--noise_dtv16sumSwish/runs/1b9s7v8o\" target=\"_blank\">https://wandb.ai/pnn/l0iid_in70_out70_Tmax100--noise_dtv16sumSwish/runs/1b9s7v8o</a><br/>\n",
       "                Run data is saved locally in <code>wandb\\run-20210317_111052-1b9s7v8o</code><br/><br/>\n",
       "            "
      ],
      "text/plain": [
       "<IPython.core.display.HTML object>"
      ]
     },
     "metadata": {},
     "output_type": "display_data"
    },
    {
     "name": "stderr",
     "output_type": "stream",
     "text": [
      "GPU available: True, used: False\n",
      "TPU available: False, using: 0 TPU cores\n",
      "C:\\Users\\lgw32\\anaconda3\\lib\\site-packages\\pytorch_lightning\\utilities\\distributed.py:37: UserWarning: Experiment logs directory logs\\l0iid_in70_out70_Tmax100--noise_dtv16sumSwish\\v16 exists and is not empty. Previous log files in this directory will be deleted when the new ones are saved!\n",
      "  warnings.warn(*args, **kwargs)\n",
      "Saving latest checkpoint..\n"
     ]
    },
    {
     "data": {
      "text/html": [
       "<br/>Waiting for W&B process to finish, PID 7420<br/>Program ended successfully."
      ],
      "text/plain": [
       "<IPython.core.display.HTML object>"
      ]
     },
     "metadata": {},
     "output_type": "display_data"
    },
    {
     "data": {
      "application/vnd.jupyter.widget-view+json": {
       "model_id": "",
       "version_major": 2,
       "version_minor": 0
      },
      "text/plain": [
       "VBox(children=(Label(value=' 0.00MB of 0.00MB uploaded (0.00MB deduped)\\r'), FloatProgress(value=1.0, max=1.0)…"
      ]
     },
     "metadata": {},
     "output_type": "display_data"
    },
    {
     "data": {
      "text/html": [
       "Find user logs for this run at: <code>wandb\\run-20210317_111052-1b9s7v8o\\logs\\debug.log</code>"
      ],
      "text/plain": [
       "<IPython.core.display.HTML object>"
      ]
     },
     "metadata": {},
     "output_type": "display_data"
    },
    {
     "data": {
      "text/html": [
       "Find internal logs for this run at: <code>wandb\\run-20210317_111052-1b9s7v8o\\logs\\debug-internal.log</code>"
      ],
      "text/plain": [
       "<IPython.core.display.HTML object>"
      ]
     },
     "metadata": {},
     "output_type": "display_data"
    },
    {
     "data": {
      "text/html": [
       "<h3>Run summary:</h3><br/><style>\n",
       "    table.wandb td:nth-child(1) { padding: 0 10px; text-align: right }\n",
       "    </style><table class=\"wandb\">\n",
       "<tr><td>global_step</td><td>17999</td></tr><tr><td>lr-Adam</td><td>0.0</td></tr><tr><td>_step</td><td>1999</td></tr><tr><td>_runtime</td><td>296</td></tr><tr><td>_timestamp</td><td>1615994148</td></tr><tr><td>val_loss</td><td>0.01406</td></tr><tr><td>epoch</td><td>999</td></tr></table>"
      ],
      "text/plain": [
       "<IPython.core.display.HTML object>"
      ]
     },
     "metadata": {},
     "output_type": "display_data"
    },
    {
     "data": {
      "text/html": [
       "<h3>Run history:</h3><br/><style>\n",
       "    table.wandb td:nth-child(1) { padding: 0 10px; text-align: right }\n",
       "    </style><table class=\"wandb\">\n",
       "<tr><td>global_step</td><td>▁▁▁▂▂▂▂▂▂▃▃▃▃▃▄▄▄▄▄▄▅▅▅▅▅▅▆▆▆▆▆▇▇▇▇▇▇███</td></tr><tr><td>lr-Adam</td><td>█▃▁▁▁▁▁▁▁▁▁▁▁▁▁▁▁▁▁▁▁▁▁▁▁▁▁▁▁▁▁▁▁▁▁▁▁▁▁▁</td></tr><tr><td>_step</td><td>▁▁▁▂▂▂▂▂▂▃▃▃▃▃▄▄▄▄▄▄▅▅▅▅▅▅▆▆▆▆▆▇▇▇▇▇▇███</td></tr><tr><td>_runtime</td><td>▁▁▁▁▂▂▂▂▂▃▃▃▃▃▃▄▄▄▄▄▅▅▅▅▅▅▆▆▆▆▆▇▇▇▇▇▇███</td></tr><tr><td>_timestamp</td><td>▁▁▁▁▂▂▂▂▂▃▃▃▃▃▃▄▄▄▄▄▅▅▅▅▅▅▆▆▆▆▆▇▇▇▇▇▇███</td></tr><tr><td>val_loss</td><td>█▁▄▄▄▄▄▄▄▄▄▄▄▄▄▄▄▄▄▄▄▄▄▄▄▄▄▄▄▄▄▄▄▄▄▄▄▄▄▄</td></tr><tr><td>epoch</td><td>▁▁▁▂▂▂▂▂▂▃▃▃▃▃▄▄▄▄▄▄▅▅▅▅▅▅▆▆▆▆▆▇▇▇▇▇▇███</td></tr></table><br/>"
      ],
      "text/plain": [
       "<IPython.core.display.HTML object>"
      ]
     },
     "metadata": {},
     "output_type": "display_data"
    },
    {
     "data": {
      "text/html": [
       "Synced 5 W&B file(s), 0 media file(s), 0 artifact file(s) and 0 other file(s)"
      ],
      "text/plain": [
       "<IPython.core.display.HTML object>"
      ]
     },
     "metadata": {},
     "output_type": "display_data"
    },
    {
     "data": {
      "text/html": [
       "\n",
       "                    <br/>Synced <strong style=\"color:#cdcd00\">v16</strong>: <a href=\"https://wandb.ai/pnn/l0iid_in70_out70_Tmax100--noise_dtv16sumSwish/runs/1b9s7v8o\" target=\"_blank\">https://wandb.ai/pnn/l0iid_in70_out70_Tmax100--noise_dtv16sumSwish/runs/1b9s7v8o</a><br/>\n",
       "                "
      ],
      "text/plain": [
       "<IPython.core.display.HTML object>"
      ]
     },
     "metadata": {},
     "output_type": "display_data"
    },
    {
     "name": "stderr",
     "output_type": "stream",
     "text": [
      "\u001b[32m[I 2021-03-17 11:15:52,072]\u001b[0m Trial 16 finished with value: 0.00017862558888737112 and parameters: {'Nlayers': 5, 'Ncoms': 4, 'identity_init': 0, 'lr': 0.0031, 'Nunits1': 236.27040749379992, 'Nunits2': 163.84036352939094, 'Nunits3': 211.80844100893603, 'Nunits4': 240.89608047044325}. Best is trial 10 with value: 0.00013303715968504548.\u001b[0m\n",
      "wandb: wandb version 0.10.22 is available!  To upgrade, please run:\n",
      "wandb:  $ pip install wandb --upgrade\n"
     ]
    },
    {
     "data": {
      "text/html": [
       "\n",
       "                Tracking run with wandb version 0.10.8<br/>\n",
       "                Syncing run <strong style=\"color:#cdcd00\">v17</strong> to <a href=\"https://wandb.ai\" target=\"_blank\">Weights & Biases</a> <a href=\"https://docs.wandb.com/integrations/jupyter.html\" target=\"_blank\">(Documentation)</a>.<br/>\n",
       "                Project page: <a href=\"https://wandb.ai/pnn/l0iid_in70_out70_Tmax100--noise_dtv16sumSwish\" target=\"_blank\">https://wandb.ai/pnn/l0iid_in70_out70_Tmax100--noise_dtv16sumSwish</a><br/>\n",
       "                Run page: <a href=\"https://wandb.ai/pnn/l0iid_in70_out70_Tmax100--noise_dtv16sumSwish/runs/2ok5ppgs\" target=\"_blank\">https://wandb.ai/pnn/l0iid_in70_out70_Tmax100--noise_dtv16sumSwish/runs/2ok5ppgs</a><br/>\n",
       "                Run data is saved locally in <code>wandb\\run-20210317_111552-2ok5ppgs</code><br/><br/>\n",
       "            "
      ],
      "text/plain": [
       "<IPython.core.display.HTML object>"
      ]
     },
     "metadata": {},
     "output_type": "display_data"
    },
    {
     "name": "stderr",
     "output_type": "stream",
     "text": [
      "GPU available: True, used: False\n",
      "TPU available: False, using: 0 TPU cores\n",
      "C:\\Users\\lgw32\\anaconda3\\lib\\site-packages\\pytorch_lightning\\utilities\\distributed.py:37: UserWarning: Experiment logs directory logs\\l0iid_in70_out70_Tmax100--noise_dtv16sumSwish\\v17 exists and is not empty. Previous log files in this directory will be deleted when the new ones are saved!\n",
      "  warnings.warn(*args, **kwargs)\n",
      "Saving latest checkpoint..\n"
     ]
    },
    {
     "data": {
      "text/html": [
       "<br/>Waiting for W&B process to finish, PID 13740<br/>Program ended successfully."
      ],
      "text/plain": [
       "<IPython.core.display.HTML object>"
      ]
     },
     "metadata": {},
     "output_type": "display_data"
    },
    {
     "data": {
      "application/vnd.jupyter.widget-view+json": {
       "model_id": "",
       "version_major": 2,
       "version_minor": 0
      },
      "text/plain": [
       "VBox(children=(Label(value=' 0.00MB of 0.00MB uploaded (0.00MB deduped)\\r'), FloatProgress(value=1.0, max=1.0)…"
      ]
     },
     "metadata": {},
     "output_type": "display_data"
    },
    {
     "data": {
      "text/html": [
       "Find user logs for this run at: <code>wandb\\run-20210317_111552-2ok5ppgs\\logs\\debug.log</code>"
      ],
      "text/plain": [
       "<IPython.core.display.HTML object>"
      ]
     },
     "metadata": {},
     "output_type": "display_data"
    },
    {
     "data": {
      "text/html": [
       "Find internal logs for this run at: <code>wandb\\run-20210317_111552-2ok5ppgs\\logs\\debug-internal.log</code>"
      ],
      "text/plain": [
       "<IPython.core.display.HTML object>"
      ]
     },
     "metadata": {},
     "output_type": "display_data"
    },
    {
     "data": {
      "text/html": [
       "<h3>Run summary:</h3><br/><style>\n",
       "    table.wandb td:nth-child(1) { padding: 0 10px; text-align: right }\n",
       "    </style><table class=\"wandb\">\n",
       "<tr><td>global_step</td><td>17999</td></tr><tr><td>lr-Adam</td><td>0.0</td></tr><tr><td>_step</td><td>1999</td></tr><tr><td>_runtime</td><td>55</td></tr><tr><td>_timestamp</td><td>1615994207</td></tr><tr><td>val_loss</td><td>0.01258</td></tr><tr><td>epoch</td><td>999</td></tr></table>"
      ],
      "text/plain": [
       "<IPython.core.display.HTML object>"
      ]
     },
     "metadata": {},
     "output_type": "display_data"
    },
    {
     "data": {
      "text/html": [
       "<h3>Run history:</h3><br/><style>\n",
       "    table.wandb td:nth-child(1) { padding: 0 10px; text-align: right }\n",
       "    </style><table class=\"wandb\">\n",
       "<tr><td>global_step</td><td>▁▁▁▂▂▂▂▂▂▃▃▃▃▃▄▄▄▄▄▄▅▅▅▅▅▅▆▆▆▆▆▇▇▇▇▇▇███</td></tr><tr><td>lr-Adam</td><td>█▃▁▁▁▁▁▁▁▁▁▁▁▁▁▁▁▁▁▁▁▁▁▁▁▁▁▁▁▁▁▁▁▁▁▁▁▁▁▁</td></tr><tr><td>_step</td><td>▁▁▁▂▂▂▂▂▂▃▃▃▃▃▄▄▄▄▄▄▅▅▅▅▅▅▆▆▆▆▆▇▇▇▇▇▇███</td></tr><tr><td>_runtime</td><td>▁▁▁▁▂▂▂▂▂▃▃▃▃▃▄▄▄▄▄▄▅▅▅▅▅▅▆▆▆▆▆▇▇▇▇▇▇███</td></tr><tr><td>_timestamp</td><td>▁▁▁▁▂▂▂▂▂▃▃▃▃▃▄▄▄▄▄▄▅▅▅▅▅▅▆▆▆▆▆▇▇▇▇▇▇███</td></tr><tr><td>val_loss</td><td>█▂▁▁▁▁▁▁▁▁▁▁▁▁▁▁▁▁▁▁▁▁▁▁▁▁▁▁▁▁▁▁▁▁▁▁▁▁▁▁</td></tr><tr><td>epoch</td><td>▁▁▁▂▂▂▂▂▂▃▃▃▃▃▄▄▄▄▄▄▅▅▅▅▅▅▆▆▆▆▆▇▇▇▇▇▇███</td></tr></table><br/>"
      ],
      "text/plain": [
       "<IPython.core.display.HTML object>"
      ]
     },
     "metadata": {},
     "output_type": "display_data"
    },
    {
     "data": {
      "text/html": [
       "Synced 5 W&B file(s), 0 media file(s), 0 artifact file(s) and 0 other file(s)"
      ],
      "text/plain": [
       "<IPython.core.display.HTML object>"
      ]
     },
     "metadata": {},
     "output_type": "display_data"
    },
    {
     "data": {
      "text/html": [
       "\n",
       "                    <br/>Synced <strong style=\"color:#cdcd00\">v17</strong>: <a href=\"https://wandb.ai/pnn/l0iid_in70_out70_Tmax100--noise_dtv16sumSwish/runs/2ok5ppgs\" target=\"_blank\">https://wandb.ai/pnn/l0iid_in70_out70_Tmax100--noise_dtv16sumSwish/runs/2ok5ppgs</a><br/>\n",
       "                "
      ],
      "text/plain": [
       "<IPython.core.display.HTML object>"
      ]
     },
     "metadata": {},
     "output_type": "display_data"
    },
    {
     "name": "stderr",
     "output_type": "stream",
     "text": [
      "\u001b[32m[I 2021-03-17 11:16:51,033]\u001b[0m Trial 17 finished with value: 0.00015626738604623824 and parameters: {'Nlayers': 2, 'Ncoms': 1, 'identity_init': 1, 'lr': 0.01, 'Nunits1': 223.24359484114737}. Best is trial 10 with value: 0.00013303715968504548.\u001b[0m\n",
      "wandb: wandb version 0.10.22 is available!  To upgrade, please run:\n",
      "wandb:  $ pip install wandb --upgrade\n"
     ]
    },
    {
     "data": {
      "text/html": [
       "\n",
       "                Tracking run with wandb version 0.10.8<br/>\n",
       "                Syncing run <strong style=\"color:#cdcd00\">v18</strong> to <a href=\"https://wandb.ai\" target=\"_blank\">Weights & Biases</a> <a href=\"https://docs.wandb.com/integrations/jupyter.html\" target=\"_blank\">(Documentation)</a>.<br/>\n",
       "                Project page: <a href=\"https://wandb.ai/pnn/l0iid_in70_out70_Tmax100--noise_dtv16sumSwish\" target=\"_blank\">https://wandb.ai/pnn/l0iid_in70_out70_Tmax100--noise_dtv16sumSwish</a><br/>\n",
       "                Run page: <a href=\"https://wandb.ai/pnn/l0iid_in70_out70_Tmax100--noise_dtv16sumSwish/runs/7qrptr9g\" target=\"_blank\">https://wandb.ai/pnn/l0iid_in70_out70_Tmax100--noise_dtv16sumSwish/runs/7qrptr9g</a><br/>\n",
       "                Run data is saved locally in <code>wandb\\run-20210317_111651-7qrptr9g</code><br/><br/>\n",
       "            "
      ],
      "text/plain": [
       "<IPython.core.display.HTML object>"
      ]
     },
     "metadata": {},
     "output_type": "display_data"
    },
    {
     "name": "stderr",
     "output_type": "stream",
     "text": [
      "GPU available: True, used: False\n",
      "TPU available: False, using: 0 TPU cores\n",
      "C:\\Users\\lgw32\\anaconda3\\lib\\site-packages\\pytorch_lightning\\utilities\\distributed.py:37: UserWarning: Experiment logs directory logs\\l0iid_in70_out70_Tmax100--noise_dtv16sumSwish\\v18 exists and is not empty. Previous log files in this directory will be deleted when the new ones are saved!\n",
      "  warnings.warn(*args, **kwargs)\n",
      "Saving latest checkpoint..\n"
     ]
    },
    {
     "data": {
      "text/html": [
       "<br/>Waiting for W&B process to finish, PID 2808<br/>Program ended successfully."
      ],
      "text/plain": [
       "<IPython.core.display.HTML object>"
      ]
     },
     "metadata": {},
     "output_type": "display_data"
    },
    {
     "data": {
      "application/vnd.jupyter.widget-view+json": {
       "model_id": "",
       "version_major": 2,
       "version_minor": 0
      },
      "text/plain": [
       "VBox(children=(Label(value=' 0.00MB of 0.00MB uploaded (0.00MB deduped)\\r'), FloatProgress(value=1.0, max=1.0)…"
      ]
     },
     "metadata": {},
     "output_type": "display_data"
    },
    {
     "data": {
      "text/html": [
       "Find user logs for this run at: <code>wandb\\run-20210317_111651-7qrptr9g\\logs\\debug.log</code>"
      ],
      "text/plain": [
       "<IPython.core.display.HTML object>"
      ]
     },
     "metadata": {},
     "output_type": "display_data"
    },
    {
     "data": {
      "text/html": [
       "Find internal logs for this run at: <code>wandb\\run-20210317_111651-7qrptr9g\\logs\\debug-internal.log</code>"
      ],
      "text/plain": [
       "<IPython.core.display.HTML object>"
      ]
     },
     "metadata": {},
     "output_type": "display_data"
    },
    {
     "data": {
      "text/html": [
       "<h3>Run summary:</h3><br/><style>\n",
       "    table.wandb td:nth-child(1) { padding: 0 10px; text-align: right }\n",
       "    </style><table class=\"wandb\">\n",
       "<tr><td>global_step</td><td>17999</td></tr><tr><td>lr-Adam</td><td>0.0</td></tr><tr><td>_step</td><td>1999</td></tr><tr><td>_runtime</td><td>717</td></tr><tr><td>_timestamp</td><td>1615994928</td></tr><tr><td>val_loss</td><td>0.01273</td></tr><tr><td>epoch</td><td>999</td></tr></table>"
      ],
      "text/plain": [
       "<IPython.core.display.HTML object>"
      ]
     },
     "metadata": {},
     "output_type": "display_data"
    },
    {
     "data": {
      "text/html": [
       "<h3>Run history:</h3><br/><style>\n",
       "    table.wandb td:nth-child(1) { padding: 0 10px; text-align: right }\n",
       "    </style><table class=\"wandb\">\n",
       "<tr><td>global_step</td><td>▁▁▁▂▂▂▂▂▂▃▃▃▃▃▄▄▄▄▄▄▅▅▅▅▅▅▆▆▆▆▆▇▇▇▇▇▇███</td></tr><tr><td>lr-Adam</td><td>███████████▃▃▁▁▁▁▁▁▁▁▁▁▁▁▁▁▁▁▁▁▁▁▁▁▁▁▁▁▁</td></tr><tr><td>_step</td><td>▁▁▁▂▂▂▂▂▂▃▃▃▃▃▄▄▄▄▄▄▅▅▅▅▅▅▆▆▆▆▆▇▇▇▇▇▇███</td></tr><tr><td>_runtime</td><td>▁▁▂▂▂▂▃▃▃▃▃▄▄▄▄▄▅▅▅▅▅▅▅▆▆▆▆▆▆▇▇▇▇▇▇▇████</td></tr><tr><td>_timestamp</td><td>▁▁▂▂▂▂▃▃▃▃▃▄▄▄▄▄▅▅▅▅▅▅▅▆▆▆▆▆▆▇▇▇▇▇▇▇████</td></tr><tr><td>val_loss</td><td>█▄▂▂▁▁▁▁▁▁▁▁▁▁▁▁▁▁▁▁▁▁▁▁▁▁▁▁▁▁▁▁▁▁▁▁▁▁▁▁</td></tr><tr><td>epoch</td><td>▁▁▁▂▂▂▂▂▂▃▃▃▃▃▄▄▄▄▄▄▅▅▅▅▅▅▆▆▆▆▆▇▇▇▇▇▇███</td></tr></table><br/>"
      ],
      "text/plain": [
       "<IPython.core.display.HTML object>"
      ]
     },
     "metadata": {},
     "output_type": "display_data"
    },
    {
     "data": {
      "text/html": [
       "Synced 5 W&B file(s), 0 media file(s), 0 artifact file(s) and 0 other file(s)"
      ],
      "text/plain": [
       "<IPython.core.display.HTML object>"
      ]
     },
     "metadata": {},
     "output_type": "display_data"
    },
    {
     "data": {
      "text/html": [
       "\n",
       "                    <br/>Synced <strong style=\"color:#cdcd00\">v18</strong>: <a href=\"https://wandb.ai/pnn/l0iid_in70_out70_Tmax100--noise_dtv16sumSwish/runs/7qrptr9g\" target=\"_blank\">https://wandb.ai/pnn/l0iid_in70_out70_Tmax100--noise_dtv16sumSwish/runs/7qrptr9g</a><br/>\n",
       "                "
      ],
      "text/plain": [
       "<IPython.core.display.HTML object>"
      ]
     },
     "metadata": {},
     "output_type": "display_data"
    },
    {
     "name": "stderr",
     "output_type": "stream",
     "text": [
      "\u001b[32m[I 2021-03-17 11:28:51,393]\u001b[0m Trial 18 finished with value: 0.00016200775280594826 and parameters: {'Nlayers': 3, 'Ncoms': 5, 'identity_init': 1, 'lr': 0.0001, 'Nunits1': 741.9133749305978, 'Nunits2': 728.7873844293424}. Best is trial 10 with value: 0.00013303715968504548.\u001b[0m\n",
      "wandb: wandb version 0.10.22 is available!  To upgrade, please run:\n",
      "wandb:  $ pip install wandb --upgrade\n"
     ]
    },
    {
     "data": {
      "text/html": [
       "\n",
       "                Tracking run with wandb version 0.10.8<br/>\n",
       "                Syncing run <strong style=\"color:#cdcd00\">v19</strong> to <a href=\"https://wandb.ai\" target=\"_blank\">Weights & Biases</a> <a href=\"https://docs.wandb.com/integrations/jupyter.html\" target=\"_blank\">(Documentation)</a>.<br/>\n",
       "                Project page: <a href=\"https://wandb.ai/pnn/l0iid_in70_out70_Tmax100--noise_dtv16sumSwish\" target=\"_blank\">https://wandb.ai/pnn/l0iid_in70_out70_Tmax100--noise_dtv16sumSwish</a><br/>\n",
       "                Run page: <a href=\"https://wandb.ai/pnn/l0iid_in70_out70_Tmax100--noise_dtv16sumSwish/runs/3w12e52p\" target=\"_blank\">https://wandb.ai/pnn/l0iid_in70_out70_Tmax100--noise_dtv16sumSwish/runs/3w12e52p</a><br/>\n",
       "                Run data is saved locally in <code>wandb\\run-20210317_112851-3w12e52p</code><br/><br/>\n",
       "            "
      ],
      "text/plain": [
       "<IPython.core.display.HTML object>"
      ]
     },
     "metadata": {},
     "output_type": "display_data"
    },
    {
     "name": "stderr",
     "output_type": "stream",
     "text": [
      "GPU available: True, used: False\n",
      "TPU available: False, using: 0 TPU cores\n",
      "C:\\Users\\lgw32\\anaconda3\\lib\\site-packages\\pytorch_lightning\\utilities\\distributed.py:37: UserWarning: Experiment logs directory logs\\l0iid_in70_out70_Tmax100--noise_dtv16sumSwish\\v19 exists and is not empty. Previous log files in this directory will be deleted when the new ones are saved!\n",
      "  warnings.warn(*args, **kwargs)\n",
      "Saving latest checkpoint..\n"
     ]
    },
    {
     "data": {
      "text/html": [
       "<br/>Waiting for W&B process to finish, PID 12936<br/>Program ended successfully."
      ],
      "text/plain": [
       "<IPython.core.display.HTML object>"
      ]
     },
     "metadata": {},
     "output_type": "display_data"
    },
    {
     "data": {
      "application/vnd.jupyter.widget-view+json": {
       "model_id": "",
       "version_major": 2,
       "version_minor": 0
      },
      "text/plain": [
       "VBox(children=(Label(value=' 0.00MB of 0.00MB uploaded (0.00MB deduped)\\r'), FloatProgress(value=1.0, max=1.0)…"
      ]
     },
     "metadata": {},
     "output_type": "display_data"
    },
    {
     "data": {
      "text/html": [
       "Find user logs for this run at: <code>wandb\\run-20210317_112851-3w12e52p\\logs\\debug.log</code>"
      ],
      "text/plain": [
       "<IPython.core.display.HTML object>"
      ]
     },
     "metadata": {},
     "output_type": "display_data"
    },
    {
     "data": {
      "text/html": [
       "Find internal logs for this run at: <code>wandb\\run-20210317_112851-3w12e52p\\logs\\debug-internal.log</code>"
      ],
      "text/plain": [
       "<IPython.core.display.HTML object>"
      ]
     },
     "metadata": {},
     "output_type": "display_data"
    },
    {
     "data": {
      "text/html": [
       "<h3>Run summary:</h3><br/><style>\n",
       "    table.wandb td:nth-child(1) { padding: 0 10px; text-align: right }\n",
       "    </style><table class=\"wandb\">\n",
       "<tr><td>global_step</td><td>17999</td></tr><tr><td>lr-Adam</td><td>0.0</td></tr><tr><td>_step</td><td>1999</td></tr><tr><td>_runtime</td><td>108</td></tr><tr><td>_timestamp</td><td>1615995039</td></tr><tr><td>val_loss</td><td>0.01288</td></tr><tr><td>epoch</td><td>999</td></tr></table>"
      ],
      "text/plain": [
       "<IPython.core.display.HTML object>"
      ]
     },
     "metadata": {},
     "output_type": "display_data"
    },
    {
     "data": {
      "text/html": [
       "<h3>Run history:</h3><br/><style>\n",
       "    table.wandb td:nth-child(1) { padding: 0 10px; text-align: right }\n",
       "    </style><table class=\"wandb\">\n",
       "<tr><td>global_step</td><td>▁▁▁▂▂▂▂▂▂▃▃▃▃▃▄▄▄▄▄▄▅▅▅▅▅▅▆▆▆▆▆▇▇▇▇▇▇███</td></tr><tr><td>lr-Adam</td><td>██████▃▁▁▁▁▁▁▁▁▁▁▁▁▁▁▁▁▁▁▁▁▁▁▁▁▁▁▁▁▁▁▁▁▁</td></tr><tr><td>_step</td><td>▁▁▁▂▂▂▂▂▂▃▃▃▃▃▄▄▄▄▄▄▅▅▅▅▅▅▆▆▆▆▆▇▇▇▇▇▇███</td></tr><tr><td>_runtime</td><td>▁▁▁▁▂▂▂▂▂▂▃▃▃▃▃▃▄▄▄▄▄▅▅▅▅▅▆▆▆▆▆▆▇▇▇▇▇███</td></tr><tr><td>_timestamp</td><td>▁▁▁▁▂▂▂▂▂▂▃▃▃▃▃▃▄▄▄▄▄▅▅▅▅▅▆▆▆▆▆▆▇▇▇▇▇███</td></tr><tr><td>val_loss</td><td>█▃▂▁▁▁▁▁▁▁▁▁▁▁▁▁▁▁▁▁▁▁▁▁▁▁▁▁▁▁▁▁▁▁▁▁▁▁▁▁</td></tr><tr><td>epoch</td><td>▁▁▁▂▂▂▂▂▂▃▃▃▃▃▄▄▄▄▄▄▅▅▅▅▅▅▆▆▆▆▆▇▇▇▇▇▇███</td></tr></table><br/>"
      ],
      "text/plain": [
       "<IPython.core.display.HTML object>"
      ]
     },
     "metadata": {},
     "output_type": "display_data"
    },
    {
     "data": {
      "text/html": [
       "Synced 5 W&B file(s), 0 media file(s), 0 artifact file(s) and 0 other file(s)"
      ],
      "text/plain": [
       "<IPython.core.display.HTML object>"
      ]
     },
     "metadata": {},
     "output_type": "display_data"
    },
    {
     "data": {
      "text/html": [
       "\n",
       "                    <br/>Synced <strong style=\"color:#cdcd00\">v19</strong>: <a href=\"https://wandb.ai/pnn/l0iid_in70_out70_Tmax100--noise_dtv16sumSwish/runs/3w12e52p\" target=\"_blank\">https://wandb.ai/pnn/l0iid_in70_out70_Tmax100--noise_dtv16sumSwish/runs/3w12e52p</a><br/>\n",
       "                "
      ],
      "text/plain": [
       "<IPython.core.display.HTML object>"
      ]
     },
     "metadata": {},
     "output_type": "display_data"
    },
    {
     "name": "stderr",
     "output_type": "stream",
     "text": [
      "\u001b[32m[I 2021-03-17 11:30:42,364]\u001b[0m Trial 19 finished with value: 0.00016568721912335604 and parameters: {'Nlayers': 3, 'Ncoms': 1, 'identity_init': 0, 'lr': 0.0001, 'Nunits1': 355.80710070904894, 'Nunits2': 494.35210523842255}. Best is trial 10 with value: 0.00013303715968504548.\u001b[0m\n",
      "wandb: wandb version 0.10.22 is available!  To upgrade, please run:\n",
      "wandb:  $ pip install wandb --upgrade\n"
     ]
    },
    {
     "data": {
      "text/html": [
       "\n",
       "                Tracking run with wandb version 0.10.8<br/>\n",
       "                Syncing run <strong style=\"color:#cdcd00\">v20</strong> to <a href=\"https://wandb.ai\" target=\"_blank\">Weights & Biases</a> <a href=\"https://docs.wandb.com/integrations/jupyter.html\" target=\"_blank\">(Documentation)</a>.<br/>\n",
       "                Project page: <a href=\"https://wandb.ai/pnn/l0iid_in70_out70_Tmax100--noise_dtv16sumSwish\" target=\"_blank\">https://wandb.ai/pnn/l0iid_in70_out70_Tmax100--noise_dtv16sumSwish</a><br/>\n",
       "                Run page: <a href=\"https://wandb.ai/pnn/l0iid_in70_out70_Tmax100--noise_dtv16sumSwish/runs/1ynrz1pz\" target=\"_blank\">https://wandb.ai/pnn/l0iid_in70_out70_Tmax100--noise_dtv16sumSwish/runs/1ynrz1pz</a><br/>\n",
       "                Run data is saved locally in <code>wandb\\run-20210317_113042-1ynrz1pz</code><br/><br/>\n",
       "            "
      ],
      "text/plain": [
       "<IPython.core.display.HTML object>"
      ]
     },
     "metadata": {},
     "output_type": "display_data"
    },
    {
     "name": "stderr",
     "output_type": "stream",
     "text": [
      "GPU available: True, used: False\n",
      "TPU available: False, using: 0 TPU cores\n",
      "C:\\Users\\lgw32\\anaconda3\\lib\\site-packages\\pytorch_lightning\\utilities\\distributed.py:37: UserWarning: Experiment logs directory logs\\l0iid_in70_out70_Tmax100--noise_dtv16sumSwish\\v20 exists and is not empty. Previous log files in this directory will be deleted when the new ones are saved!\n",
      "  warnings.warn(*args, **kwargs)\n",
      "Saving latest checkpoint..\n"
     ]
    },
    {
     "data": {
      "text/html": [
       "<br/>Waiting for W&B process to finish, PID 4940<br/>Program ended successfully."
      ],
      "text/plain": [
       "<IPython.core.display.HTML object>"
      ]
     },
     "metadata": {},
     "output_type": "display_data"
    },
    {
     "data": {
      "application/vnd.jupyter.widget-view+json": {
       "model_id": "",
       "version_major": 2,
       "version_minor": 0
      },
      "text/plain": [
       "VBox(children=(Label(value=' 0.00MB of 0.00MB uploaded (0.00MB deduped)\\r'), FloatProgress(value=1.0, max=1.0)…"
      ]
     },
     "metadata": {},
     "output_type": "display_data"
    },
    {
     "data": {
      "text/html": [
       "Find user logs for this run at: <code>wandb\\run-20210317_113042-1ynrz1pz\\logs\\debug.log</code>"
      ],
      "text/plain": [
       "<IPython.core.display.HTML object>"
      ]
     },
     "metadata": {},
     "output_type": "display_data"
    },
    {
     "data": {
      "text/html": [
       "Find internal logs for this run at: <code>wandb\\run-20210317_113042-1ynrz1pz\\logs\\debug-internal.log</code>"
      ],
      "text/plain": [
       "<IPython.core.display.HTML object>"
      ]
     },
     "metadata": {},
     "output_type": "display_data"
    },
    {
     "data": {
      "text/html": [
       "<h3>Run summary:</h3><br/><style>\n",
       "    table.wandb td:nth-child(1) { padding: 0 10px; text-align: right }\n",
       "    </style><table class=\"wandb\">\n",
       "<tr><td>global_step</td><td>17999</td></tr><tr><td>lr-Adam</td><td>0.0</td></tr><tr><td>_step</td><td>1999</td></tr><tr><td>_runtime</td><td>74</td></tr><tr><td>_timestamp</td><td>1615995116</td></tr><tr><td>val_loss</td><td>0.01268</td></tr><tr><td>epoch</td><td>999</td></tr></table>"
      ],
      "text/plain": [
       "<IPython.core.display.HTML object>"
      ]
     },
     "metadata": {},
     "output_type": "display_data"
    },
    {
     "data": {
      "text/html": [
       "<h3>Run history:</h3><br/><style>\n",
       "    table.wandb td:nth-child(1) { padding: 0 10px; text-align: right }\n",
       "    </style><table class=\"wandb\">\n",
       "<tr><td>global_step</td><td>▁▁▁▂▂▂▂▂▂▃▃▃▃▃▄▄▄▄▄▄▅▅▅▅▅▅▆▆▆▆▆▇▇▇▇▇▇███</td></tr><tr><td>lr-Adam</td><td>███▃▁▁▁▁▁▁▁▁▁▁▁▁▁▁▁▁▁▁▁▁▁▁▁▁▁▁▁▁▁▁▁▁▁▁▁▁</td></tr><tr><td>_step</td><td>▁▁▁▂▂▂▂▂▂▃▃▃▃▃▄▄▄▄▄▄▅▅▅▅▅▅▆▆▆▆▆▇▇▇▇▇▇███</td></tr><tr><td>_runtime</td><td>▁▁▁▁▂▂▂▂▂▃▃▃▃▃▃▄▄▄▄▄▅▅▅▅▅▅▆▆▆▆▆▇▇▇▇▇▇███</td></tr><tr><td>_timestamp</td><td>▁▁▁▁▂▂▂▂▂▃▃▃▃▃▃▄▄▄▄▄▅▅▅▅▅▅▆▆▆▆▆▇▇▇▇▇▇███</td></tr><tr><td>val_loss</td><td>█▂▁▁▁▁▁▁▁▁▁▁▁▁▁▁▁▁▁▁▁▁▁▁▁▁▁▁▁▁▁▁▁▁▁▁▁▁▁▁</td></tr><tr><td>epoch</td><td>▁▁▁▂▂▂▂▂▂▃▃▃▃▃▄▄▄▄▄▄▅▅▅▅▅▅▆▆▆▆▆▇▇▇▇▇▇███</td></tr></table><br/>"
      ],
      "text/plain": [
       "<IPython.core.display.HTML object>"
      ]
     },
     "metadata": {},
     "output_type": "display_data"
    },
    {
     "data": {
      "text/html": [
       "Synced 5 W&B file(s), 0 media file(s), 0 artifact file(s) and 0 other file(s)"
      ],
      "text/plain": [
       "<IPython.core.display.HTML object>"
      ]
     },
     "metadata": {},
     "output_type": "display_data"
    },
    {
     "data": {
      "text/html": [
       "\n",
       "                    <br/>Synced <strong style=\"color:#cdcd00\">v20</strong>: <a href=\"https://wandb.ai/pnn/l0iid_in70_out70_Tmax100--noise_dtv16sumSwish/runs/1ynrz1pz\" target=\"_blank\">https://wandb.ai/pnn/l0iid_in70_out70_Tmax100--noise_dtv16sumSwish/runs/1ynrz1pz</a><br/>\n",
       "                "
      ],
      "text/plain": [
       "<IPython.core.display.HTML object>"
      ]
     },
     "metadata": {},
     "output_type": "display_data"
    },
    {
     "name": "stderr",
     "output_type": "stream",
     "text": [
      "\u001b[32m[I 2021-03-17 11:31:59,960]\u001b[0m Trial 20 finished with value: 0.00016018198220990598 and parameters: {'Nlayers': 2, 'Ncoms': 2, 'identity_init': 0, 'lr': 0.001, 'Nunits1': 196.22573913456003}. Best is trial 10 with value: 0.00013303715968504548.\u001b[0m\n",
      "wandb: wandb version 0.10.22 is available!  To upgrade, please run:\n",
      "wandb:  $ pip install wandb --upgrade\n"
     ]
    },
    {
     "data": {
      "text/html": [
       "\n",
       "                Tracking run with wandb version 0.10.8<br/>\n",
       "                Syncing run <strong style=\"color:#cdcd00\">v21</strong> to <a href=\"https://wandb.ai\" target=\"_blank\">Weights & Biases</a> <a href=\"https://docs.wandb.com/integrations/jupyter.html\" target=\"_blank\">(Documentation)</a>.<br/>\n",
       "                Project page: <a href=\"https://wandb.ai/pnn/l0iid_in70_out70_Tmax100--noise_dtv16sumSwish\" target=\"_blank\">https://wandb.ai/pnn/l0iid_in70_out70_Tmax100--noise_dtv16sumSwish</a><br/>\n",
       "                Run page: <a href=\"https://wandb.ai/pnn/l0iid_in70_out70_Tmax100--noise_dtv16sumSwish/runs/3cdi8av9\" target=\"_blank\">https://wandb.ai/pnn/l0iid_in70_out70_Tmax100--noise_dtv16sumSwish/runs/3cdi8av9</a><br/>\n",
       "                Run data is saved locally in <code>wandb\\run-20210317_113159-3cdi8av9</code><br/><br/>\n",
       "            "
      ],
      "text/plain": [
       "<IPython.core.display.HTML object>"
      ]
     },
     "metadata": {},
     "output_type": "display_data"
    },
    {
     "name": "stderr",
     "output_type": "stream",
     "text": [
      "GPU available: True, used: False\n",
      "TPU available: False, using: 0 TPU cores\n",
      "C:\\Users\\lgw32\\anaconda3\\lib\\site-packages\\pytorch_lightning\\utilities\\distributed.py:37: UserWarning: Experiment logs directory logs\\l0iid_in70_out70_Tmax100--noise_dtv16sumSwish\\v21 exists and is not empty. Previous log files in this directory will be deleted when the new ones are saved!\n",
      "  warnings.warn(*args, **kwargs)\n",
      "Saving latest checkpoint..\n"
     ]
    },
    {
     "data": {
      "text/html": [
       "<br/>Waiting for W&B process to finish, PID 10704<br/>Program ended successfully."
      ],
      "text/plain": [
       "<IPython.core.display.HTML object>"
      ]
     },
     "metadata": {},
     "output_type": "display_data"
    },
    {
     "data": {
      "application/vnd.jupyter.widget-view+json": {
       "model_id": "",
       "version_major": 2,
       "version_minor": 0
      },
      "text/plain": [
       "VBox(children=(Label(value=' 0.00MB of 0.00MB uploaded (0.00MB deduped)\\r'), FloatProgress(value=1.0, max=1.0)…"
      ]
     },
     "metadata": {},
     "output_type": "display_data"
    },
    {
     "data": {
      "text/html": [
       "Find user logs for this run at: <code>wandb\\run-20210317_113159-3cdi8av9\\logs\\debug.log</code>"
      ],
      "text/plain": [
       "<IPython.core.display.HTML object>"
      ]
     },
     "metadata": {},
     "output_type": "display_data"
    },
    {
     "data": {
      "text/html": [
       "Find internal logs for this run at: <code>wandb\\run-20210317_113159-3cdi8av9\\logs\\debug-internal.log</code>"
      ],
      "text/plain": [
       "<IPython.core.display.HTML object>"
      ]
     },
     "metadata": {},
     "output_type": "display_data"
    },
    {
     "data": {
      "text/html": [
       "<h3>Run summary:</h3><br/><style>\n",
       "    table.wandb td:nth-child(1) { padding: 0 10px; text-align: right }\n",
       "    </style><table class=\"wandb\">\n",
       "<tr><td>global_step</td><td>17999</td></tr><tr><td>lr-Adam</td><td>0.0</td></tr><tr><td>_step</td><td>1999</td></tr><tr><td>_runtime</td><td>374</td></tr><tr><td>_timestamp</td><td>1615995494</td></tr><tr><td>val_loss</td><td>0.01385</td></tr><tr><td>epoch</td><td>999</td></tr></table>"
      ],
      "text/plain": [
       "<IPython.core.display.HTML object>"
      ]
     },
     "metadata": {},
     "output_type": "display_data"
    },
    {
     "data": {
      "text/html": [
       "<h3>Run history:</h3><br/><style>\n",
       "    table.wandb td:nth-child(1) { padding: 0 10px; text-align: right }\n",
       "    </style><table class=\"wandb\">\n",
       "<tr><td>global_step</td><td>▁▁▁▂▂▂▂▂▂▃▃▃▃▃▄▄▄▄▄▄▅▅▅▅▅▅▆▆▆▆▆▇▇▇▇▇▇███</td></tr><tr><td>lr-Adam</td><td>██████████████▃▃▃▃▃▃▃▃▂▁▁▁▁▁▁▁▁▁▁▁▁▁▁▁▁▁</td></tr><tr><td>_step</td><td>▁▁▁▂▂▂▂▂▂▃▃▃▃▃▄▄▄▄▄▄▅▅▅▅▅▅▆▆▆▆▆▇▇▇▇▇▇███</td></tr><tr><td>_runtime</td><td>▁▁▁▂▂▂▂▃▃▃▃▃▄▄▄▄▄▅▅▅▅▅▅▆▆▆▆▆▆▇▇▇▇▇▇▇████</td></tr><tr><td>_timestamp</td><td>▁▁▁▂▂▂▂▃▃▃▃▃▄▄▄▄▄▅▅▅▅▅▅▆▆▆▆▆▆▇▇▇▇▇▇▇████</td></tr><tr><td>val_loss</td><td>█▂▂▂▂▁▁▁▁▁▁▁▁▁▁▁▁▁▁▁▁▁▁▁▁▁▁▁▁▁▁▁▁▁▁▁▁▁▁▁</td></tr><tr><td>epoch</td><td>▁▁▁▂▂▂▂▂▂▃▃▃▃▃▄▄▄▄▄▄▅▅▅▅▅▅▆▆▆▆▆▇▇▇▇▇▇███</td></tr></table><br/>"
      ],
      "text/plain": [
       "<IPython.core.display.HTML object>"
      ]
     },
     "metadata": {},
     "output_type": "display_data"
    },
    {
     "data": {
      "text/html": [
       "Synced 5 W&B file(s), 0 media file(s), 0 artifact file(s) and 0 other file(s)"
      ],
      "text/plain": [
       "<IPython.core.display.HTML object>"
      ]
     },
     "metadata": {},
     "output_type": "display_data"
    },
    {
     "data": {
      "text/html": [
       "\n",
       "                    <br/>Synced <strong style=\"color:#cdcd00\">v21</strong>: <a href=\"https://wandb.ai/pnn/l0iid_in70_out70_Tmax100--noise_dtv16sumSwish/runs/3cdi8av9\" target=\"_blank\">https://wandb.ai/pnn/l0iid_in70_out70_Tmax100--noise_dtv16sumSwish/runs/3cdi8av9</a><br/>\n",
       "                "
      ],
      "text/plain": [
       "<IPython.core.display.HTML object>"
      ]
     },
     "metadata": {},
     "output_type": "display_data"
    },
    {
     "name": "stderr",
     "output_type": "stream",
     "text": [
      "\u001b[32m[I 2021-03-17 11:38:17,971]\u001b[0m Trial 21 finished with value: 0.00019183047697879374 and parameters: {'Nlayers': 4, 'Ncoms': 5, 'identity_init': 1, 'lr': 0.0001, 'Nunits1': 397.8039741258477, 'Nunits2': 378.5542543707648, 'Nunits3': 161.76464165065042}. Best is trial 10 with value: 0.00013303715968504548.\u001b[0m\n",
      "wandb: wandb version 0.10.22 is available!  To upgrade, please run:\n",
      "wandb:  $ pip install wandb --upgrade\n"
     ]
    },
    {
     "data": {
      "text/html": [
       "\n",
       "                Tracking run with wandb version 0.10.8<br/>\n",
       "                Syncing run <strong style=\"color:#cdcd00\">v22</strong> to <a href=\"https://wandb.ai\" target=\"_blank\">Weights & Biases</a> <a href=\"https://docs.wandb.com/integrations/jupyter.html\" target=\"_blank\">(Documentation)</a>.<br/>\n",
       "                Project page: <a href=\"https://wandb.ai/pnn/l0iid_in70_out70_Tmax100--noise_dtv16sumSwish\" target=\"_blank\">https://wandb.ai/pnn/l0iid_in70_out70_Tmax100--noise_dtv16sumSwish</a><br/>\n",
       "                Run page: <a href=\"https://wandb.ai/pnn/l0iid_in70_out70_Tmax100--noise_dtv16sumSwish/runs/2emhug94\" target=\"_blank\">https://wandb.ai/pnn/l0iid_in70_out70_Tmax100--noise_dtv16sumSwish/runs/2emhug94</a><br/>\n",
       "                Run data is saved locally in <code>wandb\\run-20210317_113817-2emhug94</code><br/><br/>\n",
       "            "
      ],
      "text/plain": [
       "<IPython.core.display.HTML object>"
      ]
     },
     "metadata": {},
     "output_type": "display_data"
    },
    {
     "name": "stderr",
     "output_type": "stream",
     "text": [
      "GPU available: True, used: False\n",
      "TPU available: False, using: 0 TPU cores\n",
      "C:\\Users\\lgw32\\anaconda3\\lib\\site-packages\\pytorch_lightning\\utilities\\distributed.py:37: UserWarning: Experiment logs directory logs\\l0iid_in70_out70_Tmax100--noise_dtv16sumSwish\\v22 exists and is not empty. Previous log files in this directory will be deleted when the new ones are saved!\n",
      "  warnings.warn(*args, **kwargs)\n",
      "Saving latest checkpoint..\n"
     ]
    },
    {
     "data": {
      "text/html": [
       "<br/>Waiting for W&B process to finish, PID 6740<br/>Program ended successfully."
      ],
      "text/plain": [
       "<IPython.core.display.HTML object>"
      ]
     },
     "metadata": {},
     "output_type": "display_data"
    },
    {
     "data": {
      "application/vnd.jupyter.widget-view+json": {
       "model_id": "",
       "version_major": 2,
       "version_minor": 0
      },
      "text/plain": [
       "VBox(children=(Label(value=' 0.00MB of 0.00MB uploaded (0.00MB deduped)\\r'), FloatProgress(value=1.0, max=1.0)…"
      ]
     },
     "metadata": {},
     "output_type": "display_data"
    },
    {
     "data": {
      "text/html": [
       "Find user logs for this run at: <code>wandb\\run-20210317_113817-2emhug94\\logs\\debug.log</code>"
      ],
      "text/plain": [
       "<IPython.core.display.HTML object>"
      ]
     },
     "metadata": {},
     "output_type": "display_data"
    },
    {
     "data": {
      "text/html": [
       "Find internal logs for this run at: <code>wandb\\run-20210317_113817-2emhug94\\logs\\debug-internal.log</code>"
      ],
      "text/plain": [
       "<IPython.core.display.HTML object>"
      ]
     },
     "metadata": {},
     "output_type": "display_data"
    },
    {
     "data": {
      "text/html": [
       "<h3>Run summary:</h3><br/><style>\n",
       "    table.wandb td:nth-child(1) { padding: 0 10px; text-align: right }\n",
       "    </style><table class=\"wandb\">\n",
       "<tr><td>global_step</td><td>17999</td></tr><tr><td>lr-Adam</td><td>0.0</td></tr><tr><td>_step</td><td>1999</td></tr><tr><td>_runtime</td><td>128</td></tr><tr><td>_timestamp</td><td>1615995626</td></tr><tr><td>val_loss</td><td>0.01309</td></tr><tr><td>epoch</td><td>999</td></tr></table>"
      ],
      "text/plain": [
       "<IPython.core.display.HTML object>"
      ]
     },
     "metadata": {},
     "output_type": "display_data"
    },
    {
     "data": {
      "text/html": [
       "<h3>Run history:</h3><br/><style>\n",
       "    table.wandb td:nth-child(1) { padding: 0 10px; text-align: right }\n",
       "    </style><table class=\"wandb\">\n",
       "<tr><td>global_step</td><td>▁▁▁▂▂▂▂▂▂▃▃▃▃▃▄▄▄▄▄▄▅▅▅▅▅▅▆▆▆▆▆▇▇▇▇▇▇███</td></tr><tr><td>lr-Adam</td><td>███████████████████▂▁▁▁▁▁▁▁▁▁▁▁▁▁▁▁▁▁▁▁▁</td></tr><tr><td>_step</td><td>▁▁▁▂▂▂▂▂▂▃▃▃▃▃▄▄▄▄▄▄▅▅▅▅▅▅▆▆▆▆▆▇▇▇▇▇▇███</td></tr><tr><td>_runtime</td><td>▁▁▁▂▂▂▂▂▂▃▃▃▃▃▄▄▄▄▄▄▅▅▅▅▅▅▆▆▆▆▆▆▇▇▇▇▇███</td></tr><tr><td>_timestamp</td><td>▁▁▁▂▂▂▂▂▂▃▃▃▃▃▄▄▄▄▄▄▅▅▅▅▅▅▆▆▆▆▆▆▇▇▇▇▇███</td></tr><tr><td>val_loss</td><td>█▃▂▂▂▁▁▁▁▁▁▁▁▁▁▁▁▁▁▁▁▁▁▁▁▁▁▁▁▁▁▁▁▁▁▁▁▁▁▁</td></tr><tr><td>epoch</td><td>▁▁▁▂▂▂▂▂▂▃▃▃▃▃▄▄▄▄▄▄▅▅▅▅▅▅▆▆▆▆▆▇▇▇▇▇▇███</td></tr></table><br/>"
      ],
      "text/plain": [
       "<IPython.core.display.HTML object>"
      ]
     },
     "metadata": {},
     "output_type": "display_data"
    },
    {
     "data": {
      "text/html": [
       "Synced 5 W&B file(s), 0 media file(s), 0 artifact file(s) and 0 other file(s)"
      ],
      "text/plain": [
       "<IPython.core.display.HTML object>"
      ]
     },
     "metadata": {},
     "output_type": "display_data"
    },
    {
     "data": {
      "text/html": [
       "\n",
       "                    <br/>Synced <strong style=\"color:#cdcd00\">v22</strong>: <a href=\"https://wandb.ai/pnn/l0iid_in70_out70_Tmax100--noise_dtv16sumSwish/runs/2emhug94\" target=\"_blank\">https://wandb.ai/pnn/l0iid_in70_out70_Tmax100--noise_dtv16sumSwish/runs/2emhug94</a><br/>\n",
       "                "
      ],
      "text/plain": [
       "<IPython.core.display.HTML object>"
      ]
     },
     "metadata": {},
     "output_type": "display_data"
    },
    {
     "name": "stderr",
     "output_type": "stream",
     "text": [
      "\u001b[32m[I 2021-03-17 11:40:29,549]\u001b[0m Trial 22 finished with value: 0.00017145703895948827 and parameters: {'Nlayers': 3, 'Ncoms': 3, 'identity_init': 1, 'lr': 0.0001, 'Nunits1': 194.44921367305255, 'Nunits2': 240.0617827996588}. Best is trial 10 with value: 0.00013303715968504548.\u001b[0m\n",
      "wandb: wandb version 0.10.22 is available!  To upgrade, please run:\n",
      "wandb:  $ pip install wandb --upgrade\n"
     ]
    },
    {
     "data": {
      "text/html": [
       "\n",
       "                Tracking run with wandb version 0.10.8<br/>\n",
       "                Syncing run <strong style=\"color:#cdcd00\">v23</strong> to <a href=\"https://wandb.ai\" target=\"_blank\">Weights & Biases</a> <a href=\"https://docs.wandb.com/integrations/jupyter.html\" target=\"_blank\">(Documentation)</a>.<br/>\n",
       "                Project page: <a href=\"https://wandb.ai/pnn/l0iid_in70_out70_Tmax100--noise_dtv16sumSwish\" target=\"_blank\">https://wandb.ai/pnn/l0iid_in70_out70_Tmax100--noise_dtv16sumSwish</a><br/>\n",
       "                Run page: <a href=\"https://wandb.ai/pnn/l0iid_in70_out70_Tmax100--noise_dtv16sumSwish/runs/39znoqzg\" target=\"_blank\">https://wandb.ai/pnn/l0iid_in70_out70_Tmax100--noise_dtv16sumSwish/runs/39znoqzg</a><br/>\n",
       "                Run data is saved locally in <code>wandb\\run-20210317_114029-39znoqzg</code><br/><br/>\n",
       "            "
      ],
      "text/plain": [
       "<IPython.core.display.HTML object>"
      ]
     },
     "metadata": {},
     "output_type": "display_data"
    },
    {
     "name": "stderr",
     "output_type": "stream",
     "text": [
      "GPU available: True, used: False\n",
      "TPU available: False, using: 0 TPU cores\n",
      "C:\\Users\\lgw32\\anaconda3\\lib\\site-packages\\pytorch_lightning\\utilities\\distributed.py:37: UserWarning: Experiment logs directory logs\\l0iid_in70_out70_Tmax100--noise_dtv16sumSwish\\v23 exists and is not empty. Previous log files in this directory will be deleted when the new ones are saved!\n",
      "  warnings.warn(*args, **kwargs)\n",
      "Saving latest checkpoint..\n"
     ]
    },
    {
     "data": {
      "text/html": [
       "<br/>Waiting for W&B process to finish, PID 10104<br/>Program ended successfully."
      ],
      "text/plain": [
       "<IPython.core.display.HTML object>"
      ]
     },
     "metadata": {},
     "output_type": "display_data"
    },
    {
     "data": {
      "application/vnd.jupyter.widget-view+json": {
       "model_id": "",
       "version_major": 2,
       "version_minor": 0
      },
      "text/plain": [
       "VBox(children=(Label(value=' 0.00MB of 0.00MB uploaded (0.00MB deduped)\\r'), FloatProgress(value=1.0, max=1.0)…"
      ]
     },
     "metadata": {},
     "output_type": "display_data"
    },
    {
     "data": {
      "text/html": [
       "Find user logs for this run at: <code>wandb\\run-20210317_114029-39znoqzg\\logs\\debug.log</code>"
      ],
      "text/plain": [
       "<IPython.core.display.HTML object>"
      ]
     },
     "metadata": {},
     "output_type": "display_data"
    },
    {
     "data": {
      "text/html": [
       "Find internal logs for this run at: <code>wandb\\run-20210317_114029-39znoqzg\\logs\\debug-internal.log</code>"
      ],
      "text/plain": [
       "<IPython.core.display.HTML object>"
      ]
     },
     "metadata": {},
     "output_type": "display_data"
    },
    {
     "data": {
      "text/html": [
       "<h3>Run summary:</h3><br/><style>\n",
       "    table.wandb td:nth-child(1) { padding: 0 10px; text-align: right }\n",
       "    </style><table class=\"wandb\">\n",
       "<tr><td>global_step</td><td>17999</td></tr><tr><td>lr-Adam</td><td>0.0</td></tr><tr><td>_step</td><td>1999</td></tr><tr><td>_runtime</td><td>113</td></tr><tr><td>_timestamp</td><td>1615995742</td></tr><tr><td>val_loss</td><td>0.01336</td></tr><tr><td>epoch</td><td>999</td></tr></table>"
      ],
      "text/plain": [
       "<IPython.core.display.HTML object>"
      ]
     },
     "metadata": {},
     "output_type": "display_data"
    },
    {
     "data": {
      "text/html": [
       "<h3>Run history:</h3><br/><style>\n",
       "    table.wandb td:nth-child(1) { padding: 0 10px; text-align: right }\n",
       "    </style><table class=\"wandb\">\n",
       "<tr><td>global_step</td><td>▁▁▁▂▂▂▂▂▂▃▃▃▃▃▄▄▄▄▄▄▅▅▅▅▅▅▆▆▆▆▆▇▇▇▇▇▇███</td></tr><tr><td>lr-Adam</td><td>█▃▁▁▁▁▁▁▁▁▁▁▁▁▁▁▁▁▁▁▁▁▁▁▁▁▁▁▁▁▁▁▁▁▁▁▁▁▁▁</td></tr><tr><td>_step</td><td>▁▁▁▂▂▂▂▂▂▃▃▃▃▃▄▄▄▄▄▄▅▅▅▅▅▅▆▆▆▆▆▇▇▇▇▇▇███</td></tr><tr><td>_runtime</td><td>▁▁▁▂▂▂▂▂▂▃▃▃▃▃▄▄▄▄▄▅▅▅▅▅▅▆▆▆▆▆▆▇▇▇▇▇▇███</td></tr><tr><td>_timestamp</td><td>▁▁▁▂▂▂▂▂▂▃▃▃▃▃▄▄▄▄▄▅▅▅▅▅▅▆▆▆▆▆▆▇▇▇▇▇▇███</td></tr><tr><td>val_loss</td><td>█▁▅▅▅▅▅▅▅▅▅▅▅▅▅▅▅▅▅▅▅▅▅▅▅▅▅▅▅▅▅▅▅▅▅▅▅▅▅▅</td></tr><tr><td>epoch</td><td>▁▁▁▂▂▂▂▂▂▃▃▃▃▃▄▄▄▄▄▄▅▅▅▅▅▅▆▆▆▆▆▇▇▇▇▇▇███</td></tr></table><br/>"
      ],
      "text/plain": [
       "<IPython.core.display.HTML object>"
      ]
     },
     "metadata": {},
     "output_type": "display_data"
    },
    {
     "data": {
      "text/html": [
       "Synced 5 W&B file(s), 0 media file(s), 0 artifact file(s) and 0 other file(s)"
      ],
      "text/plain": [
       "<IPython.core.display.HTML object>"
      ]
     },
     "metadata": {},
     "output_type": "display_data"
    },
    {
     "data": {
      "text/html": [
       "\n",
       "                    <br/>Synced <strong style=\"color:#cdcd00\">v23</strong>: <a href=\"https://wandb.ai/pnn/l0iid_in70_out70_Tmax100--noise_dtv16sumSwish/runs/39znoqzg\" target=\"_blank\">https://wandb.ai/pnn/l0iid_in70_out70_Tmax100--noise_dtv16sumSwish/runs/39znoqzg</a><br/>\n",
       "                "
      ],
      "text/plain": [
       "<IPython.core.display.HTML object>"
      ]
     },
     "metadata": {},
     "output_type": "display_data"
    },
    {
     "name": "stderr",
     "output_type": "stream",
     "text": [
      "\u001b[32m[I 2021-03-17 11:42:25,425]\u001b[0m Trial 23 finished with value: 0.00017103063873946667 and parameters: {'Nlayers': 4, 'Ncoms': 1, 'identity_init': 0, 'lr': 0.001, 'Nunits1': 611.4863004520622, 'Nunits2': 352.56225372278556, 'Nunits3': 228.13117325626698}. Best is trial 10 with value: 0.00013303715968504548.\u001b[0m\n",
      "wandb: wandb version 0.10.22 is available!  To upgrade, please run:\n",
      "wandb:  $ pip install wandb --upgrade\n"
     ]
    },
    {
     "data": {
      "text/html": [
       "\n",
       "                Tracking run with wandb version 0.10.8<br/>\n",
       "                Syncing run <strong style=\"color:#cdcd00\">v24</strong> to <a href=\"https://wandb.ai\" target=\"_blank\">Weights & Biases</a> <a href=\"https://docs.wandb.com/integrations/jupyter.html\" target=\"_blank\">(Documentation)</a>.<br/>\n",
       "                Project page: <a href=\"https://wandb.ai/pnn/l0iid_in70_out70_Tmax100--noise_dtv16sumSwish\" target=\"_blank\">https://wandb.ai/pnn/l0iid_in70_out70_Tmax100--noise_dtv16sumSwish</a><br/>\n",
       "                Run page: <a href=\"https://wandb.ai/pnn/l0iid_in70_out70_Tmax100--noise_dtv16sumSwish/runs/15nrwsep\" target=\"_blank\">https://wandb.ai/pnn/l0iid_in70_out70_Tmax100--noise_dtv16sumSwish/runs/15nrwsep</a><br/>\n",
       "                Run data is saved locally in <code>wandb\\run-20210317_114225-15nrwsep</code><br/><br/>\n",
       "            "
      ],
      "text/plain": [
       "<IPython.core.display.HTML object>"
      ]
     },
     "metadata": {},
     "output_type": "display_data"
    },
    {
     "name": "stderr",
     "output_type": "stream",
     "text": [
      "GPU available: True, used: False\n",
      "TPU available: False, using: 0 TPU cores\n",
      "C:\\Users\\lgw32\\anaconda3\\lib\\site-packages\\pytorch_lightning\\utilities\\distributed.py:37: UserWarning: Experiment logs directory logs\\l0iid_in70_out70_Tmax100--noise_dtv16sumSwish\\v24 exists and is not empty. Previous log files in this directory will be deleted when the new ones are saved!\n",
      "  warnings.warn(*args, **kwargs)\n",
      "Saving latest checkpoint..\n"
     ]
    },
    {
     "data": {
      "text/html": [
       "<br/>Waiting for W&B process to finish, PID 11024<br/>Program ended successfully."
      ],
      "text/plain": [
       "<IPython.core.display.HTML object>"
      ]
     },
     "metadata": {},
     "output_type": "display_data"
    },
    {
     "data": {
      "application/vnd.jupyter.widget-view+json": {
       "model_id": "",
       "version_major": 2,
       "version_minor": 0
      },
      "text/plain": [
       "VBox(children=(Label(value=' 0.00MB of 0.00MB uploaded (0.00MB deduped)\\r'), FloatProgress(value=1.0, max=1.0)…"
      ]
     },
     "metadata": {},
     "output_type": "display_data"
    },
    {
     "data": {
      "text/html": [
       "Find user logs for this run at: <code>wandb\\run-20210317_114225-15nrwsep\\logs\\debug.log</code>"
      ],
      "text/plain": [
       "<IPython.core.display.HTML object>"
      ]
     },
     "metadata": {},
     "output_type": "display_data"
    },
    {
     "data": {
      "text/html": [
       "Find internal logs for this run at: <code>wandb\\run-20210317_114225-15nrwsep\\logs\\debug-internal.log</code>"
      ],
      "text/plain": [
       "<IPython.core.display.HTML object>"
      ]
     },
     "metadata": {},
     "output_type": "display_data"
    },
    {
     "data": {
      "text/html": [
       "<h3>Run summary:</h3><br/><style>\n",
       "    table.wandb td:nth-child(1) { padding: 0 10px; text-align: right }\n",
       "    </style><table class=\"wandb\">\n",
       "<tr><td>global_step</td><td>17999</td></tr><tr><td>lr-Adam</td><td>0.0</td></tr><tr><td>_step</td><td>1999</td></tr><tr><td>_runtime</td><td>39</td></tr><tr><td>_timestamp</td><td>1615995784</td></tr><tr><td>val_loss</td><td>0.01152</td></tr><tr><td>epoch</td><td>999</td></tr></table>"
      ],
      "text/plain": [
       "<IPython.core.display.HTML object>"
      ]
     },
     "metadata": {},
     "output_type": "display_data"
    },
    {
     "data": {
      "text/html": [
       "<h3>Run history:</h3><br/><style>\n",
       "    table.wandb td:nth-child(1) { padding: 0 10px; text-align: right }\n",
       "    </style><table class=\"wandb\">\n",
       "<tr><td>global_step</td><td>▁▁▁▂▂▂▂▂▂▃▃▃▃▃▄▄▄▄▄▄▅▅▅▅▅▅▆▆▆▆▆▇▇▇▇▇▇███</td></tr><tr><td>lr-Adam</td><td>██▃▃▂▂▂▂▂▁▁▁▁▁▁▁▁▁▁▁▁▁▁▁▁▁▁▁▁▁▁▁▁▁▁▁▁▁▁▁</td></tr><tr><td>_step</td><td>▁▁▁▂▂▂▂▂▂▃▃▃▃▃▄▄▄▄▄▄▅▅▅▅▅▅▆▆▆▆▆▇▇▇▇▇▇███</td></tr><tr><td>_runtime</td><td>▁▁▁▁▂▂▂▂▂▂▃▃▃▃▃▃▄▄▄▄▄▅▅▅▅▅▆▆▆▆▆▆▇▇▇▇▇███</td></tr><tr><td>_timestamp</td><td>▁▁▁▁▂▂▂▂▂▂▃▃▃▃▃▃▄▄▄▄▄▅▅▅▅▅▆▆▆▆▆▆▇▇▇▇▇███</td></tr><tr><td>val_loss</td><td>█▃▁▁▁▁▁▁▁▁▁▁▁▁▁▁▁▁▁▁▁▁▁▁▁▁▁▁▁▁▁▁▁▁▁▁▁▁▁▁</td></tr><tr><td>epoch</td><td>▁▁▁▂▂▂▂▂▂▃▃▃▃▃▄▄▄▄▄▄▅▅▅▅▅▅▆▆▆▆▆▇▇▇▇▇▇███</td></tr></table><br/>"
      ],
      "text/plain": [
       "<IPython.core.display.HTML object>"
      ]
     },
     "metadata": {},
     "output_type": "display_data"
    },
    {
     "data": {
      "text/html": [
       "Synced 5 W&B file(s), 0 media file(s), 0 artifact file(s) and 0 other file(s)"
      ],
      "text/plain": [
       "<IPython.core.display.HTML object>"
      ]
     },
     "metadata": {},
     "output_type": "display_data"
    },
    {
     "data": {
      "text/html": [
       "\n",
       "                    <br/>Synced <strong style=\"color:#cdcd00\">v24</strong>: <a href=\"https://wandb.ai/pnn/l0iid_in70_out70_Tmax100--noise_dtv16sumSwish/runs/15nrwsep\" target=\"_blank\">https://wandb.ai/pnn/l0iid_in70_out70_Tmax100--noise_dtv16sumSwish/runs/15nrwsep</a><br/>\n",
       "                "
      ],
      "text/plain": [
       "<IPython.core.display.HTML object>"
      ]
     },
     "metadata": {},
     "output_type": "display_data"
    },
    {
     "name": "stderr",
     "output_type": "stream",
     "text": [
      "\u001b[32m[I 2021-03-17 11:43:07,748]\u001b[0m Trial 24 finished with value: 0.0001326845376752317 and parameters: {'Nlayers': 1, 'Ncoms': 2, 'identity_init': 0, 'lr': 0.0031}. Best is trial 24 with value: 0.0001326845376752317.\u001b[0m\n",
      "wandb: wandb version 0.10.22 is available!  To upgrade, please run:\n",
      "wandb:  $ pip install wandb --upgrade\n"
     ]
    },
    {
     "data": {
      "text/html": [
       "\n",
       "                Tracking run with wandb version 0.10.8<br/>\n",
       "                Syncing run <strong style=\"color:#cdcd00\">v25</strong> to <a href=\"https://wandb.ai\" target=\"_blank\">Weights & Biases</a> <a href=\"https://docs.wandb.com/integrations/jupyter.html\" target=\"_blank\">(Documentation)</a>.<br/>\n",
       "                Project page: <a href=\"https://wandb.ai/pnn/l0iid_in70_out70_Tmax100--noise_dtv16sumSwish\" target=\"_blank\">https://wandb.ai/pnn/l0iid_in70_out70_Tmax100--noise_dtv16sumSwish</a><br/>\n",
       "                Run page: <a href=\"https://wandb.ai/pnn/l0iid_in70_out70_Tmax100--noise_dtv16sumSwish/runs/3rr1e3et\" target=\"_blank\">https://wandb.ai/pnn/l0iid_in70_out70_Tmax100--noise_dtv16sumSwish/runs/3rr1e3et</a><br/>\n",
       "                Run data is saved locally in <code>wandb\\run-20210317_114307-3rr1e3et</code><br/><br/>\n",
       "            "
      ],
      "text/plain": [
       "<IPython.core.display.HTML object>"
      ]
     },
     "metadata": {},
     "output_type": "display_data"
    },
    {
     "name": "stderr",
     "output_type": "stream",
     "text": [
      "GPU available: True, used: False\n",
      "TPU available: False, using: 0 TPU cores\n",
      "C:\\Users\\lgw32\\anaconda3\\lib\\site-packages\\pytorch_lightning\\utilities\\distributed.py:37: UserWarning: Experiment logs directory logs\\l0iid_in70_out70_Tmax100--noise_dtv16sumSwish\\v25 exists and is not empty. Previous log files in this directory will be deleted when the new ones are saved!\n",
      "  warnings.warn(*args, **kwargs)\n",
      "Saving latest checkpoint..\n"
     ]
    },
    {
     "data": {
      "text/html": [
       "<br/>Waiting for W&B process to finish, PID 7060<br/>Program ended successfully."
      ],
      "text/plain": [
       "<IPython.core.display.HTML object>"
      ]
     },
     "metadata": {},
     "output_type": "display_data"
    },
    {
     "data": {
      "application/vnd.jupyter.widget-view+json": {
       "model_id": "",
       "version_major": 2,
       "version_minor": 0
      },
      "text/plain": [
       "VBox(children=(Label(value=' 0.00MB of 0.00MB uploaded (0.00MB deduped)\\r'), FloatProgress(value=1.0, max=1.0)…"
      ]
     },
     "metadata": {},
     "output_type": "display_data"
    },
    {
     "data": {
      "text/html": [
       "Find user logs for this run at: <code>wandb\\run-20210317_114307-3rr1e3et\\logs\\debug.log</code>"
      ],
      "text/plain": [
       "<IPython.core.display.HTML object>"
      ]
     },
     "metadata": {},
     "output_type": "display_data"
    },
    {
     "data": {
      "text/html": [
       "Find internal logs for this run at: <code>wandb\\run-20210317_114307-3rr1e3et\\logs\\debug-internal.log</code>"
      ],
      "text/plain": [
       "<IPython.core.display.HTML object>"
      ]
     },
     "metadata": {},
     "output_type": "display_data"
    },
    {
     "data": {
      "text/html": [
       "<h3>Run summary:</h3><br/><style>\n",
       "    table.wandb td:nth-child(1) { padding: 0 10px; text-align: right }\n",
       "    </style><table class=\"wandb\">\n",
       "<tr><td>global_step</td><td>17999</td></tr><tr><td>lr-Adam</td><td>0.0</td></tr><tr><td>_step</td><td>1999</td></tr><tr><td>_runtime</td><td>154</td></tr><tr><td>_timestamp</td><td>1615995941</td></tr><tr><td>val_loss</td><td>0.01213</td></tr><tr><td>epoch</td><td>999</td></tr></table>"
      ],
      "text/plain": [
       "<IPython.core.display.HTML object>"
      ]
     },
     "metadata": {},
     "output_type": "display_data"
    },
    {
     "data": {
      "text/html": [
       "<h3>Run history:</h3><br/><style>\n",
       "    table.wandb td:nth-child(1) { padding: 0 10px; text-align: right }\n",
       "    </style><table class=\"wandb\">\n",
       "<tr><td>global_step</td><td>▁▁▁▂▂▂▂▂▂▃▃▃▃▃▄▄▄▄▄▄▅▅▅▅▅▅▆▆▆▆▆▇▇▇▇▇▇███</td></tr><tr><td>lr-Adam</td><td>██████▃▂▂▂▂▁▁▁▁▁▁▁▁▁▁▁▁▁▁▁▁▁▁▁▁▁▁▁▁▁▁▁▁▁</td></tr><tr><td>_step</td><td>▁▁▁▂▂▂▂▂▂▃▃▃▃▃▄▄▄▄▄▄▅▅▅▅▅▅▆▆▆▆▆▇▇▇▇▇▇███</td></tr><tr><td>_runtime</td><td>▁▁▁▂▂▂▂▂▂▃▃▃▃▃▄▄▄▄▄▄▅▅▅▅▅▅▆▆▆▆▆▆▇▇▇▇▇███</td></tr><tr><td>_timestamp</td><td>▁▁▁▂▂▂▂▂▂▃▃▃▃▃▄▄▄▄▄▄▅▅▅▅▅▅▆▆▆▆▆▆▇▇▇▇▇███</td></tr><tr><td>val_loss</td><td>█▃▂▁▁▁▁▁▁▁▁▁▁▁▁▁▁▁▁▁▁▁▁▁▁▁▁▁▁▁▁▁▁▁▁▁▁▁▁▁</td></tr><tr><td>epoch</td><td>▁▁▁▂▂▂▂▂▂▃▃▃▃▃▄▄▄▄▄▄▅▅▅▅▅▅▆▆▆▆▆▇▇▇▇▇▇███</td></tr></table><br/>"
      ],
      "text/plain": [
       "<IPython.core.display.HTML object>"
      ]
     },
     "metadata": {},
     "output_type": "display_data"
    },
    {
     "data": {
      "text/html": [
       "Synced 5 W&B file(s), 0 media file(s), 0 artifact file(s) and 0 other file(s)"
      ],
      "text/plain": [
       "<IPython.core.display.HTML object>"
      ]
     },
     "metadata": {},
     "output_type": "display_data"
    },
    {
     "data": {
      "text/html": [
       "\n",
       "                    <br/>Synced <strong style=\"color:#cdcd00\">v25</strong>: <a href=\"https://wandb.ai/pnn/l0iid_in70_out70_Tmax100--noise_dtv16sumSwish/runs/3rr1e3et\" target=\"_blank\">https://wandb.ai/pnn/l0iid_in70_out70_Tmax100--noise_dtv16sumSwish/runs/3rr1e3et</a><br/>\n",
       "                "
      ],
      "text/plain": [
       "<IPython.core.display.HTML object>"
      ]
     },
     "metadata": {},
     "output_type": "display_data"
    },
    {
     "name": "stderr",
     "output_type": "stream",
     "text": [
      "\u001b[32m[I 2021-03-17 11:45:44,479]\u001b[0m Trial 25 finished with value: 0.00014713755808770657 and parameters: {'Nlayers': 2, 'Ncoms': 5, 'identity_init': 1, 'lr': 0.000456, 'Nunits1': 712.88678066906}. Best is trial 24 with value: 0.0001326845376752317.\u001b[0m\n",
      "wandb: wandb version 0.10.22 is available!  To upgrade, please run:\n",
      "wandb:  $ pip install wandb --upgrade\n"
     ]
    },
    {
     "data": {
      "text/html": [
       "\n",
       "                Tracking run with wandb version 0.10.8<br/>\n",
       "                Syncing run <strong style=\"color:#cdcd00\">v26</strong> to <a href=\"https://wandb.ai\" target=\"_blank\">Weights & Biases</a> <a href=\"https://docs.wandb.com/integrations/jupyter.html\" target=\"_blank\">(Documentation)</a>.<br/>\n",
       "                Project page: <a href=\"https://wandb.ai/pnn/l0iid_in70_out70_Tmax100--noise_dtv16sumSwish\" target=\"_blank\">https://wandb.ai/pnn/l0iid_in70_out70_Tmax100--noise_dtv16sumSwish</a><br/>\n",
       "                Run page: <a href=\"https://wandb.ai/pnn/l0iid_in70_out70_Tmax100--noise_dtv16sumSwish/runs/6cavxb76\" target=\"_blank\">https://wandb.ai/pnn/l0iid_in70_out70_Tmax100--noise_dtv16sumSwish/runs/6cavxb76</a><br/>\n",
       "                Run data is saved locally in <code>wandb\\run-20210317_114544-6cavxb76</code><br/><br/>\n",
       "            "
      ],
      "text/plain": [
       "<IPython.core.display.HTML object>"
      ]
     },
     "metadata": {},
     "output_type": "display_data"
    },
    {
     "name": "stderr",
     "output_type": "stream",
     "text": [
      "GPU available: True, used: False\n",
      "TPU available: False, using: 0 TPU cores\n",
      "C:\\Users\\lgw32\\anaconda3\\lib\\site-packages\\pytorch_lightning\\utilities\\distributed.py:37: UserWarning: Experiment logs directory logs\\l0iid_in70_out70_Tmax100--noise_dtv16sumSwish\\v26 exists and is not empty. Previous log files in this directory will be deleted when the new ones are saved!\n",
      "  warnings.warn(*args, **kwargs)\n",
      "Saving latest checkpoint..\n"
     ]
    },
    {
     "data": {
      "text/html": [
       "<br/>Waiting for W&B process to finish, PID 10308<br/>Program ended successfully."
      ],
      "text/plain": [
       "<IPython.core.display.HTML object>"
      ]
     },
     "metadata": {},
     "output_type": "display_data"
    },
    {
     "data": {
      "application/vnd.jupyter.widget-view+json": {
       "model_id": "",
       "version_major": 2,
       "version_minor": 0
      },
      "text/plain": [
       "VBox(children=(Label(value=' 0.00MB of 0.00MB uploaded (0.00MB deduped)\\r'), FloatProgress(value=1.0, max=1.0)…"
      ]
     },
     "metadata": {},
     "output_type": "display_data"
    },
    {
     "data": {
      "text/html": [
       "Find user logs for this run at: <code>wandb\\run-20210317_114544-6cavxb76\\logs\\debug.log</code>"
      ],
      "text/plain": [
       "<IPython.core.display.HTML object>"
      ]
     },
     "metadata": {},
     "output_type": "display_data"
    },
    {
     "data": {
      "text/html": [
       "Find internal logs for this run at: <code>wandb\\run-20210317_114544-6cavxb76\\logs\\debug-internal.log</code>"
      ],
      "text/plain": [
       "<IPython.core.display.HTML object>"
      ]
     },
     "metadata": {},
     "output_type": "display_data"
    },
    {
     "data": {
      "text/html": [
       "<h3>Run summary:</h3><br/><style>\n",
       "    table.wandb td:nth-child(1) { padding: 0 10px; text-align: right }\n",
       "    </style><table class=\"wandb\">\n",
       "<tr><td>global_step</td><td>17999</td></tr><tr><td>lr-Adam</td><td>0.0</td></tr><tr><td>_step</td><td>1999</td></tr><tr><td>_runtime</td><td>40</td></tr><tr><td>_timestamp</td><td>1615995984</td></tr><tr><td>val_loss</td><td>0.01155</td></tr><tr><td>epoch</td><td>999</td></tr></table>"
      ],
      "text/plain": [
       "<IPython.core.display.HTML object>"
      ]
     },
     "metadata": {},
     "output_type": "display_data"
    },
    {
     "data": {
      "text/html": [
       "<h3>Run history:</h3><br/><style>\n",
       "    table.wandb td:nth-child(1) { padding: 0 10px; text-align: right }\n",
       "    </style><table class=\"wandb\">\n",
       "<tr><td>global_step</td><td>▁▁▁▂▂▂▂▂▂▃▃▃▃▃▄▄▄▄▄▄▅▅▅▅▅▅▆▆▆▆▆▇▇▇▇▇▇███</td></tr><tr><td>lr-Adam</td><td>████████████▃▃▃▃▃▃▃▃▃▃▃▃▃▃▃▃▃▃▃▃▃▂▂▁▁▁▁▁</td></tr><tr><td>_step</td><td>▁▁▁▂▂▂▂▂▂▃▃▃▃▃▄▄▄▄▄▄▅▅▅▅▅▅▆▆▆▆▆▇▇▇▇▇▇███</td></tr><tr><td>_runtime</td><td>▁▁▁▁▂▂▂▂▂▂▃▃▃▃▃▄▄▄▄▄▄▅▅▅▅▅▅▆▆▆▆▇▇▇▇▇▇███</td></tr><tr><td>_timestamp</td><td>▁▁▁▁▂▂▂▂▂▂▃▃▃▃▃▄▄▄▄▄▄▅▅▅▅▅▅▆▆▆▆▇▇▇▇▇▇███</td></tr><tr><td>val_loss</td><td>█▂▂▁▁▁▁▁▁▁▁▁▁▁▁▁▁▁▁▁▁▁▁▁▁▁▁▁▁▁▁▁▁▁▁▁▁▁▁▁</td></tr><tr><td>epoch</td><td>▁▁▁▂▂▂▂▂▂▃▃▃▃▃▄▄▄▄▄▄▅▅▅▅▅▅▆▆▆▆▆▇▇▇▇▇▇███</td></tr></table><br/>"
      ],
      "text/plain": [
       "<IPython.core.display.HTML object>"
      ]
     },
     "metadata": {},
     "output_type": "display_data"
    },
    {
     "data": {
      "text/html": [
       "Synced 5 W&B file(s), 0 media file(s), 0 artifact file(s) and 0 other file(s)"
      ],
      "text/plain": [
       "<IPython.core.display.HTML object>"
      ]
     },
     "metadata": {},
     "output_type": "display_data"
    },
    {
     "data": {
      "text/html": [
       "\n",
       "                    <br/>Synced <strong style=\"color:#cdcd00\">v26</strong>: <a href=\"https://wandb.ai/pnn/l0iid_in70_out70_Tmax100--noise_dtv16sumSwish/runs/6cavxb76\" target=\"_blank\">https://wandb.ai/pnn/l0iid_in70_out70_Tmax100--noise_dtv16sumSwish/runs/6cavxb76</a><br/>\n",
       "                "
      ],
      "text/plain": [
       "<IPython.core.display.HTML object>"
      ]
     },
     "metadata": {},
     "output_type": "display_data"
    },
    {
     "name": "stderr",
     "output_type": "stream",
     "text": [
      "\u001b[32m[I 2021-03-17 11:46:27,533]\u001b[0m Trial 26 finished with value: 0.000133460751385428 and parameters: {'Nlayers': 1, 'Ncoms': 4, 'identity_init': 1, 'lr': 0.000456}. Best is trial 24 with value: 0.0001326845376752317.\u001b[0m\n",
      "wandb: wandb version 0.10.22 is available!  To upgrade, please run:\n",
      "wandb:  $ pip install wandb --upgrade\n"
     ]
    },
    {
     "data": {
      "text/html": [
       "\n",
       "                Tracking run with wandb version 0.10.8<br/>\n",
       "                Syncing run <strong style=\"color:#cdcd00\">v27</strong> to <a href=\"https://wandb.ai\" target=\"_blank\">Weights & Biases</a> <a href=\"https://docs.wandb.com/integrations/jupyter.html\" target=\"_blank\">(Documentation)</a>.<br/>\n",
       "                Project page: <a href=\"https://wandb.ai/pnn/l0iid_in70_out70_Tmax100--noise_dtv16sumSwish\" target=\"_blank\">https://wandb.ai/pnn/l0iid_in70_out70_Tmax100--noise_dtv16sumSwish</a><br/>\n",
       "                Run page: <a href=\"https://wandb.ai/pnn/l0iid_in70_out70_Tmax100--noise_dtv16sumSwish/runs/xp7g3mmt\" target=\"_blank\">https://wandb.ai/pnn/l0iid_in70_out70_Tmax100--noise_dtv16sumSwish/runs/xp7g3mmt</a><br/>\n",
       "                Run data is saved locally in <code>wandb\\run-20210317_114627-xp7g3mmt</code><br/><br/>\n",
       "            "
      ],
      "text/plain": [
       "<IPython.core.display.HTML object>"
      ]
     },
     "metadata": {},
     "output_type": "display_data"
    },
    {
     "name": "stderr",
     "output_type": "stream",
     "text": [
      "GPU available: True, used: False\n",
      "TPU available: False, using: 0 TPU cores\n",
      "C:\\Users\\lgw32\\anaconda3\\lib\\site-packages\\pytorch_lightning\\utilities\\distributed.py:37: UserWarning: Experiment logs directory logs\\l0iid_in70_out70_Tmax100--noise_dtv16sumSwish\\v27 exists and is not empty. Previous log files in this directory will be deleted when the new ones are saved!\n",
      "  warnings.warn(*args, **kwargs)\n",
      "Saving latest checkpoint..\n"
     ]
    },
    {
     "data": {
      "text/html": [
       "<br/>Waiting for W&B process to finish, PID 13388<br/>Program ended successfully."
      ],
      "text/plain": [
       "<IPython.core.display.HTML object>"
      ]
     },
     "metadata": {},
     "output_type": "display_data"
    },
    {
     "data": {
      "application/vnd.jupyter.widget-view+json": {
       "model_id": "",
       "version_major": 2,
       "version_minor": 0
      },
      "text/plain": [
       "VBox(children=(Label(value=' 0.00MB of 0.00MB uploaded (0.00MB deduped)\\r'), FloatProgress(value=1.0, max=1.0)…"
      ]
     },
     "metadata": {},
     "output_type": "display_data"
    },
    {
     "data": {
      "text/html": [
       "Find user logs for this run at: <code>wandb\\run-20210317_114627-xp7g3mmt\\logs\\debug.log</code>"
      ],
      "text/plain": [
       "<IPython.core.display.HTML object>"
      ]
     },
     "metadata": {},
     "output_type": "display_data"
    },
    {
     "data": {
      "text/html": [
       "Find internal logs for this run at: <code>wandb\\run-20210317_114627-xp7g3mmt\\logs\\debug-internal.log</code>"
      ],
      "text/plain": [
       "<IPython.core.display.HTML object>"
      ]
     },
     "metadata": {},
     "output_type": "display_data"
    },
    {
     "data": {
      "text/html": [
       "<h3>Run summary:</h3><br/><style>\n",
       "    table.wandb td:nth-child(1) { padding: 0 10px; text-align: right }\n",
       "    </style><table class=\"wandb\">\n",
       "<tr><td>global_step</td><td>17999</td></tr><tr><td>lr-Adam</td><td>0.0</td></tr><tr><td>_step</td><td>1999</td></tr><tr><td>_runtime</td><td>148</td></tr><tr><td>_timestamp</td><td>1615996135</td></tr><tr><td>val_loss</td><td>0.0138</td></tr><tr><td>epoch</td><td>999</td></tr></table>"
      ],
      "text/plain": [
       "<IPython.core.display.HTML object>"
      ]
     },
     "metadata": {},
     "output_type": "display_data"
    },
    {
     "data": {
      "text/html": [
       "<h3>Run history:</h3><br/><style>\n",
       "    table.wandb td:nth-child(1) { padding: 0 10px; text-align: right }\n",
       "    </style><table class=\"wandb\">\n",
       "<tr><td>global_step</td><td>▁▁▁▂▂▂▂▂▂▃▃▃▃▃▄▄▄▄▄▄▅▅▅▅▅▅▆▆▆▆▆▇▇▇▇▇▇███</td></tr><tr><td>lr-Adam</td><td>███▃▁▁▁▁▁▁▁▁▁▁▁▁▁▁▁▁▁▁▁▁▁▁▁▁▁▁▁▁▁▁▁▁▁▁▁▁</td></tr><tr><td>_step</td><td>▁▁▁▂▂▂▂▂▂▃▃▃▃▃▄▄▄▄▄▄▅▅▅▅▅▅▆▆▆▆▆▇▇▇▇▇▇███</td></tr><tr><td>_runtime</td><td>▁▁▁▂▂▂▂▂▂▃▃▃▃▃▃▄▄▄▄▄▅▅▅▅▅▅▆▆▆▆▆▇▇▇▇▇▇███</td></tr><tr><td>_timestamp</td><td>▁▁▁▂▂▂▂▂▂▃▃▃▃▃▃▄▄▄▄▄▅▅▅▅▅▅▆▆▆▆▆▇▇▇▇▇▇███</td></tr><tr><td>val_loss</td><td>█▂▁▁▁▁▁▁▁▁▁▁▁▁▁▁▁▁▁▁▁▁▁▁▁▁▁▁▁▁▁▁▁▁▁▁▁▁▁▁</td></tr><tr><td>epoch</td><td>▁▁▁▂▂▂▂▂▂▃▃▃▃▃▄▄▄▄▄▄▅▅▅▅▅▅▆▆▆▆▆▇▇▇▇▇▇███</td></tr></table><br/>"
      ],
      "text/plain": [
       "<IPython.core.display.HTML object>"
      ]
     },
     "metadata": {},
     "output_type": "display_data"
    },
    {
     "data": {
      "text/html": [
       "Synced 5 W&B file(s), 0 media file(s), 0 artifact file(s) and 0 other file(s)"
      ],
      "text/plain": [
       "<IPython.core.display.HTML object>"
      ]
     },
     "metadata": {},
     "output_type": "display_data"
    },
    {
     "data": {
      "text/html": [
       "\n",
       "                    <br/>Synced <strong style=\"color:#cdcd00\">v27</strong>: <a href=\"https://wandb.ai/pnn/l0iid_in70_out70_Tmax100--noise_dtv16sumSwish/runs/xp7g3mmt\" target=\"_blank\">https://wandb.ai/pnn/l0iid_in70_out70_Tmax100--noise_dtv16sumSwish/runs/xp7g3mmt</a><br/>\n",
       "                "
      ],
      "text/plain": [
       "<IPython.core.display.HTML object>"
      ]
     },
     "metadata": {},
     "output_type": "display_data"
    },
    {
     "name": "stderr",
     "output_type": "stream",
     "text": [
      "\u001b[32m[I 2021-03-17 11:48:59,051]\u001b[0m Trial 27 finished with value: 0.0001901845826068893 and parameters: {'Nlayers': 4, 'Ncoms': 2, 'identity_init': 1, 'lr': 0.001, 'Nunits1': 495.8495027895214, 'Nunits2': 268.9104136101988, 'Nunits3': 168.21333783783567}. Best is trial 24 with value: 0.0001326845376752317.\u001b[0m\n",
      "wandb: wandb version 0.10.22 is available!  To upgrade, please run:\n",
      "wandb:  $ pip install wandb --upgrade\n"
     ]
    },
    {
     "data": {
      "text/html": [
       "\n",
       "                Tracking run with wandb version 0.10.8<br/>\n",
       "                Syncing run <strong style=\"color:#cdcd00\">v28</strong> to <a href=\"https://wandb.ai\" target=\"_blank\">Weights & Biases</a> <a href=\"https://docs.wandb.com/integrations/jupyter.html\" target=\"_blank\">(Documentation)</a>.<br/>\n",
       "                Project page: <a href=\"https://wandb.ai/pnn/l0iid_in70_out70_Tmax100--noise_dtv16sumSwish\" target=\"_blank\">https://wandb.ai/pnn/l0iid_in70_out70_Tmax100--noise_dtv16sumSwish</a><br/>\n",
       "                Run page: <a href=\"https://wandb.ai/pnn/l0iid_in70_out70_Tmax100--noise_dtv16sumSwish/runs/2lw4zf4i\" target=\"_blank\">https://wandb.ai/pnn/l0iid_in70_out70_Tmax100--noise_dtv16sumSwish/runs/2lw4zf4i</a><br/>\n",
       "                Run data is saved locally in <code>wandb\\run-20210317_114859-2lw4zf4i</code><br/><br/>\n",
       "            "
      ],
      "text/plain": [
       "<IPython.core.display.HTML object>"
      ]
     },
     "metadata": {},
     "output_type": "display_data"
    },
    {
     "name": "stderr",
     "output_type": "stream",
     "text": [
      "GPU available: True, used: False\n",
      "TPU available: False, using: 0 TPU cores\n",
      "C:\\Users\\lgw32\\anaconda3\\lib\\site-packages\\pytorch_lightning\\utilities\\distributed.py:37: UserWarning: Experiment logs directory logs\\l0iid_in70_out70_Tmax100--noise_dtv16sumSwish\\v28 exists and is not empty. Previous log files in this directory will be deleted when the new ones are saved!\n",
      "  warnings.warn(*args, **kwargs)\n",
      "Saving latest checkpoint..\n"
     ]
    },
    {
     "data": {
      "text/html": [
       "<br/>Waiting for W&B process to finish, PID 12364<br/>Program ended successfully."
      ],
      "text/plain": [
       "<IPython.core.display.HTML object>"
      ]
     },
     "metadata": {},
     "output_type": "display_data"
    },
    {
     "data": {
      "application/vnd.jupyter.widget-view+json": {
       "model_id": "",
       "version_major": 2,
       "version_minor": 0
      },
      "text/plain": [
       "VBox(children=(Label(value=' 0.00MB of 0.00MB uploaded (0.00MB deduped)\\r'), FloatProgress(value=1.0, max=1.0)…"
      ]
     },
     "metadata": {},
     "output_type": "display_data"
    },
    {
     "data": {
      "text/html": [
       "Find user logs for this run at: <code>wandb\\run-20210317_114859-2lw4zf4i\\logs\\debug.log</code>"
      ],
      "text/plain": [
       "<IPython.core.display.HTML object>"
      ]
     },
     "metadata": {},
     "output_type": "display_data"
    },
    {
     "data": {
      "text/html": [
       "Find internal logs for this run at: <code>wandb\\run-20210317_114859-2lw4zf4i\\logs\\debug-internal.log</code>"
      ],
      "text/plain": [
       "<IPython.core.display.HTML object>"
      ]
     },
     "metadata": {},
     "output_type": "display_data"
    },
    {
     "data": {
      "text/html": [
       "<h3>Run summary:</h3><br/><style>\n",
       "    table.wandb td:nth-child(1) { padding: 0 10px; text-align: right }\n",
       "    </style><table class=\"wandb\">\n",
       "<tr><td>global_step</td><td>17999</td></tr><tr><td>lr-Adam</td><td>0.0</td></tr><tr><td>_step</td><td>1999</td></tr><tr><td>_runtime</td><td>38</td></tr><tr><td>_timestamp</td><td>1615996177</td></tr><tr><td>val_loss</td><td>0.01151</td></tr><tr><td>epoch</td><td>999</td></tr></table>"
      ],
      "text/plain": [
       "<IPython.core.display.HTML object>"
      ]
     },
     "metadata": {},
     "output_type": "display_data"
    },
    {
     "data": {
      "text/html": [
       "<h3>Run history:</h3><br/><style>\n",
       "    table.wandb td:nth-child(1) { padding: 0 10px; text-align: right }\n",
       "    </style><table class=\"wandb\">\n",
       "<tr><td>global_step</td><td>▁▁▁▂▂▂▂▂▂▃▃▃▃▃▄▄▄▄▄▄▅▅▅▅▅▅▆▆▆▆▆▇▇▇▇▇▇███</td></tr><tr><td>lr-Adam</td><td>█▃▁▁▁▁▁▁▁▁▁▁▁▁▁▁▁▁▁▁▁▁▁▁▁▁▁▁▁▁▁▁▁▁▁▁▁▁▁▁</td></tr><tr><td>_step</td><td>▁▁▁▂▂▂▂▂▂▃▃▃▃▃▄▄▄▄▄▄▅▅▅▅▅▅▆▆▆▆▆▇▇▇▇▇▇███</td></tr><tr><td>_runtime</td><td>▁▁▁▂▂▂▂▂▂▃▃▃▃▃▃▄▄▄▄▄▄▅▅▅▅▅▆▆▆▆▆▆▇▇▇▇▇███</td></tr><tr><td>_timestamp</td><td>▁▁▁▂▂▂▂▂▂▃▃▃▃▃▃▄▄▄▄▄▄▅▅▅▅▅▆▆▆▆▆▆▇▇▇▇▇███</td></tr><tr><td>val_loss</td><td>█▃▁▁▁▁▁▁▁▁▁▁▁▁▁▁▁▁▁▁▁▁▁▁▁▁▁▁▁▁▁▁▁▁▁▁▁▁▁▁</td></tr><tr><td>epoch</td><td>▁▁▁▂▂▂▂▂▂▃▃▃▃▃▄▄▄▄▄▄▅▅▅▅▅▅▆▆▆▆▆▇▇▇▇▇▇███</td></tr></table><br/>"
      ],
      "text/plain": [
       "<IPython.core.display.HTML object>"
      ]
     },
     "metadata": {},
     "output_type": "display_data"
    },
    {
     "data": {
      "text/html": [
       "Synced 5 W&B file(s), 0 media file(s), 0 artifact file(s) and 0 other file(s)"
      ],
      "text/plain": [
       "<IPython.core.display.HTML object>"
      ]
     },
     "metadata": {},
     "output_type": "display_data"
    },
    {
     "data": {
      "text/html": [
       "\n",
       "                    <br/>Synced <strong style=\"color:#cdcd00\">v28</strong>: <a href=\"https://wandb.ai/pnn/l0iid_in70_out70_Tmax100--noise_dtv16sumSwish/runs/2lw4zf4i\" target=\"_blank\">https://wandb.ai/pnn/l0iid_in70_out70_Tmax100--noise_dtv16sumSwish/runs/2lw4zf4i</a><br/>\n",
       "                "
      ],
      "text/plain": [
       "<IPython.core.display.HTML object>"
      ]
     },
     "metadata": {},
     "output_type": "display_data"
    },
    {
     "name": "stderr",
     "output_type": "stream",
     "text": [
      "\u001b[32m[I 2021-03-17 11:49:40,546]\u001b[0m Trial 28 finished with value: 0.0001325897464994341 and parameters: {'Nlayers': 1, 'Ncoms': 1, 'identity_init': 0, 'lr': 0.01}. Best is trial 28 with value: 0.0001325897464994341.\u001b[0m\n",
      "wandb: wandb version 0.10.22 is available!  To upgrade, please run:\n",
      "wandb:  $ pip install wandb --upgrade\n"
     ]
    },
    {
     "data": {
      "text/html": [
       "\n",
       "                Tracking run with wandb version 0.10.8<br/>\n",
       "                Syncing run <strong style=\"color:#cdcd00\">v29</strong> to <a href=\"https://wandb.ai\" target=\"_blank\">Weights & Biases</a> <a href=\"https://docs.wandb.com/integrations/jupyter.html\" target=\"_blank\">(Documentation)</a>.<br/>\n",
       "                Project page: <a href=\"https://wandb.ai/pnn/l0iid_in70_out70_Tmax100--noise_dtv16sumSwish\" target=\"_blank\">https://wandb.ai/pnn/l0iid_in70_out70_Tmax100--noise_dtv16sumSwish</a><br/>\n",
       "                Run page: <a href=\"https://wandb.ai/pnn/l0iid_in70_out70_Tmax100--noise_dtv16sumSwish/runs/2p3e0wu5\" target=\"_blank\">https://wandb.ai/pnn/l0iid_in70_out70_Tmax100--noise_dtv16sumSwish/runs/2p3e0wu5</a><br/>\n",
       "                Run data is saved locally in <code>wandb\\run-20210317_114940-2p3e0wu5</code><br/><br/>\n",
       "            "
      ],
      "text/plain": [
       "<IPython.core.display.HTML object>"
      ]
     },
     "metadata": {},
     "output_type": "display_data"
    },
    {
     "name": "stderr",
     "output_type": "stream",
     "text": [
      "GPU available: True, used: False\n",
      "TPU available: False, using: 0 TPU cores\n",
      "C:\\Users\\lgw32\\anaconda3\\lib\\site-packages\\pytorch_lightning\\utilities\\distributed.py:37: UserWarning: Experiment logs directory logs\\l0iid_in70_out70_Tmax100--noise_dtv16sumSwish\\v29 exists and is not empty. Previous log files in this directory will be deleted when the new ones are saved!\n",
      "  warnings.warn(*args, **kwargs)\n",
      "Saving latest checkpoint..\n"
     ]
    },
    {
     "data": {
      "text/html": [
       "<br/>Waiting for W&B process to finish, PID 7084<br/>Program ended successfully."
      ],
      "text/plain": [
       "<IPython.core.display.HTML object>"
      ]
     },
     "metadata": {},
     "output_type": "display_data"
    },
    {
     "data": {
      "application/vnd.jupyter.widget-view+json": {
       "model_id": "",
       "version_major": 2,
       "version_minor": 0
      },
      "text/plain": [
       "VBox(children=(Label(value=' 0.00MB of 0.00MB uploaded (0.00MB deduped)\\r'), FloatProgress(value=1.0, max=1.0)…"
      ]
     },
     "metadata": {},
     "output_type": "display_data"
    },
    {
     "data": {
      "text/html": [
       "Find user logs for this run at: <code>wandb\\run-20210317_114940-2p3e0wu5\\logs\\debug.log</code>"
      ],
      "text/plain": [
       "<IPython.core.display.HTML object>"
      ]
     },
     "metadata": {},
     "output_type": "display_data"
    },
    {
     "data": {
      "text/html": [
       "Find internal logs for this run at: <code>wandb\\run-20210317_114940-2p3e0wu5\\logs\\debug-internal.log</code>"
      ],
      "text/plain": [
       "<IPython.core.display.HTML object>"
      ]
     },
     "metadata": {},
     "output_type": "display_data"
    },
    {
     "data": {
      "text/html": [
       "<h3>Run summary:</h3><br/><style>\n",
       "    table.wandb td:nth-child(1) { padding: 0 10px; text-align: right }\n",
       "    </style><table class=\"wandb\">\n",
       "<tr><td>global_step</td><td>17999</td></tr><tr><td>lr-Adam</td><td>1e-05</td></tr><tr><td>_step</td><td>1999</td></tr><tr><td>_runtime</td><td>175</td></tr><tr><td>_timestamp</td><td>1615996355</td></tr><tr><td>val_loss</td><td>0.01326</td></tr><tr><td>epoch</td><td>999</td></tr></table>"
      ],
      "text/plain": [
       "<IPython.core.display.HTML object>"
      ]
     },
     "metadata": {},
     "output_type": "display_data"
    },
    {
     "data": {
      "text/html": [
       "<h3>Run history:</h3><br/><style>\n",
       "    table.wandb td:nth-child(1) { padding: 0 10px; text-align: right }\n",
       "    </style><table class=\"wandb\">\n",
       "<tr><td>global_step</td><td>▁▁▁▂▂▂▂▂▂▃▃▃▃▃▄▄▄▄▄▄▅▅▅▅▅▅▆▆▆▆▆▇▇▇▇▇▇███</td></tr><tr><td>lr-Adam</td><td>▁▁▁▁▁▁▁▁▁▁▁▁▁▁▁▁▁▁▁▁▁▁▁▁▁▁▁▁▁▁▁▁▁▁▁▁▁▁▁▁</td></tr><tr><td>_step</td><td>▁▁▁▂▂▂▂▂▂▃▃▃▃▃▄▄▄▄▄▄▅▅▅▅▅▅▆▆▆▆▆▇▇▇▇▇▇███</td></tr><tr><td>_runtime</td><td>▁▁▁▁▂▂▂▂▂▃▃▃▃▃▃▄▄▄▄▄▅▅▅▅▅▅▆▆▆▆▆▇▇▇▇▇▇███</td></tr><tr><td>_timestamp</td><td>▁▁▁▁▂▂▂▂▂▃▃▃▃▃▃▄▄▄▄▄▅▅▅▅▅▅▆▆▆▆▆▇▇▇▇▇▇███</td></tr><tr><td>val_loss</td><td>█▅▄▄▄▃▃▃▂▂▂▂▂▂▂▁▁▁▁▁▁▁▁▁▁▁▁▁▁▁▁▁▁▁▁▁▁▁▁▁</td></tr><tr><td>epoch</td><td>▁▁▁▂▂▂▂▂▂▃▃▃▃▃▄▄▄▄▄▄▅▅▅▅▅▅▆▆▆▆▆▇▇▇▇▇▇███</td></tr></table><br/>"
      ],
      "text/plain": [
       "<IPython.core.display.HTML object>"
      ]
     },
     "metadata": {},
     "output_type": "display_data"
    },
    {
     "data": {
      "text/html": [
       "Synced 5 W&B file(s), 0 media file(s), 0 artifact file(s) and 0 other file(s)"
      ],
      "text/plain": [
       "<IPython.core.display.HTML object>"
      ]
     },
     "metadata": {},
     "output_type": "display_data"
    },
    {
     "data": {
      "text/html": [
       "\n",
       "                    <br/>Synced <strong style=\"color:#cdcd00\">v29</strong>: <a href=\"https://wandb.ai/pnn/l0iid_in70_out70_Tmax100--noise_dtv16sumSwish/runs/2p3e0wu5\" target=\"_blank\">https://wandb.ai/pnn/l0iid_in70_out70_Tmax100--noise_dtv16sumSwish/runs/2p3e0wu5</a><br/>\n",
       "                "
      ],
      "text/plain": [
       "<IPython.core.display.HTML object>"
      ]
     },
     "metadata": {},
     "output_type": "display_data"
    },
    {
     "name": "stderr",
     "output_type": "stream",
     "text": [
      "\u001b[32m[I 2021-03-17 11:52:38,791]\u001b[0m Trial 29 finished with value: 0.00017584599845577031 and parameters: {'Nlayers': 5, 'Ncoms': 2, 'identity_init': 0, 'lr': 1e-05, 'Nunits1': 226.52246372097454, 'Nunits2': 429.7935802002897, 'Nunits3': 163.5307525076693, 'Nunits4': 170.62726324370746}. Best is trial 28 with value: 0.0001325897464994341.\u001b[0m\n",
      "wandb: wandb version 0.10.22 is available!  To upgrade, please run:\n",
      "wandb:  $ pip install wandb --upgrade\n"
     ]
    },
    {
     "data": {
      "text/html": [
       "\n",
       "                Tracking run with wandb version 0.10.8<br/>\n",
       "                Syncing run <strong style=\"color:#cdcd00\">v30</strong> to <a href=\"https://wandb.ai\" target=\"_blank\">Weights & Biases</a> <a href=\"https://docs.wandb.com/integrations/jupyter.html\" target=\"_blank\">(Documentation)</a>.<br/>\n",
       "                Project page: <a href=\"https://wandb.ai/pnn/l0iid_in70_out70_Tmax100--noise_dtv16sumSwish\" target=\"_blank\">https://wandb.ai/pnn/l0iid_in70_out70_Tmax100--noise_dtv16sumSwish</a><br/>\n",
       "                Run page: <a href=\"https://wandb.ai/pnn/l0iid_in70_out70_Tmax100--noise_dtv16sumSwish/runs/fgsjga2e\" target=\"_blank\">https://wandb.ai/pnn/l0iid_in70_out70_Tmax100--noise_dtv16sumSwish/runs/fgsjga2e</a><br/>\n",
       "                Run data is saved locally in <code>wandb\\run-20210317_115238-fgsjga2e</code><br/><br/>\n",
       "            "
      ],
      "text/plain": [
       "<IPython.core.display.HTML object>"
      ]
     },
     "metadata": {},
     "output_type": "display_data"
    },
    {
     "name": "stderr",
     "output_type": "stream",
     "text": [
      "GPU available: True, used: False\n",
      "TPU available: False, using: 0 TPU cores\n",
      "C:\\Users\\lgw32\\anaconda3\\lib\\site-packages\\pytorch_lightning\\utilities\\distributed.py:37: UserWarning: Experiment logs directory logs\\l0iid_in70_out70_Tmax100--noise_dtv16sumSwish\\v30 exists and is not empty. Previous log files in this directory will be deleted when the new ones are saved!\n",
      "  warnings.warn(*args, **kwargs)\n",
      "Saving latest checkpoint..\n"
     ]
    },
    {
     "data": {
      "text/html": [
       "<br/>Waiting for W&B process to finish, PID 10436<br/>Program ended successfully."
      ],
      "text/plain": [
       "<IPython.core.display.HTML object>"
      ]
     },
     "metadata": {},
     "output_type": "display_data"
    },
    {
     "data": {
      "application/vnd.jupyter.widget-view+json": {
       "model_id": "",
       "version_major": 2,
       "version_minor": 0
      },
      "text/plain": [
       "VBox(children=(Label(value=' 0.00MB of 0.00MB uploaded (0.00MB deduped)\\r'), FloatProgress(value=1.0, max=1.0)…"
      ]
     },
     "metadata": {},
     "output_type": "display_data"
    },
    {
     "data": {
      "text/html": [
       "Find user logs for this run at: <code>wandb\\run-20210317_115238-fgsjga2e\\logs\\debug.log</code>"
      ],
      "text/plain": [
       "<IPython.core.display.HTML object>"
      ]
     },
     "metadata": {},
     "output_type": "display_data"
    },
    {
     "data": {
      "text/html": [
       "Find internal logs for this run at: <code>wandb\\run-20210317_115238-fgsjga2e\\logs\\debug-internal.log</code>"
      ],
      "text/plain": [
       "<IPython.core.display.HTML object>"
      ]
     },
     "metadata": {},
     "output_type": "display_data"
    },
    {
     "data": {
      "text/html": [
       "<h3>Run summary:</h3><br/><style>\n",
       "    table.wandb td:nth-child(1) { padding: 0 10px; text-align: right }\n",
       "    </style><table class=\"wandb\">\n",
       "<tr><td>global_step</td><td>17999</td></tr><tr><td>lr-Adam</td><td>1e-05</td></tr><tr><td>_step</td><td>1999</td></tr><tr><td>_runtime</td><td>207</td></tr><tr><td>_timestamp</td><td>1615996565</td></tr><tr><td>val_loss</td><td>0.01461</td></tr><tr><td>epoch</td><td>999</td></tr></table>"
      ],
      "text/plain": [
       "<IPython.core.display.HTML object>"
      ]
     },
     "metadata": {},
     "output_type": "display_data"
    },
    {
     "data": {
      "text/html": [
       "<h3>Run history:</h3><br/><style>\n",
       "    table.wandb td:nth-child(1) { padding: 0 10px; text-align: right }\n",
       "    </style><table class=\"wandb\">\n",
       "<tr><td>global_step</td><td>▁▁▁▂▂▂▂▂▂▃▃▃▃▃▄▄▄▄▄▄▅▅▅▅▅▅▆▆▆▆▆▇▇▇▇▇▇███</td></tr><tr><td>lr-Adam</td><td>▁▁▁▁▁▁▁▁▁▁▁▁▁▁▁▁▁▁▁▁▁▁▁▁▁▁▁▁▁▁▁▁▁▁▁▁▁▁▁▁</td></tr><tr><td>_step</td><td>▁▁▁▂▂▂▂▂▂▃▃▃▃▃▄▄▄▄▄▄▅▅▅▅▅▅▆▆▆▆▆▇▇▇▇▇▇███</td></tr><tr><td>_runtime</td><td>▁▁▁▂▂▂▂▂▂▃▃▃▃▃▃▄▄▄▄▄▅▅▅▅▅▅▆▆▆▆▆▇▇▇▇▇▇███</td></tr><tr><td>_timestamp</td><td>▁▁▁▂▂▂▂▂▂▃▃▃▃▃▃▄▄▄▄▄▅▅▅▅▅▅▆▆▆▆▆▇▇▇▇▇▇███</td></tr><tr><td>val_loss</td><td>█▆▅▄▃▃▂▂▂▂▂▂▂▁▁▁▁▁▁▁▁▁▁▁▁▁▁▁▁▁▁▁▁▁▁▁▁▁▁▁</td></tr><tr><td>epoch</td><td>▁▁▁▂▂▂▂▂▂▃▃▃▃▃▄▄▄▄▄▄▅▅▅▅▅▅▆▆▆▆▆▇▇▇▇▇▇███</td></tr></table><br/>"
      ],
      "text/plain": [
       "<IPython.core.display.HTML object>"
      ]
     },
     "metadata": {},
     "output_type": "display_data"
    },
    {
     "data": {
      "text/html": [
       "Synced 5 W&B file(s), 0 media file(s), 0 artifact file(s) and 0 other file(s)"
      ],
      "text/plain": [
       "<IPython.core.display.HTML object>"
      ]
     },
     "metadata": {},
     "output_type": "display_data"
    },
    {
     "data": {
      "text/html": [
       "\n",
       "                    <br/>Synced <strong style=\"color:#cdcd00\">v30</strong>: <a href=\"https://wandb.ai/pnn/l0iid_in70_out70_Tmax100--noise_dtv16sumSwish/runs/fgsjga2e\" target=\"_blank\">https://wandb.ai/pnn/l0iid_in70_out70_Tmax100--noise_dtv16sumSwish/runs/fgsjga2e</a><br/>\n",
       "                "
      ],
      "text/plain": [
       "<IPython.core.display.HTML object>"
      ]
     },
     "metadata": {},
     "output_type": "display_data"
    },
    {
     "name": "stderr",
     "output_type": "stream",
     "text": [
      "\u001b[32m[I 2021-03-17 11:56:08,326]\u001b[0m Trial 30 finished with value: 0.00021343142725527287 and parameters: {'Nlayers': 4, 'Ncoms': 3, 'identity_init': 1, 'lr': 1e-05, 'Nunits1': 193.11618023604603, 'Nunits2': 443.25859316008444, 'Nunits3': 187.9954295448239}. Best is trial 28 with value: 0.0001325897464994341.\u001b[0m\n",
      "wandb: wandb version 0.10.22 is available!  To upgrade, please run:\n",
      "wandb:  $ pip install wandb --upgrade\n"
     ]
    },
    {
     "data": {
      "text/html": [
       "\n",
       "                Tracking run with wandb version 0.10.8<br/>\n",
       "                Syncing run <strong style=\"color:#cdcd00\">v31</strong> to <a href=\"https://wandb.ai\" target=\"_blank\">Weights & Biases</a> <a href=\"https://docs.wandb.com/integrations/jupyter.html\" target=\"_blank\">(Documentation)</a>.<br/>\n",
       "                Project page: <a href=\"https://wandb.ai/pnn/l0iid_in70_out70_Tmax100--noise_dtv16sumSwish\" target=\"_blank\">https://wandb.ai/pnn/l0iid_in70_out70_Tmax100--noise_dtv16sumSwish</a><br/>\n",
       "                Run page: <a href=\"https://wandb.ai/pnn/l0iid_in70_out70_Tmax100--noise_dtv16sumSwish/runs/2ol98837\" target=\"_blank\">https://wandb.ai/pnn/l0iid_in70_out70_Tmax100--noise_dtv16sumSwish/runs/2ol98837</a><br/>\n",
       "                Run data is saved locally in <code>wandb\\run-20210317_115608-2ol98837</code><br/><br/>\n",
       "            "
      ],
      "text/plain": [
       "<IPython.core.display.HTML object>"
      ]
     },
     "metadata": {},
     "output_type": "display_data"
    },
    {
     "name": "stderr",
     "output_type": "stream",
     "text": [
      "GPU available: True, used: False\n",
      "TPU available: False, using: 0 TPU cores\n",
      "C:\\Users\\lgw32\\anaconda3\\lib\\site-packages\\pytorch_lightning\\utilities\\distributed.py:37: UserWarning: Experiment logs directory logs\\l0iid_in70_out70_Tmax100--noise_dtv16sumSwish\\v31 exists and is not empty. Previous log files in this directory will be deleted when the new ones are saved!\n",
      "  warnings.warn(*args, **kwargs)\n",
      "Saving latest checkpoint..\n"
     ]
    },
    {
     "data": {
      "text/html": [
       "<br/>Waiting for W&B process to finish, PID 10984<br/>Program ended successfully."
      ],
      "text/plain": [
       "<IPython.core.display.HTML object>"
      ]
     },
     "metadata": {},
     "output_type": "display_data"
    },
    {
     "data": {
      "application/vnd.jupyter.widget-view+json": {
       "model_id": "",
       "version_major": 2,
       "version_minor": 0
      },
      "text/plain": [
       "VBox(children=(Label(value=' 0.00MB of 0.00MB uploaded (0.00MB deduped)\\r'), FloatProgress(value=1.0, max=1.0)…"
      ]
     },
     "metadata": {},
     "output_type": "display_data"
    },
    {
     "data": {
      "text/html": [
       "Find user logs for this run at: <code>wandb\\run-20210317_115608-2ol98837\\logs\\debug.log</code>"
      ],
      "text/plain": [
       "<IPython.core.display.HTML object>"
      ]
     },
     "metadata": {},
     "output_type": "display_data"
    },
    {
     "data": {
      "text/html": [
       "Find internal logs for this run at: <code>wandb\\run-20210317_115608-2ol98837\\logs\\debug-internal.log</code>"
      ],
      "text/plain": [
       "<IPython.core.display.HTML object>"
      ]
     },
     "metadata": {},
     "output_type": "display_data"
    },
    {
     "data": {
      "text/html": [
       "<h3>Run summary:</h3><br/><style>\n",
       "    table.wandb td:nth-child(1) { padding: 0 10px; text-align: right }\n",
       "    </style><table class=\"wandb\">\n",
       "<tr><td>global_step</td><td>17999</td></tr><tr><td>lr-Adam</td><td>0.0</td></tr><tr><td>_step</td><td>1999</td></tr><tr><td>_runtime</td><td>90</td></tr><tr><td>_timestamp</td><td>1615996658</td></tr><tr><td>val_loss</td><td>0.01302</td></tr><tr><td>epoch</td><td>999</td></tr></table>"
      ],
      "text/plain": [
       "<IPython.core.display.HTML object>"
      ]
     },
     "metadata": {},
     "output_type": "display_data"
    },
    {
     "data": {
      "text/html": [
       "<h3>Run history:</h3><br/><style>\n",
       "    table.wandb td:nth-child(1) { padding: 0 10px; text-align: right }\n",
       "    </style><table class=\"wandb\">\n",
       "<tr><td>global_step</td><td>▁▁▁▂▂▂▂▂▂▃▃▃▃▃▄▄▄▄▄▄▅▅▅▅▅▅▆▆▆▆▆▇▇▇▇▇▇███</td></tr><tr><td>lr-Adam</td><td>█▃▁▁▁▁▁▁▁▁▁▁▁▁▁▁▁▁▁▁▁▁▁▁▁▁▁▁▁▁▁▁▁▁▁▁▁▁▁▁</td></tr><tr><td>_step</td><td>▁▁▁▂▂▂▂▂▂▃▃▃▃▃▄▄▄▄▄▄▅▅▅▅▅▅▆▆▆▆▆▇▇▇▇▇▇███</td></tr><tr><td>_runtime</td><td>▁▁▁▁▂▂▂▂▂▃▃▃▃▃▃▄▄▄▄▄▅▅▅▅▅▅▆▆▆▆▆▆▇▇▇▇▇███</td></tr><tr><td>_timestamp</td><td>▁▁▁▁▂▂▂▂▂▃▃▃▃▃▃▄▄▄▄▄▅▅▅▅▅▅▆▆▆▆▆▆▇▇▇▇▇███</td></tr><tr><td>val_loss</td><td>█▁▂▂▂▂▂▂▂▂▂▂▂▂▂▂▂▂▂▂▂▂▂▂▂▂▂▂▂▂▂▂▂▂▂▂▂▂▂▂</td></tr><tr><td>epoch</td><td>▁▁▁▂▂▂▂▂▂▃▃▃▃▃▄▄▄▄▄▄▅▅▅▅▅▅▆▆▆▆▆▇▇▇▇▇▇███</td></tr></table><br/>"
      ],
      "text/plain": [
       "<IPython.core.display.HTML object>"
      ]
     },
     "metadata": {},
     "output_type": "display_data"
    },
    {
     "data": {
      "text/html": [
       "Synced 5 W&B file(s), 0 media file(s), 0 artifact file(s) and 0 other file(s)"
      ],
      "text/plain": [
       "<IPython.core.display.HTML object>"
      ]
     },
     "metadata": {},
     "output_type": "display_data"
    },
    {
     "data": {
      "text/html": [
       "\n",
       "                    <br/>Synced <strong style=\"color:#cdcd00\">v31</strong>: <a href=\"https://wandb.ai/pnn/l0iid_in70_out70_Tmax100--noise_dtv16sumSwish/runs/2ol98837\" target=\"_blank\">https://wandb.ai/pnn/l0iid_in70_out70_Tmax100--noise_dtv16sumSwish/runs/2ol98837</a><br/>\n",
       "                "
      ],
      "text/plain": [
       "<IPython.core.display.HTML object>"
      ]
     },
     "metadata": {},
     "output_type": "display_data"
    },
    {
     "name": "stderr",
     "output_type": "stream",
     "text": [
      "\u001b[32m[I 2021-03-17 11:57:46,117]\u001b[0m Trial 31 finished with value: 0.00015660011558793485 and parameters: {'Nlayers': 3, 'Ncoms': 1, 'identity_init': 0, 'lr': 0.0031, 'Nunits1': 407.816769316735, 'Nunits2': 492.59146516238474}. Best is trial 28 with value: 0.0001325897464994341.\u001b[0m\n",
      "wandb: wandb version 0.10.22 is available!  To upgrade, please run:\n",
      "wandb:  $ pip install wandb --upgrade\n"
     ]
    },
    {
     "data": {
      "text/html": [
       "\n",
       "                Tracking run with wandb version 0.10.8<br/>\n",
       "                Syncing run <strong style=\"color:#cdcd00\">v32</strong> to <a href=\"https://wandb.ai\" target=\"_blank\">Weights & Biases</a> <a href=\"https://docs.wandb.com/integrations/jupyter.html\" target=\"_blank\">(Documentation)</a>.<br/>\n",
       "                Project page: <a href=\"https://wandb.ai/pnn/l0iid_in70_out70_Tmax100--noise_dtv16sumSwish\" target=\"_blank\">https://wandb.ai/pnn/l0iid_in70_out70_Tmax100--noise_dtv16sumSwish</a><br/>\n",
       "                Run page: <a href=\"https://wandb.ai/pnn/l0iid_in70_out70_Tmax100--noise_dtv16sumSwish/runs/98fhlvut\" target=\"_blank\">https://wandb.ai/pnn/l0iid_in70_out70_Tmax100--noise_dtv16sumSwish/runs/98fhlvut</a><br/>\n",
       "                Run data is saved locally in <code>wandb\\run-20210317_115746-98fhlvut</code><br/><br/>\n",
       "            "
      ],
      "text/plain": [
       "<IPython.core.display.HTML object>"
      ]
     },
     "metadata": {},
     "output_type": "display_data"
    },
    {
     "name": "stderr",
     "output_type": "stream",
     "text": [
      "GPU available: True, used: False\n",
      "TPU available: False, using: 0 TPU cores\n",
      "C:\\Users\\lgw32\\anaconda3\\lib\\site-packages\\pytorch_lightning\\utilities\\distributed.py:37: UserWarning: Experiment logs directory logs\\l0iid_in70_out70_Tmax100--noise_dtv16sumSwish\\v32 exists and is not empty. Previous log files in this directory will be deleted when the new ones are saved!\n",
      "  warnings.warn(*args, **kwargs)\n",
      "Saving latest checkpoint..\n"
     ]
    },
    {
     "data": {
      "text/html": [
       "<br/>Waiting for W&B process to finish, PID 14188<br/>Program ended successfully."
      ],
      "text/plain": [
       "<IPython.core.display.HTML object>"
      ]
     },
     "metadata": {},
     "output_type": "display_data"
    },
    {
     "data": {
      "application/vnd.jupyter.widget-view+json": {
       "model_id": "",
       "version_major": 2,
       "version_minor": 0
      },
      "text/plain": [
       "VBox(children=(Label(value=' 0.00MB of 0.00MB uploaded (0.00MB deduped)\\r'), FloatProgress(value=1.0, max=1.0)…"
      ]
     },
     "metadata": {},
     "output_type": "display_data"
    },
    {
     "data": {
      "text/html": [
       "Find user logs for this run at: <code>wandb\\run-20210317_115746-98fhlvut\\logs\\debug.log</code>"
      ],
      "text/plain": [
       "<IPython.core.display.HTML object>"
      ]
     },
     "metadata": {},
     "output_type": "display_data"
    },
    {
     "data": {
      "text/html": [
       "Find internal logs for this run at: <code>wandb\\run-20210317_115746-98fhlvut\\logs\\debug-internal.log</code>"
      ],
      "text/plain": [
       "<IPython.core.display.HTML object>"
      ]
     },
     "metadata": {},
     "output_type": "display_data"
    },
    {
     "data": {
      "text/html": [
       "<h3>Run summary:</h3><br/><style>\n",
       "    table.wandb td:nth-child(1) { padding: 0 10px; text-align: right }\n",
       "    </style><table class=\"wandb\">\n",
       "<tr><td>global_step</td><td>17999</td></tr><tr><td>lr-Adam</td><td>8e-05</td></tr><tr><td>_step</td><td>1999</td></tr><tr><td>_runtime</td><td>38</td></tr><tr><td>_timestamp</td><td>1615996704</td></tr><tr><td>val_loss</td><td>0.01161</td></tr><tr><td>epoch</td><td>999</td></tr></table>"
      ],
      "text/plain": [
       "<IPython.core.display.HTML object>"
      ]
     },
     "metadata": {},
     "output_type": "display_data"
    },
    {
     "data": {
      "text/html": [
       "<h3>Run history:</h3><br/><style>\n",
       "    table.wandb td:nth-child(1) { padding: 0 10px; text-align: right }\n",
       "    </style><table class=\"wandb\">\n",
       "<tr><td>global_step</td><td>▁▁▁▂▂▂▂▂▂▃▃▃▃▃▄▄▄▄▄▄▅▅▅▅▅▅▆▆▆▆▆▇▇▇▇▇▇███</td></tr><tr><td>lr-Adam</td><td>█▃▂▁▁▁▁▁▁▁▁▁▁▁▁▁▁▁▁▁▁▁▁▁▁▁▁▁▁▁▁▁▁▁▁▁▁▁▁▁</td></tr><tr><td>_step</td><td>▁▁▁▂▂▂▂▂▂▃▃▃▃▃▄▄▄▄▄▄▅▅▅▅▅▅▆▆▆▆▆▇▇▇▇▇▇███</td></tr><tr><td>_runtime</td><td>▁▁▁▁▂▂▂▂▂▃▃▃▃▃▃▃▄▄▄▄▄▅▅▅▅▅▆▆▆▆▆▆▇▇▇▇▇███</td></tr><tr><td>_timestamp</td><td>▁▁▁▁▂▂▂▂▂▃▃▃▃▃▃▃▄▄▄▄▄▅▅▅▅▅▆▆▆▆▆▆▇▇▇▇▇███</td></tr><tr><td>val_loss</td><td>█▂▁▁▁▁▁▁▁▁▁▁▁▁▁▁▁▁▁▁▁▁▁▁▁▁▁▁▁▁▁▁▁▁▁▁▁▁▁▁</td></tr><tr><td>epoch</td><td>▁▁▁▂▂▂▂▂▂▃▃▃▃▃▄▄▄▄▄▄▅▅▅▅▅▅▆▆▆▆▆▇▇▇▇▇▇███</td></tr></table><br/>"
      ],
      "text/plain": [
       "<IPython.core.display.HTML object>"
      ]
     },
     "metadata": {},
     "output_type": "display_data"
    },
    {
     "data": {
      "text/html": [
       "Synced 5 W&B file(s), 0 media file(s), 0 artifact file(s) and 0 other file(s)"
      ],
      "text/plain": [
       "<IPython.core.display.HTML object>"
      ]
     },
     "metadata": {},
     "output_type": "display_data"
    },
    {
     "data": {
      "text/html": [
       "\n",
       "                    <br/>Synced <strong style=\"color:#cdcd00\">v32</strong>: <a href=\"https://wandb.ai/pnn/l0iid_in70_out70_Tmax100--noise_dtv16sumSwish/runs/98fhlvut\" target=\"_blank\">https://wandb.ai/pnn/l0iid_in70_out70_Tmax100--noise_dtv16sumSwish/runs/98fhlvut</a><br/>\n",
       "                "
      ],
      "text/plain": [
       "<IPython.core.display.HTML object>"
      ]
     },
     "metadata": {},
     "output_type": "display_data"
    },
    {
     "name": "stderr",
     "output_type": "stream",
     "text": [
      "\u001b[32m[I 2021-03-17 11:58:27,597]\u001b[0m Trial 32 finished with value: 0.00013488186232279986 and parameters: {'Nlayers': 1, 'Ncoms': 4, 'identity_init': 0, 'lr': 0.01}. Best is trial 28 with value: 0.0001325897464994341.\u001b[0m\n",
      "wandb: wandb version 0.10.22 is available!  To upgrade, please run:\n",
      "wandb:  $ pip install wandb --upgrade\n"
     ]
    },
    {
     "data": {
      "text/html": [
       "\n",
       "                Tracking run with wandb version 0.10.8<br/>\n",
       "                Syncing run <strong style=\"color:#cdcd00\">v33</strong> to <a href=\"https://wandb.ai\" target=\"_blank\">Weights & Biases</a> <a href=\"https://docs.wandb.com/integrations/jupyter.html\" target=\"_blank\">(Documentation)</a>.<br/>\n",
       "                Project page: <a href=\"https://wandb.ai/pnn/l0iid_in70_out70_Tmax100--noise_dtv16sumSwish\" target=\"_blank\">https://wandb.ai/pnn/l0iid_in70_out70_Tmax100--noise_dtv16sumSwish</a><br/>\n",
       "                Run page: <a href=\"https://wandb.ai/pnn/l0iid_in70_out70_Tmax100--noise_dtv16sumSwish/runs/1r9ox39w\" target=\"_blank\">https://wandb.ai/pnn/l0iid_in70_out70_Tmax100--noise_dtv16sumSwish/runs/1r9ox39w</a><br/>\n",
       "                Run data is saved locally in <code>wandb\\run-20210317_115827-1r9ox39w</code><br/><br/>\n",
       "            "
      ],
      "text/plain": [
       "<IPython.core.display.HTML object>"
      ]
     },
     "metadata": {},
     "output_type": "display_data"
    },
    {
     "name": "stderr",
     "output_type": "stream",
     "text": [
      "GPU available: True, used: False\n",
      "TPU available: False, using: 0 TPU cores\n",
      "C:\\Users\\lgw32\\anaconda3\\lib\\site-packages\\pytorch_lightning\\utilities\\distributed.py:37: UserWarning: Experiment logs directory logs\\l0iid_in70_out70_Tmax100--noise_dtv16sumSwish\\v33 exists and is not empty. Previous log files in this directory will be deleted when the new ones are saved!\n",
      "  warnings.warn(*args, **kwargs)\n",
      "Saving latest checkpoint..\n"
     ]
    },
    {
     "data": {
      "text/html": [
       "<br/>Waiting for W&B process to finish, PID 1832<br/>Program ended successfully."
      ],
      "text/plain": [
       "<IPython.core.display.HTML object>"
      ]
     },
     "metadata": {},
     "output_type": "display_data"
    },
    {
     "data": {
      "application/vnd.jupyter.widget-view+json": {
       "model_id": "",
       "version_major": 2,
       "version_minor": 0
      },
      "text/plain": [
       "VBox(children=(Label(value=' 0.00MB of 0.00MB uploaded (0.00MB deduped)\\r'), FloatProgress(value=1.0, max=1.0)…"
      ]
     },
     "metadata": {},
     "output_type": "display_data"
    },
    {
     "data": {
      "text/html": [
       "Find user logs for this run at: <code>wandb\\run-20210317_115827-1r9ox39w\\logs\\debug.log</code>"
      ],
      "text/plain": [
       "<IPython.core.display.HTML object>"
      ]
     },
     "metadata": {},
     "output_type": "display_data"
    },
    {
     "data": {
      "text/html": [
       "Find internal logs for this run at: <code>wandb\\run-20210317_115827-1r9ox39w\\logs\\debug-internal.log</code>"
      ],
      "text/plain": [
       "<IPython.core.display.HTML object>"
      ]
     },
     "metadata": {},
     "output_type": "display_data"
    },
    {
     "data": {
      "text/html": [
       "<h3>Run summary:</h3><br/><style>\n",
       "    table.wandb td:nth-child(1) { padding: 0 10px; text-align: right }\n",
       "    </style><table class=\"wandb\">\n",
       "<tr><td>global_step</td><td>17999</td></tr><tr><td>lr-Adam</td><td>0.0</td></tr><tr><td>_step</td><td>1999</td></tr><tr><td>_runtime</td><td>108</td></tr><tr><td>_timestamp</td><td>1615996815</td></tr><tr><td>val_loss</td><td>0.01346</td></tr><tr><td>epoch</td><td>999</td></tr></table>"
      ],
      "text/plain": [
       "<IPython.core.display.HTML object>"
      ]
     },
     "metadata": {},
     "output_type": "display_data"
    },
    {
     "data": {
      "text/html": [
       "<h3>Run history:</h3><br/><style>\n",
       "    table.wandb td:nth-child(1) { padding: 0 10px; text-align: right }\n",
       "    </style><table class=\"wandb\">\n",
       "<tr><td>global_step</td><td>▁▁▁▂▂▂▂▂▂▃▃▃▃▃▄▄▄▄▄▄▅▅▅▅▅▅▆▆▆▆▆▇▇▇▇▇▇███</td></tr><tr><td>lr-Adam</td><td>████████▃▁▁▁▁▁▁▁▁▁▁▁▁▁▁▁▁▁▁▁▁▁▁▁▁▁▁▁▁▁▁▁</td></tr><tr><td>_step</td><td>▁▁▁▂▂▂▂▂▂▃▃▃▃▃▄▄▄▄▄▄▅▅▅▅▅▅▆▆▆▆▆▇▇▇▇▇▇███</td></tr><tr><td>_runtime</td><td>▁▁▁▂▂▂▂▂▂▃▃▃▃▃▄▄▄▄▄▄▅▅▅▅▅▅▆▆▆▆▆▇▇▇▇▇▇███</td></tr><tr><td>_timestamp</td><td>▁▁▁▂▂▂▂▂▂▃▃▃▃▃▄▄▄▄▄▄▅▅▅▅▅▅▆▆▆▆▆▇▇▇▇▇▇███</td></tr><tr><td>val_loss</td><td>█▃▂▁▁▁▁▁▁▁▁▁▁▁▁▁▁▁▁▁▁▁▁▁▁▁▁▁▁▁▁▁▁▁▁▁▁▁▁▁</td></tr><tr><td>epoch</td><td>▁▁▁▂▂▂▂▂▂▃▃▃▃▃▄▄▄▄▄▄▅▅▅▅▅▅▆▆▆▆▆▇▇▇▇▇▇███</td></tr></table><br/>"
      ],
      "text/plain": [
       "<IPython.core.display.HTML object>"
      ]
     },
     "metadata": {},
     "output_type": "display_data"
    },
    {
     "data": {
      "text/html": [
       "Synced 5 W&B file(s), 0 media file(s), 0 artifact file(s) and 0 other file(s)"
      ],
      "text/plain": [
       "<IPython.core.display.HTML object>"
      ]
     },
     "metadata": {},
     "output_type": "display_data"
    },
    {
     "data": {
      "text/html": [
       "\n",
       "                    <br/>Synced <strong style=\"color:#cdcd00\">v33</strong>: <a href=\"https://wandb.ai/pnn/l0iid_in70_out70_Tmax100--noise_dtv16sumSwish/runs/1r9ox39w\" target=\"_blank\">https://wandb.ai/pnn/l0iid_in70_out70_Tmax100--noise_dtv16sumSwish/runs/1r9ox39w</a><br/>\n",
       "                "
      ],
      "text/plain": [
       "<IPython.core.display.HTML object>"
      ]
     },
     "metadata": {},
     "output_type": "display_data"
    },
    {
     "name": "stderr",
     "output_type": "stream",
     "text": [
      "\u001b[32m[I 2021-03-17 12:00:19,050]\u001b[0m Trial 33 finished with value: 0.00018122719484381378 and parameters: {'Nlayers': 5, 'Ncoms': 1, 'identity_init': 0, 'lr': 0.0001, 'Nunits1': 337.5517592353246, 'Nunits2': 370.53103147868217, 'Nunits3': 152.87820292407875, 'Nunits4': 217.1579960459324}. Best is trial 28 with value: 0.0001325897464994341.\u001b[0m\n",
      "wandb: wandb version 0.10.22 is available!  To upgrade, please run:\n",
      "wandb:  $ pip install wandb --upgrade\n"
     ]
    },
    {
     "data": {
      "text/html": [
       "\n",
       "                Tracking run with wandb version 0.10.8<br/>\n",
       "                Syncing run <strong style=\"color:#cdcd00\">v34</strong> to <a href=\"https://wandb.ai\" target=\"_blank\">Weights & Biases</a> <a href=\"https://docs.wandb.com/integrations/jupyter.html\" target=\"_blank\">(Documentation)</a>.<br/>\n",
       "                Project page: <a href=\"https://wandb.ai/pnn/l0iid_in70_out70_Tmax100--noise_dtv16sumSwish\" target=\"_blank\">https://wandb.ai/pnn/l0iid_in70_out70_Tmax100--noise_dtv16sumSwish</a><br/>\n",
       "                Run page: <a href=\"https://wandb.ai/pnn/l0iid_in70_out70_Tmax100--noise_dtv16sumSwish/runs/25lnrit7\" target=\"_blank\">https://wandb.ai/pnn/l0iid_in70_out70_Tmax100--noise_dtv16sumSwish/runs/25lnrit7</a><br/>\n",
       "                Run data is saved locally in <code>wandb\\run-20210317_120019-25lnrit7</code><br/><br/>\n",
       "            "
      ],
      "text/plain": [
       "<IPython.core.display.HTML object>"
      ]
     },
     "metadata": {},
     "output_type": "display_data"
    },
    {
     "name": "stderr",
     "output_type": "stream",
     "text": [
      "GPU available: True, used: False\n",
      "TPU available: False, using: 0 TPU cores\n",
      "C:\\Users\\lgw32\\anaconda3\\lib\\site-packages\\pytorch_lightning\\utilities\\distributed.py:37: UserWarning: Experiment logs directory logs\\l0iid_in70_out70_Tmax100--noise_dtv16sumSwish\\v34 exists and is not empty. Previous log files in this directory will be deleted when the new ones are saved!\n",
      "  warnings.warn(*args, **kwargs)\n",
      "Saving latest checkpoint..\n"
     ]
    },
    {
     "data": {
      "text/html": [
       "<br/>Waiting for W&B process to finish, PID 11476<br/>Program ended successfully."
      ],
      "text/plain": [
       "<IPython.core.display.HTML object>"
      ]
     },
     "metadata": {},
     "output_type": "display_data"
    },
    {
     "data": {
      "application/vnd.jupyter.widget-view+json": {
       "model_id": "",
       "version_major": 2,
       "version_minor": 0
      },
      "text/plain": [
       "VBox(children=(Label(value=' 0.00MB of 0.00MB uploaded (0.00MB deduped)\\r'), FloatProgress(value=1.0, max=1.0)…"
      ]
     },
     "metadata": {},
     "output_type": "display_data"
    },
    {
     "data": {
      "text/html": [
       "Find user logs for this run at: <code>wandb\\run-20210317_120019-25lnrit7\\logs\\debug.log</code>"
      ],
      "text/plain": [
       "<IPython.core.display.HTML object>"
      ]
     },
     "metadata": {},
     "output_type": "display_data"
    },
    {
     "data": {
      "text/html": [
       "Find internal logs for this run at: <code>wandb\\run-20210317_120019-25lnrit7\\logs\\debug-internal.log</code>"
      ],
      "text/plain": [
       "<IPython.core.display.HTML object>"
      ]
     },
     "metadata": {},
     "output_type": "display_data"
    },
    {
     "data": {
      "text/html": [
       "<h3>Run summary:</h3><br/><style>\n",
       "    table.wandb td:nth-child(1) { padding: 0 10px; text-align: right }\n",
       "    </style><table class=\"wandb\">\n",
       "<tr><td>global_step</td><td>17999</td></tr><tr><td>lr-Adam</td><td>0.0</td></tr><tr><td>_step</td><td>1999</td></tr><tr><td>_runtime</td><td>87</td></tr><tr><td>_timestamp</td><td>1615996906</td></tr><tr><td>val_loss</td><td>0.01362</td></tr><tr><td>epoch</td><td>999</td></tr></table>"
      ],
      "text/plain": [
       "<IPython.core.display.HTML object>"
      ]
     },
     "metadata": {},
     "output_type": "display_data"
    },
    {
     "data": {
      "text/html": [
       "<h3>Run history:</h3><br/><style>\n",
       "    table.wandb td:nth-child(1) { padding: 0 10px; text-align: right }\n",
       "    </style><table class=\"wandb\">\n",
       "<tr><td>global_step</td><td>▁▁▁▂▂▂▂▂▂▃▃▃▃▃▄▄▄▄▄▄▅▅▅▅▅▅▆▆▆▆▆▇▇▇▇▇▇███</td></tr><tr><td>lr-Adam</td><td>█████████████▂▁▁▁▁▁▁▁▁▁▁▁▁▁▁▁▁▁▁▁▁▁▁▁▁▁▁</td></tr><tr><td>_step</td><td>▁▁▁▂▂▂▂▂▂▃▃▃▃▃▄▄▄▄▄▄▅▅▅▅▅▅▆▆▆▆▆▇▇▇▇▇▇███</td></tr><tr><td>_runtime</td><td>▁▁▁▂▂▂▂▂▃▃▃▃▃▄▄▄▄▄▅▅▅▅▅▅▆▆▆▆▆▆▇▇▇▇▇▇████</td></tr><tr><td>_timestamp</td><td>▁▁▁▂▂▂▂▂▃▃▃▃▃▄▄▄▄▄▅▅▅▅▅▅▆▆▆▆▆▆▇▇▇▇▇▇████</td></tr><tr><td>val_loss</td><td>█▃▂▂▁▁▁▁▁▁▁▁▁▁▁▁▁▁▁▁▁▁▁▁▁▁▁▁▁▁▁▁▁▁▁▁▁▁▁▁</td></tr><tr><td>epoch</td><td>▁▁▁▂▂▂▂▂▂▃▃▃▃▃▄▄▄▄▄▄▅▅▅▅▅▅▆▆▆▆▆▇▇▇▇▇▇███</td></tr></table><br/>"
      ],
      "text/plain": [
       "<IPython.core.display.HTML object>"
      ]
     },
     "metadata": {},
     "output_type": "display_data"
    },
    {
     "data": {
      "text/html": [
       "Synced 5 W&B file(s), 0 media file(s), 0 artifact file(s) and 0 other file(s)"
      ],
      "text/plain": [
       "<IPython.core.display.HTML object>"
      ]
     },
     "metadata": {},
     "output_type": "display_data"
    },
    {
     "data": {
      "text/html": [
       "\n",
       "                    <br/>Synced <strong style=\"color:#cdcd00\">v34</strong>: <a href=\"https://wandb.ai/pnn/l0iid_in70_out70_Tmax100--noise_dtv16sumSwish/runs/25lnrit7\" target=\"_blank\">https://wandb.ai/pnn/l0iid_in70_out70_Tmax100--noise_dtv16sumSwish/runs/25lnrit7</a><br/>\n",
       "                "
      ],
      "text/plain": [
       "<IPython.core.display.HTML object>"
      ]
     },
     "metadata": {},
     "output_type": "display_data"
    },
    {
     "name": "stderr",
     "output_type": "stream",
     "text": [
      "\u001b[32m[I 2021-03-17 12:01:49,965]\u001b[0m Trial 34 finished with value: 0.00018550033564679325 and parameters: {'Nlayers': 5, 'Ncoms': 1, 'identity_init': 1, 'lr': 0.0001, 'Nunits1': 214.57616610941568, 'Nunits2': 168.37532126603872, 'Nunits3': 208.29822293079278, 'Nunits4': 217.97166208088345}. Best is trial 28 with value: 0.0001325897464994341.\u001b[0m\n",
      "wandb: wandb version 0.10.22 is available!  To upgrade, please run:\n",
      "wandb:  $ pip install wandb --upgrade\n"
     ]
    },
    {
     "data": {
      "text/html": [
       "\n",
       "                Tracking run with wandb version 0.10.8<br/>\n",
       "                Syncing run <strong style=\"color:#cdcd00\">v35</strong> to <a href=\"https://wandb.ai\" target=\"_blank\">Weights & Biases</a> <a href=\"https://docs.wandb.com/integrations/jupyter.html\" target=\"_blank\">(Documentation)</a>.<br/>\n",
       "                Project page: <a href=\"https://wandb.ai/pnn/l0iid_in70_out70_Tmax100--noise_dtv16sumSwish\" target=\"_blank\">https://wandb.ai/pnn/l0iid_in70_out70_Tmax100--noise_dtv16sumSwish</a><br/>\n",
       "                Run page: <a href=\"https://wandb.ai/pnn/l0iid_in70_out70_Tmax100--noise_dtv16sumSwish/runs/2oqo2t1z\" target=\"_blank\">https://wandb.ai/pnn/l0iid_in70_out70_Tmax100--noise_dtv16sumSwish/runs/2oqo2t1z</a><br/>\n",
       "                Run data is saved locally in <code>wandb\\run-20210317_120149-2oqo2t1z</code><br/><br/>\n",
       "            "
      ],
      "text/plain": [
       "<IPython.core.display.HTML object>"
      ]
     },
     "metadata": {},
     "output_type": "display_data"
    },
    {
     "name": "stderr",
     "output_type": "stream",
     "text": [
      "GPU available: True, used: False\n",
      "TPU available: False, using: 0 TPU cores\n",
      "C:\\Users\\lgw32\\anaconda3\\lib\\site-packages\\pytorch_lightning\\utilities\\distributed.py:37: UserWarning: Experiment logs directory logs\\l0iid_in70_out70_Tmax100--noise_dtv16sumSwish\\v35 exists and is not empty. Previous log files in this directory will be deleted when the new ones are saved!\n",
      "  warnings.warn(*args, **kwargs)\n",
      "Saving latest checkpoint..\n"
     ]
    },
    {
     "data": {
      "text/html": [
       "<br/>Waiting for W&B process to finish, PID 6708<br/>Program ended successfully."
      ],
      "text/plain": [
       "<IPython.core.display.HTML object>"
      ]
     },
     "metadata": {},
     "output_type": "display_data"
    },
    {
     "data": {
      "application/vnd.jupyter.widget-view+json": {
       "model_id": "",
       "version_major": 2,
       "version_minor": 0
      },
      "text/plain": [
       "VBox(children=(Label(value=' 0.00MB of 0.00MB uploaded (0.00MB deduped)\\r'), FloatProgress(value=1.0, max=1.0)…"
      ]
     },
     "metadata": {},
     "output_type": "display_data"
    },
    {
     "data": {
      "text/html": [
       "Find user logs for this run at: <code>wandb\\run-20210317_120149-2oqo2t1z\\logs\\debug.log</code>"
      ],
      "text/plain": [
       "<IPython.core.display.HTML object>"
      ]
     },
     "metadata": {},
     "output_type": "display_data"
    },
    {
     "data": {
      "text/html": [
       "Find internal logs for this run at: <code>wandb\\run-20210317_120149-2oqo2t1z\\logs\\debug-internal.log</code>"
      ],
      "text/plain": [
       "<IPython.core.display.HTML object>"
      ]
     },
     "metadata": {},
     "output_type": "display_data"
    },
    {
     "data": {
      "text/html": [
       "<h3>Run summary:</h3><br/><style>\n",
       "    table.wandb td:nth-child(1) { padding: 0 10px; text-align: right }\n",
       "    </style><table class=\"wandb\">\n",
       "<tr><td>global_step</td><td>17999</td></tr><tr><td>lr-Adam</td><td>0.0</td></tr><tr><td>_step</td><td>1999</td></tr><tr><td>_runtime</td><td>196</td></tr><tr><td>_timestamp</td><td>1615997106</td></tr><tr><td>val_loss</td><td>0.01293</td></tr><tr><td>epoch</td><td>999</td></tr></table>"
      ],
      "text/plain": [
       "<IPython.core.display.HTML object>"
      ]
     },
     "metadata": {},
     "output_type": "display_data"
    },
    {
     "data": {
      "text/html": [
       "<h3>Run history:</h3><br/><style>\n",
       "    table.wandb td:nth-child(1) { padding: 0 10px; text-align: right }\n",
       "    </style><table class=\"wandb\">\n",
       "<tr><td>global_step</td><td>▁▁▁▂▂▂▂▂▂▃▃▃▃▃▄▄▄▄▄▄▅▅▅▅▅▅▆▆▆▆▆▇▇▇▇▇▇███</td></tr><tr><td>lr-Adam</td><td>██████▃▁▁▁▁▁▁▁▁▁▁▁▁▁▁▁▁▁▁▁▁▁▁▁▁▁▁▁▁▁▁▁▁▁</td></tr><tr><td>_step</td><td>▁▁▁▂▂▂▂▂▂▃▃▃▃▃▄▄▄▄▄▄▅▅▅▅▅▅▆▆▆▆▆▇▇▇▇▇▇███</td></tr><tr><td>_runtime</td><td>▁▁▁▂▂▂▂▂▂▃▃▃▃▃▄▄▄▄▄▄▅▅▅▅▅▅▆▆▆▆▆▇▇▇▇▇▇███</td></tr><tr><td>_timestamp</td><td>▁▁▁▂▂▂▂▂▂▃▃▃▃▃▄▄▄▄▄▄▅▅▅▅▅▅▆▆▆▆▆▇▇▇▇▇▇███</td></tr><tr><td>val_loss</td><td>█▃▂▁▁▁▁▁▁▁▁▁▁▁▁▁▁▁▁▁▁▁▁▁▁▁▁▁▁▁▁▁▁▁▁▁▁▁▁▁</td></tr><tr><td>epoch</td><td>▁▁▁▂▂▂▂▂▂▃▃▃▃▃▄▄▄▄▄▄▅▅▅▅▅▅▆▆▆▆▆▇▇▇▇▇▇███</td></tr></table><br/>"
      ],
      "text/plain": [
       "<IPython.core.display.HTML object>"
      ]
     },
     "metadata": {},
     "output_type": "display_data"
    },
    {
     "data": {
      "text/html": [
       "Synced 5 W&B file(s), 0 media file(s), 0 artifact file(s) and 0 other file(s)"
      ],
      "text/plain": [
       "<IPython.core.display.HTML object>"
      ]
     },
     "metadata": {},
     "output_type": "display_data"
    },
    {
     "data": {
      "text/html": [
       "\n",
       "                    <br/>Synced <strong style=\"color:#cdcd00\">v35</strong>: <a href=\"https://wandb.ai/pnn/l0iid_in70_out70_Tmax100--noise_dtv16sumSwish/runs/2oqo2t1z\" target=\"_blank\">https://wandb.ai/pnn/l0iid_in70_out70_Tmax100--noise_dtv16sumSwish/runs/2oqo2t1z</a><br/>\n",
       "                "
      ],
      "text/plain": [
       "<IPython.core.display.HTML object>"
      ]
     },
     "metadata": {},
     "output_type": "display_data"
    },
    {
     "name": "stderr",
     "output_type": "stream",
     "text": [
      "\u001b[32m[I 2021-03-17 12:05:09,429]\u001b[0m Trial 35 finished with value: 0.00016703997971490026 and parameters: {'Nlayers': 5, 'Ncoms': 4, 'identity_init': 0, 'lr': 0.0001, 'Nunits1': 173.05185304617976, 'Nunits2': 182.19956387100157, 'Nunits3': 187.7934963156381, 'Nunits4': 177.02597157640508}. Best is trial 28 with value: 0.0001325897464994341.\u001b[0m\n",
      "wandb: wandb version 0.10.22 is available!  To upgrade, please run:\n",
      "wandb:  $ pip install wandb --upgrade\n"
     ]
    },
    {
     "data": {
      "text/html": [
       "\n",
       "                Tracking run with wandb version 0.10.8<br/>\n",
       "                Syncing run <strong style=\"color:#cdcd00\">v36</strong> to <a href=\"https://wandb.ai\" target=\"_blank\">Weights & Biases</a> <a href=\"https://docs.wandb.com/integrations/jupyter.html\" target=\"_blank\">(Documentation)</a>.<br/>\n",
       "                Project page: <a href=\"https://wandb.ai/pnn/l0iid_in70_out70_Tmax100--noise_dtv16sumSwish\" target=\"_blank\">https://wandb.ai/pnn/l0iid_in70_out70_Tmax100--noise_dtv16sumSwish</a><br/>\n",
       "                Run page: <a href=\"https://wandb.ai/pnn/l0iid_in70_out70_Tmax100--noise_dtv16sumSwish/runs/13m0y8va\" target=\"_blank\">https://wandb.ai/pnn/l0iid_in70_out70_Tmax100--noise_dtv16sumSwish/runs/13m0y8va</a><br/>\n",
       "                Run data is saved locally in <code>wandb\\run-20210317_120509-13m0y8va</code><br/><br/>\n",
       "            "
      ],
      "text/plain": [
       "<IPython.core.display.HTML object>"
      ]
     },
     "metadata": {},
     "output_type": "display_data"
    },
    {
     "name": "stderr",
     "output_type": "stream",
     "text": [
      "GPU available: True, used: False\n",
      "TPU available: False, using: 0 TPU cores\n",
      "C:\\Users\\lgw32\\anaconda3\\lib\\site-packages\\pytorch_lightning\\utilities\\distributed.py:37: UserWarning: Experiment logs directory logs\\l0iid_in70_out70_Tmax100--noise_dtv16sumSwish\\v36 exists and is not empty. Previous log files in this directory will be deleted when the new ones are saved!\n",
      "  warnings.warn(*args, **kwargs)\n",
      "Saving latest checkpoint..\n"
     ]
    },
    {
     "data": {
      "text/html": [
       "<br/>Waiting for W&B process to finish, PID 1312<br/>Program ended successfully."
      ],
      "text/plain": [
       "<IPython.core.display.HTML object>"
      ]
     },
     "metadata": {},
     "output_type": "display_data"
    },
    {
     "data": {
      "application/vnd.jupyter.widget-view+json": {
       "model_id": "",
       "version_major": 2,
       "version_minor": 0
      },
      "text/plain": [
       "VBox(children=(Label(value=' 0.00MB of 0.00MB uploaded (0.00MB deduped)\\r'), FloatProgress(value=1.0, max=1.0)…"
      ]
     },
     "metadata": {},
     "output_type": "display_data"
    },
    {
     "data": {
      "text/html": [
       "Find user logs for this run at: <code>wandb\\run-20210317_120509-13m0y8va\\logs\\debug.log</code>"
      ],
      "text/plain": [
       "<IPython.core.display.HTML object>"
      ]
     },
     "metadata": {},
     "output_type": "display_data"
    },
    {
     "data": {
      "text/html": [
       "Find internal logs for this run at: <code>wandb\\run-20210317_120509-13m0y8va\\logs\\debug-internal.log</code>"
      ],
      "text/plain": [
       "<IPython.core.display.HTML object>"
      ]
     },
     "metadata": {},
     "output_type": "display_data"
    },
    {
     "data": {
      "text/html": [
       "<h3>Run summary:</h3><br/><style>\n",
       "    table.wandb td:nth-child(1) { padding: 0 10px; text-align: right }\n",
       "    </style><table class=\"wandb\">\n",
       "<tr><td>global_step</td><td>17999</td></tr><tr><td>lr-Adam</td><td>0.0</td></tr><tr><td>_step</td><td>1999</td></tr><tr><td>_runtime</td><td>80</td></tr><tr><td>_timestamp</td><td>1615997189</td></tr><tr><td>val_loss</td><td>0.01236</td></tr><tr><td>epoch</td><td>999</td></tr></table>"
      ],
      "text/plain": [
       "<IPython.core.display.HTML object>"
      ]
     },
     "metadata": {},
     "output_type": "display_data"
    },
    {
     "data": {
      "text/html": [
       "<h3>Run history:</h3><br/><style>\n",
       "    table.wandb td:nth-child(1) { padding: 0 10px; text-align: right }\n",
       "    </style><table class=\"wandb\">\n",
       "<tr><td>global_step</td><td>▁▁▁▂▂▂▂▂▂▃▃▃▃▃▄▄▄▄▄▄▅▅▅▅▅▅▆▆▆▆▆▇▇▇▇▇▇███</td></tr><tr><td>lr-Adam</td><td>██▃▃▂▁▁▁▁▁▁▁▁▁▁▁▁▁▁▁▁▁▁▁▁▁▁▁▁▁▁▁▁▁▁▁▁▁▁▁</td></tr><tr><td>_step</td><td>▁▁▁▂▂▂▂▂▂▃▃▃▃▃▄▄▄▄▄▄▅▅▅▅▅▅▆▆▆▆▆▇▇▇▇▇▇███</td></tr><tr><td>_runtime</td><td>▁▁▁▁▂▂▂▂▂▃▃▃▃▃▃▄▄▄▄▄▅▅▅▅▅▅▆▆▆▆▆▇▇▇▇▇▇███</td></tr><tr><td>_timestamp</td><td>▁▁▁▁▂▂▂▂▂▃▃▃▃▃▃▄▄▄▄▄▅▅▅▅▅▅▆▆▆▆▆▇▇▇▇▇▇███</td></tr><tr><td>val_loss</td><td>█▃▁▁▁▁▁▁▁▁▁▁▁▁▁▁▁▁▁▁▁▁▁▁▁▁▁▁▁▁▁▁▁▁▁▁▁▁▁▁</td></tr><tr><td>epoch</td><td>▁▁▁▂▂▂▂▂▂▃▃▃▃▃▄▄▄▄▄▄▅▅▅▅▅▅▆▆▆▆▆▇▇▇▇▇▇███</td></tr></table><br/>"
      ],
      "text/plain": [
       "<IPython.core.display.HTML object>"
      ]
     },
     "metadata": {},
     "output_type": "display_data"
    },
    {
     "data": {
      "text/html": [
       "Synced 5 W&B file(s), 0 media file(s), 0 artifact file(s) and 0 other file(s)"
      ],
      "text/plain": [
       "<IPython.core.display.HTML object>"
      ]
     },
     "metadata": {},
     "output_type": "display_data"
    },
    {
     "data": {
      "text/html": [
       "\n",
       "                    <br/>Synced <strong style=\"color:#cdcd00\">v36</strong>: <a href=\"https://wandb.ai/pnn/l0iid_in70_out70_Tmax100--noise_dtv16sumSwish/runs/13m0y8va\" target=\"_blank\">https://wandb.ai/pnn/l0iid_in70_out70_Tmax100--noise_dtv16sumSwish/runs/13m0y8va</a><br/>\n",
       "                "
      ],
      "text/plain": [
       "<IPython.core.display.HTML object>"
      ]
     },
     "metadata": {},
     "output_type": "display_data"
    },
    {
     "name": "stderr",
     "output_type": "stream",
     "text": [
      "\u001b[32m[I 2021-03-17 12:06:32,504]\u001b[0m Trial 36 finished with value: 0.00015282379172276706 and parameters: {'Nlayers': 2, 'Ncoms': 4, 'identity_init': 1, 'lr': 0.0031, 'Nunits1': 266.8068785510261}. Best is trial 28 with value: 0.0001325897464994341.\u001b[0m\n",
      "wandb: wandb version 0.10.22 is available!  To upgrade, please run:\n",
      "wandb:  $ pip install wandb --upgrade\n"
     ]
    },
    {
     "data": {
      "text/html": [
       "\n",
       "                Tracking run with wandb version 0.10.8<br/>\n",
       "                Syncing run <strong style=\"color:#cdcd00\">v37</strong> to <a href=\"https://wandb.ai\" target=\"_blank\">Weights & Biases</a> <a href=\"https://docs.wandb.com/integrations/jupyter.html\" target=\"_blank\">(Documentation)</a>.<br/>\n",
       "                Project page: <a href=\"https://wandb.ai/pnn/l0iid_in70_out70_Tmax100--noise_dtv16sumSwish\" target=\"_blank\">https://wandb.ai/pnn/l0iid_in70_out70_Tmax100--noise_dtv16sumSwish</a><br/>\n",
       "                Run page: <a href=\"https://wandb.ai/pnn/l0iid_in70_out70_Tmax100--noise_dtv16sumSwish/runs/qo5nt9gq\" target=\"_blank\">https://wandb.ai/pnn/l0iid_in70_out70_Tmax100--noise_dtv16sumSwish/runs/qo5nt9gq</a><br/>\n",
       "                Run data is saved locally in <code>wandb\\run-20210317_120632-qo5nt9gq</code><br/><br/>\n",
       "            "
      ],
      "text/plain": [
       "<IPython.core.display.HTML object>"
      ]
     },
     "metadata": {},
     "output_type": "display_data"
    },
    {
     "name": "stderr",
     "output_type": "stream",
     "text": [
      "GPU available: True, used: False\n",
      "TPU available: False, using: 0 TPU cores\n",
      "C:\\Users\\lgw32\\anaconda3\\lib\\site-packages\\pytorch_lightning\\utilities\\distributed.py:37: UserWarning: Experiment logs directory logs\\l0iid_in70_out70_Tmax100--noise_dtv16sumSwish\\v37 exists and is not empty. Previous log files in this directory will be deleted when the new ones are saved!\n",
      "  warnings.warn(*args, **kwargs)\n",
      "Saving latest checkpoint..\n"
     ]
    },
    {
     "data": {
      "text/html": [
       "<br/>Waiting for W&B process to finish, PID 9392<br/>Program ended successfully."
      ],
      "text/plain": [
       "<IPython.core.display.HTML object>"
      ]
     },
     "metadata": {},
     "output_type": "display_data"
    },
    {
     "data": {
      "application/vnd.jupyter.widget-view+json": {
       "model_id": "",
       "version_major": 2,
       "version_minor": 0
      },
      "text/plain": [
       "VBox(children=(Label(value=' 0.00MB of 0.00MB uploaded (0.00MB deduped)\\r'), FloatProgress(value=1.0, max=1.0)…"
      ]
     },
     "metadata": {},
     "output_type": "display_data"
    },
    {
     "data": {
      "text/html": [
       "Find user logs for this run at: <code>wandb\\run-20210317_120632-qo5nt9gq\\logs\\debug.log</code>"
      ],
      "text/plain": [
       "<IPython.core.display.HTML object>"
      ]
     },
     "metadata": {},
     "output_type": "display_data"
    },
    {
     "data": {
      "text/html": [
       "Find internal logs for this run at: <code>wandb\\run-20210317_120632-qo5nt9gq\\logs\\debug-internal.log</code>"
      ],
      "text/plain": [
       "<IPython.core.display.HTML object>"
      ]
     },
     "metadata": {},
     "output_type": "display_data"
    },
    {
     "data": {
      "text/html": [
       "<h3>Run summary:</h3><br/><style>\n",
       "    table.wandb td:nth-child(1) { padding: 0 10px; text-align: right }\n",
       "    </style><table class=\"wandb\">\n",
       "<tr><td>global_step</td><td>17999</td></tr><tr><td>lr-Adam</td><td>0.0</td></tr><tr><td>_step</td><td>1999</td></tr><tr><td>_runtime</td><td>104</td></tr><tr><td>_timestamp</td><td>1615997296</td></tr><tr><td>val_loss</td><td>0.0126</td></tr><tr><td>epoch</td><td>999</td></tr></table>"
      ],
      "text/plain": [
       "<IPython.core.display.HTML object>"
      ]
     },
     "metadata": {},
     "output_type": "display_data"
    },
    {
     "data": {
      "text/html": [
       "<h3>Run history:</h3><br/><style>\n",
       "    table.wandb td:nth-child(1) { padding: 0 10px; text-align: right }\n",
       "    </style><table class=\"wandb\">\n",
       "<tr><td>global_step</td><td>▁▁▁▂▂▂▂▂▂▃▃▃▃▃▄▄▄▄▄▄▅▅▅▅▅▅▆▆▆▆▆▇▇▇▇▇▇███</td></tr><tr><td>lr-Adam</td><td>██████████▃▁▁▁▁▁▁▁▁▁▁▁▁▁▁▁▁▁▁▁▁▁▁▁▁▁▁▁▁▁</td></tr><tr><td>_step</td><td>▁▁▁▂▂▂▂▂▂▃▃▃▃▃▄▄▄▄▄▄▅▅▅▅▅▅▆▆▆▆▆▇▇▇▇▇▇███</td></tr><tr><td>_runtime</td><td>▁▁▁▂▂▂▂▂▂▃▃▃▃▃▃▄▄▄▄▄▅▅▅▅▅▅▆▆▆▆▆▆▇▇▇▇▇███</td></tr><tr><td>_timestamp</td><td>▁▁▁▂▂▂▂▂▂▃▃▃▃▃▃▄▄▄▄▄▅▅▅▅▅▅▆▆▆▆▆▆▇▇▇▇▇███</td></tr><tr><td>val_loss</td><td>█▃▂▂▁▁▁▁▁▁▁▁▁▁▁▁▁▁▁▁▁▁▁▁▁▁▁▁▁▁▁▁▁▁▁▁▁▁▁▁</td></tr><tr><td>epoch</td><td>▁▁▁▂▂▂▂▂▂▃▃▃▃▃▄▄▄▄▄▄▅▅▅▅▅▅▆▆▆▆▆▇▇▇▇▇▇███</td></tr></table><br/>"
      ],
      "text/plain": [
       "<IPython.core.display.HTML object>"
      ]
     },
     "metadata": {},
     "output_type": "display_data"
    },
    {
     "data": {
      "text/html": [
       "Synced 5 W&B file(s), 0 media file(s), 0 artifact file(s) and 0 other file(s)"
      ],
      "text/plain": [
       "<IPython.core.display.HTML object>"
      ]
     },
     "metadata": {},
     "output_type": "display_data"
    },
    {
     "data": {
      "text/html": [
       "\n",
       "                    <br/>Synced <strong style=\"color:#cdcd00\">v37</strong>: <a href=\"https://wandb.ai/pnn/l0iid_in70_out70_Tmax100--noise_dtv16sumSwish/runs/qo5nt9gq\" target=\"_blank\">https://wandb.ai/pnn/l0iid_in70_out70_Tmax100--noise_dtv16sumSwish/runs/qo5nt9gq</a><br/>\n",
       "                "
      ],
      "text/plain": [
       "<IPython.core.display.HTML object>"
      ]
     },
     "metadata": {},
     "output_type": "display_data"
    },
    {
     "name": "stderr",
     "output_type": "stream",
     "text": [
      "\u001b[32m[I 2021-03-17 12:08:20,047]\u001b[0m Trial 37 finished with value: 0.00015875320241320878 and parameters: {'Nlayers': 3, 'Ncoms': 2, 'identity_init': 1, 'lr': 0.0001, 'Nunits1': 345.31591355802135, 'Nunits2': 527.1331724645833}. Best is trial 28 with value: 0.0001325897464994341.\u001b[0m\n",
      "wandb: wandb version 0.10.22 is available!  To upgrade, please run:\n",
      "wandb:  $ pip install wandb --upgrade\n"
     ]
    },
    {
     "data": {
      "text/html": [
       "\n",
       "                Tracking run with wandb version 0.10.8<br/>\n",
       "                Syncing run <strong style=\"color:#cdcd00\">v38</strong> to <a href=\"https://wandb.ai\" target=\"_blank\">Weights & Biases</a> <a href=\"https://docs.wandb.com/integrations/jupyter.html\" target=\"_blank\">(Documentation)</a>.<br/>\n",
       "                Project page: <a href=\"https://wandb.ai/pnn/l0iid_in70_out70_Tmax100--noise_dtv16sumSwish\" target=\"_blank\">https://wandb.ai/pnn/l0iid_in70_out70_Tmax100--noise_dtv16sumSwish</a><br/>\n",
       "                Run page: <a href=\"https://wandb.ai/pnn/l0iid_in70_out70_Tmax100--noise_dtv16sumSwish/runs/2tock114\" target=\"_blank\">https://wandb.ai/pnn/l0iid_in70_out70_Tmax100--noise_dtv16sumSwish/runs/2tock114</a><br/>\n",
       "                Run data is saved locally in <code>wandb\\run-20210317_120820-2tock114</code><br/><br/>\n",
       "            "
      ],
      "text/plain": [
       "<IPython.core.display.HTML object>"
      ]
     },
     "metadata": {},
     "output_type": "display_data"
    },
    {
     "name": "stderr",
     "output_type": "stream",
     "text": [
      "GPU available: True, used: False\n",
      "TPU available: False, using: 0 TPU cores\n",
      "C:\\Users\\lgw32\\anaconda3\\lib\\site-packages\\pytorch_lightning\\utilities\\distributed.py:37: UserWarning: Experiment logs directory logs\\l0iid_in70_out70_Tmax100--noise_dtv16sumSwish\\v38 exists and is not empty. Previous log files in this directory will be deleted when the new ones are saved!\n",
      "  warnings.warn(*args, **kwargs)\n",
      "Saving latest checkpoint..\n"
     ]
    },
    {
     "data": {
      "text/html": [
       "<br/>Waiting for W&B process to finish, PID 14192<br/>Program ended successfully."
      ],
      "text/plain": [
       "<IPython.core.display.HTML object>"
      ]
     },
     "metadata": {},
     "output_type": "display_data"
    },
    {
     "data": {
      "application/vnd.jupyter.widget-view+json": {
       "model_id": "",
       "version_major": 2,
       "version_minor": 0
      },
      "text/plain": [
       "VBox(children=(Label(value=' 0.00MB of 0.00MB uploaded (0.00MB deduped)\\r'), FloatProgress(value=1.0, max=1.0)…"
      ]
     },
     "metadata": {},
     "output_type": "display_data"
    },
    {
     "data": {
      "text/html": [
       "Find user logs for this run at: <code>wandb\\run-20210317_120820-2tock114\\logs\\debug.log</code>"
      ],
      "text/plain": [
       "<IPython.core.display.HTML object>"
      ]
     },
     "metadata": {},
     "output_type": "display_data"
    },
    {
     "data": {
      "text/html": [
       "Find internal logs for this run at: <code>wandb\\run-20210317_120820-2tock114\\logs\\debug-internal.log</code>"
      ],
      "text/plain": [
       "<IPython.core.display.HTML object>"
      ]
     },
     "metadata": {},
     "output_type": "display_data"
    },
    {
     "data": {
      "text/html": [
       "<h3>Run summary:</h3><br/><style>\n",
       "    table.wandb td:nth-child(1) { padding: 0 10px; text-align: right }\n",
       "    </style><table class=\"wandb\">\n",
       "<tr><td>global_step</td><td>17999</td></tr><tr><td>lr-Adam</td><td>0.0</td></tr><tr><td>_step</td><td>1999</td></tr><tr><td>_runtime</td><td>46</td></tr><tr><td>_timestamp</td><td>1615997346</td></tr><tr><td>val_loss</td><td>0.01254</td></tr><tr><td>epoch</td><td>999</td></tr></table>"
      ],
      "text/plain": [
       "<IPython.core.display.HTML object>"
      ]
     },
     "metadata": {},
     "output_type": "display_data"
    },
    {
     "data": {
      "text/html": [
       "<h3>Run history:</h3><br/><style>\n",
       "    table.wandb td:nth-child(1) { padding: 0 10px; text-align: right }\n",
       "    </style><table class=\"wandb\">\n",
       "<tr><td>global_step</td><td>▁▁▁▂▂▂▂▂▂▃▃▃▃▃▄▄▄▄▄▄▅▅▅▅▅▅▆▆▆▆▆▇▇▇▇▇▇███</td></tr><tr><td>lr-Adam</td><td>███▂▁▁▁▁▁▁▁▁▁▁▁▁▁▁▁▁▁▁▁▁▁▁▁▁▁▁▁▁▁▁▁▁▁▁▁▁</td></tr><tr><td>_step</td><td>▁▁▁▂▂▂▂▂▂▃▃▃▃▃▄▄▄▄▄▄▅▅▅▅▅▅▆▆▆▆▆▇▇▇▇▇▇███</td></tr><tr><td>_runtime</td><td>▁▁▁▁▂▂▂▂▂▃▃▃▃▃▃▄▄▄▄▄▅▅▅▅▅▅▆▆▆▆▆▇▇▇▇▇████</td></tr><tr><td>_timestamp</td><td>▁▁▁▁▂▂▂▂▂▃▃▃▃▃▃▄▄▄▄▄▅▅▅▅▅▅▆▆▆▆▆▇▇▇▇▇████</td></tr><tr><td>val_loss</td><td>█▂▁▁▁▁▁▁▁▁▁▁▁▁▁▁▁▁▁▁▁▁▁▁▁▁▁▁▁▁▁▁▁▁▁▁▁▁▁▁</td></tr><tr><td>epoch</td><td>▁▁▁▂▂▂▂▂▂▃▃▃▃▃▄▄▄▄▄▄▅▅▅▅▅▅▆▆▆▆▆▇▇▇▇▇▇███</td></tr></table><br/>"
      ],
      "text/plain": [
       "<IPython.core.display.HTML object>"
      ]
     },
     "metadata": {},
     "output_type": "display_data"
    },
    {
     "data": {
      "text/html": [
       "Synced 5 W&B file(s), 0 media file(s), 0 artifact file(s) and 0 other file(s)"
      ],
      "text/plain": [
       "<IPython.core.display.HTML object>"
      ]
     },
     "metadata": {},
     "output_type": "display_data"
    },
    {
     "data": {
      "text/html": [
       "\n",
       "                    <br/>Synced <strong style=\"color:#cdcd00\">v38</strong>: <a href=\"https://wandb.ai/pnn/l0iid_in70_out70_Tmax100--noise_dtv16sumSwish/runs/2tock114\" target=\"_blank\">https://wandb.ai/pnn/l0iid_in70_out70_Tmax100--noise_dtv16sumSwish/runs/2tock114</a><br/>\n",
       "                "
      ],
      "text/plain": [
       "<IPython.core.display.HTML object>"
      ]
     },
     "metadata": {},
     "output_type": "display_data"
    },
    {
     "name": "stderr",
     "output_type": "stream",
     "text": [
      "\u001b[32m[I 2021-03-17 12:09:09,423]\u001b[0m Trial 38 finished with value: 0.00015581732441205531 and parameters: {'Nlayers': 2, 'Ncoms': 1, 'identity_init': 0, 'lr': 0.001, 'Nunits1': 352.05573855835826}. Best is trial 28 with value: 0.0001325897464994341.\u001b[0m\n",
      "wandb: wandb version 0.10.22 is available!  To upgrade, please run:\n",
      "wandb:  $ pip install wandb --upgrade\n"
     ]
    },
    {
     "data": {
      "text/html": [
       "\n",
       "                Tracking run with wandb version 0.10.8<br/>\n",
       "                Syncing run <strong style=\"color:#cdcd00\">v39</strong> to <a href=\"https://wandb.ai\" target=\"_blank\">Weights & Biases</a> <a href=\"https://docs.wandb.com/integrations/jupyter.html\" target=\"_blank\">(Documentation)</a>.<br/>\n",
       "                Project page: <a href=\"https://wandb.ai/pnn/l0iid_in70_out70_Tmax100--noise_dtv16sumSwish\" target=\"_blank\">https://wandb.ai/pnn/l0iid_in70_out70_Tmax100--noise_dtv16sumSwish</a><br/>\n",
       "                Run page: <a href=\"https://wandb.ai/pnn/l0iid_in70_out70_Tmax100--noise_dtv16sumSwish/runs/1wo5vxsb\" target=\"_blank\">https://wandb.ai/pnn/l0iid_in70_out70_Tmax100--noise_dtv16sumSwish/runs/1wo5vxsb</a><br/>\n",
       "                Run data is saved locally in <code>wandb\\run-20210317_120909-1wo5vxsb</code><br/><br/>\n",
       "            "
      ],
      "text/plain": [
       "<IPython.core.display.HTML object>"
      ]
     },
     "metadata": {},
     "output_type": "display_data"
    },
    {
     "name": "stderr",
     "output_type": "stream",
     "text": [
      "GPU available: True, used: False\n",
      "TPU available: False, using: 0 TPU cores\n",
      "C:\\Users\\lgw32\\anaconda3\\lib\\site-packages\\pytorch_lightning\\utilities\\distributed.py:37: UserWarning: Experiment logs directory logs\\l0iid_in70_out70_Tmax100--noise_dtv16sumSwish\\v39 exists and is not empty. Previous log files in this directory will be deleted when the new ones are saved!\n",
      "  warnings.warn(*args, **kwargs)\n",
      "Saving latest checkpoint..\n"
     ]
    },
    {
     "data": {
      "text/html": [
       "<br/>Waiting for W&B process to finish, PID 9028<br/>Program ended successfully."
      ],
      "text/plain": [
       "<IPython.core.display.HTML object>"
      ]
     },
     "metadata": {},
     "output_type": "display_data"
    },
    {
     "data": {
      "application/vnd.jupyter.widget-view+json": {
       "model_id": "",
       "version_major": 2,
       "version_minor": 0
      },
      "text/plain": [
       "VBox(children=(Label(value=' 0.00MB of 0.00MB uploaded (0.00MB deduped)\\r'), FloatProgress(value=1.0, max=1.0)…"
      ]
     },
     "metadata": {},
     "output_type": "display_data"
    },
    {
     "data": {
      "text/html": [
       "Find user logs for this run at: <code>wandb\\run-20210317_120909-1wo5vxsb\\logs\\debug.log</code>"
      ],
      "text/plain": [
       "<IPython.core.display.HTML object>"
      ]
     },
     "metadata": {},
     "output_type": "display_data"
    },
    {
     "data": {
      "text/html": [
       "Find internal logs for this run at: <code>wandb\\run-20210317_120909-1wo5vxsb\\logs\\debug-internal.log</code>"
      ],
      "text/plain": [
       "<IPython.core.display.HTML object>"
      ]
     },
     "metadata": {},
     "output_type": "display_data"
    },
    {
     "data": {
      "text/html": [
       "<h3>Run summary:</h3><br/><style>\n",
       "    table.wandb td:nth-child(1) { padding: 0 10px; text-align: right }\n",
       "    </style><table class=\"wandb\">\n",
       "<tr><td>global_step</td><td>17999</td></tr><tr><td>lr-Adam</td><td>0.0</td></tr><tr><td>_step</td><td>1999</td></tr><tr><td>_runtime</td><td>270</td></tr><tr><td>_timestamp</td><td>1615997619</td></tr><tr><td>val_loss</td><td>0.01387</td></tr><tr><td>epoch</td><td>999</td></tr></table>"
      ],
      "text/plain": [
       "<IPython.core.display.HTML object>"
      ]
     },
     "metadata": {},
     "output_type": "display_data"
    },
    {
     "data": {
      "text/html": [
       "<h3>Run history:</h3><br/><style>\n",
       "    table.wandb td:nth-child(1) { padding: 0 10px; text-align: right }\n",
       "    </style><table class=\"wandb\">\n",
       "<tr><td>global_step</td><td>▁▁▁▂▂▂▂▂▂▃▃▃▃▃▄▄▄▄▄▄▅▅▅▅▅▅▆▆▆▆▆▇▇▇▇▇▇███</td></tr><tr><td>lr-Adam</td><td>████████████▃▃▃▃▃▃▁▁▁▁▁▁▁▁▁▁▁▁▁▁▁▁▁▁▁▁▁▁</td></tr><tr><td>_step</td><td>▁▁▁▂▂▂▂▂▂▃▃▃▃▃▄▄▄▄▄▄▅▅▅▅▅▅▆▆▆▆▆▇▇▇▇▇▇███</td></tr><tr><td>_runtime</td><td>▁▁▁▂▂▂▂▂▂▃▃▃▃▃▄▄▄▄▄▅▅▅▅▅▅▆▆▆▆▆▆▇▇▇▇▇▇███</td></tr><tr><td>_timestamp</td><td>▁▁▁▂▂▂▂▂▂▃▃▃▃▃▄▄▄▄▄▅▅▅▅▅▅▆▆▆▆▆▆▇▇▇▇▇▇███</td></tr><tr><td>val_loss</td><td>█▃▂▂▁▁▁▁▁▁▁▁▁▁▁▁▁▁▁▁▁▁▁▁▁▁▁▁▁▁▁▁▁▁▁▁▁▁▁▁</td></tr><tr><td>epoch</td><td>▁▁▁▂▂▂▂▂▂▃▃▃▃▃▄▄▄▄▄▄▅▅▅▅▅▅▆▆▆▆▆▇▇▇▇▇▇███</td></tr></table><br/>"
      ],
      "text/plain": [
       "<IPython.core.display.HTML object>"
      ]
     },
     "metadata": {},
     "output_type": "display_data"
    },
    {
     "data": {
      "text/html": [
       "Synced 5 W&B file(s), 0 media file(s), 0 artifact file(s) and 0 other file(s)"
      ],
      "text/plain": [
       "<IPython.core.display.HTML object>"
      ]
     },
     "metadata": {},
     "output_type": "display_data"
    },
    {
     "data": {
      "text/html": [
       "\n",
       "                    <br/>Synced <strong style=\"color:#cdcd00\">v39</strong>: <a href=\"https://wandb.ai/pnn/l0iid_in70_out70_Tmax100--noise_dtv16sumSwish/runs/1wo5vxsb\" target=\"_blank\">https://wandb.ai/pnn/l0iid_in70_out70_Tmax100--noise_dtv16sumSwish/runs/1wo5vxsb</a><br/>\n",
       "                "
      ],
      "text/plain": [
       "<IPython.core.display.HTML object>"
      ]
     },
     "metadata": {},
     "output_type": "display_data"
    },
    {
     "name": "stderr",
     "output_type": "stream",
     "text": [
      "\u001b[32m[I 2021-03-17 12:13:42,688]\u001b[0m Trial 39 finished with value: 0.00019236050138715655 and parameters: {'Nlayers': 5, 'Ncoms': 5, 'identity_init': 1, 'lr': 0.0001, 'Nunits1': 318.3293407154216, 'Nunits2': 168.908712353246, 'Nunits3': 216.83703212712604, 'Nunits4': 174.9703408226766}. Best is trial 28 with value: 0.0001325897464994341.\u001b[0m\n",
      "wandb: wandb version 0.10.22 is available!  To upgrade, please run:\n",
      "wandb:  $ pip install wandb --upgrade\n"
     ]
    },
    {
     "data": {
      "text/html": [
       "\n",
       "                Tracking run with wandb version 0.10.8<br/>\n",
       "                Syncing run <strong style=\"color:#cdcd00\">v40</strong> to <a href=\"https://wandb.ai\" target=\"_blank\">Weights & Biases</a> <a href=\"https://docs.wandb.com/integrations/jupyter.html\" target=\"_blank\">(Documentation)</a>.<br/>\n",
       "                Project page: <a href=\"https://wandb.ai/pnn/l0iid_in70_out70_Tmax100--noise_dtv16sumSwish\" target=\"_blank\">https://wandb.ai/pnn/l0iid_in70_out70_Tmax100--noise_dtv16sumSwish</a><br/>\n",
       "                Run page: <a href=\"https://wandb.ai/pnn/l0iid_in70_out70_Tmax100--noise_dtv16sumSwish/runs/2go66k6e\" target=\"_blank\">https://wandb.ai/pnn/l0iid_in70_out70_Tmax100--noise_dtv16sumSwish/runs/2go66k6e</a><br/>\n",
       "                Run data is saved locally in <code>wandb\\run-20210317_121342-2go66k6e</code><br/><br/>\n",
       "            "
      ],
      "text/plain": [
       "<IPython.core.display.HTML object>"
      ]
     },
     "metadata": {},
     "output_type": "display_data"
    },
    {
     "name": "stderr",
     "output_type": "stream",
     "text": [
      "GPU available: True, used: False\n",
      "TPU available: False, using: 0 TPU cores\n",
      "C:\\Users\\lgw32\\anaconda3\\lib\\site-packages\\pytorch_lightning\\utilities\\distributed.py:37: UserWarning: Experiment logs directory logs\\l0iid_in70_out70_Tmax100--noise_dtv16sumSwish\\v40 exists and is not empty. Previous log files in this directory will be deleted when the new ones are saved!\n",
      "  warnings.warn(*args, **kwargs)\n",
      "Saving latest checkpoint..\n"
     ]
    },
    {
     "data": {
      "text/html": [
       "<br/>Waiting for W&B process to finish, PID 6180<br/>Program ended successfully."
      ],
      "text/plain": [
       "<IPython.core.display.HTML object>"
      ]
     },
     "metadata": {},
     "output_type": "display_data"
    },
    {
     "data": {
      "application/vnd.jupyter.widget-view+json": {
       "model_id": "",
       "version_major": 2,
       "version_minor": 0
      },
      "text/plain": [
       "VBox(children=(Label(value=' 0.00MB of 0.00MB uploaded (0.00MB deduped)\\r'), FloatProgress(value=1.0, max=1.0)…"
      ]
     },
     "metadata": {},
     "output_type": "display_data"
    },
    {
     "data": {
      "text/html": [
       "Find user logs for this run at: <code>wandb\\run-20210317_121342-2go66k6e\\logs\\debug.log</code>"
      ],
      "text/plain": [
       "<IPython.core.display.HTML object>"
      ]
     },
     "metadata": {},
     "output_type": "display_data"
    },
    {
     "data": {
      "text/html": [
       "Find internal logs for this run at: <code>wandb\\run-20210317_121342-2go66k6e\\logs\\debug-internal.log</code>"
      ],
      "text/plain": [
       "<IPython.core.display.HTML object>"
      ]
     },
     "metadata": {},
     "output_type": "display_data"
    },
    {
     "data": {
      "text/html": [
       "<h3>Run summary:</h3><br/><style>\n",
       "    table.wandb td:nth-child(1) { padding: 0 10px; text-align: right }\n",
       "    </style><table class=\"wandb\">\n",
       "<tr><td>global_step</td><td>17999</td></tr><tr><td>lr-Adam</td><td>1e-05</td></tr><tr><td>_step</td><td>1999</td></tr><tr><td>_runtime</td><td>35</td></tr><tr><td>_timestamp</td><td>1615997657</td></tr><tr><td>val_loss</td><td>0.02091</td></tr><tr><td>epoch</td><td>999</td></tr></table>"
      ],
      "text/plain": [
       "<IPython.core.display.HTML object>"
      ]
     },
     "metadata": {},
     "output_type": "display_data"
    },
    {
     "data": {
      "text/html": [
       "<h3>Run history:</h3><br/><style>\n",
       "    table.wandb td:nth-child(1) { padding: 0 10px; text-align: right }\n",
       "    </style><table class=\"wandb\">\n",
       "<tr><td>global_step</td><td>▁▁▁▂▂▂▂▂▂▃▃▃▃▃▄▄▄▄▄▄▅▅▅▅▅▅▆▆▆▆▆▇▇▇▇▇▇███</td></tr><tr><td>lr-Adam</td><td>▁▁▁▁▁▁▁▁▁▁▁▁▁▁▁▁▁▁▁▁▁▁▁▁▁▁▁▁▁▁▁▁▁▁▁▁▁▁▁▁</td></tr><tr><td>_step</td><td>▁▁▁▂▂▂▂▂▂▃▃▃▃▃▄▄▄▄▄▄▅▅▅▅▅▅▆▆▆▆▆▇▇▇▇▇▇███</td></tr><tr><td>_runtime</td><td>▁▁▁▁▂▂▂▂▂▂▂▃▃▃▃▄▄▄▄▄▄▅▅▅▅▅▅▆▆▆▆▆▇▇▇▇▇███</td></tr><tr><td>_timestamp</td><td>▁▁▁▁▂▂▂▂▂▂▂▃▃▃▃▄▄▄▄▄▄▅▅▅▅▅▅▆▆▆▆▆▇▇▇▇▇███</td></tr><tr><td>val_loss</td><td>█▇▇▇▆▆▅▅▅▄▄▄▃▃▃▃▂▂▂▂▂▂▂▂▂▁▁▁▁▁▁▁▁▁▁▁▁▁▁▁</td></tr><tr><td>epoch</td><td>▁▁▁▂▂▂▂▂▂▃▃▃▃▃▄▄▄▄▄▄▅▅▅▅▅▅▆▆▆▆▆▇▇▇▇▇▇███</td></tr></table><br/>"
      ],
      "text/plain": [
       "<IPython.core.display.HTML object>"
      ]
     },
     "metadata": {},
     "output_type": "display_data"
    },
    {
     "data": {
      "text/html": [
       "Synced 5 W&B file(s), 0 media file(s), 0 artifact file(s) and 0 other file(s)"
      ],
      "text/plain": [
       "<IPython.core.display.HTML object>"
      ]
     },
     "metadata": {},
     "output_type": "display_data"
    },
    {
     "data": {
      "text/html": [
       "\n",
       "                    <br/>Synced <strong style=\"color:#cdcd00\">v40</strong>: <a href=\"https://wandb.ai/pnn/l0iid_in70_out70_Tmax100--noise_dtv16sumSwish/runs/2go66k6e\" target=\"_blank\">https://wandb.ai/pnn/l0iid_in70_out70_Tmax100--noise_dtv16sumSwish/runs/2go66k6e</a><br/>\n",
       "                "
      ],
      "text/plain": [
       "<IPython.core.display.HTML object>"
      ]
     },
     "metadata": {},
     "output_type": "display_data"
    },
    {
     "name": "stderr",
     "output_type": "stream",
     "text": [
      "\u001b[32m[I 2021-03-17 12:14:20,543]\u001b[0m Trial 40 finished with value: 0.0004373663105070591 and parameters: {'Nlayers': 1, 'Ncoms': 2, 'identity_init': 0, 'lr': 1e-05}. Best is trial 28 with value: 0.0001325897464994341.\u001b[0m\n",
      "wandb: wandb version 0.10.22 is available!  To upgrade, please run:\n",
      "wandb:  $ pip install wandb --upgrade\n"
     ]
    },
    {
     "data": {
      "text/html": [
       "\n",
       "                Tracking run with wandb version 0.10.8<br/>\n",
       "                Syncing run <strong style=\"color:#cdcd00\">v41</strong> to <a href=\"https://wandb.ai\" target=\"_blank\">Weights & Biases</a> <a href=\"https://docs.wandb.com/integrations/jupyter.html\" target=\"_blank\">(Documentation)</a>.<br/>\n",
       "                Project page: <a href=\"https://wandb.ai/pnn/l0iid_in70_out70_Tmax100--noise_dtv16sumSwish\" target=\"_blank\">https://wandb.ai/pnn/l0iid_in70_out70_Tmax100--noise_dtv16sumSwish</a><br/>\n",
       "                Run page: <a href=\"https://wandb.ai/pnn/l0iid_in70_out70_Tmax100--noise_dtv16sumSwish/runs/3gw93yaz\" target=\"_blank\">https://wandb.ai/pnn/l0iid_in70_out70_Tmax100--noise_dtv16sumSwish/runs/3gw93yaz</a><br/>\n",
       "                Run data is saved locally in <code>wandb\\run-20210317_121420-3gw93yaz</code><br/><br/>\n",
       "            "
      ],
      "text/plain": [
       "<IPython.core.display.HTML object>"
      ]
     },
     "metadata": {},
     "output_type": "display_data"
    },
    {
     "name": "stderr",
     "output_type": "stream",
     "text": [
      "GPU available: True, used: False\n",
      "TPU available: False, using: 0 TPU cores\n",
      "C:\\Users\\lgw32\\anaconda3\\lib\\site-packages\\pytorch_lightning\\utilities\\distributed.py:37: UserWarning: Experiment logs directory logs\\l0iid_in70_out70_Tmax100--noise_dtv16sumSwish\\v41 exists and is not empty. Previous log files in this directory will be deleted when the new ones are saved!\n",
      "  warnings.warn(*args, **kwargs)\n",
      "Saving latest checkpoint..\n"
     ]
    },
    {
     "data": {
      "text/html": [
       "<br/>Waiting for W&B process to finish, PID 11364<br/>Program ended successfully."
      ],
      "text/plain": [
       "<IPython.core.display.HTML object>"
      ]
     },
     "metadata": {},
     "output_type": "display_data"
    },
    {
     "data": {
      "application/vnd.jupyter.widget-view+json": {
       "model_id": "",
       "version_major": 2,
       "version_minor": 0
      },
      "text/plain": [
       "VBox(children=(Label(value=' 0.00MB of 0.00MB uploaded (0.00MB deduped)\\r'), FloatProgress(value=1.0, max=1.0)…"
      ]
     },
     "metadata": {},
     "output_type": "display_data"
    },
    {
     "data": {
      "text/html": [
       "Find user logs for this run at: <code>wandb\\run-20210317_121420-3gw93yaz\\logs\\debug.log</code>"
      ],
      "text/plain": [
       "<IPython.core.display.HTML object>"
      ]
     },
     "metadata": {},
     "output_type": "display_data"
    },
    {
     "data": {
      "text/html": [
       "Find internal logs for this run at: <code>wandb\\run-20210317_121420-3gw93yaz\\logs\\debug-internal.log</code>"
      ],
      "text/plain": [
       "<IPython.core.display.HTML object>"
      ]
     },
     "metadata": {},
     "output_type": "display_data"
    },
    {
     "data": {
      "text/html": [
       "<h3>Run summary:</h3><br/><style>\n",
       "    table.wandb td:nth-child(1) { padding: 0 10px; text-align: right }\n",
       "    </style><table class=\"wandb\">\n",
       "<tr><td>global_step</td><td>17999</td></tr><tr><td>lr-Adam</td><td>0.0</td></tr><tr><td>_step</td><td>1999</td></tr><tr><td>_runtime</td><td>251</td></tr><tr><td>_timestamp</td><td>1615997911</td></tr><tr><td>val_loss</td><td>0.01343</td></tr><tr><td>epoch</td><td>999</td></tr></table>"
      ],
      "text/plain": [
       "<IPython.core.display.HTML object>"
      ]
     },
     "metadata": {},
     "output_type": "display_data"
    },
    {
     "data": {
      "text/html": [
       "<h3>Run history:</h3><br/><style>\n",
       "    table.wandb td:nth-child(1) { padding: 0 10px; text-align: right }\n",
       "    </style><table class=\"wandb\">\n",
       "<tr><td>global_step</td><td>▁▁▁▂▂▂▂▂▂▃▃▃▃▃▄▄▄▄▄▄▅▅▅▅▅▅▆▆▆▆▆▇▇▇▇▇▇███</td></tr><tr><td>lr-Adam</td><td>███▃▁▁▁▁▁▁▁▁▁▁▁▁▁▁▁▁▁▁▁▁▁▁▁▁▁▁▁▁▁▁▁▁▁▁▁▁</td></tr><tr><td>_step</td><td>▁▁▁▂▂▂▂▂▂▃▃▃▃▃▄▄▄▄▄▄▅▅▅▅▅▅▆▆▆▆▆▇▇▇▇▇▇███</td></tr><tr><td>_runtime</td><td>▁▁▁▂▂▂▂▂▂▃▃▃▃▃▄▄▄▄▄▄▅▅▅▅▅▅▆▆▆▆▆▇▇▇▇▇▇███</td></tr><tr><td>_timestamp</td><td>▁▁▁▂▂▂▂▂▂▃▃▃▃▃▄▄▄▄▄▄▅▅▅▅▅▅▆▆▆▆▆▇▇▇▇▇▇███</td></tr><tr><td>val_loss</td><td>█▂▂▁▁▁▁▁▁▁▁▁▁▁▁▁▁▁▁▁▁▁▁▁▁▁▁▁▁▁▁▁▁▁▁▁▁▁▁▁</td></tr><tr><td>epoch</td><td>▁▁▁▂▂▂▂▂▂▃▃▃▃▃▄▄▄▄▄▄▅▅▅▅▅▅▆▆▆▆▆▇▇▇▇▇▇███</td></tr></table><br/>"
      ],
      "text/plain": [
       "<IPython.core.display.HTML object>"
      ]
     },
     "metadata": {},
     "output_type": "display_data"
    },
    {
     "data": {
      "text/html": [
       "Synced 5 W&B file(s), 0 media file(s), 0 artifact file(s) and 0 other file(s)"
      ],
      "text/plain": [
       "<IPython.core.display.HTML object>"
      ]
     },
     "metadata": {},
     "output_type": "display_data"
    },
    {
     "data": {
      "text/html": [
       "\n",
       "                    <br/>Synced <strong style=\"color:#cdcd00\">v41</strong>: <a href=\"https://wandb.ai/pnn/l0iid_in70_out70_Tmax100--noise_dtv16sumSwish/runs/3gw93yaz\" target=\"_blank\">https://wandb.ai/pnn/l0iid_in70_out70_Tmax100--noise_dtv16sumSwish/runs/3gw93yaz</a><br/>\n",
       "                "
      ],
      "text/plain": [
       "<IPython.core.display.HTML object>"
      ]
     },
     "metadata": {},
     "output_type": "display_data"
    },
    {
     "name": "stderr",
     "output_type": "stream",
     "text": [
      "\u001b[32m[I 2021-03-17 12:18:34,630]\u001b[0m Trial 41 finished with value: 0.0001803540508262813 and parameters: {'Nlayers': 5, 'Ncoms': 4, 'identity_init': 1, 'lr': 0.000456, 'Nunits1': 360.007249266173, 'Nunits2': 384.4121004217258, 'Nunits3': 219.50558090524297, 'Nunits4': 219.82553918176959}. Best is trial 28 with value: 0.0001325897464994341.\u001b[0m\n",
      "wandb: wandb version 0.10.22 is available!  To upgrade, please run:\n",
      "wandb:  $ pip install wandb --upgrade\n"
     ]
    },
    {
     "data": {
      "text/html": [
       "\n",
       "                Tracking run with wandb version 0.10.8<br/>\n",
       "                Syncing run <strong style=\"color:#cdcd00\">v42</strong> to <a href=\"https://wandb.ai\" target=\"_blank\">Weights & Biases</a> <a href=\"https://docs.wandb.com/integrations/jupyter.html\" target=\"_blank\">(Documentation)</a>.<br/>\n",
       "                Project page: <a href=\"https://wandb.ai/pnn/l0iid_in70_out70_Tmax100--noise_dtv16sumSwish\" target=\"_blank\">https://wandb.ai/pnn/l0iid_in70_out70_Tmax100--noise_dtv16sumSwish</a><br/>\n",
       "                Run page: <a href=\"https://wandb.ai/pnn/l0iid_in70_out70_Tmax100--noise_dtv16sumSwish/runs/1yimtfb2\" target=\"_blank\">https://wandb.ai/pnn/l0iid_in70_out70_Tmax100--noise_dtv16sumSwish/runs/1yimtfb2</a><br/>\n",
       "                Run data is saved locally in <code>wandb\\run-20210317_121834-1yimtfb2</code><br/><br/>\n",
       "            "
      ],
      "text/plain": [
       "<IPython.core.display.HTML object>"
      ]
     },
     "metadata": {},
     "output_type": "display_data"
    },
    {
     "name": "stderr",
     "output_type": "stream",
     "text": [
      "GPU available: True, used: False\n",
      "TPU available: False, using: 0 TPU cores\n",
      "C:\\Users\\lgw32\\anaconda3\\lib\\site-packages\\pytorch_lightning\\utilities\\distributed.py:37: UserWarning: Experiment logs directory logs\\l0iid_in70_out70_Tmax100--noise_dtv16sumSwish\\v42 exists and is not empty. Previous log files in this directory will be deleted when the new ones are saved!\n",
      "  warnings.warn(*args, **kwargs)\n",
      "Saving latest checkpoint..\n"
     ]
    },
    {
     "data": {
      "text/html": [
       "<br/>Waiting for W&B process to finish, PID 2928<br/>Program ended successfully."
      ],
      "text/plain": [
       "<IPython.core.display.HTML object>"
      ]
     },
     "metadata": {},
     "output_type": "display_data"
    },
    {
     "data": {
      "application/vnd.jupyter.widget-view+json": {
       "model_id": "",
       "version_major": 2,
       "version_minor": 0
      },
      "text/plain": [
       "VBox(children=(Label(value=' 0.00MB of 0.00MB uploaded (0.00MB deduped)\\r'), FloatProgress(value=1.0, max=1.0)…"
      ]
     },
     "metadata": {},
     "output_type": "display_data"
    },
    {
     "data": {
      "text/html": [
       "Find user logs for this run at: <code>wandb\\run-20210317_121834-1yimtfb2\\logs\\debug.log</code>"
      ],
      "text/plain": [
       "<IPython.core.display.HTML object>"
      ]
     },
     "metadata": {},
     "output_type": "display_data"
    },
    {
     "data": {
      "text/html": [
       "Find internal logs for this run at: <code>wandb\\run-20210317_121834-1yimtfb2\\logs\\debug-internal.log</code>"
      ],
      "text/plain": [
       "<IPython.core.display.HTML object>"
      ]
     },
     "metadata": {},
     "output_type": "display_data"
    },
    {
     "data": {
      "text/html": [
       "<h3>Run summary:</h3><br/><style>\n",
       "    table.wandb td:nth-child(1) { padding: 0 10px; text-align: right }\n",
       "    </style><table class=\"wandb\">\n",
       "<tr><td>global_step</td><td>17999</td></tr><tr><td>lr-Adam</td><td>0.0</td></tr><tr><td>_step</td><td>1999</td></tr><tr><td>_runtime</td><td>79</td></tr><tr><td>_timestamp</td><td>1615997993</td></tr><tr><td>val_loss</td><td>0.01372</td></tr><tr><td>epoch</td><td>999</td></tr></table>"
      ],
      "text/plain": [
       "<IPython.core.display.HTML object>"
      ]
     },
     "metadata": {},
     "output_type": "display_data"
    },
    {
     "data": {
      "text/html": [
       "<h3>Run history:</h3><br/><style>\n",
       "    table.wandb td:nth-child(1) { padding: 0 10px; text-align: right }\n",
       "    </style><table class=\"wandb\">\n",
       "<tr><td>global_step</td><td>▁▁▁▂▂▂▂▂▂▃▃▃▃▃▄▄▄▄▄▄▅▅▅▅▅▅▆▆▆▆▆▇▇▇▇▇▇███</td></tr><tr><td>lr-Adam</td><td>███▃▃▃▁▁▁▁▁▁▁▁▁▁▁▁▁▁▁▁▁▁▁▁▁▁▁▁▁▁▁▁▁▁▁▁▁▁</td></tr><tr><td>_step</td><td>▁▁▁▂▂▂▂▂▂▃▃▃▃▃▄▄▄▄▄▄▅▅▅▅▅▅▆▆▆▆▆▇▇▇▇▇▇███</td></tr><tr><td>_runtime</td><td>▁▁▁▂▂▂▂▂▂▃▃▃▃▃▃▄▄▄▄▄▅▅▅▅▅▆▆▆▆▆▆▇▇▇▇▇▇███</td></tr><tr><td>_timestamp</td><td>▁▁▁▂▂▂▂▂▂▃▃▃▃▃▃▄▄▄▄▄▅▅▅▅▅▆▆▆▆▆▆▇▇▇▇▇▇███</td></tr><tr><td>val_loss</td><td>█▂▁▁▁▁▁▁▁▁▁▁▁▁▁▁▁▁▁▁▁▁▁▁▁▁▁▁▁▁▁▁▁▁▁▁▁▁▁▁</td></tr><tr><td>epoch</td><td>▁▁▁▂▂▂▂▂▂▃▃▃▃▃▄▄▄▄▄▄▅▅▅▅▅▅▆▆▆▆▆▇▇▇▇▇▇███</td></tr></table><br/>"
      ],
      "text/plain": [
       "<IPython.core.display.HTML object>"
      ]
     },
     "metadata": {},
     "output_type": "display_data"
    },
    {
     "data": {
      "text/html": [
       "Synced 5 W&B file(s), 0 media file(s), 0 artifact file(s) and 0 other file(s)"
      ],
      "text/plain": [
       "<IPython.core.display.HTML object>"
      ]
     },
     "metadata": {},
     "output_type": "display_data"
    },
    {
     "data": {
      "text/html": [
       "\n",
       "                    <br/>Synced <strong style=\"color:#cdcd00\">v42</strong>: <a href=\"https://wandb.ai/pnn/l0iid_in70_out70_Tmax100--noise_dtv16sumSwish/runs/1yimtfb2\" target=\"_blank\">https://wandb.ai/pnn/l0iid_in70_out70_Tmax100--noise_dtv16sumSwish/runs/1yimtfb2</a><br/>\n",
       "                "
      ],
      "text/plain": [
       "<IPython.core.display.HTML object>"
      ]
     },
     "metadata": {},
     "output_type": "display_data"
    },
    {
     "name": "stderr",
     "output_type": "stream",
     "text": [
      "\u001b[32m[I 2021-03-17 12:19:56,386]\u001b[0m Trial 42 finished with value: 0.0001881172793218866 and parameters: {'Nlayers': 5, 'Ncoms': 1, 'identity_init': 1, 'lr': 0.000456, 'Nunits1': 305.8303411087078, 'Nunits2': 172.21609764700054, 'Nunits3': 193.4042124414675, 'Nunits4': 187.04339576640646}. Best is trial 28 with value: 0.0001325897464994341.\u001b[0m\n",
      "wandb: wandb version 0.10.22 is available!  To upgrade, please run:\n",
      "wandb:  $ pip install wandb --upgrade\n"
     ]
    },
    {
     "data": {
      "text/html": [
       "\n",
       "                Tracking run with wandb version 0.10.8<br/>\n",
       "                Syncing run <strong style=\"color:#cdcd00\">v43</strong> to <a href=\"https://wandb.ai\" target=\"_blank\">Weights & Biases</a> <a href=\"https://docs.wandb.com/integrations/jupyter.html\" target=\"_blank\">(Documentation)</a>.<br/>\n",
       "                Project page: <a href=\"https://wandb.ai/pnn/l0iid_in70_out70_Tmax100--noise_dtv16sumSwish\" target=\"_blank\">https://wandb.ai/pnn/l0iid_in70_out70_Tmax100--noise_dtv16sumSwish</a><br/>\n",
       "                Run page: <a href=\"https://wandb.ai/pnn/l0iid_in70_out70_Tmax100--noise_dtv16sumSwish/runs/2916ghrh\" target=\"_blank\">https://wandb.ai/pnn/l0iid_in70_out70_Tmax100--noise_dtv16sumSwish/runs/2916ghrh</a><br/>\n",
       "                Run data is saved locally in <code>wandb\\run-20210317_121956-2916ghrh</code><br/><br/>\n",
       "            "
      ],
      "text/plain": [
       "<IPython.core.display.HTML object>"
      ]
     },
     "metadata": {},
     "output_type": "display_data"
    },
    {
     "name": "stderr",
     "output_type": "stream",
     "text": [
      "GPU available: True, used: False\n",
      "TPU available: False, using: 0 TPU cores\n",
      "C:\\Users\\lgw32\\anaconda3\\lib\\site-packages\\pytorch_lightning\\utilities\\distributed.py:37: UserWarning: Experiment logs directory logs\\l0iid_in70_out70_Tmax100--noise_dtv16sumSwish\\v43 exists and is not empty. Previous log files in this directory will be deleted when the new ones are saved!\n",
      "  warnings.warn(*args, **kwargs)\n",
      "Saving latest checkpoint..\n"
     ]
    },
    {
     "data": {
      "text/html": [
       "<br/>Waiting for W&B process to finish, PID 10920<br/>Program ended successfully."
      ],
      "text/plain": [
       "<IPython.core.display.HTML object>"
      ]
     },
     "metadata": {},
     "output_type": "display_data"
    },
    {
     "data": {
      "application/vnd.jupyter.widget-view+json": {
       "model_id": "",
       "version_major": 2,
       "version_minor": 0
      },
      "text/plain": [
       "VBox(children=(Label(value=' 0.00MB of 0.00MB uploaded (0.00MB deduped)\\r'), FloatProgress(value=1.0, max=1.0)…"
      ]
     },
     "metadata": {},
     "output_type": "display_data"
    },
    {
     "data": {
      "text/html": [
       "Find user logs for this run at: <code>wandb\\run-20210317_121956-2916ghrh\\logs\\debug.log</code>"
      ],
      "text/plain": [
       "<IPython.core.display.HTML object>"
      ]
     },
     "metadata": {},
     "output_type": "display_data"
    },
    {
     "data": {
      "text/html": [
       "Find internal logs for this run at: <code>wandb\\run-20210317_121956-2916ghrh\\logs\\debug-internal.log</code>"
      ],
      "text/plain": [
       "<IPython.core.display.HTML object>"
      ]
     },
     "metadata": {},
     "output_type": "display_data"
    },
    {
     "data": {
      "text/html": [
       "<h3>Run summary:</h3><br/><style>\n",
       "    table.wandb td:nth-child(1) { padding: 0 10px; text-align: right }\n",
       "    </style><table class=\"wandb\">\n",
       "<tr><td>global_step</td><td>17999</td></tr><tr><td>lr-Adam</td><td>0.0</td></tr><tr><td>_step</td><td>1999</td></tr><tr><td>_runtime</td><td>237</td></tr><tr><td>_timestamp</td><td>1615998233</td></tr><tr><td>val_loss</td><td>0.01396</td></tr><tr><td>epoch</td><td>999</td></tr></table>"
      ],
      "text/plain": [
       "<IPython.core.display.HTML object>"
      ]
     },
     "metadata": {},
     "output_type": "display_data"
    },
    {
     "data": {
      "text/html": [
       "<h3>Run history:</h3><br/><style>\n",
       "    table.wandb td:nth-child(1) { padding: 0 10px; text-align: right }\n",
       "    </style><table class=\"wandb\">\n",
       "<tr><td>global_step</td><td>▁▁▁▂▂▂▂▂▂▃▃▃▃▃▄▄▄▄▄▄▅▅▅▅▅▅▆▆▆▆▆▇▇▇▇▇▇███</td></tr><tr><td>lr-Adam</td><td>██▂▁▁▁▁▁▁▁▁▁▁▁▁▁▁▁▁▁▁▁▁▁▁▁▁▁▁▁▁▁▁▁▁▁▁▁▁▁</td></tr><tr><td>_step</td><td>▁▁▁▂▂▂▂▂▂▃▃▃▃▃▄▄▄▄▄▄▅▅▅▅▅▅▆▆▆▆▆▇▇▇▇▇▇███</td></tr><tr><td>_runtime</td><td>▁▁▁▂▂▂▂▂▂▃▃▃▃▃▃▄▄▄▄▄▅▅▅▅▅▅▆▆▆▆▆▇▇▇▇▇▇███</td></tr><tr><td>_timestamp</td><td>▁▁▁▂▂▂▂▂▂▃▃▃▃▃▃▄▄▄▄▄▅▅▅▅▅▅▆▆▆▆▆▇▇▇▇▇▇███</td></tr><tr><td>val_loss</td><td>█▃▁▁▁▁▁▁▁▁▁▁▁▁▁▁▁▁▁▁▁▁▁▁▁▁▁▁▁▁▁▁▁▁▁▁▁▁▁▁</td></tr><tr><td>epoch</td><td>▁▁▁▂▂▂▂▂▂▃▃▃▃▃▄▄▄▄▄▄▅▅▅▅▅▅▆▆▆▆▆▇▇▇▇▇▇███</td></tr></table><br/>"
      ],
      "text/plain": [
       "<IPython.core.display.HTML object>"
      ]
     },
     "metadata": {},
     "output_type": "display_data"
    },
    {
     "data": {
      "text/html": [
       "Synced 5 W&B file(s), 0 media file(s), 0 artifact file(s) and 0 other file(s)"
      ],
      "text/plain": [
       "<IPython.core.display.HTML object>"
      ]
     },
     "metadata": {},
     "output_type": "display_data"
    },
    {
     "data": {
      "text/html": [
       "\n",
       "                    <br/>Synced <strong style=\"color:#cdcd00\">v43</strong>: <a href=\"https://wandb.ai/pnn/l0iid_in70_out70_Tmax100--noise_dtv16sumSwish/runs/2916ghrh\" target=\"_blank\">https://wandb.ai/pnn/l0iid_in70_out70_Tmax100--noise_dtv16sumSwish/runs/2916ghrh</a><br/>\n",
       "                "
      ],
      "text/plain": [
       "<IPython.core.display.HTML object>"
      ]
     },
     "metadata": {},
     "output_type": "display_data"
    },
    {
     "name": "stderr",
     "output_type": "stream",
     "text": [
      "\u001b[32m[I 2021-03-17 12:23:56,912]\u001b[0m Trial 43 finished with value: 0.00019012487609870732 and parameters: {'Nlayers': 5, 'Ncoms': 4, 'identity_init': 0, 'lr': 0.01, 'Nunits1': 183.15431861082874, 'Nunits2': 527.7994367724199, 'Nunits3': 180.8711327881743, 'Nunits4': 166.92304911282872}. Best is trial 28 with value: 0.0001325897464994341.\u001b[0m\n",
      "wandb: wandb version 0.10.22 is available!  To upgrade, please run:\n",
      "wandb:  $ pip install wandb --upgrade\n"
     ]
    },
    {
     "data": {
      "text/html": [
       "\n",
       "                Tracking run with wandb version 0.10.8<br/>\n",
       "                Syncing run <strong style=\"color:#cdcd00\">v44</strong> to <a href=\"https://wandb.ai\" target=\"_blank\">Weights & Biases</a> <a href=\"https://docs.wandb.com/integrations/jupyter.html\" target=\"_blank\">(Documentation)</a>.<br/>\n",
       "                Project page: <a href=\"https://wandb.ai/pnn/l0iid_in70_out70_Tmax100--noise_dtv16sumSwish\" target=\"_blank\">https://wandb.ai/pnn/l0iid_in70_out70_Tmax100--noise_dtv16sumSwish</a><br/>\n",
       "                Run page: <a href=\"https://wandb.ai/pnn/l0iid_in70_out70_Tmax100--noise_dtv16sumSwish/runs/22xni1cr\" target=\"_blank\">https://wandb.ai/pnn/l0iid_in70_out70_Tmax100--noise_dtv16sumSwish/runs/22xni1cr</a><br/>\n",
       "                Run data is saved locally in <code>wandb\\run-20210317_122356-22xni1cr</code><br/><br/>\n",
       "            "
      ],
      "text/plain": [
       "<IPython.core.display.HTML object>"
      ]
     },
     "metadata": {},
     "output_type": "display_data"
    },
    {
     "name": "stderr",
     "output_type": "stream",
     "text": [
      "GPU available: True, used: False\n",
      "TPU available: False, using: 0 TPU cores\n",
      "C:\\Users\\lgw32\\anaconda3\\lib\\site-packages\\pytorch_lightning\\utilities\\distributed.py:37: UserWarning: Experiment logs directory logs\\l0iid_in70_out70_Tmax100--noise_dtv16sumSwish\\v44 exists and is not empty. Previous log files in this directory will be deleted when the new ones are saved!\n",
      "  warnings.warn(*args, **kwargs)\n",
      "Saving latest checkpoint..\n"
     ]
    },
    {
     "data": {
      "text/html": [
       "<br/>Waiting for W&B process to finish, PID 10144<br/>Program ended successfully."
      ],
      "text/plain": [
       "<IPython.core.display.HTML object>"
      ]
     },
     "metadata": {},
     "output_type": "display_data"
    },
    {
     "data": {
      "application/vnd.jupyter.widget-view+json": {
       "model_id": "",
       "version_major": 2,
       "version_minor": 0
      },
      "text/plain": [
       "VBox(children=(Label(value=' 0.00MB of 0.00MB uploaded (0.00MB deduped)\\r'), FloatProgress(value=1.0, max=1.0)…"
      ]
     },
     "metadata": {},
     "output_type": "display_data"
    },
    {
     "data": {
      "text/html": [
       "Find user logs for this run at: <code>wandb\\run-20210317_122356-22xni1cr\\logs\\debug.log</code>"
      ],
      "text/plain": [
       "<IPython.core.display.HTML object>"
      ]
     },
     "metadata": {},
     "output_type": "display_data"
    },
    {
     "data": {
      "text/html": [
       "Find internal logs for this run at: <code>wandb\\run-20210317_122356-22xni1cr\\logs\\debug-internal.log</code>"
      ],
      "text/plain": [
       "<IPython.core.display.HTML object>"
      ]
     },
     "metadata": {},
     "output_type": "display_data"
    },
    {
     "data": {
      "text/html": [
       "<h3>Run summary:</h3><br/><style>\n",
       "    table.wandb td:nth-child(1) { padding: 0 10px; text-align: right }\n",
       "    </style><table class=\"wandb\">\n",
       "<tr><td>global_step</td><td>17999</td></tr><tr><td>lr-Adam</td><td>0.0</td></tr><tr><td>_step</td><td>1999</td></tr><tr><td>_runtime</td><td>85</td></tr><tr><td>_timestamp</td><td>1615998321</td></tr><tr><td>val_loss</td><td>0.01379</td></tr><tr><td>epoch</td><td>999</td></tr></table>"
      ],
      "text/plain": [
       "<IPython.core.display.HTML object>"
      ]
     },
     "metadata": {},
     "output_type": "display_data"
    },
    {
     "data": {
      "text/html": [
       "<h3>Run history:</h3><br/><style>\n",
       "    table.wandb td:nth-child(1) { padding: 0 10px; text-align: right }\n",
       "    </style><table class=\"wandb\">\n",
       "<tr><td>global_step</td><td>▁▁▁▂▂▂▂▂▂▃▃▃▃▃▄▄▄▄▄▄▅▅▅▅▅▅▆▆▆▆▆▇▇▇▇▇▇███</td></tr><tr><td>lr-Adam</td><td>██▃▁▁▁▁▁▁▁▁▁▁▁▁▁▁▁▁▁▁▁▁▁▁▁▁▁▁▁▁▁▁▁▁▁▁▁▁▁</td></tr><tr><td>_step</td><td>▁▁▁▂▂▂▂▂▂▃▃▃▃▃▄▄▄▄▄▄▅▅▅▅▅▅▆▆▆▆▆▇▇▇▇▇▇███</td></tr><tr><td>_runtime</td><td>▁▁▁▂▂▂▂▂▂▃▃▃▃▃▃▄▄▄▄▄▅▅▅▅▅▅▆▆▆▆▆▇▇▇▇▇▇███</td></tr><tr><td>_timestamp</td><td>▁▁▁▂▂▂▂▂▂▃▃▃▃▃▃▄▄▄▄▄▅▅▅▅▅▅▆▆▆▆▆▇▇▇▇▇▇███</td></tr><tr><td>val_loss</td><td>█▂▁▁▁▁▁▁▁▁▁▁▁▁▁▁▁▁▁▁▁▁▁▁▁▁▁▁▁▁▁▁▁▁▁▁▁▁▁▁</td></tr><tr><td>epoch</td><td>▁▁▁▂▂▂▂▂▂▃▃▃▃▃▄▄▄▄▄▄▅▅▅▅▅▅▆▆▆▆▆▇▇▇▇▇▇███</td></tr></table><br/>"
      ],
      "text/plain": [
       "<IPython.core.display.HTML object>"
      ]
     },
     "metadata": {},
     "output_type": "display_data"
    },
    {
     "data": {
      "text/html": [
       "Synced 5 W&B file(s), 0 media file(s), 0 artifact file(s) and 0 other file(s)"
      ],
      "text/plain": [
       "<IPython.core.display.HTML object>"
      ]
     },
     "metadata": {},
     "output_type": "display_data"
    },
    {
     "data": {
      "text/html": [
       "\n",
       "                    <br/>Synced <strong style=\"color:#cdcd00\">v44</strong>: <a href=\"https://wandb.ai/pnn/l0iid_in70_out70_Tmax100--noise_dtv16sumSwish/runs/22xni1cr\" target=\"_blank\">https://wandb.ai/pnn/l0iid_in70_out70_Tmax100--noise_dtv16sumSwish/runs/22xni1cr</a><br/>\n",
       "                "
      ],
      "text/plain": [
       "<IPython.core.display.HTML object>"
      ]
     },
     "metadata": {},
     "output_type": "display_data"
    },
    {
     "name": "stderr",
     "output_type": "stream",
     "text": [
      "\u001b[32m[I 2021-03-17 12:25:24,670]\u001b[0m Trial 44 finished with value: 0.00018675382307264954 and parameters: {'Nlayers': 2, 'Ncoms': 5, 'identity_init': 0, 'lr': 0.0031, 'Nunits1': 197.3402829878776}. Best is trial 28 with value: 0.0001325897464994341.\u001b[0m\n",
      "wandb: wandb version 0.10.22 is available!  To upgrade, please run:\n",
      "wandb:  $ pip install wandb --upgrade\n"
     ]
    },
    {
     "data": {
      "text/html": [
       "\n",
       "                Tracking run with wandb version 0.10.8<br/>\n",
       "                Syncing run <strong style=\"color:#cdcd00\">v45</strong> to <a href=\"https://wandb.ai\" target=\"_blank\">Weights & Biases</a> <a href=\"https://docs.wandb.com/integrations/jupyter.html\" target=\"_blank\">(Documentation)</a>.<br/>\n",
       "                Project page: <a href=\"https://wandb.ai/pnn/l0iid_in70_out70_Tmax100--noise_dtv16sumSwish\" target=\"_blank\">https://wandb.ai/pnn/l0iid_in70_out70_Tmax100--noise_dtv16sumSwish</a><br/>\n",
       "                Run page: <a href=\"https://wandb.ai/pnn/l0iid_in70_out70_Tmax100--noise_dtv16sumSwish/runs/11b6yeqm\" target=\"_blank\">https://wandb.ai/pnn/l0iid_in70_out70_Tmax100--noise_dtv16sumSwish/runs/11b6yeqm</a><br/>\n",
       "                Run data is saved locally in <code>wandb\\run-20210317_122524-11b6yeqm</code><br/><br/>\n",
       "            "
      ],
      "text/plain": [
       "<IPython.core.display.HTML object>"
      ]
     },
     "metadata": {},
     "output_type": "display_data"
    },
    {
     "name": "stderr",
     "output_type": "stream",
     "text": [
      "GPU available: True, used: False\n",
      "TPU available: False, using: 0 TPU cores\n",
      "C:\\Users\\lgw32\\anaconda3\\lib\\site-packages\\pytorch_lightning\\utilities\\distributed.py:37: UserWarning: Experiment logs directory logs\\l0iid_in70_out70_Tmax100--noise_dtv16sumSwish\\v45 exists and is not empty. Previous log files in this directory will be deleted when the new ones are saved!\n",
      "  warnings.warn(*args, **kwargs)\n",
      "Saving latest checkpoint..\n"
     ]
    },
    {
     "data": {
      "text/html": [
       "<br/>Waiting for W&B process to finish, PID 8340<br/>Program ended successfully."
      ],
      "text/plain": [
       "<IPython.core.display.HTML object>"
      ]
     },
     "metadata": {},
     "output_type": "display_data"
    },
    {
     "data": {
      "application/vnd.jupyter.widget-view+json": {
       "model_id": "",
       "version_major": 2,
       "version_minor": 0
      },
      "text/plain": [
       "VBox(children=(Label(value=' 0.00MB of 0.00MB uploaded (0.00MB deduped)\\r'), FloatProgress(value=1.0, max=1.0)…"
      ]
     },
     "metadata": {},
     "output_type": "display_data"
    },
    {
     "data": {
      "text/html": [
       "Find user logs for this run at: <code>wandb\\run-20210317_122524-11b6yeqm\\logs\\debug.log</code>"
      ],
      "text/plain": [
       "<IPython.core.display.HTML object>"
      ]
     },
     "metadata": {},
     "output_type": "display_data"
    },
    {
     "data": {
      "text/html": [
       "Find internal logs for this run at: <code>wandb\\run-20210317_122524-11b6yeqm\\logs\\debug-internal.log</code>"
      ],
      "text/plain": [
       "<IPython.core.display.HTML object>"
      ]
     },
     "metadata": {},
     "output_type": "display_data"
    },
    {
     "data": {
      "text/html": [
       "<h3>Run summary:</h3><br/><style>\n",
       "    table.wandb td:nth-child(1) { padding: 0 10px; text-align: right }\n",
       "    </style><table class=\"wandb\">\n",
       "<tr><td>global_step</td><td>17999</td></tr><tr><td>lr-Adam</td><td>0.0</td></tr><tr><td>_step</td><td>1999</td></tr><tr><td>_runtime</td><td>156</td></tr><tr><td>_timestamp</td><td>1615998480</td></tr><tr><td>val_loss</td><td>0.01387</td></tr><tr><td>epoch</td><td>999</td></tr></table>"
      ],
      "text/plain": [
       "<IPython.core.display.HTML object>"
      ]
     },
     "metadata": {},
     "output_type": "display_data"
    },
    {
     "data": {
      "text/html": [
       "<h3>Run history:</h3><br/><style>\n",
       "    table.wandb td:nth-child(1) { padding: 0 10px; text-align: right }\n",
       "    </style><table class=\"wandb\">\n",
       "<tr><td>global_step</td><td>▁▁▁▂▂▂▂▂▂▃▃▃▃▃▄▄▄▄▄▄▅▅▅▅▅▅▆▆▆▆▆▇▇▇▇▇▇███</td></tr><tr><td>lr-Adam</td><td>█▃▁▁▁▁▁▁▁▁▁▁▁▁▁▁▁▁▁▁▁▁▁▁▁▁▁▁▁▁▁▁▁▁▁▁▁▁▁▁</td></tr><tr><td>_step</td><td>▁▁▁▂▂▂▂▂▂▃▃▃▃▃▄▄▄▄▄▄▅▅▅▅▅▅▆▆▆▆▆▇▇▇▇▇▇███</td></tr><tr><td>_runtime</td><td>▁▁▁▁▂▂▂▂▂▃▃▃▃▃▄▄▄▄▄▄▅▅▅▅▅▆▆▆▆▆▆▇▇▇▇▇▇███</td></tr><tr><td>_timestamp</td><td>▁▁▁▁▂▂▂▂▂▃▃▃▃▃▄▄▄▄▄▄▅▅▅▅▅▆▆▆▆▆▆▇▇▇▇▇▇███</td></tr><tr><td>val_loss</td><td>█▁▄▄▄▄▄▄▄▄▄▄▄▄▄▄▄▄▄▄▄▄▄▄▄▄▄▄▄▄▄▄▄▄▄▄▄▄▄▄</td></tr><tr><td>epoch</td><td>▁▁▁▂▂▂▂▂▂▃▃▃▃▃▄▄▄▄▄▄▅▅▅▅▅▅▆▆▆▆▆▇▇▇▇▇▇███</td></tr></table><br/>"
      ],
      "text/plain": [
       "<IPython.core.display.HTML object>"
      ]
     },
     "metadata": {},
     "output_type": "display_data"
    },
    {
     "data": {
      "text/html": [
       "Synced 5 W&B file(s), 0 media file(s), 0 artifact file(s) and 0 other file(s)"
      ],
      "text/plain": [
       "<IPython.core.display.HTML object>"
      ]
     },
     "metadata": {},
     "output_type": "display_data"
    },
    {
     "data": {
      "text/html": [
       "\n",
       "                    <br/>Synced <strong style=\"color:#cdcd00\">v45</strong>: <a href=\"https://wandb.ai/pnn/l0iid_in70_out70_Tmax100--noise_dtv16sumSwish/runs/11b6yeqm\" target=\"_blank\">https://wandb.ai/pnn/l0iid_in70_out70_Tmax100--noise_dtv16sumSwish/runs/11b6yeqm</a><br/>\n",
       "                "
      ],
      "text/plain": [
       "<IPython.core.display.HTML object>"
      ]
     },
     "metadata": {},
     "output_type": "display_data"
    },
    {
     "name": "stderr",
     "output_type": "stream",
     "text": [
      "\u001b[32m[I 2021-03-17 12:28:03,967]\u001b[0m Trial 45 finished with value: 0.0001713873934932053 and parameters: {'Nlayers': 4, 'Ncoms': 3, 'identity_init': 0, 'lr': 0.0031, 'Nunits1': 502.4704174304467, 'Nunits2': 187.743223621079, 'Nunits3': 249.40817494219644}. Best is trial 28 with value: 0.0001325897464994341.\u001b[0m\n",
      "wandb: wandb version 0.10.22 is available!  To upgrade, please run:\n",
      "wandb:  $ pip install wandb --upgrade\n"
     ]
    },
    {
     "data": {
      "text/html": [
       "\n",
       "                Tracking run with wandb version 0.10.8<br/>\n",
       "                Syncing run <strong style=\"color:#cdcd00\">v46</strong> to <a href=\"https://wandb.ai\" target=\"_blank\">Weights & Biases</a> <a href=\"https://docs.wandb.com/integrations/jupyter.html\" target=\"_blank\">(Documentation)</a>.<br/>\n",
       "                Project page: <a href=\"https://wandb.ai/pnn/l0iid_in70_out70_Tmax100--noise_dtv16sumSwish\" target=\"_blank\">https://wandb.ai/pnn/l0iid_in70_out70_Tmax100--noise_dtv16sumSwish</a><br/>\n",
       "                Run page: <a href=\"https://wandb.ai/pnn/l0iid_in70_out70_Tmax100--noise_dtv16sumSwish/runs/22wt6h0l\" target=\"_blank\">https://wandb.ai/pnn/l0iid_in70_out70_Tmax100--noise_dtv16sumSwish/runs/22wt6h0l</a><br/>\n",
       "                Run data is saved locally in <code>wandb\\run-20210317_122803-22wt6h0l</code><br/><br/>\n",
       "            "
      ],
      "text/plain": [
       "<IPython.core.display.HTML object>"
      ]
     },
     "metadata": {},
     "output_type": "display_data"
    },
    {
     "name": "stderr",
     "output_type": "stream",
     "text": [
      "GPU available: True, used: False\n",
      "TPU available: False, using: 0 TPU cores\n",
      "C:\\Users\\lgw32\\anaconda3\\lib\\site-packages\\pytorch_lightning\\utilities\\distributed.py:37: UserWarning: Experiment logs directory logs\\l0iid_in70_out70_Tmax100--noise_dtv16sumSwish\\v46 exists and is not empty. Previous log files in this directory will be deleted when the new ones are saved!\n",
      "  warnings.warn(*args, **kwargs)\n",
      "Saving latest checkpoint..\n"
     ]
    },
    {
     "data": {
      "text/html": [
       "<br/>Waiting for W&B process to finish, PID 6536<br/>Program ended successfully."
      ],
      "text/plain": [
       "<IPython.core.display.HTML object>"
      ]
     },
     "metadata": {},
     "output_type": "display_data"
    },
    {
     "data": {
      "application/vnd.jupyter.widget-view+json": {
       "model_id": "",
       "version_major": 2,
       "version_minor": 0
      },
      "text/plain": [
       "VBox(children=(Label(value=' 0.00MB of 0.00MB uploaded (0.00MB deduped)\\r'), FloatProgress(value=1.0, max=1.0)…"
      ]
     },
     "metadata": {},
     "output_type": "display_data"
    },
    {
     "data": {
      "text/html": [
       "Find user logs for this run at: <code>wandb\\run-20210317_122803-22wt6h0l\\logs\\debug.log</code>"
      ],
      "text/plain": [
       "<IPython.core.display.HTML object>"
      ]
     },
     "metadata": {},
     "output_type": "display_data"
    },
    {
     "data": {
      "text/html": [
       "Find internal logs for this run at: <code>wandb\\run-20210317_122803-22wt6h0l\\logs\\debug-internal.log</code>"
      ],
      "text/plain": [
       "<IPython.core.display.HTML object>"
      ]
     },
     "metadata": {},
     "output_type": "display_data"
    },
    {
     "data": {
      "text/html": [
       "<h3>Run summary:</h3><br/><style>\n",
       "    table.wandb td:nth-child(1) { padding: 0 10px; text-align: right }\n",
       "    </style><table class=\"wandb\">\n",
       "<tr><td>global_step</td><td>17999</td></tr><tr><td>lr-Adam</td><td>0.0</td></tr><tr><td>_step</td><td>1999</td></tr><tr><td>_runtime</td><td>122</td></tr><tr><td>_timestamp</td><td>1615998606</td></tr><tr><td>val_loss</td><td>0.01321</td></tr><tr><td>epoch</td><td>999</td></tr></table>"
      ],
      "text/plain": [
       "<IPython.core.display.HTML object>"
      ]
     },
     "metadata": {},
     "output_type": "display_data"
    },
    {
     "data": {
      "text/html": [
       "<h3>Run history:</h3><br/><style>\n",
       "    table.wandb td:nth-child(1) { padding: 0 10px; text-align: right }\n",
       "    </style><table class=\"wandb\">\n",
       "<tr><td>global_step</td><td>▁▁▁▂▂▂▂▂▂▃▃▃▃▃▄▄▄▄▄▄▅▅▅▅▅▅▆▆▆▆▆▇▇▇▇▇▇███</td></tr><tr><td>lr-Adam</td><td>███▃▃▁▁▁▁▁▁▁▁▁▁▁▁▁▁▁▁▁▁▁▁▁▁▁▁▁▁▁▁▁▁▁▁▁▁▁</td></tr><tr><td>_step</td><td>▁▁▁▂▂▂▂▂▂▃▃▃▃▃▄▄▄▄▄▄▅▅▅▅▅▅▆▆▆▆▆▇▇▇▇▇▇███</td></tr><tr><td>_runtime</td><td>▁▁▁▂▂▂▂▂▂▃▃▃▃▃▃▄▄▄▄▄▄▅▅▅▅▅▆▆▆▆▆▇▇▇▇▇████</td></tr><tr><td>_timestamp</td><td>▁▁▁▂▂▂▂▂▂▃▃▃▃▃▃▄▄▄▄▄▄▅▅▅▅▅▆▆▆▆▆▇▇▇▇▇████</td></tr><tr><td>val_loss</td><td>█▂▁▁▁▁▁▁▁▁▁▁▁▁▁▁▁▁▁▁▁▁▁▁▁▁▁▁▁▁▁▁▁▁▁▁▁▁▁▁</td></tr><tr><td>epoch</td><td>▁▁▁▂▂▂▂▂▂▃▃▃▃▃▄▄▄▄▄▄▅▅▅▅▅▅▆▆▆▆▆▇▇▇▇▇▇███</td></tr></table><br/>"
      ],
      "text/plain": [
       "<IPython.core.display.HTML object>"
      ]
     },
     "metadata": {},
     "output_type": "display_data"
    },
    {
     "data": {
      "text/html": [
       "Synced 5 W&B file(s), 0 media file(s), 0 artifact file(s) and 0 other file(s)"
      ],
      "text/plain": [
       "<IPython.core.display.HTML object>"
      ]
     },
     "metadata": {},
     "output_type": "display_data"
    },
    {
     "data": {
      "text/html": [
       "\n",
       "                    <br/>Synced <strong style=\"color:#cdcd00\">v46</strong>: <a href=\"https://wandb.ai/pnn/l0iid_in70_out70_Tmax100--noise_dtv16sumSwish/runs/22wt6h0l\" target=\"_blank\">https://wandb.ai/pnn/l0iid_in70_out70_Tmax100--noise_dtv16sumSwish/runs/22wt6h0l</a><br/>\n",
       "                "
      ],
      "text/plain": [
       "<IPython.core.display.HTML object>"
      ]
     },
     "metadata": {},
     "output_type": "display_data"
    },
    {
     "name": "stderr",
     "output_type": "stream",
     "text": [
      "\u001b[32m[I 2021-03-17 12:30:10,077]\u001b[0m Trial 46 finished with value: 0.00017459712398704141 and parameters: {'Nlayers': 4, 'Ncoms': 2, 'identity_init': 1, 'lr': 0.000456, 'Nunits1': 314.10426330797503, 'Nunits2': 392.79584684571876, 'Nunits3': 219.7751598329322}. Best is trial 28 with value: 0.0001325897464994341.\u001b[0m\n",
      "wandb: wandb version 0.10.22 is available!  To upgrade, please run:\n",
      "wandb:  $ pip install wandb --upgrade\n"
     ]
    },
    {
     "data": {
      "text/html": [
       "\n",
       "                Tracking run with wandb version 0.10.8<br/>\n",
       "                Syncing run <strong style=\"color:#cdcd00\">v47</strong> to <a href=\"https://wandb.ai\" target=\"_blank\">Weights & Biases</a> <a href=\"https://docs.wandb.com/integrations/jupyter.html\" target=\"_blank\">(Documentation)</a>.<br/>\n",
       "                Project page: <a href=\"https://wandb.ai/pnn/l0iid_in70_out70_Tmax100--noise_dtv16sumSwish\" target=\"_blank\">https://wandb.ai/pnn/l0iid_in70_out70_Tmax100--noise_dtv16sumSwish</a><br/>\n",
       "                Run page: <a href=\"https://wandb.ai/pnn/l0iid_in70_out70_Tmax100--noise_dtv16sumSwish/runs/3lb26nmn\" target=\"_blank\">https://wandb.ai/pnn/l0iid_in70_out70_Tmax100--noise_dtv16sumSwish/runs/3lb26nmn</a><br/>\n",
       "                Run data is saved locally in <code>wandb\\run-20210317_123010-3lb26nmn</code><br/><br/>\n",
       "            "
      ],
      "text/plain": [
       "<IPython.core.display.HTML object>"
      ]
     },
     "metadata": {},
     "output_type": "display_data"
    },
    {
     "name": "stderr",
     "output_type": "stream",
     "text": [
      "GPU available: True, used: False\n",
      "TPU available: False, using: 0 TPU cores\n",
      "C:\\Users\\lgw32\\anaconda3\\lib\\site-packages\\pytorch_lightning\\utilities\\distributed.py:37: UserWarning: Experiment logs directory logs\\l0iid_in70_out70_Tmax100--noise_dtv16sumSwish\\v47 exists and is not empty. Previous log files in this directory will be deleted when the new ones are saved!\n",
      "  warnings.warn(*args, **kwargs)\n",
      "Saving latest checkpoint..\n"
     ]
    },
    {
     "data": {
      "text/html": [
       "<br/>Waiting for W&B process to finish, PID 9468<br/>Program ended successfully."
      ],
      "text/plain": [
       "<IPython.core.display.HTML object>"
      ]
     },
     "metadata": {},
     "output_type": "display_data"
    },
    {
     "data": {
      "application/vnd.jupyter.widget-view+json": {
       "model_id": "",
       "version_major": 2,
       "version_minor": 0
      },
      "text/plain": [
       "VBox(children=(Label(value=' 0.00MB of 0.00MB uploaded (0.00MB deduped)\\r'), FloatProgress(value=1.0, max=1.0)…"
      ]
     },
     "metadata": {},
     "output_type": "display_data"
    },
    {
     "data": {
      "text/html": [
       "Find user logs for this run at: <code>wandb\\run-20210317_123010-3lb26nmn\\logs\\debug.log</code>"
      ],
      "text/plain": [
       "<IPython.core.display.HTML object>"
      ]
     },
     "metadata": {},
     "output_type": "display_data"
    },
    {
     "data": {
      "text/html": [
       "Find internal logs for this run at: <code>wandb\\run-20210317_123010-3lb26nmn\\logs\\debug-internal.log</code>"
      ],
      "text/plain": [
       "<IPython.core.display.HTML object>"
      ]
     },
     "metadata": {},
     "output_type": "display_data"
    },
    {
     "data": {
      "text/html": [
       "<h3>Run summary:</h3><br/><style>\n",
       "    table.wandb td:nth-child(1) { padding: 0 10px; text-align: right }\n",
       "    </style><table class=\"wandb\">\n",
       "<tr><td>global_step</td><td>17999</td></tr><tr><td>lr-Adam</td><td>1e-05</td></tr><tr><td>_step</td><td>1999</td></tr><tr><td>_runtime</td><td>104</td></tr><tr><td>_timestamp</td><td>1615998714</td></tr><tr><td>val_loss</td><td>0.01452</td></tr><tr><td>epoch</td><td>999</td></tr></table>"
      ],
      "text/plain": [
       "<IPython.core.display.HTML object>"
      ]
     },
     "metadata": {},
     "output_type": "display_data"
    },
    {
     "data": {
      "text/html": [
       "<h3>Run history:</h3><br/><style>\n",
       "    table.wandb td:nth-child(1) { padding: 0 10px; text-align: right }\n",
       "    </style><table class=\"wandb\">\n",
       "<tr><td>global_step</td><td>▁▁▁▂▂▂▂▂▂▃▃▃▃▃▄▄▄▄▄▄▅▅▅▅▅▅▆▆▆▆▆▇▇▇▇▇▇███</td></tr><tr><td>lr-Adam</td><td>▁▁▁▁▁▁▁▁▁▁▁▁▁▁▁▁▁▁▁▁▁▁▁▁▁▁▁▁▁▁▁▁▁▁▁▁▁▁▁▁</td></tr><tr><td>_step</td><td>▁▁▁▂▂▂▂▂▂▃▃▃▃▃▄▄▄▄▄▄▅▅▅▅▅▅▆▆▆▆▆▇▇▇▇▇▇███</td></tr><tr><td>_runtime</td><td>▁▁▁▁▂▂▂▂▂▃▃▃▃▃▃▄▄▄▄▄▅▅▅▅▅▅▆▆▆▆▆▆▇▇▇▇▇███</td></tr><tr><td>_timestamp</td><td>▁▁▁▁▂▂▂▂▂▃▃▃▃▃▃▄▄▄▄▄▅▅▅▅▅▅▆▆▆▆▆▆▇▇▇▇▇███</td></tr><tr><td>val_loss</td><td>█▆▄▃▃▂▂▂▂▂▂▂▂▂▂▂▂▁▁▁▁▁▁▁▁▁▁▁▁▁▁▁▁▁▁▁▁▁▁▁</td></tr><tr><td>epoch</td><td>▁▁▁▂▂▂▂▂▂▃▃▃▃▃▄▄▄▄▄▄▅▅▅▅▅▅▆▆▆▆▆▇▇▇▇▇▇███</td></tr></table><br/>"
      ],
      "text/plain": [
       "<IPython.core.display.HTML object>"
      ]
     },
     "metadata": {},
     "output_type": "display_data"
    },
    {
     "data": {
      "text/html": [
       "Synced 5 W&B file(s), 0 media file(s), 0 artifact file(s) and 0 other file(s)"
      ],
      "text/plain": [
       "<IPython.core.display.HTML object>"
      ]
     },
     "metadata": {},
     "output_type": "display_data"
    },
    {
     "data": {
      "text/html": [
       "\n",
       "                    <br/>Synced <strong style=\"color:#cdcd00\">v47</strong>: <a href=\"https://wandb.ai/pnn/l0iid_in70_out70_Tmax100--noise_dtv16sumSwish/runs/3lb26nmn\" target=\"_blank\">https://wandb.ai/pnn/l0iid_in70_out70_Tmax100--noise_dtv16sumSwish/runs/3lb26nmn</a><br/>\n",
       "                "
      ],
      "text/plain": [
       "<IPython.core.display.HTML object>"
      ]
     },
     "metadata": {},
     "output_type": "display_data"
    },
    {
     "name": "stderr",
     "output_type": "stream",
     "text": [
      "\u001b[32m[I 2021-03-17 12:31:58,089]\u001b[0m Trial 47 finished with value: 0.00021083973115310073 and parameters: {'Nlayers': 2, 'Ncoms': 4, 'identity_init': 1, 'lr': 1e-05, 'Nunits1': 589.2725656604832}. Best is trial 28 with value: 0.0001325897464994341.\u001b[0m\n",
      "wandb: wandb version 0.10.22 is available!  To upgrade, please run:\n",
      "wandb:  $ pip install wandb --upgrade\n"
     ]
    },
    {
     "data": {
      "text/html": [
       "\n",
       "                Tracking run with wandb version 0.10.8<br/>\n",
       "                Syncing run <strong style=\"color:#cdcd00\">v48</strong> to <a href=\"https://wandb.ai\" target=\"_blank\">Weights & Biases</a> <a href=\"https://docs.wandb.com/integrations/jupyter.html\" target=\"_blank\">(Documentation)</a>.<br/>\n",
       "                Project page: <a href=\"https://wandb.ai/pnn/l0iid_in70_out70_Tmax100--noise_dtv16sumSwish\" target=\"_blank\">https://wandb.ai/pnn/l0iid_in70_out70_Tmax100--noise_dtv16sumSwish</a><br/>\n",
       "                Run page: <a href=\"https://wandb.ai/pnn/l0iid_in70_out70_Tmax100--noise_dtv16sumSwish/runs/1oxyki2c\" target=\"_blank\">https://wandb.ai/pnn/l0iid_in70_out70_Tmax100--noise_dtv16sumSwish/runs/1oxyki2c</a><br/>\n",
       "                Run data is saved locally in <code>wandb\\run-20210317_123158-1oxyki2c</code><br/><br/>\n",
       "            "
      ],
      "text/plain": [
       "<IPython.core.display.HTML object>"
      ]
     },
     "metadata": {},
     "output_type": "display_data"
    },
    {
     "name": "stderr",
     "output_type": "stream",
     "text": [
      "GPU available: True, used: False\n",
      "TPU available: False, using: 0 TPU cores\n",
      "C:\\Users\\lgw32\\anaconda3\\lib\\site-packages\\pytorch_lightning\\utilities\\distributed.py:37: UserWarning: Experiment logs directory logs\\l0iid_in70_out70_Tmax100--noise_dtv16sumSwish\\v48 exists and is not empty. Previous log files in this directory will be deleted when the new ones are saved!\n",
      "  warnings.warn(*args, **kwargs)\n",
      "Saving latest checkpoint..\n"
     ]
    },
    {
     "data": {
      "text/html": [
       "<br/>Waiting for W&B process to finish, PID 4740<br/>Program ended successfully."
      ],
      "text/plain": [
       "<IPython.core.display.HTML object>"
      ]
     },
     "metadata": {},
     "output_type": "display_data"
    },
    {
     "data": {
      "application/vnd.jupyter.widget-view+json": {
       "model_id": "",
       "version_major": 2,
       "version_minor": 0
      },
      "text/plain": [
       "VBox(children=(Label(value=' 0.00MB of 0.00MB uploaded (0.00MB deduped)\\r'), FloatProgress(value=1.0, max=1.0)…"
      ]
     },
     "metadata": {},
     "output_type": "display_data"
    },
    {
     "data": {
      "text/html": [
       "Find user logs for this run at: <code>wandb\\run-20210317_123158-1oxyki2c\\logs\\debug.log</code>"
      ],
      "text/plain": [
       "<IPython.core.display.HTML object>"
      ]
     },
     "metadata": {},
     "output_type": "display_data"
    },
    {
     "data": {
      "text/html": [
       "Find internal logs for this run at: <code>wandb\\run-20210317_123158-1oxyki2c\\logs\\debug-internal.log</code>"
      ],
      "text/plain": [
       "<IPython.core.display.HTML object>"
      ]
     },
     "metadata": {},
     "output_type": "display_data"
    },
    {
     "data": {
      "text/html": [
       "<h3>Run summary:</h3><br/><style>\n",
       "    table.wandb td:nth-child(1) { padding: 0 10px; text-align: right }\n",
       "    </style><table class=\"wandb\">\n",
       "<tr><td>global_step</td><td>17999</td></tr><tr><td>lr-Adam</td><td>0.0</td></tr><tr><td>_step</td><td>1999</td></tr><tr><td>_runtime</td><td>93</td></tr><tr><td>_timestamp</td><td>1615998811</td></tr><tr><td>val_loss</td><td>0.01345</td></tr><tr><td>epoch</td><td>999</td></tr></table>"
      ],
      "text/plain": [
       "<IPython.core.display.HTML object>"
      ]
     },
     "metadata": {},
     "output_type": "display_data"
    },
    {
     "data": {
      "text/html": [
       "<h3>Run history:</h3><br/><style>\n",
       "    table.wandb td:nth-child(1) { padding: 0 10px; text-align: right }\n",
       "    </style><table class=\"wandb\">\n",
       "<tr><td>global_step</td><td>▁▁▁▂▂▂▂▂▂▃▃▃▃▃▄▄▄▄▄▄▅▅▅▅▅▅▆▆▆▆▆▇▇▇▇▇▇███</td></tr><tr><td>lr-Adam</td><td>█████████████████▃▂▁▁▁▁▁▁▁▁▁▁▁▁▁▁▁▁▁▁▁▁▁</td></tr><tr><td>_step</td><td>▁▁▁▂▂▂▂▂▂▃▃▃▃▃▄▄▄▄▄▄▅▅▅▅▅▅▆▆▆▆▆▇▇▇▇▇▇███</td></tr><tr><td>_runtime</td><td>▁▁▁▁▂▂▂▂▂▃▃▃▃▃▃▄▄▄▄▄▅▅▅▅▅▆▆▆▆▆▆▇▇▇▇▇████</td></tr><tr><td>_timestamp</td><td>▁▁▁▁▂▂▂▂▂▃▃▃▃▃▃▄▄▄▄▄▅▅▅▅▅▆▆▆▆▆▆▇▇▇▇▇████</td></tr><tr><td>val_loss</td><td>█▃▂▂▂▁▁▁▁▁▁▁▁▁▁▁▁▁▁▁▁▁▁▁▁▁▁▁▁▁▁▁▁▁▁▁▁▁▁▁</td></tr><tr><td>epoch</td><td>▁▁▁▂▂▂▂▂▂▃▃▃▃▃▄▄▄▄▄▄▅▅▅▅▅▅▆▆▆▆▆▇▇▇▇▇▇███</td></tr></table><br/>"
      ],
      "text/plain": [
       "<IPython.core.display.HTML object>"
      ]
     },
     "metadata": {},
     "output_type": "display_data"
    },
    {
     "data": {
      "text/html": [
       "Synced 5 W&B file(s), 0 media file(s), 0 artifact file(s) and 0 other file(s)"
      ],
      "text/plain": [
       "<IPython.core.display.HTML object>"
      ]
     },
     "metadata": {},
     "output_type": "display_data"
    },
    {
     "data": {
      "text/html": [
       "\n",
       "                    <br/>Synced <strong style=\"color:#cdcd00\">v48</strong>: <a href=\"https://wandb.ai/pnn/l0iid_in70_out70_Tmax100--noise_dtv16sumSwish/runs/1oxyki2c\" target=\"_blank\">https://wandb.ai/pnn/l0iid_in70_out70_Tmax100--noise_dtv16sumSwish/runs/1oxyki2c</a><br/>\n",
       "                "
      ],
      "text/plain": [
       "<IPython.core.display.HTML object>"
      ]
     },
     "metadata": {},
     "output_type": "display_data"
    },
    {
     "name": "stderr",
     "output_type": "stream",
     "text": [
      "\u001b[32m[I 2021-03-17 12:33:34,233]\u001b[0m Trial 48 finished with value: 0.0001809710229281336 and parameters: {'Nlayers': 3, 'Ncoms': 2, 'identity_init': 1, 'lr': 0.0001, 'Nunits1': 492.3288681888368, 'Nunits2': 187.2157773137656}. Best is trial 28 with value: 0.0001325897464994341.\u001b[0m\n",
      "wandb: wandb version 0.10.22 is available!  To upgrade, please run:\n",
      "wandb:  $ pip install wandb --upgrade\n"
     ]
    },
    {
     "data": {
      "text/html": [
       "\n",
       "                Tracking run with wandb version 0.10.8<br/>\n",
       "                Syncing run <strong style=\"color:#cdcd00\">v49</strong> to <a href=\"https://wandb.ai\" target=\"_blank\">Weights & Biases</a> <a href=\"https://docs.wandb.com/integrations/jupyter.html\" target=\"_blank\">(Documentation)</a>.<br/>\n",
       "                Project page: <a href=\"https://wandb.ai/pnn/l0iid_in70_out70_Tmax100--noise_dtv16sumSwish\" target=\"_blank\">https://wandb.ai/pnn/l0iid_in70_out70_Tmax100--noise_dtv16sumSwish</a><br/>\n",
       "                Run page: <a href=\"https://wandb.ai/pnn/l0iid_in70_out70_Tmax100--noise_dtv16sumSwish/runs/3rmzbkho\" target=\"_blank\">https://wandb.ai/pnn/l0iid_in70_out70_Tmax100--noise_dtv16sumSwish/runs/3rmzbkho</a><br/>\n",
       "                Run data is saved locally in <code>wandb\\run-20210317_123334-3rmzbkho</code><br/><br/>\n",
       "            "
      ],
      "text/plain": [
       "<IPython.core.display.HTML object>"
      ]
     },
     "metadata": {},
     "output_type": "display_data"
    },
    {
     "name": "stderr",
     "output_type": "stream",
     "text": [
      "GPU available: True, used: False\n",
      "TPU available: False, using: 0 TPU cores\n",
      "C:\\Users\\lgw32\\anaconda3\\lib\\site-packages\\pytorch_lightning\\utilities\\distributed.py:37: UserWarning: Experiment logs directory logs\\l0iid_in70_out70_Tmax100--noise_dtv16sumSwish\\v49 exists and is not empty. Previous log files in this directory will be deleted when the new ones are saved!\n",
      "  warnings.warn(*args, **kwargs)\n",
      "Saving latest checkpoint..\n"
     ]
    },
    {
     "data": {
      "text/html": [
       "<br/>Waiting for W&B process to finish, PID 9200<br/>Program ended successfully."
      ],
      "text/plain": [
       "<IPython.core.display.HTML object>"
      ]
     },
     "metadata": {},
     "output_type": "display_data"
    },
    {
     "data": {
      "application/vnd.jupyter.widget-view+json": {
       "model_id": "",
       "version_major": 2,
       "version_minor": 0
      },
      "text/plain": [
       "VBox(children=(Label(value=' 0.00MB of 0.00MB uploaded (0.00MB deduped)\\r'), FloatProgress(value=1.0, max=1.0)…"
      ]
     },
     "metadata": {},
     "output_type": "display_data"
    },
    {
     "data": {
      "text/html": [
       "Find user logs for this run at: <code>wandb\\run-20210317_123334-3rmzbkho\\logs\\debug.log</code>"
      ],
      "text/plain": [
       "<IPython.core.display.HTML object>"
      ]
     },
     "metadata": {},
     "output_type": "display_data"
    },
    {
     "data": {
      "text/html": [
       "Find internal logs for this run at: <code>wandb\\run-20210317_123334-3rmzbkho\\logs\\debug-internal.log</code>"
      ],
      "text/plain": [
       "<IPython.core.display.HTML object>"
      ]
     },
     "metadata": {},
     "output_type": "display_data"
    },
    {
     "data": {
      "text/html": [
       "<h3>Run summary:</h3><br/><style>\n",
       "    table.wandb td:nth-child(1) { padding: 0 10px; text-align: right }\n",
       "    </style><table class=\"wandb\">\n",
       "<tr><td>global_step</td><td>17999</td></tr><tr><td>lr-Adam</td><td>0.0001</td></tr><tr><td>_step</td><td>1999</td></tr><tr><td>_runtime</td><td>35</td></tr><tr><td>_timestamp</td><td>1615998849</td></tr><tr><td>val_loss</td><td>0.01168</td></tr><tr><td>epoch</td><td>999</td></tr></table>"
      ],
      "text/plain": [
       "<IPython.core.display.HTML object>"
      ]
     },
     "metadata": {},
     "output_type": "display_data"
    },
    {
     "data": {
      "text/html": [
       "<h3>Run history:</h3><br/><style>\n",
       "    table.wandb td:nth-child(1) { padding: 0 10px; text-align: right }\n",
       "    </style><table class=\"wandb\">\n",
       "<tr><td>global_step</td><td>▁▁▁▂▂▂▂▂▂▃▃▃▃▃▄▄▄▄▄▄▅▅▅▅▅▅▆▆▆▆▆▇▇▇▇▇▇███</td></tr><tr><td>lr-Adam</td><td>▁▁▁▁▁▁▁▁▁▁▁▁▁▁▁▁▁▁▁▁▁▁▁▁▁▁▁▁▁▁▁▁▁▁▁▁▁▁▁▁</td></tr><tr><td>_step</td><td>▁▁▁▂▂▂▂▂▂▃▃▃▃▃▄▄▄▄▄▄▅▅▅▅▅▅▆▆▆▆▆▇▇▇▇▇▇███</td></tr><tr><td>_runtime</td><td>▁▁▁▁▂▂▂▂▂▂▃▃▃▃▃▃▄▄▄▄▅▅▅▅▅▅▆▆▆▆▆▆▇▇▇▇▇███</td></tr><tr><td>_timestamp</td><td>▁▁▁▁▂▂▂▂▂▂▃▃▃▃▃▃▄▄▄▄▅▅▅▅▅▅▆▆▆▆▆▆▇▇▇▇▇███</td></tr><tr><td>val_loss</td><td>█▄▃▂▂▂▁▁▁▁▁▁▁▁▁▁▁▁▁▁▁▁▁▁▁▁▁▁▁▁▁▁▁▁▁▁▁▁▁▁</td></tr><tr><td>epoch</td><td>▁▁▁▂▂▂▂▂▂▃▃▃▃▃▄▄▄▄▄▄▅▅▅▅▅▅▆▆▆▆▆▇▇▇▇▇▇███</td></tr></table><br/>"
      ],
      "text/plain": [
       "<IPython.core.display.HTML object>"
      ]
     },
     "metadata": {},
     "output_type": "display_data"
    },
    {
     "data": {
      "text/html": [
       "Synced 5 W&B file(s), 0 media file(s), 0 artifact file(s) and 0 other file(s)"
      ],
      "text/plain": [
       "<IPython.core.display.HTML object>"
      ]
     },
     "metadata": {},
     "output_type": "display_data"
    },
    {
     "data": {
      "text/html": [
       "\n",
       "                    <br/>Synced <strong style=\"color:#cdcd00\">v49</strong>: <a href=\"https://wandb.ai/pnn/l0iid_in70_out70_Tmax100--noise_dtv16sumSwish/runs/3rmzbkho\" target=\"_blank\">https://wandb.ai/pnn/l0iid_in70_out70_Tmax100--noise_dtv16sumSwish/runs/3rmzbkho</a><br/>\n",
       "                "
      ],
      "text/plain": [
       "<IPython.core.display.HTML object>"
      ]
     },
     "metadata": {},
     "output_type": "display_data"
    },
    {
     "name": "stderr",
     "output_type": "stream",
     "text": [
      "\u001b[32m[I 2021-03-17 12:34:12,484]\u001b[0m Trial 49 finished with value: 0.00013652890629600734 and parameters: {'Nlayers': 1, 'Ncoms': 4, 'identity_init': 1, 'lr': 0.0001}. Best is trial 28 with value: 0.0001325897464994341.\u001b[0m\n"
     ]
    },
    {
     "data": {
      "image/png": "[encoded data removed]",
      "text/plain": [
       "<Figure size 936x720 with 9 Axes>"
      ]
     },
     "metadata": {
      "needs_background": "light"
     },
     "output_type": "display_data"
    },
    {
     "data": {
      "image/png": "[encoded data removed]",
      "text/plain": [
       "<Figure size 720x576 with 8 Axes>"
      ]
     },
     "metadata": {
      "needs_background": "light"
     },
     "output_type": "display_data"
    },
    {
     "data": {
      "image/png": "[encoded data removed]",
      "text/plain": [
       "<Figure size 1080x864 with 18 Axes>"
      ]
     },
     "metadata": {
      "needs_background": "light"
     },
     "output_type": "display_data"
    }
   ],
   "source": [
    "input_dim=70\n",
    "output_dim=70\n",
    "layerstring='l0iid'\n",
    "idt=0\n",
    "train_mean_dt(input_dim,output_dim,100,layerstring,NAS=True,Ntrials=3)\n",
    "train_noise_dt(input_dim,output_dim,100,layerstring,NAS=True,Ntrials=50)"
   ]
  },
  {
   "cell_type": "code",
   "execution_count": null,
   "metadata": {},
   "outputs": [],
   "source": []
  }
 ],
 "metadata": {
  "kernelspec": {
   "display_name": "Python 3",
   "language": "python",
   "name": "python3"
  },
  "language_info": {
   "codemirror_mode": {
    "name": "ipython",
    "version": 3
   },
   "file_extension": ".py",
   "mimetype": "text/x-python",
   "name": "python",
   "nbconvert_exporter": "python",
   "pygments_lexer": "ipython3",
   "version": "3.7.4"
  }
 },
 "nbformat": 4,
 "nbformat_minor": 4
}
