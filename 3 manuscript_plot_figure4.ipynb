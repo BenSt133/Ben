{
 "cells": [
  {
   "cell_type": "markdown",
   "metadata": {},
   "source": [
    "# Generate figures for main paper"
   ]
  },
  {
   "cell_type": "code",
   "execution_count": 3,
   "metadata": {
    "execution": {
     "iopub.execute_input": "2021-04-26T04:23:54.825612Z",
     "iopub.status.busy": "2021-04-26T04:23:54.824867Z",
     "iopub.status.idle": "2021-04-26T04:23:55.478001Z",
     "shell.execute_reply": "2021-04-26T04:23:55.477126Z",
     "shell.execute_reply.started": "2021-04-26T04:23:54.825553Z"
    }
   },
   "outputs": [],
   "source": [
    "import numpy as np\n",
    "import matplotlib.pyplot as plt\n",
    "import matplotlib.cm as cm\n",
    "import numpy.random as random\n",
    "import ipdb\n",
    "import copy\n",
    "\n",
    "#torch stuff\n",
    "import torch\n",
    "import pytorch_lightning as pl\n",
    "\n",
    "#analysis / software for ml\n",
    "from ana_lib.custom_plmodels import *\n",
    "from ana_lib.optuna_utils import *\n",
    "from ana_lib.noise import *\n",
    "from ana_lib.pat_utils import *\n",
    "from ana_lib.pl_callbacks import *\n",
    "from ana_lib.pl_utils import *\n",
    "from ana_lib.plot_utils import *\n",
    "from ana_lib.process_spectrum import *\n",
    "from ana_lib.torch_loader import *\n",
    "from ana_lib.utils import *\n",
    "\n",
    "\n",
    "import pandas"
   ]
  },
  {
   "cell_type": "code",
   "execution_count": 12,
   "metadata": {
    "execution": {
     "iopub.execute_input": "2021-04-26T04:29:41.008297Z",
     "iopub.status.busy": "2021-04-26T04:29:41.007668Z",
     "iopub.status.idle": "2021-04-26T04:29:41.014112Z",
     "shell.execute_reply": "2021-04-26T04:29:41.012530Z",
     "shell.execute_reply.started": "2021-04-26T04:29:41.008238Z"
    }
   },
   "outputs": [],
   "source": [
    "Identity_path= 'logs/manifold_only_NLoscReDo_March17/7C3L1C_T100_70D_L0_lr0p75_gap1_gw5_i196_arIC_identity/metrics.csv'\n",
    "\n",
    "EXP1_path ='logs/manifold_only_NLoscReDo_March17/7C3L1C_T100_70D_L0_lr0p75_gap1_gw5_i196_arIC_EXP/metrics.csv'\n",
    "EXP2_path ='logs/manifold_only_NLoscReDo_March17/7C3L1C_T100_70D_L0_lr0p75_gap1_gw5_i196_arIC_EXP_lr2/metrics.csv'"
   ]
  },
  {
   "cell_type": "code",
   "execution_count": 13,
   "metadata": {
    "execution": {
     "iopub.execute_input": "2021-04-26T04:29:42.167771Z",
     "iopub.status.busy": "2021-04-26T04:29:42.167161Z",
     "iopub.status.idle": "2021-04-26T04:29:42.223496Z",
     "shell.execute_reply": "2021-04-26T04:29:42.222508Z",
     "shell.execute_reply.started": "2021-04-26T04:29:42.167701Z"
    }
   },
   "outputs": [],
   "source": [
    "exp1 = pandas.read_csv(os.getcwd()+'/'+EXP1_path)\n",
    "exp2 = pandas.read_csv(os.getcwd()+'/'+EXP2_path)\n",
    "ide = pandas.read_csv(os.getcwd()+'/'+Identity_path)"
   ]
  },
  {
   "cell_type": "code",
   "execution_count": 14,
   "metadata": {
    "execution": {
     "iopub.execute_input": "2021-04-26T04:29:43.033041Z",
     "iopub.status.busy": "2021-04-26T04:29:43.032395Z",
     "iopub.status.idle": "2021-04-26T04:29:43.266687Z",
     "shell.execute_reply": "2021-04-26T04:29:43.265269Z",
     "shell.execute_reply.started": "2021-04-26T04:29:43.032984Z"
    }
   },
   "outputs": [
    {
     "data": {
      "image/png": "[encoded data removed]",
      "text/plain": [
       "<Figure size 216x216 with 1 Axes>"
      ]
     },
     "metadata": {
      "needs_background": "light"
     },
     "output_type": "display_data"
    }
   ],
   "source": [
    "fig, ax = plt.subplots(1, 1, figsize=(3,3))\n",
    "#ax.set_yscale('log')\n",
    "#ax.set_ylim(0.5, 100)\n",
    "#ax.set_xlim(8E-3, 1E3)\n",
    "ax.set_xlabel(\"Epoch\")\n",
    "ax.set_ylabel(\"MNIST digit classification accuracy (%)\")\n",
    "#ax.grid(True)\n",
    "\n",
    "ax.set_position([0.1,0.15,0.85,0.8])\n",
    "\n",
    "\n",
    "color1=(158/255, 30/255, 30/255)\n",
    "color2=(97/255, 166/255, 211/255)\n",
    "plt.plot(np.arange(-5,70),np.ones(75)*0.927*100,'--',color=color1)\n",
    "\n",
    "plt.plot(np.arange(-5,70),np.ones(75)*0.738*100,'k--',color=color2)\n",
    "\n",
    "\n",
    "y1 =exp1['val_accu'].dropna()\n",
    "y2 =exp2['val_accu'].dropna()\n",
    "\n",
    "yp = np.hstack((y1,y2))\n",
    "x1 = exp1['step'][y1.keys()].values[:len(y1)]\n",
    "x2 = exp1['step'][y2.keys()].values[:len(y2)]+x1[-1]\n",
    "xp = np.hstack((x1,x2))\n",
    "steps_per = 600\n",
    "\n",
    "\n",
    "\n",
    "\n",
    "plt.plot(xp[:-1:10]/steps_per,yp[:-1:10]*100,'-',color=color1,alpha=1,label='Experiment - PAT (Validation)')\n",
    "\n",
    "\n",
    "y = ide['val_accu'].dropna()\n",
    "x = ide['step'][y.keys()].values\n",
    "y = y.values\n",
    "plt.plot(x[:-1:10]/steps_per,y[:-1:10]*100,'-',color=color2,label='Identity model (validation)')\n",
    "\n",
    "\n",
    "\n",
    "#plt.legend()\n",
    "\n",
    "plt.ylim(0.65*100,1*100)\n",
    "plt.xlim(-1,50)\n",
    "plt.savefig('figures/Fig4_ePNN.svg', dpi=300, format=\"svg\")"
   ]
  },
  {
   "cell_type": "code",
   "execution_count": 15,
   "metadata": {
    "execution": {
     "iopub.execute_input": "2021-04-26T04:29:49.767593Z",
     "iopub.status.busy": "2021-04-26T04:29:49.766973Z",
     "iopub.status.idle": "2021-04-26T04:29:49.882745Z",
     "shell.execute_reply": "2021-04-26T04:29:49.881689Z",
     "shell.execute_reply.started": "2021-04-26T04:29:49.767536Z"
    }
   },
   "outputs": [
    {
     "name": "stdout",
     "output_type": "stream",
     "text": [
      "tensor(0.9532)\n",
      "tensor(0.9272)\n",
      "tensor(0.9337)\n"
     ]
    }
   ],
   "source": [
    "data = torch.load('Test_RunMarch23_test_EXP')\n",
    "\n",
    "y_pred_exp = torch.max(data['y_hat_exp'].data,1)[1]\n",
    "    \n",
    "y_pred_dt = torch.max(data['y_hat_dt'].data,1)[1]\n",
    "    \n",
    "y = data['yt']\n",
    "    \n",
    "accuracy_exp_dt = accu_metric(y_pred_exp, y_pred_dt)\n",
    "print(accuracy_exp_dt)    \n",
    "\n",
    "accuracy_exp_test = accu_metric(y_pred_exp, y)\n",
    "print(accuracy_exp_test)\n",
    "\n",
    "accuracy_dt_test = accu_metric(y_pred_dt, y)\n",
    "print(accuracy_dt_test)\n",
    "\n",
    "\n",
    "target = y \n",
    "pred = y_pred_exp.detach().numpy()"
   ]
  },
  {
   "cell_type": "code",
   "execution_count": 16,
   "metadata": {
    "execution": {
     "iopub.execute_input": "2021-04-26T04:29:50.082858Z",
     "iopub.status.busy": "2021-04-26T04:29:50.082356Z",
     "iopub.status.idle": "2021-04-26T04:29:50.138690Z",
     "shell.execute_reply": "2021-04-26T04:29:50.137802Z",
     "shell.execute_reply.started": "2021-04-26T04:29:50.082813Z"
    }
   },
   "outputs": [],
   "source": [
    "from pytorch_lightning.metrics import Accuracy\n",
    "import torch\n",
    "import seaborn as sns\n",
    "from sklearn.metrics import confusion_matrix\n",
    "import seaborn as sns\n",
    "import sklearn.metrics as metric\n",
    "\n",
    "#equalize number of targets\n",
    "Ndig = 100\n",
    "target_eq=list()\n",
    "pred_eq=list()\n",
    "count = np.zeros(10)\n",
    "for idx in range(len(pred)):\n",
    "    ti=target[idx]\n",
    "    yi=pred[idx]\n",
    "    count[ti]+=1\n",
    "    if count[ti]<=Ndig:\n",
    "        target_eq.append(ti)\n",
    "        pred_eq.append(yi)\n",
    "\n",
    "conf = metric.confusion_matrix(target_eq, pred_eq)"
   ]
  },
  {
   "cell_type": "code",
   "execution_count": 17,
   "metadata": {
    "execution": {
     "iopub.execute_input": "2021-04-26T04:29:51.264724Z",
     "iopub.status.busy": "2021-04-26T04:29:51.264449Z",
     "iopub.status.idle": "2021-04-26T04:29:51.756888Z",
     "shell.execute_reply": "2021-04-26T04:29:51.756011Z",
     "shell.execute_reply.started": "2021-04-26T04:29:51.264696Z"
    }
   },
   "outputs": [
    {
     "data": {
      "image/png": "[encoded data removed]",
      "text/plain": [
       "<Figure size 288x288 with 1 Axes>"
      ]
     },
     "metadata": {
      "needs_background": "light"
     },
     "output_type": "display_data"
    }
   ],
   "source": [
    "color1=(158/255, 30/255, 30/255)\n",
    "custom_cmap1 = sns.light_palette(color1, as_cmap=True)\n",
    "fig, ax = plt.subplots(1,1, figsize = (4,4))\n",
    "ax.set_position([0.2,0.18,0.78,0.8])\n",
    "sns.set(font_scale=1.4)#for label size\n",
    "sns.color_palette(\"Spectral\")\n",
    "sns.heatmap(conf,cmap=custom_cmap1, annot=True, annot_kws={\"size\": 13}, cbar=False, fmt = 'd')# font size\n",
    "plt.savefig(f\"figures/confusion_matrix1.svg\", dpi=300, format=\"svg\")"
   ]
  }
 ],
 "metadata": {
  "kernelspec": {
   "display_name": "Python 3",
   "language": "python",
   "name": "python3"
  },
  "language_info": {
   "codemirror_mode": {
    "name": "ipython",
    "version": 3
   },
   "file_extension": ".py",
   "mimetype": "text/x-python",
   "name": "python",
   "nbconvert_exporter": "python",
   "pygments_lexer": "ipython3",
   "version": "3.7.4"
  }
 },
 "nbformat": 4,
 "nbformat_minor": 4
}
